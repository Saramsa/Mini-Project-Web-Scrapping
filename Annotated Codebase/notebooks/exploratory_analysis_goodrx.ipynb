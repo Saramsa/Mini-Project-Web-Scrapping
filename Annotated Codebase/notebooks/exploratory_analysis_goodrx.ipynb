{
 "cells": [
  {
   "cell_type": "markdown",
   "id": "5d0e9b68-ef93-471a-8f9a-5dab925f87a9",
   "metadata": {},
   "source": [
    "### Exploratory Data Overview\n",
    "\n",
    "This section loads the cleaned GoodRx dataset and performs initial exploratory analysis:\n",
    "\n",
    "1. **Dataset Information & Summary Statistics**\n",
    "   - View column names, data types, and non-null counts.\n",
    "   - Generate descriptive statistics for all columns.\n",
    "\n",
    "2. **Missing Data Check**\n",
    "   - Count missing values per column to identify data quality issues.\n",
    "\n",
    "3. **Categorical Insights**\n",
    "   - List unique drugs and cities present in the dataset.\n",
    "   - Count the number of unique pharmacies.\n",
    "\n",
    "4. **Special Offer Distribution**\n",
    "   - Display frequency counts of different special offer types.\n",
    "\n",
    "5. **Online vs. In-Store Pharmacies**\n",
    "   - Count how many listings are for online pharmacies vs. in-store.\n",
    "\n",
    "6. **Grouped Price Statistics**\n",
    "   - Calculate count, mean, standard deviation, min, and max prices grouped by:\n",
    "     - `city`\n",
    "     - `drug`\n",
    "     - `dosage`\n"
   ]
  },
  {
   "cell_type": "code",
   "execution_count": 12,
   "id": "882dc386-ec7d-42b6-8cec-d6f5c023b595",
   "metadata": {},
   "outputs": [
    {
     "name": "stdout",
     "output_type": "stream",
     "text": [
      "<class 'pandas.core.frame.DataFrame'>\n",
      "RangeIndex: 291 entries, 0 to 290\n",
      "Data columns (total 11 columns):\n",
      " #   Column                 Non-Null Count  Dtype  \n",
      "---  ------                 --------------  -----  \n",
      " 0   drug                   291 non-null    object \n",
      " 1   location               291 non-null    int64  \n",
      " 2   dosage                 291 non-null    object \n",
      " 3   quantity               291 non-null    object \n",
      " 4   pharmacy               291 non-null    object \n",
      " 5   price                  291 non-null    float64\n",
      " 6   special_offer          291 non-null    object \n",
      " 7   standard_coupon_price  192 non-null    float64\n",
      " 8   special_coupon_price   192 non-null    float64\n",
      " 9   online_pharmacy        291 non-null    bool   \n",
      " 10  city                   291 non-null    object \n",
      "dtypes: bool(1), float64(3), int64(1), object(6)\n",
      "memory usage: 23.1+ KB\n",
      "None\n",
      "             drug      location dosage    quantity      pharmacy       price  \\\n",
      "count         291    291.000000    291         291           291  291.000000   \n",
      "unique          8           NaN      6           4            29         NaN   \n",
      "top     Metformin           NaN   40mg  30 tablets  CVS Pharmacy         NaN   \n",
      "freq           43           NaN     80         168            22         NaN   \n",
      "mean          NaN  49159.075601    NaN         NaN           NaN   11.801409   \n",
      "std           NaN  34929.521578    NaN         NaN           NaN    7.685622   \n",
      "min           NaN  10001.000000    NaN         NaN           NaN    0.810000   \n",
      "25%           NaN  10001.000000    NaN         NaN           NaN    6.880000   \n",
      "50%           NaN  60601.000000    NaN         NaN           NaN    9.820000   \n",
      "75%           NaN  90001.000000    NaN         NaN           NaN   18.370000   \n",
      "max           NaN  90001.000000    NaN         NaN           NaN   33.600000   \n",
      "\n",
      "         special_offer  standard_coupon_price  special_coupon_price  \\\n",
      "count              291             192.000000            192.000000   \n",
      "unique               2                    NaN                   NaN   \n",
      "top     special offers                    NaN                   NaN   \n",
      "freq               202                    NaN                   NaN   \n",
      "mean               NaN              19.452552             11.243646   \n",
      "std                NaN               9.962909              8.353182   \n",
      "min                NaN               4.480000              0.810000   \n",
      "25%                NaN              10.340000              4.830000   \n",
      "50%                NaN              17.810000              8.570000   \n",
      "75%                NaN              28.120000             19.220000   \n",
      "max                NaN              49.990000             33.600000   \n",
      "\n",
      "       online_pharmacy      city  \n",
      "count              291       291  \n",
      "unique               2         3  \n",
      "top              False  New York  \n",
      "freq               259       121  \n",
      "mean               NaN       NaN  \n",
      "std                NaN       NaN  \n",
      "min                NaN       NaN  \n",
      "25%                NaN       NaN  \n",
      "50%                NaN       NaN  \n",
      "75%                NaN       NaN  \n",
      "max                NaN       NaN  \n",
      "\n",
      "Missing values per column:\n",
      "drug                      0\n",
      "location                  0\n",
      "dosage                    0\n",
      "quantity                  0\n",
      "pharmacy                  0\n",
      "price                     0\n",
      "special_offer             0\n",
      "standard_coupon_price    99\n",
      "special_coupon_price     99\n",
      "online_pharmacy           0\n",
      "city                      0\n",
      "dtype: int64\n",
      "\n",
      "Unique drugs: ['Atorvastatin' 'Lisinopril' 'Metformin' 'Amlodipine' 'Omeprazole'\n",
      " 'Simvastatin' 'Losartan' 'Hydrochlorothiazide']\n",
      "Unique cities: ['New York' 'Los Angeles' 'Chicago']\n",
      "Unique pharmacies: 29\n",
      "\n",
      "Special offer counts:\n",
      "special_offer\n",
      "special offers      202\n",
      "no special offer     89\n",
      "Name: count, dtype: int64\n",
      "\n",
      "Online pharmacy value counts:\n",
      "online_pharmacy\n",
      "False    259\n",
      "True      32\n",
      "Name: count, dtype: int64\n",
      "\n",
      "Grouped price stats by city, drug, dosage:\n",
      "                             count       mean       std   min    max\n",
      "city    drug         dosage                                         \n",
      "Chicago Amlodipine   10mg       13  10.999231  5.133453  2.88  19.22\n",
      "        Atorvastatin 40mg       12  12.513333  4.691029  7.53  19.67\n",
      "        Lisinopril   20mg       13   7.909231  3.546462  2.00  17.34\n",
      "        Metformin    500mg      13  11.013846  6.142575  2.00  20.43\n",
      "        Omeprazole   40mg       12  12.670000  7.266797  2.00  23.09\n"
     ]
    }
   ],
   "source": [
    "import pandas as pd\n",
    "\n",
    "df = pd.read_csv('goodrx_cleaned_data.csv')\n",
    "\n",
    "# Overview and basic statistics\n",
    "print(df.info())\n",
    "print(df.describe(include='all'))\n",
    "\n",
    "# Missing data summary\n",
    "print('\\nMissing values per column:')\n",
    "print(df.isnull().sum())\n",
    "\n",
    "# Unique values in key categorical columns\n",
    "print('\\nUnique drugs:', df['drug'].unique())\n",
    "print('Unique cities:', df['city'].unique())\n",
    "print('Unique pharmacies:', df['pharmacy'].nunique())\n",
    "\n",
    "# Distribution of \"special offers\"\n",
    "print('\\nSpecial offer counts:')\n",
    "print(df['special_offer'].value_counts())\n",
    "\n",
    "# Online vs In-Store pharmacy counts\n",
    "print('\\nOnline pharmacy value counts:')\n",
    "print(df['online_pharmacy'].value_counts())\n",
    "\n",
    "# Sample group statistics\n",
    "grouped = df.groupby(['city', 'drug', 'dosage'])['price'].agg(['count', 'mean', 'std', 'min', 'max'])\n",
    "print('\\nGrouped price stats by city, drug, dosage:')\n",
    "print(grouped.head())\n"
   ]
  },
  {
   "cell_type": "markdown",
   "id": "b55cb9bf-51b6-49e5-99b3-eada99af60ba",
   "metadata": {},
   "source": [
    "### Function: `generate_enhanced_goodrx_eda`\n",
    "\n",
    "Generates a set of interactive Plotly visualizations to explore cleaned GoodRx drug pricing data.\n",
    "\n",
    "**Purpose:**\n",
    "- Provide a comprehensive visual overview of drug prices across different cities, pharmacies, and quantities.\n",
    "- Highlight key patterns such as average pricing, special offer distribution, online vs in-store differences, and outliers.\n",
    "\n",
    "**Visualizations Produced:**\n",
    "1. **Price Distribution by Drug & City** – Box plot to compare spread and medians.\n",
    "2. **Average Prices** – Grouped bar chart showing mean prices by city and drug.\n",
    "3. **Special Offer Distribution** – Donut chart summarizing special offer prevalence.\n",
    "4. **Online vs In-Store Pricing** – Violin plot comparing price distributions.\n",
    "5. **Quantity-Based Price Variation** – Strip plot showing how quantity affects price.\n",
    "6. **Cheapest Pharmacies** – Faceted bar chart of lowest prices for top drug-dosage combinations.\n",
    "7. **Coupon Price Comparison** – Scatter plot comparing standard vs special coupon prices.\n",
    "8. **Price Outliers** – Box plot identifying unusual price points.\n",
    "\n",
    "**Parameters:**\n",
    "- `df` *(DataFrame)*: Cleaned GoodRx dataset.\n",
    "\n",
    "**Returns:**\n",
    "- Displays interactive charts directly in the notebook.\n"
   ]
  },
  {
   "cell_type": "code",
   "execution_count": 15,
   "id": "dceebe18-0bb5-4fd8-8eef-54d18553d671",
   "metadata": {},
   "outputs": [
    {
     "data": {
      "application/vnd.plotly.v1+json": {
       "config": {
        "plotlyServerURL": "https://plot.ly"
       },
       "data": [
        {
         "alignmentgroup": "True",
         "boxpoints": "suspectedoutliers",
         "hovertemplate": "city=New York<br>Drug=%{x}<br>Price (USD)=%{y}<extra></extra>",
         "legendgroup": "New York",
         "marker": {
          "color": "#636efa"
         },
         "name": "New York",
         "notched": false,
         "offsetgroup": "New York",
         "orientation": "v",
         "showlegend": true,
         "type": "box",
         "x": [
          "Atorvastatin",
          "Atorvastatin",
          "Atorvastatin",
          "Atorvastatin",
          "Atorvastatin",
          "Atorvastatin",
          "Atorvastatin",
          "Atorvastatin",
          "Atorvastatin",
          "Atorvastatin",
          "Atorvastatin",
          "Atorvastatin",
          "Atorvastatin",
          "Atorvastatin",
          "Atorvastatin",
          "Lisinopril",
          "Lisinopril",
          "Lisinopril",
          "Lisinopril",
          "Lisinopril",
          "Lisinopril",
          "Lisinopril",
          "Lisinopril",
          "Lisinopril",
          "Lisinopril",
          "Lisinopril",
          "Lisinopril",
          "Lisinopril",
          "Metformin",
          "Metformin",
          "Metformin",
          "Metformin",
          "Metformin",
          "Metformin",
          "Metformin",
          "Metformin",
          "Metformin",
          "Metformin",
          "Metformin",
          "Metformin",
          "Metformin",
          "Metformin",
          "Metformin",
          "Metformin",
          "Amlodipine",
          "Amlodipine",
          "Amlodipine",
          "Amlodipine",
          "Amlodipine",
          "Amlodipine",
          "Amlodipine",
          "Amlodipine",
          "Amlodipine",
          "Amlodipine",
          "Amlodipine",
          "Amlodipine",
          "Amlodipine",
          "Amlodipine",
          "Amlodipine",
          "Amlodipine",
          "Omeprazole",
          "Omeprazole",
          "Omeprazole",
          "Omeprazole",
          "Omeprazole",
          "Omeprazole",
          "Omeprazole",
          "Omeprazole",
          "Omeprazole",
          "Omeprazole",
          "Omeprazole",
          "Omeprazole",
          "Omeprazole",
          "Omeprazole",
          "Omeprazole",
          "Simvastatin",
          "Simvastatin",
          "Simvastatin",
          "Simvastatin",
          "Simvastatin",
          "Simvastatin",
          "Simvastatin",
          "Simvastatin",
          "Simvastatin",
          "Simvastatin",
          "Simvastatin",
          "Simvastatin",
          "Simvastatin",
          "Simvastatin",
          "Simvastatin",
          "Losartan",
          "Losartan",
          "Losartan",
          "Losartan",
          "Losartan",
          "Losartan",
          "Losartan",
          "Losartan",
          "Losartan",
          "Losartan",
          "Losartan",
          "Losartan",
          "Losartan",
          "Losartan",
          "Losartan",
          "Losartan",
          "Hydrochlorothiazide",
          "Hydrochlorothiazide",
          "Hydrochlorothiazide",
          "Hydrochlorothiazide",
          "Hydrochlorothiazide",
          "Hydrochlorothiazide",
          "Hydrochlorothiazide",
          "Hydrochlorothiazide",
          "Hydrochlorothiazide",
          "Hydrochlorothiazide",
          "Hydrochlorothiazide",
          "Hydrochlorothiazide",
          "Hydrochlorothiazide",
          "Hydrochlorothiazide",
          "Hydrochlorothiazide"
         ],
         "x0": " ",
         "xaxis": "x",
         "y": [
          19.67,
          11.72,
          10.34,
          7.74,
          11.72,
          19.67,
          16.66,
          7.53,
          17.93,
          6.89,
          7.53,
          11.72,
          7.74,
          6.79,
          11.89,
          8.57,
          4.83,
          5.85,
          8.57,
          2,
          4.83,
          17.34,
          8.66,
          3.25,
          2,
          7.84,
          9,
          4.83,
          19.64,
          4.86,
          4.86,
          19.64,
          7.97,
          20.43,
          2,
          13.99,
          2.82,
          9,
          4.86,
          2,
          9.82,
          9,
          6.52,
          11.36,
          19.22,
          10.13,
          10.44,
          10.13,
          12.99,
          19.22,
          18.86,
          2.88,
          3.05,
          9,
          2.88,
          7.26,
          10.13,
          6.05,
          9,
          11.02,
          20.03,
          18.37,
          10.75,
          18.37,
          23.09,
          13.66,
          20.03,
          7,
          2,
          5.82,
          7,
          18.37,
          8.55,
          2,
          12.09,
          28.04,
          33.6,
          13.7,
          28.04,
          33.6,
          21.99,
          27.09,
          3.05,
          24,
          13.38,
          3.05,
          33.6,
          24,
          19.3,
          13.7,
          19.43,
          11.21,
          9.84,
          11.21,
          2,
          19.43,
          5.63,
          21.99,
          16.47,
          2,
          7.1,
          9,
          11.21,
          9,
          6.87,
          11.56,
          19.22,
          2,
          2.88,
          7.5,
          19.22,
          2,
          2,
          16.95,
          0.81,
          4,
          2,
          2,
          9,
          4,
          2.88
         ],
         "y0": " ",
         "yaxis": "y"
        },
        {
         "alignmentgroup": "True",
         "boxpoints": "suspectedoutliers",
         "hovertemplate": "city=Los Angeles<br>Drug=%{x}<br>Price (USD)=%{y}<extra></extra>",
         "legendgroup": "Los Angeles",
         "marker": {
          "color": "#EF553B"
         },
         "name": "Los Angeles",
         "notched": false,
         "offsetgroup": "Los Angeles",
         "orientation": "v",
         "showlegend": true,
         "type": "box",
         "x": [
          "Atorvastatin",
          "Atorvastatin",
          "Atorvastatin",
          "Atorvastatin",
          "Atorvastatin",
          "Atorvastatin",
          "Atorvastatin",
          "Atorvastatin",
          "Atorvastatin",
          "Atorvastatin",
          "Atorvastatin",
          "Atorvastatin",
          "Atorvastatin",
          "Lisinopril",
          "Metformin",
          "Metformin",
          "Metformin",
          "Metformin",
          "Metformin",
          "Metformin",
          "Metformin",
          "Metformin",
          "Metformin",
          "Metformin",
          "Metformin",
          "Metformin",
          "Metformin",
          "Metformin",
          "Amlodipine",
          "Amlodipine",
          "Amlodipine",
          "Amlodipine",
          "Amlodipine",
          "Amlodipine",
          "Amlodipine",
          "Amlodipine",
          "Amlodipine",
          "Amlodipine",
          "Amlodipine",
          "Amlodipine",
          "Amlodipine",
          "Amlodipine",
          "Omeprazole",
          "Omeprazole",
          "Omeprazole",
          "Omeprazole",
          "Omeprazole",
          "Omeprazole",
          "Omeprazole",
          "Omeprazole",
          "Omeprazole",
          "Omeprazole",
          "Omeprazole",
          "Omeprazole",
          "Omeprazole",
          "Simvastatin",
          "Simvastatin",
          "Simvastatin",
          "Simvastatin",
          "Simvastatin",
          "Simvastatin",
          "Simvastatin",
          "Simvastatin",
          "Simvastatin",
          "Simvastatin",
          "Simvastatin",
          "Simvastatin",
          "Simvastatin",
          "Losartan",
          "Losartan",
          "Losartan",
          "Losartan",
          "Losartan",
          "Losartan",
          "Losartan",
          "Losartan",
          "Losartan",
          "Losartan",
          "Losartan",
          "Losartan",
          "Losartan",
          "Losartan",
          "Hydrochlorothiazide",
          "Hydrochlorothiazide",
          "Hydrochlorothiazide",
          "Hydrochlorothiazide",
          "Hydrochlorothiazide",
          "Hydrochlorothiazide",
          "Hydrochlorothiazide",
          "Hydrochlorothiazide",
          "Hydrochlorothiazide",
          "Hydrochlorothiazide",
          "Hydrochlorothiazide",
          "Hydrochlorothiazide",
          "Hydrochlorothiazide"
         ],
         "x0": " ",
         "xaxis": "x",
         "y": [
          19.67,
          11.72,
          7.53,
          7.74,
          7.53,
          16.66,
          19.67,
          7.74,
          10.54,
          7.53,
          11.72,
          17.93,
          11.89,
          8.57,
          19.64,
          4.86,
          2,
          2,
          19.64,
          2,
          13.99,
          14.87,
          9,
          9,
          9.82,
          4.86,
          11.36,
          20.43,
          19.22,
          10.13,
          2.88,
          2.88,
          12.99,
          19.22,
          2.88,
          7.53,
          9,
          10.13,
          7.26,
          9,
          11.02,
          18.86,
          20.03,
          7,
          18.37,
          13.66,
          7,
          20.03,
          7,
          8.6,
          2,
          18.37,
          2,
          12.09,
          23.09,
          28.04,
          3.05,
          28.04,
          3.05,
          33.6,
          3.05,
          19.8,
          21.99,
          24,
          24,
          19.3,
          33.6,
          27.09,
          19.43,
          2,
          2,
          11.21,
          2,
          19.43,
          7.3,
          21.99,
          7.1,
          9,
          9,
          11.21,
          11.56,
          16.47,
          19.22,
          7.5,
          2,
          2,
          2,
          19.22,
          6.39,
          2,
          4,
          2,
          4,
          16.95,
          9
         ],
         "y0": " ",
         "yaxis": "y"
        },
        {
         "alignmentgroup": "True",
         "boxpoints": "suspectedoutliers",
         "hovertemplate": "city=Chicago<br>Drug=%{x}<br>Price (USD)=%{y}<extra></extra>",
         "legendgroup": "Chicago",
         "marker": {
          "color": "#00cc96"
         },
         "name": "Chicago",
         "notched": false,
         "offsetgroup": "Chicago",
         "orientation": "v",
         "showlegend": true,
         "type": "box",
         "x": [
          "Atorvastatin",
          "Atorvastatin",
          "Atorvastatin",
          "Atorvastatin",
          "Atorvastatin",
          "Atorvastatin",
          "Atorvastatin",
          "Atorvastatin",
          "Atorvastatin",
          "Atorvastatin",
          "Atorvastatin",
          "Atorvastatin",
          "Lisinopril",
          "Lisinopril",
          "Lisinopril",
          "Lisinopril",
          "Lisinopril",
          "Lisinopril",
          "Lisinopril",
          "Lisinopril",
          "Lisinopril",
          "Lisinopril",
          "Lisinopril",
          "Lisinopril",
          "Lisinopril",
          "Metformin",
          "Metformin",
          "Metformin",
          "Metformin",
          "Metformin",
          "Metformin",
          "Metformin",
          "Metformin",
          "Metformin",
          "Metformin",
          "Metformin",
          "Metformin",
          "Metformin",
          "Amlodipine",
          "Amlodipine",
          "Amlodipine",
          "Amlodipine",
          "Amlodipine",
          "Amlodipine",
          "Amlodipine",
          "Amlodipine",
          "Amlodipine",
          "Amlodipine",
          "Amlodipine",
          "Amlodipine",
          "Amlodipine",
          "Omeprazole",
          "Omeprazole",
          "Omeprazole",
          "Omeprazole",
          "Omeprazole",
          "Omeprazole",
          "Omeprazole",
          "Omeprazole",
          "Omeprazole",
          "Omeprazole",
          "Omeprazole",
          "Omeprazole",
          "Simvastatin",
          "Simvastatin",
          "Simvastatin",
          "Simvastatin",
          "Simvastatin",
          "Simvastatin",
          "Simvastatin",
          "Simvastatin",
          "Simvastatin",
          "Simvastatin",
          "Simvastatin",
          "Simvastatin"
         ],
         "x0": " ",
         "xaxis": "x",
         "y": [
          11.72,
          7.53,
          19.67,
          10.25,
          7.74,
          19.67,
          16.66,
          10.54,
          11.72,
          7.74,
          8.99,
          17.93,
          4.83,
          2,
          8.57,
          8.47,
          8.57,
          8.66,
          9,
          7.79,
          7.84,
          5.92,
          9,
          4.83,
          17.34,
          4.86,
          2,
          19.64,
          8.18,
          19.64,
          13.99,
          9,
          14.87,
          9.82,
          6.89,
          9,
          4.86,
          20.43,
          10.13,
          2.88,
          8.7,
          19.22,
          12.99,
          19.22,
          9,
          7.53,
          7.26,
          8.07,
          9,
          10.13,
          18.86,
          18.37,
          7,
          10.07,
          20.03,
          13.66,
          20.03,
          2,
          8.6,
          18.37,
          8.82,
          2,
          23.09,
          3.05,
          33.6,
          11.3,
          28.04,
          28.04,
          19.8,
          24,
          21.99,
          9.95,
          24,
          33.6,
          27.09
         ],
         "y0": " ",
         "yaxis": "y"
        }
       ],
       "layout": {
        "boxmode": "group",
        "legend": {
         "title": {
          "text": "city"
         },
         "tracegroupgap": 0
        },
        "template": {
         "data": {
          "bar": [
           {
            "error_x": {
             "color": "#2a3f5f"
            },
            "error_y": {
             "color": "#2a3f5f"
            },
            "marker": {
             "line": {
              "color": "white",
              "width": 0.5
             },
             "pattern": {
              "fillmode": "overlay",
              "size": 10,
              "solidity": 0.2
             }
            },
            "type": "bar"
           }
          ],
          "barpolar": [
           {
            "marker": {
             "line": {
              "color": "white",
              "width": 0.5
             },
             "pattern": {
              "fillmode": "overlay",
              "size": 10,
              "solidity": 0.2
             }
            },
            "type": "barpolar"
           }
          ],
          "carpet": [
           {
            "aaxis": {
             "endlinecolor": "#2a3f5f",
             "gridcolor": "#C8D4E3",
             "linecolor": "#C8D4E3",
             "minorgridcolor": "#C8D4E3",
             "startlinecolor": "#2a3f5f"
            },
            "baxis": {
             "endlinecolor": "#2a3f5f",
             "gridcolor": "#C8D4E3",
             "linecolor": "#C8D4E3",
             "minorgridcolor": "#C8D4E3",
             "startlinecolor": "#2a3f5f"
            },
            "type": "carpet"
           }
          ],
          "choropleth": [
           {
            "colorbar": {
             "outlinewidth": 0,
             "ticks": ""
            },
            "type": "choropleth"
           }
          ],
          "contour": [
           {
            "colorbar": {
             "outlinewidth": 0,
             "ticks": ""
            },
            "colorscale": [
             [
              0,
              "#0d0887"
             ],
             [
              0.1111111111111111,
              "#46039f"
             ],
             [
              0.2222222222222222,
              "#7201a8"
             ],
             [
              0.3333333333333333,
              "#9c179e"
             ],
             [
              0.4444444444444444,
              "#bd3786"
             ],
             [
              0.5555555555555556,
              "#d8576b"
             ],
             [
              0.6666666666666666,
              "#ed7953"
             ],
             [
              0.7777777777777778,
              "#fb9f3a"
             ],
             [
              0.8888888888888888,
              "#fdca26"
             ],
             [
              1,
              "#f0f921"
             ]
            ],
            "type": "contour"
           }
          ],
          "contourcarpet": [
           {
            "colorbar": {
             "outlinewidth": 0,
             "ticks": ""
            },
            "type": "contourcarpet"
           }
          ],
          "heatmap": [
           {
            "colorbar": {
             "outlinewidth": 0,
             "ticks": ""
            },
            "colorscale": [
             [
              0,
              "#0d0887"
             ],
             [
              0.1111111111111111,
              "#46039f"
             ],
             [
              0.2222222222222222,
              "#7201a8"
             ],
             [
              0.3333333333333333,
              "#9c179e"
             ],
             [
              0.4444444444444444,
              "#bd3786"
             ],
             [
              0.5555555555555556,
              "#d8576b"
             ],
             [
              0.6666666666666666,
              "#ed7953"
             ],
             [
              0.7777777777777778,
              "#fb9f3a"
             ],
             [
              0.8888888888888888,
              "#fdca26"
             ],
             [
              1,
              "#f0f921"
             ]
            ],
            "type": "heatmap"
           }
          ],
          "heatmapgl": [
           {
            "colorbar": {
             "outlinewidth": 0,
             "ticks": ""
            },
            "colorscale": [
             [
              0,
              "#0d0887"
             ],
             [
              0.1111111111111111,
              "#46039f"
             ],
             [
              0.2222222222222222,
              "#7201a8"
             ],
             [
              0.3333333333333333,
              "#9c179e"
             ],
             [
              0.4444444444444444,
              "#bd3786"
             ],
             [
              0.5555555555555556,
              "#d8576b"
             ],
             [
              0.6666666666666666,
              "#ed7953"
             ],
             [
              0.7777777777777778,
              "#fb9f3a"
             ],
             [
              0.8888888888888888,
              "#fdca26"
             ],
             [
              1,
              "#f0f921"
             ]
            ],
            "type": "heatmapgl"
           }
          ],
          "histogram": [
           {
            "marker": {
             "pattern": {
              "fillmode": "overlay",
              "size": 10,
              "solidity": 0.2
             }
            },
            "type": "histogram"
           }
          ],
          "histogram2d": [
           {
            "colorbar": {
             "outlinewidth": 0,
             "ticks": ""
            },
            "colorscale": [
             [
              0,
              "#0d0887"
             ],
             [
              0.1111111111111111,
              "#46039f"
             ],
             [
              0.2222222222222222,
              "#7201a8"
             ],
             [
              0.3333333333333333,
              "#9c179e"
             ],
             [
              0.4444444444444444,
              "#bd3786"
             ],
             [
              0.5555555555555556,
              "#d8576b"
             ],
             [
              0.6666666666666666,
              "#ed7953"
             ],
             [
              0.7777777777777778,
              "#fb9f3a"
             ],
             [
              0.8888888888888888,
              "#fdca26"
             ],
             [
              1,
              "#f0f921"
             ]
            ],
            "type": "histogram2d"
           }
          ],
          "histogram2dcontour": [
           {
            "colorbar": {
             "outlinewidth": 0,
             "ticks": ""
            },
            "colorscale": [
             [
              0,
              "#0d0887"
             ],
             [
              0.1111111111111111,
              "#46039f"
             ],
             [
              0.2222222222222222,
              "#7201a8"
             ],
             [
              0.3333333333333333,
              "#9c179e"
             ],
             [
              0.4444444444444444,
              "#bd3786"
             ],
             [
              0.5555555555555556,
              "#d8576b"
             ],
             [
              0.6666666666666666,
              "#ed7953"
             ],
             [
              0.7777777777777778,
              "#fb9f3a"
             ],
             [
              0.8888888888888888,
              "#fdca26"
             ],
             [
              1,
              "#f0f921"
             ]
            ],
            "type": "histogram2dcontour"
           }
          ],
          "mesh3d": [
           {
            "colorbar": {
             "outlinewidth": 0,
             "ticks": ""
            },
            "type": "mesh3d"
           }
          ],
          "parcoords": [
           {
            "line": {
             "colorbar": {
              "outlinewidth": 0,
              "ticks": ""
             }
            },
            "type": "parcoords"
           }
          ],
          "pie": [
           {
            "automargin": true,
            "type": "pie"
           }
          ],
          "scatter": [
           {
            "fillpattern": {
             "fillmode": "overlay",
             "size": 10,
             "solidity": 0.2
            },
            "type": "scatter"
           }
          ],
          "scatter3d": [
           {
            "line": {
             "colorbar": {
              "outlinewidth": 0,
              "ticks": ""
             }
            },
            "marker": {
             "colorbar": {
              "outlinewidth": 0,
              "ticks": ""
             }
            },
            "type": "scatter3d"
           }
          ],
          "scattercarpet": [
           {
            "marker": {
             "colorbar": {
              "outlinewidth": 0,
              "ticks": ""
             }
            },
            "type": "scattercarpet"
           }
          ],
          "scattergeo": [
           {
            "marker": {
             "colorbar": {
              "outlinewidth": 0,
              "ticks": ""
             }
            },
            "type": "scattergeo"
           }
          ],
          "scattergl": [
           {
            "marker": {
             "colorbar": {
              "outlinewidth": 0,
              "ticks": ""
             }
            },
            "type": "scattergl"
           }
          ],
          "scattermapbox": [
           {
            "marker": {
             "colorbar": {
              "outlinewidth": 0,
              "ticks": ""
             }
            },
            "type": "scattermapbox"
           }
          ],
          "scatterpolar": [
           {
            "marker": {
             "colorbar": {
              "outlinewidth": 0,
              "ticks": ""
             }
            },
            "type": "scatterpolar"
           }
          ],
          "scatterpolargl": [
           {
            "marker": {
             "colorbar": {
              "outlinewidth": 0,
              "ticks": ""
             }
            },
            "type": "scatterpolargl"
           }
          ],
          "scatterternary": [
           {
            "marker": {
             "colorbar": {
              "outlinewidth": 0,
              "ticks": ""
             }
            },
            "type": "scatterternary"
           }
          ],
          "surface": [
           {
            "colorbar": {
             "outlinewidth": 0,
             "ticks": ""
            },
            "colorscale": [
             [
              0,
              "#0d0887"
             ],
             [
              0.1111111111111111,
              "#46039f"
             ],
             [
              0.2222222222222222,
              "#7201a8"
             ],
             [
              0.3333333333333333,
              "#9c179e"
             ],
             [
              0.4444444444444444,
              "#bd3786"
             ],
             [
              0.5555555555555556,
              "#d8576b"
             ],
             [
              0.6666666666666666,
              "#ed7953"
             ],
             [
              0.7777777777777778,
              "#fb9f3a"
             ],
             [
              0.8888888888888888,
              "#fdca26"
             ],
             [
              1,
              "#f0f921"
             ]
            ],
            "type": "surface"
           }
          ],
          "table": [
           {
            "cells": {
             "fill": {
              "color": "#EBF0F8"
             },
             "line": {
              "color": "white"
             }
            },
            "header": {
             "fill": {
              "color": "#C8D4E3"
             },
             "line": {
              "color": "white"
             }
            },
            "type": "table"
           }
          ]
         },
         "layout": {
          "annotationdefaults": {
           "arrowcolor": "#2a3f5f",
           "arrowhead": 0,
           "arrowwidth": 1
          },
          "autotypenumbers": "strict",
          "coloraxis": {
           "colorbar": {
            "outlinewidth": 0,
            "ticks": ""
           }
          },
          "colorscale": {
           "diverging": [
            [
             0,
             "#8e0152"
            ],
            [
             0.1,
             "#c51b7d"
            ],
            [
             0.2,
             "#de77ae"
            ],
            [
             0.3,
             "#f1b6da"
            ],
            [
             0.4,
             "#fde0ef"
            ],
            [
             0.5,
             "#f7f7f7"
            ],
            [
             0.6,
             "#e6f5d0"
            ],
            [
             0.7,
             "#b8e186"
            ],
            [
             0.8,
             "#7fbc41"
            ],
            [
             0.9,
             "#4d9221"
            ],
            [
             1,
             "#276419"
            ]
           ],
           "sequential": [
            [
             0,
             "#0d0887"
            ],
            [
             0.1111111111111111,
             "#46039f"
            ],
            [
             0.2222222222222222,
             "#7201a8"
            ],
            [
             0.3333333333333333,
             "#9c179e"
            ],
            [
             0.4444444444444444,
             "#bd3786"
            ],
            [
             0.5555555555555556,
             "#d8576b"
            ],
            [
             0.6666666666666666,
             "#ed7953"
            ],
            [
             0.7777777777777778,
             "#fb9f3a"
            ],
            [
             0.8888888888888888,
             "#fdca26"
            ],
            [
             1,
             "#f0f921"
            ]
           ],
           "sequentialminus": [
            [
             0,
             "#0d0887"
            ],
            [
             0.1111111111111111,
             "#46039f"
            ],
            [
             0.2222222222222222,
             "#7201a8"
            ],
            [
             0.3333333333333333,
             "#9c179e"
            ],
            [
             0.4444444444444444,
             "#bd3786"
            ],
            [
             0.5555555555555556,
             "#d8576b"
            ],
            [
             0.6666666666666666,
             "#ed7953"
            ],
            [
             0.7777777777777778,
             "#fb9f3a"
            ],
            [
             0.8888888888888888,
             "#fdca26"
            ],
            [
             1,
             "#f0f921"
            ]
           ]
          },
          "colorway": [
           "#636efa",
           "#EF553B",
           "#00cc96",
           "#ab63fa",
           "#FFA15A",
           "#19d3f3",
           "#FF6692",
           "#B6E880",
           "#FF97FF",
           "#FECB52"
          ],
          "font": {
           "color": "#2a3f5f"
          },
          "geo": {
           "bgcolor": "white",
           "lakecolor": "white",
           "landcolor": "white",
           "showlakes": true,
           "showland": true,
           "subunitcolor": "#C8D4E3"
          },
          "hoverlabel": {
           "align": "left"
          },
          "hovermode": "closest",
          "mapbox": {
           "style": "light"
          },
          "paper_bgcolor": "white",
          "plot_bgcolor": "white",
          "polar": {
           "angularaxis": {
            "gridcolor": "#EBF0F8",
            "linecolor": "#EBF0F8",
            "ticks": ""
           },
           "bgcolor": "white",
           "radialaxis": {
            "gridcolor": "#EBF0F8",
            "linecolor": "#EBF0F8",
            "ticks": ""
           }
          },
          "scene": {
           "xaxis": {
            "backgroundcolor": "white",
            "gridcolor": "#DFE8F3",
            "gridwidth": 2,
            "linecolor": "#EBF0F8",
            "showbackground": true,
            "ticks": "",
            "zerolinecolor": "#EBF0F8"
           },
           "yaxis": {
            "backgroundcolor": "white",
            "gridcolor": "#DFE8F3",
            "gridwidth": 2,
            "linecolor": "#EBF0F8",
            "showbackground": true,
            "ticks": "",
            "zerolinecolor": "#EBF0F8"
           },
           "zaxis": {
            "backgroundcolor": "white",
            "gridcolor": "#DFE8F3",
            "gridwidth": 2,
            "linecolor": "#EBF0F8",
            "showbackground": true,
            "ticks": "",
            "zerolinecolor": "#EBF0F8"
           }
          },
          "shapedefaults": {
           "line": {
            "color": "#2a3f5f"
           }
          },
          "ternary": {
           "aaxis": {
            "gridcolor": "#DFE8F3",
            "linecolor": "#A2B1C6",
            "ticks": ""
           },
           "baxis": {
            "gridcolor": "#DFE8F3",
            "linecolor": "#A2B1C6",
            "ticks": ""
           },
           "bgcolor": "white",
           "caxis": {
            "gridcolor": "#DFE8F3",
            "linecolor": "#A2B1C6",
            "ticks": ""
           }
          },
          "title": {
           "x": 0.05
          },
          "xaxis": {
           "automargin": true,
           "gridcolor": "#EBF0F8",
           "linecolor": "#EBF0F8",
           "ticks": "",
           "title": {
            "standoff": 15
           },
           "zerolinecolor": "#EBF0F8",
           "zerolinewidth": 2
          },
          "yaxis": {
           "automargin": true,
           "gridcolor": "#EBF0F8",
           "linecolor": "#EBF0F8",
           "ticks": "",
           "title": {
            "standoff": 15
           },
           "zerolinecolor": "#EBF0F8",
           "zerolinewidth": 2
          }
         }
        },
        "title": {
         "text": "1) Price Distribution by Drug across Cities"
        },
        "xaxis": {
         "anchor": "y",
         "domain": [
          0,
          1
         ],
         "title": {
          "text": "Drug"
         }
        },
        "yaxis": {
         "anchor": "x",
         "domain": [
          0,
          1
         ],
         "title": {
          "text": "Price (USD)"
         }
        }
       }
      },
      "image/png": "[encoded data removed]",
      "text/html": [
       "<div>                            <div id=\"31e28c41-a2b0-4954-8225-d05718f4efee\" class=\"plotly-graph-div\" style=\"height:525px; width:100%;\"></div>            <script type=\"text/javascript\">                require([\"plotly\"], function(Plotly) {                    window.PLOTLYENV=window.PLOTLYENV || {};                                    if (document.getElementById(\"31e28c41-a2b0-4954-8225-d05718f4efee\")) {                    Plotly.newPlot(                        \"31e28c41-a2b0-4954-8225-d05718f4efee\",                        [{\"alignmentgroup\":\"True\",\"boxpoints\":\"suspectedoutliers\",\"hovertemplate\":\"city=New York\\u003cbr\\u003eDrug=%{x}\\u003cbr\\u003ePrice (USD)=%{y}\\u003cextra\\u003e\\u003c\\u002fextra\\u003e\",\"legendgroup\":\"New York\",\"marker\":{\"color\":\"#636efa\"},\"name\":\"New York\",\"notched\":false,\"offsetgroup\":\"New York\",\"orientation\":\"v\",\"showlegend\":true,\"x\":[\"Atorvastatin\",\"Atorvastatin\",\"Atorvastatin\",\"Atorvastatin\",\"Atorvastatin\",\"Atorvastatin\",\"Atorvastatin\",\"Atorvastatin\",\"Atorvastatin\",\"Atorvastatin\",\"Atorvastatin\",\"Atorvastatin\",\"Atorvastatin\",\"Atorvastatin\",\"Atorvastatin\",\"Lisinopril\",\"Lisinopril\",\"Lisinopril\",\"Lisinopril\",\"Lisinopril\",\"Lisinopril\",\"Lisinopril\",\"Lisinopril\",\"Lisinopril\",\"Lisinopril\",\"Lisinopril\",\"Lisinopril\",\"Lisinopril\",\"Metformin\",\"Metformin\",\"Metformin\",\"Metformin\",\"Metformin\",\"Metformin\",\"Metformin\",\"Metformin\",\"Metformin\",\"Metformin\",\"Metformin\",\"Metformin\",\"Metformin\",\"Metformin\",\"Metformin\",\"Metformin\",\"Amlodipine\",\"Amlodipine\",\"Amlodipine\",\"Amlodipine\",\"Amlodipine\",\"Amlodipine\",\"Amlodipine\",\"Amlodipine\",\"Amlodipine\",\"Amlodipine\",\"Amlodipine\",\"Amlodipine\",\"Amlodipine\",\"Amlodipine\",\"Amlodipine\",\"Amlodipine\",\"Omeprazole\",\"Omeprazole\",\"Omeprazole\",\"Omeprazole\",\"Omeprazole\",\"Omeprazole\",\"Omeprazole\",\"Omeprazole\",\"Omeprazole\",\"Omeprazole\",\"Omeprazole\",\"Omeprazole\",\"Omeprazole\",\"Omeprazole\",\"Omeprazole\",\"Simvastatin\",\"Simvastatin\",\"Simvastatin\",\"Simvastatin\",\"Simvastatin\",\"Simvastatin\",\"Simvastatin\",\"Simvastatin\",\"Simvastatin\",\"Simvastatin\",\"Simvastatin\",\"Simvastatin\",\"Simvastatin\",\"Simvastatin\",\"Simvastatin\",\"Losartan\",\"Losartan\",\"Losartan\",\"Losartan\",\"Losartan\",\"Losartan\",\"Losartan\",\"Losartan\",\"Losartan\",\"Losartan\",\"Losartan\",\"Losartan\",\"Losartan\",\"Losartan\",\"Losartan\",\"Losartan\",\"Hydrochlorothiazide\",\"Hydrochlorothiazide\",\"Hydrochlorothiazide\",\"Hydrochlorothiazide\",\"Hydrochlorothiazide\",\"Hydrochlorothiazide\",\"Hydrochlorothiazide\",\"Hydrochlorothiazide\",\"Hydrochlorothiazide\",\"Hydrochlorothiazide\",\"Hydrochlorothiazide\",\"Hydrochlorothiazide\",\"Hydrochlorothiazide\",\"Hydrochlorothiazide\",\"Hydrochlorothiazide\"],\"x0\":\" \",\"xaxis\":\"x\",\"y\":[19.67,11.72,10.34,7.74,11.72,19.67,16.66,7.53,17.93,6.89,7.53,11.72,7.74,6.79,11.89,8.57,4.83,5.85,8.57,2.0,4.83,17.34,8.66,3.25,2.0,7.84,9.0,4.83,19.64,4.86,4.86,19.64,7.97,20.43,2.0,13.99,2.82,9.0,4.86,2.0,9.82,9.0,6.52,11.36,19.22,10.13,10.44,10.13,12.99,19.22,18.86,2.88,3.05,9.0,2.88,7.26,10.13,6.05,9.0,11.02,20.03,18.37,10.75,18.37,23.09,13.66,20.03,7.0,2.0,5.82,7.0,18.37,8.55,2.0,12.09,28.04,33.6,13.7,28.04,33.6,21.99,27.09,3.05,24.0,13.38,3.05,33.6,24.0,19.3,13.7,19.43,11.21,9.84,11.21,2.0,19.43,5.63,21.99,16.47,2.0,7.1,9.0,11.21,9.0,6.87,11.56,19.22,2.0,2.88,7.5,19.22,2.0,2.0,16.95,0.81,4.0,2.0,2.0,9.0,4.0,2.88],\"y0\":\" \",\"yaxis\":\"y\",\"type\":\"box\"},{\"alignmentgroup\":\"True\",\"boxpoints\":\"suspectedoutliers\",\"hovertemplate\":\"city=Los Angeles\\u003cbr\\u003eDrug=%{x}\\u003cbr\\u003ePrice (USD)=%{y}\\u003cextra\\u003e\\u003c\\u002fextra\\u003e\",\"legendgroup\":\"Los Angeles\",\"marker\":{\"color\":\"#EF553B\"},\"name\":\"Los Angeles\",\"notched\":false,\"offsetgroup\":\"Los Angeles\",\"orientation\":\"v\",\"showlegend\":true,\"x\":[\"Atorvastatin\",\"Atorvastatin\",\"Atorvastatin\",\"Atorvastatin\",\"Atorvastatin\",\"Atorvastatin\",\"Atorvastatin\",\"Atorvastatin\",\"Atorvastatin\",\"Atorvastatin\",\"Atorvastatin\",\"Atorvastatin\",\"Atorvastatin\",\"Lisinopril\",\"Metformin\",\"Metformin\",\"Metformin\",\"Metformin\",\"Metformin\",\"Metformin\",\"Metformin\",\"Metformin\",\"Metformin\",\"Metformin\",\"Metformin\",\"Metformin\",\"Metformin\",\"Metformin\",\"Amlodipine\",\"Amlodipine\",\"Amlodipine\",\"Amlodipine\",\"Amlodipine\",\"Amlodipine\",\"Amlodipine\",\"Amlodipine\",\"Amlodipine\",\"Amlodipine\",\"Amlodipine\",\"Amlodipine\",\"Amlodipine\",\"Amlodipine\",\"Omeprazole\",\"Omeprazole\",\"Omeprazole\",\"Omeprazole\",\"Omeprazole\",\"Omeprazole\",\"Omeprazole\",\"Omeprazole\",\"Omeprazole\",\"Omeprazole\",\"Omeprazole\",\"Omeprazole\",\"Omeprazole\",\"Simvastatin\",\"Simvastatin\",\"Simvastatin\",\"Simvastatin\",\"Simvastatin\",\"Simvastatin\",\"Simvastatin\",\"Simvastatin\",\"Simvastatin\",\"Simvastatin\",\"Simvastatin\",\"Simvastatin\",\"Simvastatin\",\"Losartan\",\"Losartan\",\"Losartan\",\"Losartan\",\"Losartan\",\"Losartan\",\"Losartan\",\"Losartan\",\"Losartan\",\"Losartan\",\"Losartan\",\"Losartan\",\"Losartan\",\"Losartan\",\"Hydrochlorothiazide\",\"Hydrochlorothiazide\",\"Hydrochlorothiazide\",\"Hydrochlorothiazide\",\"Hydrochlorothiazide\",\"Hydrochlorothiazide\",\"Hydrochlorothiazide\",\"Hydrochlorothiazide\",\"Hydrochlorothiazide\",\"Hydrochlorothiazide\",\"Hydrochlorothiazide\",\"Hydrochlorothiazide\",\"Hydrochlorothiazide\"],\"x0\":\" \",\"xaxis\":\"x\",\"y\":[19.67,11.72,7.53,7.74,7.53,16.66,19.67,7.74,10.54,7.53,11.72,17.93,11.89,8.57,19.64,4.86,2.0,2.0,19.64,2.0,13.99,14.87,9.0,9.0,9.82,4.86,11.36,20.43,19.22,10.13,2.88,2.88,12.99,19.22,2.88,7.53,9.0,10.13,7.26,9.0,11.02,18.86,20.03,7.0,18.37,13.66,7.0,20.03,7.0,8.6,2.0,18.37,2.0,12.09,23.09,28.04,3.05,28.04,3.05,33.6,3.05,19.8,21.99,24.0,24.0,19.3,33.6,27.09,19.43,2.0,2.0,11.21,2.0,19.43,7.3,21.99,7.1,9.0,9.0,11.21,11.56,16.47,19.22,7.5,2.0,2.0,2.0,19.22,6.39,2.0,4.0,2.0,4.0,16.95,9.0],\"y0\":\" \",\"yaxis\":\"y\",\"type\":\"box\"},{\"alignmentgroup\":\"True\",\"boxpoints\":\"suspectedoutliers\",\"hovertemplate\":\"city=Chicago\\u003cbr\\u003eDrug=%{x}\\u003cbr\\u003ePrice (USD)=%{y}\\u003cextra\\u003e\\u003c\\u002fextra\\u003e\",\"legendgroup\":\"Chicago\",\"marker\":{\"color\":\"#00cc96\"},\"name\":\"Chicago\",\"notched\":false,\"offsetgroup\":\"Chicago\",\"orientation\":\"v\",\"showlegend\":true,\"x\":[\"Atorvastatin\",\"Atorvastatin\",\"Atorvastatin\",\"Atorvastatin\",\"Atorvastatin\",\"Atorvastatin\",\"Atorvastatin\",\"Atorvastatin\",\"Atorvastatin\",\"Atorvastatin\",\"Atorvastatin\",\"Atorvastatin\",\"Lisinopril\",\"Lisinopril\",\"Lisinopril\",\"Lisinopril\",\"Lisinopril\",\"Lisinopril\",\"Lisinopril\",\"Lisinopril\",\"Lisinopril\",\"Lisinopril\",\"Lisinopril\",\"Lisinopril\",\"Lisinopril\",\"Metformin\",\"Metformin\",\"Metformin\",\"Metformin\",\"Metformin\",\"Metformin\",\"Metformin\",\"Metformin\",\"Metformin\",\"Metformin\",\"Metformin\",\"Metformin\",\"Metformin\",\"Amlodipine\",\"Amlodipine\",\"Amlodipine\",\"Amlodipine\",\"Amlodipine\",\"Amlodipine\",\"Amlodipine\",\"Amlodipine\",\"Amlodipine\",\"Amlodipine\",\"Amlodipine\",\"Amlodipine\",\"Amlodipine\",\"Omeprazole\",\"Omeprazole\",\"Omeprazole\",\"Omeprazole\",\"Omeprazole\",\"Omeprazole\",\"Omeprazole\",\"Omeprazole\",\"Omeprazole\",\"Omeprazole\",\"Omeprazole\",\"Omeprazole\",\"Simvastatin\",\"Simvastatin\",\"Simvastatin\",\"Simvastatin\",\"Simvastatin\",\"Simvastatin\",\"Simvastatin\",\"Simvastatin\",\"Simvastatin\",\"Simvastatin\",\"Simvastatin\",\"Simvastatin\"],\"x0\":\" \",\"xaxis\":\"x\",\"y\":[11.72,7.53,19.67,10.25,7.74,19.67,16.66,10.54,11.72,7.74,8.99,17.93,4.83,2.0,8.57,8.47,8.57,8.66,9.0,7.79,7.84,5.92,9.0,4.83,17.34,4.86,2.0,19.64,8.18,19.64,13.99,9.0,14.87,9.82,6.89,9.0,4.86,20.43,10.13,2.88,8.7,19.22,12.99,19.22,9.0,7.53,7.26,8.07,9.0,10.13,18.86,18.37,7.0,10.07,20.03,13.66,20.03,2.0,8.6,18.37,8.82,2.0,23.09,3.05,33.6,11.3,28.04,28.04,19.8,24.0,21.99,9.95,24.0,33.6,27.09],\"y0\":\" \",\"yaxis\":\"y\",\"type\":\"box\"}],                        {\"template\":{\"data\":{\"barpolar\":[{\"marker\":{\"line\":{\"color\":\"white\",\"width\":0.5},\"pattern\":{\"fillmode\":\"overlay\",\"size\":10,\"solidity\":0.2}},\"type\":\"barpolar\"}],\"bar\":[{\"error_x\":{\"color\":\"#2a3f5f\"},\"error_y\":{\"color\":\"#2a3f5f\"},\"marker\":{\"line\":{\"color\":\"white\",\"width\":0.5},\"pattern\":{\"fillmode\":\"overlay\",\"size\":10,\"solidity\":0.2}},\"type\":\"bar\"}],\"carpet\":[{\"aaxis\":{\"endlinecolor\":\"#2a3f5f\",\"gridcolor\":\"#C8D4E3\",\"linecolor\":\"#C8D4E3\",\"minorgridcolor\":\"#C8D4E3\",\"startlinecolor\":\"#2a3f5f\"},\"baxis\":{\"endlinecolor\":\"#2a3f5f\",\"gridcolor\":\"#C8D4E3\",\"linecolor\":\"#C8D4E3\",\"minorgridcolor\":\"#C8D4E3\",\"startlinecolor\":\"#2a3f5f\"},\"type\":\"carpet\"}],\"choropleth\":[{\"colorbar\":{\"outlinewidth\":0,\"ticks\":\"\"},\"type\":\"choropleth\"}],\"contourcarpet\":[{\"colorbar\":{\"outlinewidth\":0,\"ticks\":\"\"},\"type\":\"contourcarpet\"}],\"contour\":[{\"colorbar\":{\"outlinewidth\":0,\"ticks\":\"\"},\"colorscale\":[[0.0,\"#0d0887\"],[0.1111111111111111,\"#46039f\"],[0.2222222222222222,\"#7201a8\"],[0.3333333333333333,\"#9c179e\"],[0.4444444444444444,\"#bd3786\"],[0.5555555555555556,\"#d8576b\"],[0.6666666666666666,\"#ed7953\"],[0.7777777777777778,\"#fb9f3a\"],[0.8888888888888888,\"#fdca26\"],[1.0,\"#f0f921\"]],\"type\":\"contour\"}],\"heatmapgl\":[{\"colorbar\":{\"outlinewidth\":0,\"ticks\":\"\"},\"colorscale\":[[0.0,\"#0d0887\"],[0.1111111111111111,\"#46039f\"],[0.2222222222222222,\"#7201a8\"],[0.3333333333333333,\"#9c179e\"],[0.4444444444444444,\"#bd3786\"],[0.5555555555555556,\"#d8576b\"],[0.6666666666666666,\"#ed7953\"],[0.7777777777777778,\"#fb9f3a\"],[0.8888888888888888,\"#fdca26\"],[1.0,\"#f0f921\"]],\"type\":\"heatmapgl\"}],\"heatmap\":[{\"colorbar\":{\"outlinewidth\":0,\"ticks\":\"\"},\"colorscale\":[[0.0,\"#0d0887\"],[0.1111111111111111,\"#46039f\"],[0.2222222222222222,\"#7201a8\"],[0.3333333333333333,\"#9c179e\"],[0.4444444444444444,\"#bd3786\"],[0.5555555555555556,\"#d8576b\"],[0.6666666666666666,\"#ed7953\"],[0.7777777777777778,\"#fb9f3a\"],[0.8888888888888888,\"#fdca26\"],[1.0,\"#f0f921\"]],\"type\":\"heatmap\"}],\"histogram2dcontour\":[{\"colorbar\":{\"outlinewidth\":0,\"ticks\":\"\"},\"colorscale\":[[0.0,\"#0d0887\"],[0.1111111111111111,\"#46039f\"],[0.2222222222222222,\"#7201a8\"],[0.3333333333333333,\"#9c179e\"],[0.4444444444444444,\"#bd3786\"],[0.5555555555555556,\"#d8576b\"],[0.6666666666666666,\"#ed7953\"],[0.7777777777777778,\"#fb9f3a\"],[0.8888888888888888,\"#fdca26\"],[1.0,\"#f0f921\"]],\"type\":\"histogram2dcontour\"}],\"histogram2d\":[{\"colorbar\":{\"outlinewidth\":0,\"ticks\":\"\"},\"colorscale\":[[0.0,\"#0d0887\"],[0.1111111111111111,\"#46039f\"],[0.2222222222222222,\"#7201a8\"],[0.3333333333333333,\"#9c179e\"],[0.4444444444444444,\"#bd3786\"],[0.5555555555555556,\"#d8576b\"],[0.6666666666666666,\"#ed7953\"],[0.7777777777777778,\"#fb9f3a\"],[0.8888888888888888,\"#fdca26\"],[1.0,\"#f0f921\"]],\"type\":\"histogram2d\"}],\"histogram\":[{\"marker\":{\"pattern\":{\"fillmode\":\"overlay\",\"size\":10,\"solidity\":0.2}},\"type\":\"histogram\"}],\"mesh3d\":[{\"colorbar\":{\"outlinewidth\":0,\"ticks\":\"\"},\"type\":\"mesh3d\"}],\"parcoords\":[{\"line\":{\"colorbar\":{\"outlinewidth\":0,\"ticks\":\"\"}},\"type\":\"parcoords\"}],\"pie\":[{\"automargin\":true,\"type\":\"pie\"}],\"scatter3d\":[{\"line\":{\"colorbar\":{\"outlinewidth\":0,\"ticks\":\"\"}},\"marker\":{\"colorbar\":{\"outlinewidth\":0,\"ticks\":\"\"}},\"type\":\"scatter3d\"}],\"scattercarpet\":[{\"marker\":{\"colorbar\":{\"outlinewidth\":0,\"ticks\":\"\"}},\"type\":\"scattercarpet\"}],\"scattergeo\":[{\"marker\":{\"colorbar\":{\"outlinewidth\":0,\"ticks\":\"\"}},\"type\":\"scattergeo\"}],\"scattergl\":[{\"marker\":{\"colorbar\":{\"outlinewidth\":0,\"ticks\":\"\"}},\"type\":\"scattergl\"}],\"scattermapbox\":[{\"marker\":{\"colorbar\":{\"outlinewidth\":0,\"ticks\":\"\"}},\"type\":\"scattermapbox\"}],\"scatterpolargl\":[{\"marker\":{\"colorbar\":{\"outlinewidth\":0,\"ticks\":\"\"}},\"type\":\"scatterpolargl\"}],\"scatterpolar\":[{\"marker\":{\"colorbar\":{\"outlinewidth\":0,\"ticks\":\"\"}},\"type\":\"scatterpolar\"}],\"scatter\":[{\"fillpattern\":{\"fillmode\":\"overlay\",\"size\":10,\"solidity\":0.2},\"type\":\"scatter\"}],\"scatterternary\":[{\"marker\":{\"colorbar\":{\"outlinewidth\":0,\"ticks\":\"\"}},\"type\":\"scatterternary\"}],\"surface\":[{\"colorbar\":{\"outlinewidth\":0,\"ticks\":\"\"},\"colorscale\":[[0.0,\"#0d0887\"],[0.1111111111111111,\"#46039f\"],[0.2222222222222222,\"#7201a8\"],[0.3333333333333333,\"#9c179e\"],[0.4444444444444444,\"#bd3786\"],[0.5555555555555556,\"#d8576b\"],[0.6666666666666666,\"#ed7953\"],[0.7777777777777778,\"#fb9f3a\"],[0.8888888888888888,\"#fdca26\"],[1.0,\"#f0f921\"]],\"type\":\"surface\"}],\"table\":[{\"cells\":{\"fill\":{\"color\":\"#EBF0F8\"},\"line\":{\"color\":\"white\"}},\"header\":{\"fill\":{\"color\":\"#C8D4E3\"},\"line\":{\"color\":\"white\"}},\"type\":\"table\"}]},\"layout\":{\"annotationdefaults\":{\"arrowcolor\":\"#2a3f5f\",\"arrowhead\":0,\"arrowwidth\":1},\"autotypenumbers\":\"strict\",\"coloraxis\":{\"colorbar\":{\"outlinewidth\":0,\"ticks\":\"\"}},\"colorscale\":{\"diverging\":[[0,\"#8e0152\"],[0.1,\"#c51b7d\"],[0.2,\"#de77ae\"],[0.3,\"#f1b6da\"],[0.4,\"#fde0ef\"],[0.5,\"#f7f7f7\"],[0.6,\"#e6f5d0\"],[0.7,\"#b8e186\"],[0.8,\"#7fbc41\"],[0.9,\"#4d9221\"],[1,\"#276419\"]],\"sequential\":[[0.0,\"#0d0887\"],[0.1111111111111111,\"#46039f\"],[0.2222222222222222,\"#7201a8\"],[0.3333333333333333,\"#9c179e\"],[0.4444444444444444,\"#bd3786\"],[0.5555555555555556,\"#d8576b\"],[0.6666666666666666,\"#ed7953\"],[0.7777777777777778,\"#fb9f3a\"],[0.8888888888888888,\"#fdca26\"],[1.0,\"#f0f921\"]],\"sequentialminus\":[[0.0,\"#0d0887\"],[0.1111111111111111,\"#46039f\"],[0.2222222222222222,\"#7201a8\"],[0.3333333333333333,\"#9c179e\"],[0.4444444444444444,\"#bd3786\"],[0.5555555555555556,\"#d8576b\"],[0.6666666666666666,\"#ed7953\"],[0.7777777777777778,\"#fb9f3a\"],[0.8888888888888888,\"#fdca26\"],[1.0,\"#f0f921\"]]},\"colorway\":[\"#636efa\",\"#EF553B\",\"#00cc96\",\"#ab63fa\",\"#FFA15A\",\"#19d3f3\",\"#FF6692\",\"#B6E880\",\"#FF97FF\",\"#FECB52\"],\"font\":{\"color\":\"#2a3f5f\"},\"geo\":{\"bgcolor\":\"white\",\"lakecolor\":\"white\",\"landcolor\":\"white\",\"showlakes\":true,\"showland\":true,\"subunitcolor\":\"#C8D4E3\"},\"hoverlabel\":{\"align\":\"left\"},\"hovermode\":\"closest\",\"mapbox\":{\"style\":\"light\"},\"paper_bgcolor\":\"white\",\"plot_bgcolor\":\"white\",\"polar\":{\"angularaxis\":{\"gridcolor\":\"#EBF0F8\",\"linecolor\":\"#EBF0F8\",\"ticks\":\"\"},\"bgcolor\":\"white\",\"radialaxis\":{\"gridcolor\":\"#EBF0F8\",\"linecolor\":\"#EBF0F8\",\"ticks\":\"\"}},\"scene\":{\"xaxis\":{\"backgroundcolor\":\"white\",\"gridcolor\":\"#DFE8F3\",\"gridwidth\":2,\"linecolor\":\"#EBF0F8\",\"showbackground\":true,\"ticks\":\"\",\"zerolinecolor\":\"#EBF0F8\"},\"yaxis\":{\"backgroundcolor\":\"white\",\"gridcolor\":\"#DFE8F3\",\"gridwidth\":2,\"linecolor\":\"#EBF0F8\",\"showbackground\":true,\"ticks\":\"\",\"zerolinecolor\":\"#EBF0F8\"},\"zaxis\":{\"backgroundcolor\":\"white\",\"gridcolor\":\"#DFE8F3\",\"gridwidth\":2,\"linecolor\":\"#EBF0F8\",\"showbackground\":true,\"ticks\":\"\",\"zerolinecolor\":\"#EBF0F8\"}},\"shapedefaults\":{\"line\":{\"color\":\"#2a3f5f\"}},\"ternary\":{\"aaxis\":{\"gridcolor\":\"#DFE8F3\",\"linecolor\":\"#A2B1C6\",\"ticks\":\"\"},\"baxis\":{\"gridcolor\":\"#DFE8F3\",\"linecolor\":\"#A2B1C6\",\"ticks\":\"\"},\"bgcolor\":\"white\",\"caxis\":{\"gridcolor\":\"#DFE8F3\",\"linecolor\":\"#A2B1C6\",\"ticks\":\"\"}},\"title\":{\"x\":0.05},\"xaxis\":{\"automargin\":true,\"gridcolor\":\"#EBF0F8\",\"linecolor\":\"#EBF0F8\",\"ticks\":\"\",\"title\":{\"standoff\":15},\"zerolinecolor\":\"#EBF0F8\",\"zerolinewidth\":2},\"yaxis\":{\"automargin\":true,\"gridcolor\":\"#EBF0F8\",\"linecolor\":\"#EBF0F8\",\"ticks\":\"\",\"title\":{\"standoff\":15},\"zerolinecolor\":\"#EBF0F8\",\"zerolinewidth\":2}}},\"xaxis\":{\"anchor\":\"y\",\"domain\":[0.0,1.0],\"title\":{\"text\":\"Drug\"}},\"yaxis\":{\"anchor\":\"x\",\"domain\":[0.0,1.0],\"title\":{\"text\":\"Price (USD)\"}},\"legend\":{\"title\":{\"text\":\"city\"},\"tracegroupgap\":0},\"title\":{\"text\":\"1) Price Distribution by Drug across Cities\"},\"boxmode\":\"group\"},                        {\"responsive\": true}                    ).then(function(){\n",
       "                            \n",
       "var gd = document.getElementById('31e28c41-a2b0-4954-8225-d05718f4efee');\n",
       "var x = new MutationObserver(function (mutations, observer) {{\n",
       "        var display = window.getComputedStyle(gd).display;\n",
       "        if (!display || display === 'none') {{\n",
       "            console.log([gd, 'removed!']);\n",
       "            Plotly.purge(gd);\n",
       "            observer.disconnect();\n",
       "        }}\n",
       "}});\n",
       "\n",
       "// Listen for the removal of the full notebook cells\n",
       "var notebookContainer = gd.closest('#notebook-container');\n",
       "if (notebookContainer) {{\n",
       "    x.observe(notebookContainer, {childList: true});\n",
       "}}\n",
       "\n",
       "// Listen for the clearing of the current output cell\n",
       "var outputEl = gd.closest('.output');\n",
       "if (outputEl) {{\n",
       "    x.observe(outputEl, {childList: true});\n",
       "}}\n",
       "\n",
       "                        })                };                });            </script>        </div>"
      ]
     },
     "metadata": {},
     "output_type": "display_data"
    },
    {
     "data": {
      "application/vnd.plotly.v1+json": {
       "config": {
        "plotlyServerURL": "https://plot.ly"
       },
       "data": [
        {
         "alignmentgroup": "True",
         "hovertemplate": "city=Chicago<br>Drug=%{x}<br>Avg Price (USD)=%{y}<extra></extra>",
         "legendgroup": "Chicago",
         "marker": {
          "color": "#636efa",
          "pattern": {
           "shape": ""
          }
         },
         "name": "Chicago",
         "offsetgroup": "Chicago",
         "orientation": "v",
         "showlegend": true,
         "textposition": "auto",
         "type": "bar",
         "x": [
          "Amlodipine",
          "Atorvastatin",
          "Lisinopril",
          "Metformin",
          "Omeprazole",
          "Simvastatin"
         ],
         "xaxis": "x",
         "y": [
          10.99923076923077,
          12.513333333333334,
          7.909230769230769,
          11.013846153846155,
          12.67,
          22.03833333333333
         ],
         "yaxis": "y"
        },
        {
         "alignmentgroup": "True",
         "hovertemplate": "city=Los Angeles<br>Drug=%{x}<br>Avg Price (USD)=%{y}<extra></extra>",
         "legendgroup": "Los Angeles",
         "marker": {
          "color": "#EF553B",
          "pattern": {
           "shape": ""
          }
         },
         "name": "Los Angeles",
         "offsetgroup": "Los Angeles",
         "orientation": "v",
         "showlegend": true,
         "textposition": "auto",
         "type": "bar",
         "x": [
          "Amlodipine",
          "Atorvastatin",
          "Hydrochlorothiazide",
          "Lisinopril",
          "Losartan",
          "Metformin",
          "Omeprazole",
          "Simvastatin"
         ],
         "xaxis": "x",
         "y": [
          10.214285714285714,
          12.143846153846154,
          7.406153846153846,
          8.57,
          10.692857142857141,
          10.247857142857143,
          12.24923076923077,
          20.662307692307692
         ],
         "yaxis": "y"
        },
        {
         "alignmentgroup": "True",
         "hovertemplate": "city=New York<br>Drug=%{x}<br>Avg Price (USD)=%{y}<extra></extra>",
         "legendgroup": "New York",
         "marker": {
          "color": "#00cc96",
          "pattern": {
           "shape": ""
          }
         },
         "name": "New York",
         "offsetgroup": "New York",
         "orientation": "v",
         "showlegend": true,
         "textposition": "auto",
         "type": "bar",
         "x": [
          "Amlodipine",
          "Atorvastatin",
          "Hydrochlorothiazide",
          "Lisinopril",
          "Losartan",
          "Metformin",
          "Omeprazole",
          "Simvastatin"
         ],
         "xaxis": "x",
         "y": [
          10.14125,
          11.702666666666667,
          6.430666666666666,
          6.736153846153846,
          10.871875,
          9.298125,
          12.475333333333333,
          21.342666666666666
         ],
         "yaxis": "y"
        }
       ],
       "layout": {
        "barmode": "group",
        "legend": {
         "title": {
          "text": "city"
         },
         "tracegroupgap": 0
        },
        "template": {
         "data": {
          "bar": [
           {
            "error_x": {
             "color": "#2a3f5f"
            },
            "error_y": {
             "color": "#2a3f5f"
            },
            "marker": {
             "line": {
              "color": "white",
              "width": 0.5
             },
             "pattern": {
              "fillmode": "overlay",
              "size": 10,
              "solidity": 0.2
             }
            },
            "type": "bar"
           }
          ],
          "barpolar": [
           {
            "marker": {
             "line": {
              "color": "white",
              "width": 0.5
             },
             "pattern": {
              "fillmode": "overlay",
              "size": 10,
              "solidity": 0.2
             }
            },
            "type": "barpolar"
           }
          ],
          "carpet": [
           {
            "aaxis": {
             "endlinecolor": "#2a3f5f",
             "gridcolor": "#C8D4E3",
             "linecolor": "#C8D4E3",
             "minorgridcolor": "#C8D4E3",
             "startlinecolor": "#2a3f5f"
            },
            "baxis": {
             "endlinecolor": "#2a3f5f",
             "gridcolor": "#C8D4E3",
             "linecolor": "#C8D4E3",
             "minorgridcolor": "#C8D4E3",
             "startlinecolor": "#2a3f5f"
            },
            "type": "carpet"
           }
          ],
          "choropleth": [
           {
            "colorbar": {
             "outlinewidth": 0,
             "ticks": ""
            },
            "type": "choropleth"
           }
          ],
          "contour": [
           {
            "colorbar": {
             "outlinewidth": 0,
             "ticks": ""
            },
            "colorscale": [
             [
              0,
              "#0d0887"
             ],
             [
              0.1111111111111111,
              "#46039f"
             ],
             [
              0.2222222222222222,
              "#7201a8"
             ],
             [
              0.3333333333333333,
              "#9c179e"
             ],
             [
              0.4444444444444444,
              "#bd3786"
             ],
             [
              0.5555555555555556,
              "#d8576b"
             ],
             [
              0.6666666666666666,
              "#ed7953"
             ],
             [
              0.7777777777777778,
              "#fb9f3a"
             ],
             [
              0.8888888888888888,
              "#fdca26"
             ],
             [
              1,
              "#f0f921"
             ]
            ],
            "type": "contour"
           }
          ],
          "contourcarpet": [
           {
            "colorbar": {
             "outlinewidth": 0,
             "ticks": ""
            },
            "type": "contourcarpet"
           }
          ],
          "heatmap": [
           {
            "colorbar": {
             "outlinewidth": 0,
             "ticks": ""
            },
            "colorscale": [
             [
              0,
              "#0d0887"
             ],
             [
              0.1111111111111111,
              "#46039f"
             ],
             [
              0.2222222222222222,
              "#7201a8"
             ],
             [
              0.3333333333333333,
              "#9c179e"
             ],
             [
              0.4444444444444444,
              "#bd3786"
             ],
             [
              0.5555555555555556,
              "#d8576b"
             ],
             [
              0.6666666666666666,
              "#ed7953"
             ],
             [
              0.7777777777777778,
              "#fb9f3a"
             ],
             [
              0.8888888888888888,
              "#fdca26"
             ],
             [
              1,
              "#f0f921"
             ]
            ],
            "type": "heatmap"
           }
          ],
          "heatmapgl": [
           {
            "colorbar": {
             "outlinewidth": 0,
             "ticks": ""
            },
            "colorscale": [
             [
              0,
              "#0d0887"
             ],
             [
              0.1111111111111111,
              "#46039f"
             ],
             [
              0.2222222222222222,
              "#7201a8"
             ],
             [
              0.3333333333333333,
              "#9c179e"
             ],
             [
              0.4444444444444444,
              "#bd3786"
             ],
             [
              0.5555555555555556,
              "#d8576b"
             ],
             [
              0.6666666666666666,
              "#ed7953"
             ],
             [
              0.7777777777777778,
              "#fb9f3a"
             ],
             [
              0.8888888888888888,
              "#fdca26"
             ],
             [
              1,
              "#f0f921"
             ]
            ],
            "type": "heatmapgl"
           }
          ],
          "histogram": [
           {
            "marker": {
             "pattern": {
              "fillmode": "overlay",
              "size": 10,
              "solidity": 0.2
             }
            },
            "type": "histogram"
           }
          ],
          "histogram2d": [
           {
            "colorbar": {
             "outlinewidth": 0,
             "ticks": ""
            },
            "colorscale": [
             [
              0,
              "#0d0887"
             ],
             [
              0.1111111111111111,
              "#46039f"
             ],
             [
              0.2222222222222222,
              "#7201a8"
             ],
             [
              0.3333333333333333,
              "#9c179e"
             ],
             [
              0.4444444444444444,
              "#bd3786"
             ],
             [
              0.5555555555555556,
              "#d8576b"
             ],
             [
              0.6666666666666666,
              "#ed7953"
             ],
             [
              0.7777777777777778,
              "#fb9f3a"
             ],
             [
              0.8888888888888888,
              "#fdca26"
             ],
             [
              1,
              "#f0f921"
             ]
            ],
            "type": "histogram2d"
           }
          ],
          "histogram2dcontour": [
           {
            "colorbar": {
             "outlinewidth": 0,
             "ticks": ""
            },
            "colorscale": [
             [
              0,
              "#0d0887"
             ],
             [
              0.1111111111111111,
              "#46039f"
             ],
             [
              0.2222222222222222,
              "#7201a8"
             ],
             [
              0.3333333333333333,
              "#9c179e"
             ],
             [
              0.4444444444444444,
              "#bd3786"
             ],
             [
              0.5555555555555556,
              "#d8576b"
             ],
             [
              0.6666666666666666,
              "#ed7953"
             ],
             [
              0.7777777777777778,
              "#fb9f3a"
             ],
             [
              0.8888888888888888,
              "#fdca26"
             ],
             [
              1,
              "#f0f921"
             ]
            ],
            "type": "histogram2dcontour"
           }
          ],
          "mesh3d": [
           {
            "colorbar": {
             "outlinewidth": 0,
             "ticks": ""
            },
            "type": "mesh3d"
           }
          ],
          "parcoords": [
           {
            "line": {
             "colorbar": {
              "outlinewidth": 0,
              "ticks": ""
             }
            },
            "type": "parcoords"
           }
          ],
          "pie": [
           {
            "automargin": true,
            "type": "pie"
           }
          ],
          "scatter": [
           {
            "fillpattern": {
             "fillmode": "overlay",
             "size": 10,
             "solidity": 0.2
            },
            "type": "scatter"
           }
          ],
          "scatter3d": [
           {
            "line": {
             "colorbar": {
              "outlinewidth": 0,
              "ticks": ""
             }
            },
            "marker": {
             "colorbar": {
              "outlinewidth": 0,
              "ticks": ""
             }
            },
            "type": "scatter3d"
           }
          ],
          "scattercarpet": [
           {
            "marker": {
             "colorbar": {
              "outlinewidth": 0,
              "ticks": ""
             }
            },
            "type": "scattercarpet"
           }
          ],
          "scattergeo": [
           {
            "marker": {
             "colorbar": {
              "outlinewidth": 0,
              "ticks": ""
             }
            },
            "type": "scattergeo"
           }
          ],
          "scattergl": [
           {
            "marker": {
             "colorbar": {
              "outlinewidth": 0,
              "ticks": ""
             }
            },
            "type": "scattergl"
           }
          ],
          "scattermapbox": [
           {
            "marker": {
             "colorbar": {
              "outlinewidth": 0,
              "ticks": ""
             }
            },
            "type": "scattermapbox"
           }
          ],
          "scatterpolar": [
           {
            "marker": {
             "colorbar": {
              "outlinewidth": 0,
              "ticks": ""
             }
            },
            "type": "scatterpolar"
           }
          ],
          "scatterpolargl": [
           {
            "marker": {
             "colorbar": {
              "outlinewidth": 0,
              "ticks": ""
             }
            },
            "type": "scatterpolargl"
           }
          ],
          "scatterternary": [
           {
            "marker": {
             "colorbar": {
              "outlinewidth": 0,
              "ticks": ""
             }
            },
            "type": "scatterternary"
           }
          ],
          "surface": [
           {
            "colorbar": {
             "outlinewidth": 0,
             "ticks": ""
            },
            "colorscale": [
             [
              0,
              "#0d0887"
             ],
             [
              0.1111111111111111,
              "#46039f"
             ],
             [
              0.2222222222222222,
              "#7201a8"
             ],
             [
              0.3333333333333333,
              "#9c179e"
             ],
             [
              0.4444444444444444,
              "#bd3786"
             ],
             [
              0.5555555555555556,
              "#d8576b"
             ],
             [
              0.6666666666666666,
              "#ed7953"
             ],
             [
              0.7777777777777778,
              "#fb9f3a"
             ],
             [
              0.8888888888888888,
              "#fdca26"
             ],
             [
              1,
              "#f0f921"
             ]
            ],
            "type": "surface"
           }
          ],
          "table": [
           {
            "cells": {
             "fill": {
              "color": "#EBF0F8"
             },
             "line": {
              "color": "white"
             }
            },
            "header": {
             "fill": {
              "color": "#C8D4E3"
             },
             "line": {
              "color": "white"
             }
            },
            "type": "table"
           }
          ]
         },
         "layout": {
          "annotationdefaults": {
           "arrowcolor": "#2a3f5f",
           "arrowhead": 0,
           "arrowwidth": 1
          },
          "autotypenumbers": "strict",
          "coloraxis": {
           "colorbar": {
            "outlinewidth": 0,
            "ticks": ""
           }
          },
          "colorscale": {
           "diverging": [
            [
             0,
             "#8e0152"
            ],
            [
             0.1,
             "#c51b7d"
            ],
            [
             0.2,
             "#de77ae"
            ],
            [
             0.3,
             "#f1b6da"
            ],
            [
             0.4,
             "#fde0ef"
            ],
            [
             0.5,
             "#f7f7f7"
            ],
            [
             0.6,
             "#e6f5d0"
            ],
            [
             0.7,
             "#b8e186"
            ],
            [
             0.8,
             "#7fbc41"
            ],
            [
             0.9,
             "#4d9221"
            ],
            [
             1,
             "#276419"
            ]
           ],
           "sequential": [
            [
             0,
             "#0d0887"
            ],
            [
             0.1111111111111111,
             "#46039f"
            ],
            [
             0.2222222222222222,
             "#7201a8"
            ],
            [
             0.3333333333333333,
             "#9c179e"
            ],
            [
             0.4444444444444444,
             "#bd3786"
            ],
            [
             0.5555555555555556,
             "#d8576b"
            ],
            [
             0.6666666666666666,
             "#ed7953"
            ],
            [
             0.7777777777777778,
             "#fb9f3a"
            ],
            [
             0.8888888888888888,
             "#fdca26"
            ],
            [
             1,
             "#f0f921"
            ]
           ],
           "sequentialminus": [
            [
             0,
             "#0d0887"
            ],
            [
             0.1111111111111111,
             "#46039f"
            ],
            [
             0.2222222222222222,
             "#7201a8"
            ],
            [
             0.3333333333333333,
             "#9c179e"
            ],
            [
             0.4444444444444444,
             "#bd3786"
            ],
            [
             0.5555555555555556,
             "#d8576b"
            ],
            [
             0.6666666666666666,
             "#ed7953"
            ],
            [
             0.7777777777777778,
             "#fb9f3a"
            ],
            [
             0.8888888888888888,
             "#fdca26"
            ],
            [
             1,
             "#f0f921"
            ]
           ]
          },
          "colorway": [
           "#636efa",
           "#EF553B",
           "#00cc96",
           "#ab63fa",
           "#FFA15A",
           "#19d3f3",
           "#FF6692",
           "#B6E880",
           "#FF97FF",
           "#FECB52"
          ],
          "font": {
           "color": "#2a3f5f"
          },
          "geo": {
           "bgcolor": "white",
           "lakecolor": "white",
           "landcolor": "white",
           "showlakes": true,
           "showland": true,
           "subunitcolor": "#C8D4E3"
          },
          "hoverlabel": {
           "align": "left"
          },
          "hovermode": "closest",
          "mapbox": {
           "style": "light"
          },
          "paper_bgcolor": "white",
          "plot_bgcolor": "white",
          "polar": {
           "angularaxis": {
            "gridcolor": "#EBF0F8",
            "linecolor": "#EBF0F8",
            "ticks": ""
           },
           "bgcolor": "white",
           "radialaxis": {
            "gridcolor": "#EBF0F8",
            "linecolor": "#EBF0F8",
            "ticks": ""
           }
          },
          "scene": {
           "xaxis": {
            "backgroundcolor": "white",
            "gridcolor": "#DFE8F3",
            "gridwidth": 2,
            "linecolor": "#EBF0F8",
            "showbackground": true,
            "ticks": "",
            "zerolinecolor": "#EBF0F8"
           },
           "yaxis": {
            "backgroundcolor": "white",
            "gridcolor": "#DFE8F3",
            "gridwidth": 2,
            "linecolor": "#EBF0F8",
            "showbackground": true,
            "ticks": "",
            "zerolinecolor": "#EBF0F8"
           },
           "zaxis": {
            "backgroundcolor": "white",
            "gridcolor": "#DFE8F3",
            "gridwidth": 2,
            "linecolor": "#EBF0F8",
            "showbackground": true,
            "ticks": "",
            "zerolinecolor": "#EBF0F8"
           }
          },
          "shapedefaults": {
           "line": {
            "color": "#2a3f5f"
           }
          },
          "ternary": {
           "aaxis": {
            "gridcolor": "#DFE8F3",
            "linecolor": "#A2B1C6",
            "ticks": ""
           },
           "baxis": {
            "gridcolor": "#DFE8F3",
            "linecolor": "#A2B1C6",
            "ticks": ""
           },
           "bgcolor": "white",
           "caxis": {
            "gridcolor": "#DFE8F3",
            "linecolor": "#A2B1C6",
            "ticks": ""
           }
          },
          "title": {
           "x": 0.05
          },
          "xaxis": {
           "automargin": true,
           "gridcolor": "#EBF0F8",
           "linecolor": "#EBF0F8",
           "ticks": "",
           "title": {
            "standoff": 15
           },
           "zerolinecolor": "#EBF0F8",
           "zerolinewidth": 2
          },
          "yaxis": {
           "automargin": true,
           "gridcolor": "#EBF0F8",
           "linecolor": "#EBF0F8",
           "ticks": "",
           "title": {
            "standoff": 15
           },
           "zerolinecolor": "#EBF0F8",
           "zerolinewidth": 2
          }
         }
        },
        "title": {
         "text": "2) Average Drug Prices in Each City"
        },
        "xaxis": {
         "anchor": "y",
         "domain": [
          0,
          1
         ],
         "title": {
          "text": "Drug"
         }
        },
        "yaxis": {
         "anchor": "x",
         "domain": [
          0,
          1
         ],
         "title": {
          "text": "Avg Price (USD)"
         }
        }
       }
      },
      "image/png": "[encoded data removed]",
      "text/html": [
       "<div>                            <div id=\"b8f75898-afe2-49e0-a415-1b226c398398\" class=\"plotly-graph-div\" style=\"height:525px; width:100%;\"></div>            <script type=\"text/javascript\">                require([\"plotly\"], function(Plotly) {                    window.PLOTLYENV=window.PLOTLYENV || {};                                    if (document.getElementById(\"b8f75898-afe2-49e0-a415-1b226c398398\")) {                    Plotly.newPlot(                        \"b8f75898-afe2-49e0-a415-1b226c398398\",                        [{\"alignmentgroup\":\"True\",\"hovertemplate\":\"city=Chicago\\u003cbr\\u003eDrug=%{x}\\u003cbr\\u003eAvg Price (USD)=%{y}\\u003cextra\\u003e\\u003c\\u002fextra\\u003e\",\"legendgroup\":\"Chicago\",\"marker\":{\"color\":\"#636efa\",\"pattern\":{\"shape\":\"\"}},\"name\":\"Chicago\",\"offsetgroup\":\"Chicago\",\"orientation\":\"v\",\"showlegend\":true,\"textposition\":\"auto\",\"x\":[\"Amlodipine\",\"Atorvastatin\",\"Lisinopril\",\"Metformin\",\"Omeprazole\",\"Simvastatin\"],\"xaxis\":\"x\",\"y\":[10.99923076923077,12.513333333333334,7.909230769230769,11.013846153846155,12.67,22.03833333333333],\"yaxis\":\"y\",\"type\":\"bar\"},{\"alignmentgroup\":\"True\",\"hovertemplate\":\"city=Los Angeles\\u003cbr\\u003eDrug=%{x}\\u003cbr\\u003eAvg Price (USD)=%{y}\\u003cextra\\u003e\\u003c\\u002fextra\\u003e\",\"legendgroup\":\"Los Angeles\",\"marker\":{\"color\":\"#EF553B\",\"pattern\":{\"shape\":\"\"}},\"name\":\"Los Angeles\",\"offsetgroup\":\"Los Angeles\",\"orientation\":\"v\",\"showlegend\":true,\"textposition\":\"auto\",\"x\":[\"Amlodipine\",\"Atorvastatin\",\"Hydrochlorothiazide\",\"Lisinopril\",\"Losartan\",\"Metformin\",\"Omeprazole\",\"Simvastatin\"],\"xaxis\":\"x\",\"y\":[10.214285714285714,12.143846153846154,7.406153846153846,8.57,10.692857142857141,10.247857142857143,12.24923076923077,20.662307692307692],\"yaxis\":\"y\",\"type\":\"bar\"},{\"alignmentgroup\":\"True\",\"hovertemplate\":\"city=New York\\u003cbr\\u003eDrug=%{x}\\u003cbr\\u003eAvg Price (USD)=%{y}\\u003cextra\\u003e\\u003c\\u002fextra\\u003e\",\"legendgroup\":\"New York\",\"marker\":{\"color\":\"#00cc96\",\"pattern\":{\"shape\":\"\"}},\"name\":\"New York\",\"offsetgroup\":\"New York\",\"orientation\":\"v\",\"showlegend\":true,\"textposition\":\"auto\",\"x\":[\"Amlodipine\",\"Atorvastatin\",\"Hydrochlorothiazide\",\"Lisinopril\",\"Losartan\",\"Metformin\",\"Omeprazole\",\"Simvastatin\"],\"xaxis\":\"x\",\"y\":[10.14125,11.702666666666667,6.430666666666666,6.736153846153846,10.871875,9.298125,12.475333333333333,21.342666666666666],\"yaxis\":\"y\",\"type\":\"bar\"}],                        {\"template\":{\"data\":{\"barpolar\":[{\"marker\":{\"line\":{\"color\":\"white\",\"width\":0.5},\"pattern\":{\"fillmode\":\"overlay\",\"size\":10,\"solidity\":0.2}},\"type\":\"barpolar\"}],\"bar\":[{\"error_x\":{\"color\":\"#2a3f5f\"},\"error_y\":{\"color\":\"#2a3f5f\"},\"marker\":{\"line\":{\"color\":\"white\",\"width\":0.5},\"pattern\":{\"fillmode\":\"overlay\",\"size\":10,\"solidity\":0.2}},\"type\":\"bar\"}],\"carpet\":[{\"aaxis\":{\"endlinecolor\":\"#2a3f5f\",\"gridcolor\":\"#C8D4E3\",\"linecolor\":\"#C8D4E3\",\"minorgridcolor\":\"#C8D4E3\",\"startlinecolor\":\"#2a3f5f\"},\"baxis\":{\"endlinecolor\":\"#2a3f5f\",\"gridcolor\":\"#C8D4E3\",\"linecolor\":\"#C8D4E3\",\"minorgridcolor\":\"#C8D4E3\",\"startlinecolor\":\"#2a3f5f\"},\"type\":\"carpet\"}],\"choropleth\":[{\"colorbar\":{\"outlinewidth\":0,\"ticks\":\"\"},\"type\":\"choropleth\"}],\"contourcarpet\":[{\"colorbar\":{\"outlinewidth\":0,\"ticks\":\"\"},\"type\":\"contourcarpet\"}],\"contour\":[{\"colorbar\":{\"outlinewidth\":0,\"ticks\":\"\"},\"colorscale\":[[0.0,\"#0d0887\"],[0.1111111111111111,\"#46039f\"],[0.2222222222222222,\"#7201a8\"],[0.3333333333333333,\"#9c179e\"],[0.4444444444444444,\"#bd3786\"],[0.5555555555555556,\"#d8576b\"],[0.6666666666666666,\"#ed7953\"],[0.7777777777777778,\"#fb9f3a\"],[0.8888888888888888,\"#fdca26\"],[1.0,\"#f0f921\"]],\"type\":\"contour\"}],\"heatmapgl\":[{\"colorbar\":{\"outlinewidth\":0,\"ticks\":\"\"},\"colorscale\":[[0.0,\"#0d0887\"],[0.1111111111111111,\"#46039f\"],[0.2222222222222222,\"#7201a8\"],[0.3333333333333333,\"#9c179e\"],[0.4444444444444444,\"#bd3786\"],[0.5555555555555556,\"#d8576b\"],[0.6666666666666666,\"#ed7953\"],[0.7777777777777778,\"#fb9f3a\"],[0.8888888888888888,\"#fdca26\"],[1.0,\"#f0f921\"]],\"type\":\"heatmapgl\"}],\"heatmap\":[{\"colorbar\":{\"outlinewidth\":0,\"ticks\":\"\"},\"colorscale\":[[0.0,\"#0d0887\"],[0.1111111111111111,\"#46039f\"],[0.2222222222222222,\"#7201a8\"],[0.3333333333333333,\"#9c179e\"],[0.4444444444444444,\"#bd3786\"],[0.5555555555555556,\"#d8576b\"],[0.6666666666666666,\"#ed7953\"],[0.7777777777777778,\"#fb9f3a\"],[0.8888888888888888,\"#fdca26\"],[1.0,\"#f0f921\"]],\"type\":\"heatmap\"}],\"histogram2dcontour\":[{\"colorbar\":{\"outlinewidth\":0,\"ticks\":\"\"},\"colorscale\":[[0.0,\"#0d0887\"],[0.1111111111111111,\"#46039f\"],[0.2222222222222222,\"#7201a8\"],[0.3333333333333333,\"#9c179e\"],[0.4444444444444444,\"#bd3786\"],[0.5555555555555556,\"#d8576b\"],[0.6666666666666666,\"#ed7953\"],[0.7777777777777778,\"#fb9f3a\"],[0.8888888888888888,\"#fdca26\"],[1.0,\"#f0f921\"]],\"type\":\"histogram2dcontour\"}],\"histogram2d\":[{\"colorbar\":{\"outlinewidth\":0,\"ticks\":\"\"},\"colorscale\":[[0.0,\"#0d0887\"],[0.1111111111111111,\"#46039f\"],[0.2222222222222222,\"#7201a8\"],[0.3333333333333333,\"#9c179e\"],[0.4444444444444444,\"#bd3786\"],[0.5555555555555556,\"#d8576b\"],[0.6666666666666666,\"#ed7953\"],[0.7777777777777778,\"#fb9f3a\"],[0.8888888888888888,\"#fdca26\"],[1.0,\"#f0f921\"]],\"type\":\"histogram2d\"}],\"histogram\":[{\"marker\":{\"pattern\":{\"fillmode\":\"overlay\",\"size\":10,\"solidity\":0.2}},\"type\":\"histogram\"}],\"mesh3d\":[{\"colorbar\":{\"outlinewidth\":0,\"ticks\":\"\"},\"type\":\"mesh3d\"}],\"parcoords\":[{\"line\":{\"colorbar\":{\"outlinewidth\":0,\"ticks\":\"\"}},\"type\":\"parcoords\"}],\"pie\":[{\"automargin\":true,\"type\":\"pie\"}],\"scatter3d\":[{\"line\":{\"colorbar\":{\"outlinewidth\":0,\"ticks\":\"\"}},\"marker\":{\"colorbar\":{\"outlinewidth\":0,\"ticks\":\"\"}},\"type\":\"scatter3d\"}],\"scattercarpet\":[{\"marker\":{\"colorbar\":{\"outlinewidth\":0,\"ticks\":\"\"}},\"type\":\"scattercarpet\"}],\"scattergeo\":[{\"marker\":{\"colorbar\":{\"outlinewidth\":0,\"ticks\":\"\"}},\"type\":\"scattergeo\"}],\"scattergl\":[{\"marker\":{\"colorbar\":{\"outlinewidth\":0,\"ticks\":\"\"}},\"type\":\"scattergl\"}],\"scattermapbox\":[{\"marker\":{\"colorbar\":{\"outlinewidth\":0,\"ticks\":\"\"}},\"type\":\"scattermapbox\"}],\"scatterpolargl\":[{\"marker\":{\"colorbar\":{\"outlinewidth\":0,\"ticks\":\"\"}},\"type\":\"scatterpolargl\"}],\"scatterpolar\":[{\"marker\":{\"colorbar\":{\"outlinewidth\":0,\"ticks\":\"\"}},\"type\":\"scatterpolar\"}],\"scatter\":[{\"fillpattern\":{\"fillmode\":\"overlay\",\"size\":10,\"solidity\":0.2},\"type\":\"scatter\"}],\"scatterternary\":[{\"marker\":{\"colorbar\":{\"outlinewidth\":0,\"ticks\":\"\"}},\"type\":\"scatterternary\"}],\"surface\":[{\"colorbar\":{\"outlinewidth\":0,\"ticks\":\"\"},\"colorscale\":[[0.0,\"#0d0887\"],[0.1111111111111111,\"#46039f\"],[0.2222222222222222,\"#7201a8\"],[0.3333333333333333,\"#9c179e\"],[0.4444444444444444,\"#bd3786\"],[0.5555555555555556,\"#d8576b\"],[0.6666666666666666,\"#ed7953\"],[0.7777777777777778,\"#fb9f3a\"],[0.8888888888888888,\"#fdca26\"],[1.0,\"#f0f921\"]],\"type\":\"surface\"}],\"table\":[{\"cells\":{\"fill\":{\"color\":\"#EBF0F8\"},\"line\":{\"color\":\"white\"}},\"header\":{\"fill\":{\"color\":\"#C8D4E3\"},\"line\":{\"color\":\"white\"}},\"type\":\"table\"}]},\"layout\":{\"annotationdefaults\":{\"arrowcolor\":\"#2a3f5f\",\"arrowhead\":0,\"arrowwidth\":1},\"autotypenumbers\":\"strict\",\"coloraxis\":{\"colorbar\":{\"outlinewidth\":0,\"ticks\":\"\"}},\"colorscale\":{\"diverging\":[[0,\"#8e0152\"],[0.1,\"#c51b7d\"],[0.2,\"#de77ae\"],[0.3,\"#f1b6da\"],[0.4,\"#fde0ef\"],[0.5,\"#f7f7f7\"],[0.6,\"#e6f5d0\"],[0.7,\"#b8e186\"],[0.8,\"#7fbc41\"],[0.9,\"#4d9221\"],[1,\"#276419\"]],\"sequential\":[[0.0,\"#0d0887\"],[0.1111111111111111,\"#46039f\"],[0.2222222222222222,\"#7201a8\"],[0.3333333333333333,\"#9c179e\"],[0.4444444444444444,\"#bd3786\"],[0.5555555555555556,\"#d8576b\"],[0.6666666666666666,\"#ed7953\"],[0.7777777777777778,\"#fb9f3a\"],[0.8888888888888888,\"#fdca26\"],[1.0,\"#f0f921\"]],\"sequentialminus\":[[0.0,\"#0d0887\"],[0.1111111111111111,\"#46039f\"],[0.2222222222222222,\"#7201a8\"],[0.3333333333333333,\"#9c179e\"],[0.4444444444444444,\"#bd3786\"],[0.5555555555555556,\"#d8576b\"],[0.6666666666666666,\"#ed7953\"],[0.7777777777777778,\"#fb9f3a\"],[0.8888888888888888,\"#fdca26\"],[1.0,\"#f0f921\"]]},\"colorway\":[\"#636efa\",\"#EF553B\",\"#00cc96\",\"#ab63fa\",\"#FFA15A\",\"#19d3f3\",\"#FF6692\",\"#B6E880\",\"#FF97FF\",\"#FECB52\"],\"font\":{\"color\":\"#2a3f5f\"},\"geo\":{\"bgcolor\":\"white\",\"lakecolor\":\"white\",\"landcolor\":\"white\",\"showlakes\":true,\"showland\":true,\"subunitcolor\":\"#C8D4E3\"},\"hoverlabel\":{\"align\":\"left\"},\"hovermode\":\"closest\",\"mapbox\":{\"style\":\"light\"},\"paper_bgcolor\":\"white\",\"plot_bgcolor\":\"white\",\"polar\":{\"angularaxis\":{\"gridcolor\":\"#EBF0F8\",\"linecolor\":\"#EBF0F8\",\"ticks\":\"\"},\"bgcolor\":\"white\",\"radialaxis\":{\"gridcolor\":\"#EBF0F8\",\"linecolor\":\"#EBF0F8\",\"ticks\":\"\"}},\"scene\":{\"xaxis\":{\"backgroundcolor\":\"white\",\"gridcolor\":\"#DFE8F3\",\"gridwidth\":2,\"linecolor\":\"#EBF0F8\",\"showbackground\":true,\"ticks\":\"\",\"zerolinecolor\":\"#EBF0F8\"},\"yaxis\":{\"backgroundcolor\":\"white\",\"gridcolor\":\"#DFE8F3\",\"gridwidth\":2,\"linecolor\":\"#EBF0F8\",\"showbackground\":true,\"ticks\":\"\",\"zerolinecolor\":\"#EBF0F8\"},\"zaxis\":{\"backgroundcolor\":\"white\",\"gridcolor\":\"#DFE8F3\",\"gridwidth\":2,\"linecolor\":\"#EBF0F8\",\"showbackground\":true,\"ticks\":\"\",\"zerolinecolor\":\"#EBF0F8\"}},\"shapedefaults\":{\"line\":{\"color\":\"#2a3f5f\"}},\"ternary\":{\"aaxis\":{\"gridcolor\":\"#DFE8F3\",\"linecolor\":\"#A2B1C6\",\"ticks\":\"\"},\"baxis\":{\"gridcolor\":\"#DFE8F3\",\"linecolor\":\"#A2B1C6\",\"ticks\":\"\"},\"bgcolor\":\"white\",\"caxis\":{\"gridcolor\":\"#DFE8F3\",\"linecolor\":\"#A2B1C6\",\"ticks\":\"\"}},\"title\":{\"x\":0.05},\"xaxis\":{\"automargin\":true,\"gridcolor\":\"#EBF0F8\",\"linecolor\":\"#EBF0F8\",\"ticks\":\"\",\"title\":{\"standoff\":15},\"zerolinecolor\":\"#EBF0F8\",\"zerolinewidth\":2},\"yaxis\":{\"automargin\":true,\"gridcolor\":\"#EBF0F8\",\"linecolor\":\"#EBF0F8\",\"ticks\":\"\",\"title\":{\"standoff\":15},\"zerolinecolor\":\"#EBF0F8\",\"zerolinewidth\":2}}},\"xaxis\":{\"anchor\":\"y\",\"domain\":[0.0,1.0],\"title\":{\"text\":\"Drug\"}},\"yaxis\":{\"anchor\":\"x\",\"domain\":[0.0,1.0],\"title\":{\"text\":\"Avg Price (USD)\"}},\"legend\":{\"title\":{\"text\":\"city\"},\"tracegroupgap\":0},\"title\":{\"text\":\"2) Average Drug Prices in Each City\"},\"barmode\":\"group\"},                        {\"responsive\": true}                    ).then(function(){\n",
       "                            \n",
       "var gd = document.getElementById('b8f75898-afe2-49e0-a415-1b226c398398');\n",
       "var x = new MutationObserver(function (mutations, observer) {{\n",
       "        var display = window.getComputedStyle(gd).display;\n",
       "        if (!display || display === 'none') {{\n",
       "            console.log([gd, 'removed!']);\n",
       "            Plotly.purge(gd);\n",
       "            observer.disconnect();\n",
       "        }}\n",
       "}});\n",
       "\n",
       "// Listen for the removal of the full notebook cells\n",
       "var notebookContainer = gd.closest('#notebook-container');\n",
       "if (notebookContainer) {{\n",
       "    x.observe(notebookContainer, {childList: true});\n",
       "}}\n",
       "\n",
       "// Listen for the clearing of the current output cell\n",
       "var outputEl = gd.closest('.output');\n",
       "if (outputEl) {{\n",
       "    x.observe(outputEl, {childList: true});\n",
       "}}\n",
       "\n",
       "                        })                };                });            </script>        </div>"
      ]
     },
     "metadata": {},
     "output_type": "display_data"
    },
    {
     "data": {
      "application/vnd.plotly.v1+json": {
       "config": {
        "plotlyServerURL": "https://plot.ly"
       },
       "data": [
        {
         "domain": {
          "x": [
           0,
           1
          ],
          "y": [
           0,
           1
          ]
         },
         "hole": 0.4,
         "hovertemplate": "special_offer=%{label}<br>count=%{value}<extra></extra>",
         "labels": [
          "special offers",
          "no special offer"
         ],
         "legendgroup": "",
         "name": "",
         "showlegend": true,
         "textinfo": "percent+label",
         "textposition": "inside",
         "type": "pie",
         "values": [
          202,
          89
         ]
        }
       ],
       "layout": {
        "legend": {
         "tracegroupgap": 0
        },
        "piecolorway": [
         "#440154",
         "#482878",
         "#3e4989",
         "#31688e",
         "#26828e",
         "#1f9e89",
         "#35b779",
         "#6ece58",
         "#b5de2b",
         "#fde725"
        ],
        "template": {
         "data": {
          "bar": [
           {
            "error_x": {
             "color": "#2a3f5f"
            },
            "error_y": {
             "color": "#2a3f5f"
            },
            "marker": {
             "line": {
              "color": "white",
              "width": 0.5
             },
             "pattern": {
              "fillmode": "overlay",
              "size": 10,
              "solidity": 0.2
             }
            },
            "type": "bar"
           }
          ],
          "barpolar": [
           {
            "marker": {
             "line": {
              "color": "white",
              "width": 0.5
             },
             "pattern": {
              "fillmode": "overlay",
              "size": 10,
              "solidity": 0.2
             }
            },
            "type": "barpolar"
           }
          ],
          "carpet": [
           {
            "aaxis": {
             "endlinecolor": "#2a3f5f",
             "gridcolor": "#C8D4E3",
             "linecolor": "#C8D4E3",
             "minorgridcolor": "#C8D4E3",
             "startlinecolor": "#2a3f5f"
            },
            "baxis": {
             "endlinecolor": "#2a3f5f",
             "gridcolor": "#C8D4E3",
             "linecolor": "#C8D4E3",
             "minorgridcolor": "#C8D4E3",
             "startlinecolor": "#2a3f5f"
            },
            "type": "carpet"
           }
          ],
          "choropleth": [
           {
            "colorbar": {
             "outlinewidth": 0,
             "ticks": ""
            },
            "type": "choropleth"
           }
          ],
          "contour": [
           {
            "colorbar": {
             "outlinewidth": 0,
             "ticks": ""
            },
            "colorscale": [
             [
              0,
              "#0d0887"
             ],
             [
              0.1111111111111111,
              "#46039f"
             ],
             [
              0.2222222222222222,
              "#7201a8"
             ],
             [
              0.3333333333333333,
              "#9c179e"
             ],
             [
              0.4444444444444444,
              "#bd3786"
             ],
             [
              0.5555555555555556,
              "#d8576b"
             ],
             [
              0.6666666666666666,
              "#ed7953"
             ],
             [
              0.7777777777777778,
              "#fb9f3a"
             ],
             [
              0.8888888888888888,
              "#fdca26"
             ],
             [
              1,
              "#f0f921"
             ]
            ],
            "type": "contour"
           }
          ],
          "contourcarpet": [
           {
            "colorbar": {
             "outlinewidth": 0,
             "ticks": ""
            },
            "type": "contourcarpet"
           }
          ],
          "heatmap": [
           {
            "colorbar": {
             "outlinewidth": 0,
             "ticks": ""
            },
            "colorscale": [
             [
              0,
              "#0d0887"
             ],
             [
              0.1111111111111111,
              "#46039f"
             ],
             [
              0.2222222222222222,
              "#7201a8"
             ],
             [
              0.3333333333333333,
              "#9c179e"
             ],
             [
              0.4444444444444444,
              "#bd3786"
             ],
             [
              0.5555555555555556,
              "#d8576b"
             ],
             [
              0.6666666666666666,
              "#ed7953"
             ],
             [
              0.7777777777777778,
              "#fb9f3a"
             ],
             [
              0.8888888888888888,
              "#fdca26"
             ],
             [
              1,
              "#f0f921"
             ]
            ],
            "type": "heatmap"
           }
          ],
          "heatmapgl": [
           {
            "colorbar": {
             "outlinewidth": 0,
             "ticks": ""
            },
            "colorscale": [
             [
              0,
              "#0d0887"
             ],
             [
              0.1111111111111111,
              "#46039f"
             ],
             [
              0.2222222222222222,
              "#7201a8"
             ],
             [
              0.3333333333333333,
              "#9c179e"
             ],
             [
              0.4444444444444444,
              "#bd3786"
             ],
             [
              0.5555555555555556,
              "#d8576b"
             ],
             [
              0.6666666666666666,
              "#ed7953"
             ],
             [
              0.7777777777777778,
              "#fb9f3a"
             ],
             [
              0.8888888888888888,
              "#fdca26"
             ],
             [
              1,
              "#f0f921"
             ]
            ],
            "type": "heatmapgl"
           }
          ],
          "histogram": [
           {
            "marker": {
             "pattern": {
              "fillmode": "overlay",
              "size": 10,
              "solidity": 0.2
             }
            },
            "type": "histogram"
           }
          ],
          "histogram2d": [
           {
            "colorbar": {
             "outlinewidth": 0,
             "ticks": ""
            },
            "colorscale": [
             [
              0,
              "#0d0887"
             ],
             [
              0.1111111111111111,
              "#46039f"
             ],
             [
              0.2222222222222222,
              "#7201a8"
             ],
             [
              0.3333333333333333,
              "#9c179e"
             ],
             [
              0.4444444444444444,
              "#bd3786"
             ],
             [
              0.5555555555555556,
              "#d8576b"
             ],
             [
              0.6666666666666666,
              "#ed7953"
             ],
             [
              0.7777777777777778,
              "#fb9f3a"
             ],
             [
              0.8888888888888888,
              "#fdca26"
             ],
             [
              1,
              "#f0f921"
             ]
            ],
            "type": "histogram2d"
           }
          ],
          "histogram2dcontour": [
           {
            "colorbar": {
             "outlinewidth": 0,
             "ticks": ""
            },
            "colorscale": [
             [
              0,
              "#0d0887"
             ],
             [
              0.1111111111111111,
              "#46039f"
             ],
             [
              0.2222222222222222,
              "#7201a8"
             ],
             [
              0.3333333333333333,
              "#9c179e"
             ],
             [
              0.4444444444444444,
              "#bd3786"
             ],
             [
              0.5555555555555556,
              "#d8576b"
             ],
             [
              0.6666666666666666,
              "#ed7953"
             ],
             [
              0.7777777777777778,
              "#fb9f3a"
             ],
             [
              0.8888888888888888,
              "#fdca26"
             ],
             [
              1,
              "#f0f921"
             ]
            ],
            "type": "histogram2dcontour"
           }
          ],
          "mesh3d": [
           {
            "colorbar": {
             "outlinewidth": 0,
             "ticks": ""
            },
            "type": "mesh3d"
           }
          ],
          "parcoords": [
           {
            "line": {
             "colorbar": {
              "outlinewidth": 0,
              "ticks": ""
             }
            },
            "type": "parcoords"
           }
          ],
          "pie": [
           {
            "automargin": true,
            "type": "pie"
           }
          ],
          "scatter": [
           {
            "fillpattern": {
             "fillmode": "overlay",
             "size": 10,
             "solidity": 0.2
            },
            "type": "scatter"
           }
          ],
          "scatter3d": [
           {
            "line": {
             "colorbar": {
              "outlinewidth": 0,
              "ticks": ""
             }
            },
            "marker": {
             "colorbar": {
              "outlinewidth": 0,
              "ticks": ""
             }
            },
            "type": "scatter3d"
           }
          ],
          "scattercarpet": [
           {
            "marker": {
             "colorbar": {
              "outlinewidth": 0,
              "ticks": ""
             }
            },
            "type": "scattercarpet"
           }
          ],
          "scattergeo": [
           {
            "marker": {
             "colorbar": {
              "outlinewidth": 0,
              "ticks": ""
             }
            },
            "type": "scattergeo"
           }
          ],
          "scattergl": [
           {
            "marker": {
             "colorbar": {
              "outlinewidth": 0,
              "ticks": ""
             }
            },
            "type": "scattergl"
           }
          ],
          "scattermapbox": [
           {
            "marker": {
             "colorbar": {
              "outlinewidth": 0,
              "ticks": ""
             }
            },
            "type": "scattermapbox"
           }
          ],
          "scatterpolar": [
           {
            "marker": {
             "colorbar": {
              "outlinewidth": 0,
              "ticks": ""
             }
            },
            "type": "scatterpolar"
           }
          ],
          "scatterpolargl": [
           {
            "marker": {
             "colorbar": {
              "outlinewidth": 0,
              "ticks": ""
             }
            },
            "type": "scatterpolargl"
           }
          ],
          "scatterternary": [
           {
            "marker": {
             "colorbar": {
              "outlinewidth": 0,
              "ticks": ""
             }
            },
            "type": "scatterternary"
           }
          ],
          "surface": [
           {
            "colorbar": {
             "outlinewidth": 0,
             "ticks": ""
            },
            "colorscale": [
             [
              0,
              "#0d0887"
             ],
             [
              0.1111111111111111,
              "#46039f"
             ],
             [
              0.2222222222222222,
              "#7201a8"
             ],
             [
              0.3333333333333333,
              "#9c179e"
             ],
             [
              0.4444444444444444,
              "#bd3786"
             ],
             [
              0.5555555555555556,
              "#d8576b"
             ],
             [
              0.6666666666666666,
              "#ed7953"
             ],
             [
              0.7777777777777778,
              "#fb9f3a"
             ],
             [
              0.8888888888888888,
              "#fdca26"
             ],
             [
              1,
              "#f0f921"
             ]
            ],
            "type": "surface"
           }
          ],
          "table": [
           {
            "cells": {
             "fill": {
              "color": "#EBF0F8"
             },
             "line": {
              "color": "white"
             }
            },
            "header": {
             "fill": {
              "color": "#C8D4E3"
             },
             "line": {
              "color": "white"
             }
            },
            "type": "table"
           }
          ]
         },
         "layout": {
          "annotationdefaults": {
           "arrowcolor": "#2a3f5f",
           "arrowhead": 0,
           "arrowwidth": 1
          },
          "autotypenumbers": "strict",
          "coloraxis": {
           "colorbar": {
            "outlinewidth": 0,
            "ticks": ""
           }
          },
          "colorscale": {
           "diverging": [
            [
             0,
             "#8e0152"
            ],
            [
             0.1,
             "#c51b7d"
            ],
            [
             0.2,
             "#de77ae"
            ],
            [
             0.3,
             "#f1b6da"
            ],
            [
             0.4,
             "#fde0ef"
            ],
            [
             0.5,
             "#f7f7f7"
            ],
            [
             0.6,
             "#e6f5d0"
            ],
            [
             0.7,
             "#b8e186"
            ],
            [
             0.8,
             "#7fbc41"
            ],
            [
             0.9,
             "#4d9221"
            ],
            [
             1,
             "#276419"
            ]
           ],
           "sequential": [
            [
             0,
             "#0d0887"
            ],
            [
             0.1111111111111111,
             "#46039f"
            ],
            [
             0.2222222222222222,
             "#7201a8"
            ],
            [
             0.3333333333333333,
             "#9c179e"
            ],
            [
             0.4444444444444444,
             "#bd3786"
            ],
            [
             0.5555555555555556,
             "#d8576b"
            ],
            [
             0.6666666666666666,
             "#ed7953"
            ],
            [
             0.7777777777777778,
             "#fb9f3a"
            ],
            [
             0.8888888888888888,
             "#fdca26"
            ],
            [
             1,
             "#f0f921"
            ]
           ],
           "sequentialminus": [
            [
             0,
             "#0d0887"
            ],
            [
             0.1111111111111111,
             "#46039f"
            ],
            [
             0.2222222222222222,
             "#7201a8"
            ],
            [
             0.3333333333333333,
             "#9c179e"
            ],
            [
             0.4444444444444444,
             "#bd3786"
            ],
            [
             0.5555555555555556,
             "#d8576b"
            ],
            [
             0.6666666666666666,
             "#ed7953"
            ],
            [
             0.7777777777777778,
             "#fb9f3a"
            ],
            [
             0.8888888888888888,
             "#fdca26"
            ],
            [
             1,
             "#f0f921"
            ]
           ]
          },
          "colorway": [
           "#636efa",
           "#EF553B",
           "#00cc96",
           "#ab63fa",
           "#FFA15A",
           "#19d3f3",
           "#FF6692",
           "#B6E880",
           "#FF97FF",
           "#FECB52"
          ],
          "font": {
           "color": "#2a3f5f"
          },
          "geo": {
           "bgcolor": "white",
           "lakecolor": "white",
           "landcolor": "white",
           "showlakes": true,
           "showland": true,
           "subunitcolor": "#C8D4E3"
          },
          "hoverlabel": {
           "align": "left"
          },
          "hovermode": "closest",
          "mapbox": {
           "style": "light"
          },
          "paper_bgcolor": "white",
          "plot_bgcolor": "white",
          "polar": {
           "angularaxis": {
            "gridcolor": "#EBF0F8",
            "linecolor": "#EBF0F8",
            "ticks": ""
           },
           "bgcolor": "white",
           "radialaxis": {
            "gridcolor": "#EBF0F8",
            "linecolor": "#EBF0F8",
            "ticks": ""
           }
          },
          "scene": {
           "xaxis": {
            "backgroundcolor": "white",
            "gridcolor": "#DFE8F3",
            "gridwidth": 2,
            "linecolor": "#EBF0F8",
            "showbackground": true,
            "ticks": "",
            "zerolinecolor": "#EBF0F8"
           },
           "yaxis": {
            "backgroundcolor": "white",
            "gridcolor": "#DFE8F3",
            "gridwidth": 2,
            "linecolor": "#EBF0F8",
            "showbackground": true,
            "ticks": "",
            "zerolinecolor": "#EBF0F8"
           },
           "zaxis": {
            "backgroundcolor": "white",
            "gridcolor": "#DFE8F3",
            "gridwidth": 2,
            "linecolor": "#EBF0F8",
            "showbackground": true,
            "ticks": "",
            "zerolinecolor": "#EBF0F8"
           }
          },
          "shapedefaults": {
           "line": {
            "color": "#2a3f5f"
           }
          },
          "ternary": {
           "aaxis": {
            "gridcolor": "#DFE8F3",
            "linecolor": "#A2B1C6",
            "ticks": ""
           },
           "baxis": {
            "gridcolor": "#DFE8F3",
            "linecolor": "#A2B1C6",
            "ticks": ""
           },
           "bgcolor": "white",
           "caxis": {
            "gridcolor": "#DFE8F3",
            "linecolor": "#A2B1C6",
            "ticks": ""
           }
          },
          "title": {
           "x": 0.05
          },
          "xaxis": {
           "automargin": true,
           "gridcolor": "#EBF0F8",
           "linecolor": "#EBF0F8",
           "ticks": "",
           "title": {
            "standoff": 15
           },
           "zerolinecolor": "#EBF0F8",
           "zerolinewidth": 2
          },
          "yaxis": {
           "automargin": true,
           "gridcolor": "#EBF0F8",
           "linecolor": "#EBF0F8",
           "ticks": "",
           "title": {
            "standoff": 15
           },
           "zerolinecolor": "#EBF0F8",
           "zerolinewidth": 2
          }
         }
        },
        "title": {
         "text": "3) Special Offer Distribution"
        }
       }
      },
      "image/png": "[encoded data removed]",
      "text/html": [
       "<div>                            <div id=\"9fe9ed15-741d-4794-9801-6b1338033406\" class=\"plotly-graph-div\" style=\"height:525px; width:100%;\"></div>            <script type=\"text/javascript\">                require([\"plotly\"], function(Plotly) {                    window.PLOTLYENV=window.PLOTLYENV || {};                                    if (document.getElementById(\"9fe9ed15-741d-4794-9801-6b1338033406\")) {                    Plotly.newPlot(                        \"9fe9ed15-741d-4794-9801-6b1338033406\",                        [{\"domain\":{\"x\":[0.0,1.0],\"y\":[0.0,1.0]},\"hole\":0.4,\"hovertemplate\":\"special_offer=%{label}\\u003cbr\\u003ecount=%{value}\\u003cextra\\u003e\\u003c\\u002fextra\\u003e\",\"labels\":[\"special offers\",\"no special offer\"],\"legendgroup\":\"\",\"name\":\"\",\"showlegend\":true,\"values\":[202,89],\"type\":\"pie\",\"textinfo\":\"percent+label\",\"textposition\":\"inside\"}],                        {\"template\":{\"data\":{\"barpolar\":[{\"marker\":{\"line\":{\"color\":\"white\",\"width\":0.5},\"pattern\":{\"fillmode\":\"overlay\",\"size\":10,\"solidity\":0.2}},\"type\":\"barpolar\"}],\"bar\":[{\"error_x\":{\"color\":\"#2a3f5f\"},\"error_y\":{\"color\":\"#2a3f5f\"},\"marker\":{\"line\":{\"color\":\"white\",\"width\":0.5},\"pattern\":{\"fillmode\":\"overlay\",\"size\":10,\"solidity\":0.2}},\"type\":\"bar\"}],\"carpet\":[{\"aaxis\":{\"endlinecolor\":\"#2a3f5f\",\"gridcolor\":\"#C8D4E3\",\"linecolor\":\"#C8D4E3\",\"minorgridcolor\":\"#C8D4E3\",\"startlinecolor\":\"#2a3f5f\"},\"baxis\":{\"endlinecolor\":\"#2a3f5f\",\"gridcolor\":\"#C8D4E3\",\"linecolor\":\"#C8D4E3\",\"minorgridcolor\":\"#C8D4E3\",\"startlinecolor\":\"#2a3f5f\"},\"type\":\"carpet\"}],\"choropleth\":[{\"colorbar\":{\"outlinewidth\":0,\"ticks\":\"\"},\"type\":\"choropleth\"}],\"contourcarpet\":[{\"colorbar\":{\"outlinewidth\":0,\"ticks\":\"\"},\"type\":\"contourcarpet\"}],\"contour\":[{\"colorbar\":{\"outlinewidth\":0,\"ticks\":\"\"},\"colorscale\":[[0.0,\"#0d0887\"],[0.1111111111111111,\"#46039f\"],[0.2222222222222222,\"#7201a8\"],[0.3333333333333333,\"#9c179e\"],[0.4444444444444444,\"#bd3786\"],[0.5555555555555556,\"#d8576b\"],[0.6666666666666666,\"#ed7953\"],[0.7777777777777778,\"#fb9f3a\"],[0.8888888888888888,\"#fdca26\"],[1.0,\"#f0f921\"]],\"type\":\"contour\"}],\"heatmapgl\":[{\"colorbar\":{\"outlinewidth\":0,\"ticks\":\"\"},\"colorscale\":[[0.0,\"#0d0887\"],[0.1111111111111111,\"#46039f\"],[0.2222222222222222,\"#7201a8\"],[0.3333333333333333,\"#9c179e\"],[0.4444444444444444,\"#bd3786\"],[0.5555555555555556,\"#d8576b\"],[0.6666666666666666,\"#ed7953\"],[0.7777777777777778,\"#fb9f3a\"],[0.8888888888888888,\"#fdca26\"],[1.0,\"#f0f921\"]],\"type\":\"heatmapgl\"}],\"heatmap\":[{\"colorbar\":{\"outlinewidth\":0,\"ticks\":\"\"},\"colorscale\":[[0.0,\"#0d0887\"],[0.1111111111111111,\"#46039f\"],[0.2222222222222222,\"#7201a8\"],[0.3333333333333333,\"#9c179e\"],[0.4444444444444444,\"#bd3786\"],[0.5555555555555556,\"#d8576b\"],[0.6666666666666666,\"#ed7953\"],[0.7777777777777778,\"#fb9f3a\"],[0.8888888888888888,\"#fdca26\"],[1.0,\"#f0f921\"]],\"type\":\"heatmap\"}],\"histogram2dcontour\":[{\"colorbar\":{\"outlinewidth\":0,\"ticks\":\"\"},\"colorscale\":[[0.0,\"#0d0887\"],[0.1111111111111111,\"#46039f\"],[0.2222222222222222,\"#7201a8\"],[0.3333333333333333,\"#9c179e\"],[0.4444444444444444,\"#bd3786\"],[0.5555555555555556,\"#d8576b\"],[0.6666666666666666,\"#ed7953\"],[0.7777777777777778,\"#fb9f3a\"],[0.8888888888888888,\"#fdca26\"],[1.0,\"#f0f921\"]],\"type\":\"histogram2dcontour\"}],\"histogram2d\":[{\"colorbar\":{\"outlinewidth\":0,\"ticks\":\"\"},\"colorscale\":[[0.0,\"#0d0887\"],[0.1111111111111111,\"#46039f\"],[0.2222222222222222,\"#7201a8\"],[0.3333333333333333,\"#9c179e\"],[0.4444444444444444,\"#bd3786\"],[0.5555555555555556,\"#d8576b\"],[0.6666666666666666,\"#ed7953\"],[0.7777777777777778,\"#fb9f3a\"],[0.8888888888888888,\"#fdca26\"],[1.0,\"#f0f921\"]],\"type\":\"histogram2d\"}],\"histogram\":[{\"marker\":{\"pattern\":{\"fillmode\":\"overlay\",\"size\":10,\"solidity\":0.2}},\"type\":\"histogram\"}],\"mesh3d\":[{\"colorbar\":{\"outlinewidth\":0,\"ticks\":\"\"},\"type\":\"mesh3d\"}],\"parcoords\":[{\"line\":{\"colorbar\":{\"outlinewidth\":0,\"ticks\":\"\"}},\"type\":\"parcoords\"}],\"pie\":[{\"automargin\":true,\"type\":\"pie\"}],\"scatter3d\":[{\"line\":{\"colorbar\":{\"outlinewidth\":0,\"ticks\":\"\"}},\"marker\":{\"colorbar\":{\"outlinewidth\":0,\"ticks\":\"\"}},\"type\":\"scatter3d\"}],\"scattercarpet\":[{\"marker\":{\"colorbar\":{\"outlinewidth\":0,\"ticks\":\"\"}},\"type\":\"scattercarpet\"}],\"scattergeo\":[{\"marker\":{\"colorbar\":{\"outlinewidth\":0,\"ticks\":\"\"}},\"type\":\"scattergeo\"}],\"scattergl\":[{\"marker\":{\"colorbar\":{\"outlinewidth\":0,\"ticks\":\"\"}},\"type\":\"scattergl\"}],\"scattermapbox\":[{\"marker\":{\"colorbar\":{\"outlinewidth\":0,\"ticks\":\"\"}},\"type\":\"scattermapbox\"}],\"scatterpolargl\":[{\"marker\":{\"colorbar\":{\"outlinewidth\":0,\"ticks\":\"\"}},\"type\":\"scatterpolargl\"}],\"scatterpolar\":[{\"marker\":{\"colorbar\":{\"outlinewidth\":0,\"ticks\":\"\"}},\"type\":\"scatterpolar\"}],\"scatter\":[{\"fillpattern\":{\"fillmode\":\"overlay\",\"size\":10,\"solidity\":0.2},\"type\":\"scatter\"}],\"scatterternary\":[{\"marker\":{\"colorbar\":{\"outlinewidth\":0,\"ticks\":\"\"}},\"type\":\"scatterternary\"}],\"surface\":[{\"colorbar\":{\"outlinewidth\":0,\"ticks\":\"\"},\"colorscale\":[[0.0,\"#0d0887\"],[0.1111111111111111,\"#46039f\"],[0.2222222222222222,\"#7201a8\"],[0.3333333333333333,\"#9c179e\"],[0.4444444444444444,\"#bd3786\"],[0.5555555555555556,\"#d8576b\"],[0.6666666666666666,\"#ed7953\"],[0.7777777777777778,\"#fb9f3a\"],[0.8888888888888888,\"#fdca26\"],[1.0,\"#f0f921\"]],\"type\":\"surface\"}],\"table\":[{\"cells\":{\"fill\":{\"color\":\"#EBF0F8\"},\"line\":{\"color\":\"white\"}},\"header\":{\"fill\":{\"color\":\"#C8D4E3\"},\"line\":{\"color\":\"white\"}},\"type\":\"table\"}]},\"layout\":{\"annotationdefaults\":{\"arrowcolor\":\"#2a3f5f\",\"arrowhead\":0,\"arrowwidth\":1},\"autotypenumbers\":\"strict\",\"coloraxis\":{\"colorbar\":{\"outlinewidth\":0,\"ticks\":\"\"}},\"colorscale\":{\"diverging\":[[0,\"#8e0152\"],[0.1,\"#c51b7d\"],[0.2,\"#de77ae\"],[0.3,\"#f1b6da\"],[0.4,\"#fde0ef\"],[0.5,\"#f7f7f7\"],[0.6,\"#e6f5d0\"],[0.7,\"#b8e186\"],[0.8,\"#7fbc41\"],[0.9,\"#4d9221\"],[1,\"#276419\"]],\"sequential\":[[0.0,\"#0d0887\"],[0.1111111111111111,\"#46039f\"],[0.2222222222222222,\"#7201a8\"],[0.3333333333333333,\"#9c179e\"],[0.4444444444444444,\"#bd3786\"],[0.5555555555555556,\"#d8576b\"],[0.6666666666666666,\"#ed7953\"],[0.7777777777777778,\"#fb9f3a\"],[0.8888888888888888,\"#fdca26\"],[1.0,\"#f0f921\"]],\"sequentialminus\":[[0.0,\"#0d0887\"],[0.1111111111111111,\"#46039f\"],[0.2222222222222222,\"#7201a8\"],[0.3333333333333333,\"#9c179e\"],[0.4444444444444444,\"#bd3786\"],[0.5555555555555556,\"#d8576b\"],[0.6666666666666666,\"#ed7953\"],[0.7777777777777778,\"#fb9f3a\"],[0.8888888888888888,\"#fdca26\"],[1.0,\"#f0f921\"]]},\"colorway\":[\"#636efa\",\"#EF553B\",\"#00cc96\",\"#ab63fa\",\"#FFA15A\",\"#19d3f3\",\"#FF6692\",\"#B6E880\",\"#FF97FF\",\"#FECB52\"],\"font\":{\"color\":\"#2a3f5f\"},\"geo\":{\"bgcolor\":\"white\",\"lakecolor\":\"white\",\"landcolor\":\"white\",\"showlakes\":true,\"showland\":true,\"subunitcolor\":\"#C8D4E3\"},\"hoverlabel\":{\"align\":\"left\"},\"hovermode\":\"closest\",\"mapbox\":{\"style\":\"light\"},\"paper_bgcolor\":\"white\",\"plot_bgcolor\":\"white\",\"polar\":{\"angularaxis\":{\"gridcolor\":\"#EBF0F8\",\"linecolor\":\"#EBF0F8\",\"ticks\":\"\"},\"bgcolor\":\"white\",\"radialaxis\":{\"gridcolor\":\"#EBF0F8\",\"linecolor\":\"#EBF0F8\",\"ticks\":\"\"}},\"scene\":{\"xaxis\":{\"backgroundcolor\":\"white\",\"gridcolor\":\"#DFE8F3\",\"gridwidth\":2,\"linecolor\":\"#EBF0F8\",\"showbackground\":true,\"ticks\":\"\",\"zerolinecolor\":\"#EBF0F8\"},\"yaxis\":{\"backgroundcolor\":\"white\",\"gridcolor\":\"#DFE8F3\",\"gridwidth\":2,\"linecolor\":\"#EBF0F8\",\"showbackground\":true,\"ticks\":\"\",\"zerolinecolor\":\"#EBF0F8\"},\"zaxis\":{\"backgroundcolor\":\"white\",\"gridcolor\":\"#DFE8F3\",\"gridwidth\":2,\"linecolor\":\"#EBF0F8\",\"showbackground\":true,\"ticks\":\"\",\"zerolinecolor\":\"#EBF0F8\"}},\"shapedefaults\":{\"line\":{\"color\":\"#2a3f5f\"}},\"ternary\":{\"aaxis\":{\"gridcolor\":\"#DFE8F3\",\"linecolor\":\"#A2B1C6\",\"ticks\":\"\"},\"baxis\":{\"gridcolor\":\"#DFE8F3\",\"linecolor\":\"#A2B1C6\",\"ticks\":\"\"},\"bgcolor\":\"white\",\"caxis\":{\"gridcolor\":\"#DFE8F3\",\"linecolor\":\"#A2B1C6\",\"ticks\":\"\"}},\"title\":{\"x\":0.05},\"xaxis\":{\"automargin\":true,\"gridcolor\":\"#EBF0F8\",\"linecolor\":\"#EBF0F8\",\"ticks\":\"\",\"title\":{\"standoff\":15},\"zerolinecolor\":\"#EBF0F8\",\"zerolinewidth\":2},\"yaxis\":{\"automargin\":true,\"gridcolor\":\"#EBF0F8\",\"linecolor\":\"#EBF0F8\",\"ticks\":\"\",\"title\":{\"standoff\":15},\"zerolinecolor\":\"#EBF0F8\",\"zerolinewidth\":2}}},\"legend\":{\"tracegroupgap\":0},\"title\":{\"text\":\"3) Special Offer Distribution\"},\"piecolorway\":[\"#440154\",\"#482878\",\"#3e4989\",\"#31688e\",\"#26828e\",\"#1f9e89\",\"#35b779\",\"#6ece58\",\"#b5de2b\",\"#fde725\"]},                        {\"responsive\": true}                    ).then(function(){\n",
       "                            \n",
       "var gd = document.getElementById('9fe9ed15-741d-4794-9801-6b1338033406');\n",
       "var x = new MutationObserver(function (mutations, observer) {{\n",
       "        var display = window.getComputedStyle(gd).display;\n",
       "        if (!display || display === 'none') {{\n",
       "            console.log([gd, 'removed!']);\n",
       "            Plotly.purge(gd);\n",
       "            observer.disconnect();\n",
       "        }}\n",
       "}});\n",
       "\n",
       "// Listen for the removal of the full notebook cells\n",
       "var notebookContainer = gd.closest('#notebook-container');\n",
       "if (notebookContainer) {{\n",
       "    x.observe(notebookContainer, {childList: true});\n",
       "}}\n",
       "\n",
       "// Listen for the clearing of the current output cell\n",
       "var outputEl = gd.closest('.output');\n",
       "if (outputEl) {{\n",
       "    x.observe(outputEl, {childList: true});\n",
       "}}\n",
       "\n",
       "                        })                };                });            </script>        </div>"
      ]
     },
     "metadata": {},
     "output_type": "display_data"
    },
    {
     "data": {
      "application/vnd.plotly.v1+json": {
       "config": {
        "plotlyServerURL": "https://plot.ly"
       },
       "data": [
        {
         "alignmentgroup": "True",
         "box": {
          "visible": true
         },
         "hovertemplate": "drug=Atorvastatin<br>Pharmacy Type=%{x}<br>Price (USD)=%{y}<extra></extra>",
         "legendgroup": "Atorvastatin",
         "marker": {
          "color": "#636efa"
         },
         "name": "Atorvastatin",
         "offsetgroup": "Atorvastatin",
         "orientation": "v",
         "points": "all",
         "scalegroup": "True",
         "showlegend": true,
         "type": "violin",
         "x": [
          "In-Store",
          "In-Store",
          "In-Store",
          "In-Store",
          "In-Store",
          "In-Store",
          "In-Store",
          "Online",
          "In-Store",
          "In-Store",
          "Online",
          "In-Store",
          "In-Store",
          "In-Store",
          "In-Store",
          "In-Store",
          "In-Store",
          "Online",
          "In-Store",
          "Online",
          "In-Store",
          "In-Store",
          "In-Store",
          "In-Store",
          "Online",
          "In-Store",
          "In-Store",
          "In-Store",
          "In-Store",
          "In-Store",
          "In-Store",
          "In-Store",
          "In-Store",
          "In-Store",
          "In-Store",
          "In-Store",
          "In-Store",
          "In-Store",
          "In-Store",
          "In-Store"
         ],
         "x0": " ",
         "xaxis": "x",
         "y": [
          19.67,
          11.72,
          10.34,
          7.74,
          11.72,
          19.67,
          16.66,
          7.53,
          17.93,
          6.89,
          7.53,
          11.72,
          7.74,
          6.79,
          11.89,
          19.67,
          11.72,
          7.53,
          7.74,
          7.53,
          16.66,
          19.67,
          7.74,
          10.54,
          7.53,
          11.72,
          17.93,
          11.89,
          11.72,
          7.53,
          19.67,
          10.25,
          7.74,
          19.67,
          16.66,
          10.54,
          11.72,
          7.74,
          8.99,
          17.93
         ],
         "y0": " ",
         "yaxis": "y"
        },
        {
         "alignmentgroup": "True",
         "box": {
          "visible": true
         },
         "hovertemplate": "drug=Lisinopril<br>Pharmacy Type=%{x}<br>Price (USD)=%{y}<extra></extra>",
         "legendgroup": "Lisinopril",
         "marker": {
          "color": "#EF553B"
         },
         "name": "Lisinopril",
         "offsetgroup": "Lisinopril",
         "orientation": "v",
         "points": "all",
         "scalegroup": "True",
         "showlegend": true,
         "type": "violin",
         "x": [
          "In-Store",
          "In-Store",
          "In-Store",
          "In-Store",
          "Online",
          "In-Store",
          "In-Store",
          "In-Store",
          "In-Store",
          "Online",
          "In-Store",
          "In-Store",
          "In-Store",
          "In-Store",
          "In-Store",
          "In-Store",
          "In-Store",
          "In-Store",
          "In-Store",
          "In-Store",
          "In-Store",
          "In-Store",
          "In-Store",
          "In-Store",
          "In-Store",
          "In-Store",
          "In-Store"
         ],
         "x0": " ",
         "xaxis": "x",
         "y": [
          8.57,
          4.83,
          5.85,
          8.57,
          2,
          4.83,
          17.34,
          8.66,
          3.25,
          2,
          7.84,
          9,
          4.83,
          8.57,
          4.83,
          2,
          8.57,
          8.47,
          8.57,
          8.66,
          9,
          7.79,
          7.84,
          5.92,
          9,
          4.83,
          17.34
         ],
         "y0": " ",
         "yaxis": "y"
        },
        {
         "alignmentgroup": "True",
         "box": {
          "visible": true
         },
         "hovertemplate": "drug=Metformin<br>Pharmacy Type=%{x}<br>Price (USD)=%{y}<extra></extra>",
         "legendgroup": "Metformin",
         "marker": {
          "color": "#00cc96"
         },
         "name": "Metformin",
         "offsetgroup": "Metformin",
         "orientation": "v",
         "points": "all",
         "scalegroup": "True",
         "showlegend": true,
         "type": "violin",
         "x": [
          "In-Store",
          "In-Store",
          "In-Store",
          "In-Store",
          "In-Store",
          "In-Store",
          "Online",
          "In-Store",
          "In-Store",
          "In-Store",
          "In-Store",
          "Online",
          "In-Store",
          "In-Store",
          "In-Store",
          "In-Store",
          "In-Store",
          "In-Store",
          "Online",
          "Online",
          "In-Store",
          "Online",
          "In-Store",
          "In-Store",
          "In-Store",
          "In-Store",
          "In-Store",
          "In-Store",
          "In-Store",
          "In-Store",
          "In-Store",
          "In-Store",
          "In-Store",
          "In-Store",
          "In-Store",
          "In-Store",
          "In-Store",
          "In-Store",
          "In-Store",
          "In-Store",
          "In-Store",
          "In-Store",
          "In-Store"
         ],
         "x0": " ",
         "xaxis": "x",
         "y": [
          19.64,
          4.86,
          4.86,
          19.64,
          7.97,
          20.43,
          2,
          13.99,
          2.82,
          9,
          4.86,
          2,
          9.82,
          9,
          6.52,
          11.36,
          19.64,
          4.86,
          2,
          2,
          19.64,
          2,
          13.99,
          14.87,
          9,
          9,
          9.82,
          4.86,
          11.36,
          20.43,
          4.86,
          2,
          19.64,
          8.18,
          19.64,
          13.99,
          9,
          14.87,
          9.82,
          6.89,
          9,
          4.86,
          20.43
         ],
         "y0": " ",
         "yaxis": "y"
        },
        {
         "alignmentgroup": "True",
         "box": {
          "visible": true
         },
         "hovertemplate": "drug=Amlodipine<br>Pharmacy Type=%{x}<br>Price (USD)=%{y}<extra></extra>",
         "legendgroup": "Amlodipine",
         "marker": {
          "color": "#ab63fa"
         },
         "name": "Amlodipine",
         "offsetgroup": "Amlodipine",
         "orientation": "v",
         "points": "all",
         "scalegroup": "True",
         "showlegend": true,
         "type": "violin",
         "x": [
          "In-Store",
          "In-Store",
          "In-Store",
          "In-Store",
          "In-Store",
          "In-Store",
          "In-Store",
          "Online",
          "In-Store",
          "In-Store",
          "Online",
          "In-Store",
          "In-Store",
          "In-Store",
          "In-Store",
          "In-Store",
          "In-Store",
          "In-Store",
          "Online",
          "Online",
          "In-Store",
          "In-Store",
          "Online",
          "In-Store",
          "In-Store",
          "In-Store",
          "In-Store",
          "In-Store",
          "In-Store",
          "In-Store",
          "In-Store",
          "In-Store",
          "In-Store",
          "In-Store",
          "In-Store",
          "In-Store",
          "In-Store",
          "In-Store",
          "In-Store",
          "In-Store",
          "In-Store",
          "In-Store",
          "In-Store"
         ],
         "x0": " ",
         "xaxis": "x",
         "y": [
          19.22,
          10.13,
          10.44,
          10.13,
          12.99,
          19.22,
          18.86,
          2.88,
          3.05,
          9,
          2.88,
          7.26,
          10.13,
          6.05,
          9,
          11.02,
          19.22,
          10.13,
          2.88,
          2.88,
          12.99,
          19.22,
          2.88,
          7.53,
          9,
          10.13,
          7.26,
          9,
          11.02,
          18.86,
          10.13,
          2.88,
          8.7,
          19.22,
          12.99,
          19.22,
          9,
          7.53,
          7.26,
          8.07,
          9,
          10.13,
          18.86
         ],
         "y0": " ",
         "yaxis": "y"
        },
        {
         "alignmentgroup": "True",
         "box": {
          "visible": true
         },
         "hovertemplate": "drug=Omeprazole<br>Pharmacy Type=%{x}<br>Price (USD)=%{y}<extra></extra>",
         "legendgroup": "Omeprazole",
         "marker": {
          "color": "#FFA15A"
         },
         "name": "Omeprazole",
         "offsetgroup": "Omeprazole",
         "orientation": "v",
         "points": "all",
         "scalegroup": "True",
         "showlegend": true,
         "type": "violin",
         "x": [
          "In-Store",
          "In-Store",
          "In-Store",
          "In-Store",
          "In-Store",
          "In-Store",
          "In-Store",
          "In-Store",
          "In-Store",
          "In-Store",
          "In-Store",
          "In-Store",
          "In-Store",
          "In-Store",
          "In-Store",
          "In-Store",
          "In-Store",
          "In-Store",
          "In-Store",
          "In-Store",
          "In-Store",
          "In-Store",
          "In-Store",
          "In-Store",
          "In-Store",
          "In-Store",
          "In-Store",
          "In-Store",
          "In-Store",
          "In-Store",
          "In-Store",
          "In-Store",
          "In-Store",
          "In-Store",
          "In-Store",
          "In-Store",
          "In-Store",
          "In-Store",
          "In-Store",
          "In-Store"
         ],
         "x0": " ",
         "xaxis": "x",
         "y": [
          20.03,
          18.37,
          10.75,
          18.37,
          23.09,
          13.66,
          20.03,
          7,
          2,
          5.82,
          7,
          18.37,
          8.55,
          2,
          12.09,
          20.03,
          7,
          18.37,
          13.66,
          7,
          20.03,
          7,
          8.6,
          2,
          18.37,
          2,
          12.09,
          23.09,
          18.37,
          7,
          10.07,
          20.03,
          13.66,
          20.03,
          2,
          8.6,
          18.37,
          8.82,
          2,
          23.09
         ],
         "y0": " ",
         "yaxis": "y"
        },
        {
         "alignmentgroup": "True",
         "box": {
          "visible": true
         },
         "hovertemplate": "drug=Simvastatin<br>Pharmacy Type=%{x}<br>Price (USD)=%{y}<extra></extra>",
         "legendgroup": "Simvastatin",
         "marker": {
          "color": "#19d3f3"
         },
         "name": "Simvastatin",
         "offsetgroup": "Simvastatin",
         "orientation": "v",
         "points": "all",
         "scalegroup": "True",
         "showlegend": true,
         "type": "violin",
         "x": [
          "In-Store",
          "In-Store",
          "In-Store",
          "In-Store",
          "In-Store",
          "In-Store",
          "In-Store",
          "Online",
          "In-Store",
          "In-Store",
          "Online",
          "In-Store",
          "In-Store",
          "In-Store",
          "In-Store",
          "In-Store",
          "Online",
          "In-Store",
          "Online",
          "In-Store",
          "Online",
          "In-Store",
          "In-Store",
          "In-Store",
          "In-Store",
          "In-Store",
          "In-Store",
          "In-Store",
          "In-Store",
          "In-Store",
          "In-Store",
          "In-Store",
          "In-Store",
          "In-Store",
          "In-Store",
          "In-Store",
          "In-Store",
          "In-Store",
          "In-Store",
          "In-Store"
         ],
         "x0": " ",
         "xaxis": "x",
         "y": [
          28.04,
          33.6,
          13.7,
          28.04,
          33.6,
          21.99,
          27.09,
          3.05,
          24,
          13.38,
          3.05,
          33.6,
          24,
          19.3,
          13.7,
          28.04,
          3.05,
          28.04,
          3.05,
          33.6,
          3.05,
          19.8,
          21.99,
          24,
          24,
          19.3,
          33.6,
          27.09,
          3.05,
          33.6,
          11.3,
          28.04,
          28.04,
          19.8,
          24,
          21.99,
          9.95,
          24,
          33.6,
          27.09
         ],
         "y0": " ",
         "yaxis": "y"
        },
        {
         "alignmentgroup": "True",
         "box": {
          "visible": true
         },
         "hovertemplate": "drug=Losartan<br>Pharmacy Type=%{x}<br>Price (USD)=%{y}<extra></extra>",
         "legendgroup": "Losartan",
         "marker": {
          "color": "#FF6692"
         },
         "name": "Losartan",
         "offsetgroup": "Losartan",
         "orientation": "v",
         "points": "all",
         "scalegroup": "True",
         "showlegend": true,
         "type": "violin",
         "x": [
          "In-Store",
          "In-Store",
          "In-Store",
          "In-Store",
          "Online",
          "In-Store",
          "In-Store",
          "In-Store",
          "In-Store",
          "Online",
          "In-Store",
          "In-Store",
          "In-Store",
          "In-Store",
          "In-Store",
          "In-Store",
          "In-Store",
          "Online",
          "Online",
          "In-Store",
          "Online",
          "In-Store",
          "In-Store",
          "In-Store",
          "In-Store",
          "In-Store",
          "In-Store",
          "In-Store",
          "In-Store",
          "In-Store"
         ],
         "x0": " ",
         "xaxis": "x",
         "y": [
          19.43,
          11.21,
          9.84,
          11.21,
          2,
          19.43,
          5.63,
          21.99,
          16.47,
          2,
          7.1,
          9,
          11.21,
          9,
          6.87,
          11.56,
          19.43,
          2,
          2,
          11.21,
          2,
          19.43,
          7.3,
          21.99,
          7.1,
          9,
          9,
          11.21,
          11.56,
          16.47
         ],
         "y0": " ",
         "yaxis": "y"
        },
        {
         "alignmentgroup": "True",
         "box": {
          "visible": true
         },
         "hovertemplate": "drug=Hydrochlorothiazide<br>Pharmacy Type=%{x}<br>Price (USD)=%{y}<extra></extra>",
         "legendgroup": "Hydrochlorothiazide",
         "marker": {
          "color": "#B6E880"
         },
         "name": "Hydrochlorothiazide",
         "offsetgroup": "Hydrochlorothiazide",
         "orientation": "v",
         "points": "all",
         "scalegroup": "True",
         "showlegend": true,
         "type": "violin",
         "x": [
          "In-Store",
          "In-Store",
          "In-Store",
          "In-Store",
          "In-Store",
          "In-Store",
          "Online",
          "In-Store",
          "In-Store",
          "In-Store",
          "Online",
          "In-Store",
          "In-Store",
          "In-Store",
          "In-Store",
          "In-Store",
          "In-Store",
          "In-Store",
          "Online",
          "Online",
          "In-Store",
          "In-Store",
          "Online",
          "In-Store",
          "In-Store",
          "In-Store",
          "In-Store",
          "In-Store"
         ],
         "x0": " ",
         "xaxis": "x",
         "y": [
          19.22,
          2,
          2.88,
          7.5,
          19.22,
          2,
          2,
          16.95,
          0.81,
          4,
          2,
          2,
          9,
          4,
          2.88,
          19.22,
          7.5,
          2,
          2,
          2,
          19.22,
          6.39,
          2,
          4,
          2,
          4,
          16.95,
          9
         ],
         "y0": " ",
         "yaxis": "y"
        }
       ],
       "layout": {
        "legend": {
         "title": {
          "text": "drug"
         },
         "tracegroupgap": 0
        },
        "template": {
         "data": {
          "bar": [
           {
            "error_x": {
             "color": "#2a3f5f"
            },
            "error_y": {
             "color": "#2a3f5f"
            },
            "marker": {
             "line": {
              "color": "white",
              "width": 0.5
             },
             "pattern": {
              "fillmode": "overlay",
              "size": 10,
              "solidity": 0.2
             }
            },
            "type": "bar"
           }
          ],
          "barpolar": [
           {
            "marker": {
             "line": {
              "color": "white",
              "width": 0.5
             },
             "pattern": {
              "fillmode": "overlay",
              "size": 10,
              "solidity": 0.2
             }
            },
            "type": "barpolar"
           }
          ],
          "carpet": [
           {
            "aaxis": {
             "endlinecolor": "#2a3f5f",
             "gridcolor": "#C8D4E3",
             "linecolor": "#C8D4E3",
             "minorgridcolor": "#C8D4E3",
             "startlinecolor": "#2a3f5f"
            },
            "baxis": {
             "endlinecolor": "#2a3f5f",
             "gridcolor": "#C8D4E3",
             "linecolor": "#C8D4E3",
             "minorgridcolor": "#C8D4E3",
             "startlinecolor": "#2a3f5f"
            },
            "type": "carpet"
           }
          ],
          "choropleth": [
           {
            "colorbar": {
             "outlinewidth": 0,
             "ticks": ""
            },
            "type": "choropleth"
           }
          ],
          "contour": [
           {
            "colorbar": {
             "outlinewidth": 0,
             "ticks": ""
            },
            "colorscale": [
             [
              0,
              "#0d0887"
             ],
             [
              0.1111111111111111,
              "#46039f"
             ],
             [
              0.2222222222222222,
              "#7201a8"
             ],
             [
              0.3333333333333333,
              "#9c179e"
             ],
             [
              0.4444444444444444,
              "#bd3786"
             ],
             [
              0.5555555555555556,
              "#d8576b"
             ],
             [
              0.6666666666666666,
              "#ed7953"
             ],
             [
              0.7777777777777778,
              "#fb9f3a"
             ],
             [
              0.8888888888888888,
              "#fdca26"
             ],
             [
              1,
              "#f0f921"
             ]
            ],
            "type": "contour"
           }
          ],
          "contourcarpet": [
           {
            "colorbar": {
             "outlinewidth": 0,
             "ticks": ""
            },
            "type": "contourcarpet"
           }
          ],
          "heatmap": [
           {
            "colorbar": {
             "outlinewidth": 0,
             "ticks": ""
            },
            "colorscale": [
             [
              0,
              "#0d0887"
             ],
             [
              0.1111111111111111,
              "#46039f"
             ],
             [
              0.2222222222222222,
              "#7201a8"
             ],
             [
              0.3333333333333333,
              "#9c179e"
             ],
             [
              0.4444444444444444,
              "#bd3786"
             ],
             [
              0.5555555555555556,
              "#d8576b"
             ],
             [
              0.6666666666666666,
              "#ed7953"
             ],
             [
              0.7777777777777778,
              "#fb9f3a"
             ],
             [
              0.8888888888888888,
              "#fdca26"
             ],
             [
              1,
              "#f0f921"
             ]
            ],
            "type": "heatmap"
           }
          ],
          "heatmapgl": [
           {
            "colorbar": {
             "outlinewidth": 0,
             "ticks": ""
            },
            "colorscale": [
             [
              0,
              "#0d0887"
             ],
             [
              0.1111111111111111,
              "#46039f"
             ],
             [
              0.2222222222222222,
              "#7201a8"
             ],
             [
              0.3333333333333333,
              "#9c179e"
             ],
             [
              0.4444444444444444,
              "#bd3786"
             ],
             [
              0.5555555555555556,
              "#d8576b"
             ],
             [
              0.6666666666666666,
              "#ed7953"
             ],
             [
              0.7777777777777778,
              "#fb9f3a"
             ],
             [
              0.8888888888888888,
              "#fdca26"
             ],
             [
              1,
              "#f0f921"
             ]
            ],
            "type": "heatmapgl"
           }
          ],
          "histogram": [
           {
            "marker": {
             "pattern": {
              "fillmode": "overlay",
              "size": 10,
              "solidity": 0.2
             }
            },
            "type": "histogram"
           }
          ],
          "histogram2d": [
           {
            "colorbar": {
             "outlinewidth": 0,
             "ticks": ""
            },
            "colorscale": [
             [
              0,
              "#0d0887"
             ],
             [
              0.1111111111111111,
              "#46039f"
             ],
             [
              0.2222222222222222,
              "#7201a8"
             ],
             [
              0.3333333333333333,
              "#9c179e"
             ],
             [
              0.4444444444444444,
              "#bd3786"
             ],
             [
              0.5555555555555556,
              "#d8576b"
             ],
             [
              0.6666666666666666,
              "#ed7953"
             ],
             [
              0.7777777777777778,
              "#fb9f3a"
             ],
             [
              0.8888888888888888,
              "#fdca26"
             ],
             [
              1,
              "#f0f921"
             ]
            ],
            "type": "histogram2d"
           }
          ],
          "histogram2dcontour": [
           {
            "colorbar": {
             "outlinewidth": 0,
             "ticks": ""
            },
            "colorscale": [
             [
              0,
              "#0d0887"
             ],
             [
              0.1111111111111111,
              "#46039f"
             ],
             [
              0.2222222222222222,
              "#7201a8"
             ],
             [
              0.3333333333333333,
              "#9c179e"
             ],
             [
              0.4444444444444444,
              "#bd3786"
             ],
             [
              0.5555555555555556,
              "#d8576b"
             ],
             [
              0.6666666666666666,
              "#ed7953"
             ],
             [
              0.7777777777777778,
              "#fb9f3a"
             ],
             [
              0.8888888888888888,
              "#fdca26"
             ],
             [
              1,
              "#f0f921"
             ]
            ],
            "type": "histogram2dcontour"
           }
          ],
          "mesh3d": [
           {
            "colorbar": {
             "outlinewidth": 0,
             "ticks": ""
            },
            "type": "mesh3d"
           }
          ],
          "parcoords": [
           {
            "line": {
             "colorbar": {
              "outlinewidth": 0,
              "ticks": ""
             }
            },
            "type": "parcoords"
           }
          ],
          "pie": [
           {
            "automargin": true,
            "type": "pie"
           }
          ],
          "scatter": [
           {
            "fillpattern": {
             "fillmode": "overlay",
             "size": 10,
             "solidity": 0.2
            },
            "type": "scatter"
           }
          ],
          "scatter3d": [
           {
            "line": {
             "colorbar": {
              "outlinewidth": 0,
              "ticks": ""
             }
            },
            "marker": {
             "colorbar": {
              "outlinewidth": 0,
              "ticks": ""
             }
            },
            "type": "scatter3d"
           }
          ],
          "scattercarpet": [
           {
            "marker": {
             "colorbar": {
              "outlinewidth": 0,
              "ticks": ""
             }
            },
            "type": "scattercarpet"
           }
          ],
          "scattergeo": [
           {
            "marker": {
             "colorbar": {
              "outlinewidth": 0,
              "ticks": ""
             }
            },
            "type": "scattergeo"
           }
          ],
          "scattergl": [
           {
            "marker": {
             "colorbar": {
              "outlinewidth": 0,
              "ticks": ""
             }
            },
            "type": "scattergl"
           }
          ],
          "scattermapbox": [
           {
            "marker": {
             "colorbar": {
              "outlinewidth": 0,
              "ticks": ""
             }
            },
            "type": "scattermapbox"
           }
          ],
          "scatterpolar": [
           {
            "marker": {
             "colorbar": {
              "outlinewidth": 0,
              "ticks": ""
             }
            },
            "type": "scatterpolar"
           }
          ],
          "scatterpolargl": [
           {
            "marker": {
             "colorbar": {
              "outlinewidth": 0,
              "ticks": ""
             }
            },
            "type": "scatterpolargl"
           }
          ],
          "scatterternary": [
           {
            "marker": {
             "colorbar": {
              "outlinewidth": 0,
              "ticks": ""
             }
            },
            "type": "scatterternary"
           }
          ],
          "surface": [
           {
            "colorbar": {
             "outlinewidth": 0,
             "ticks": ""
            },
            "colorscale": [
             [
              0,
              "#0d0887"
             ],
             [
              0.1111111111111111,
              "#46039f"
             ],
             [
              0.2222222222222222,
              "#7201a8"
             ],
             [
              0.3333333333333333,
              "#9c179e"
             ],
             [
              0.4444444444444444,
              "#bd3786"
             ],
             [
              0.5555555555555556,
              "#d8576b"
             ],
             [
              0.6666666666666666,
              "#ed7953"
             ],
             [
              0.7777777777777778,
              "#fb9f3a"
             ],
             [
              0.8888888888888888,
              "#fdca26"
             ],
             [
              1,
              "#f0f921"
             ]
            ],
            "type": "surface"
           }
          ],
          "table": [
           {
            "cells": {
             "fill": {
              "color": "#EBF0F8"
             },
             "line": {
              "color": "white"
             }
            },
            "header": {
             "fill": {
              "color": "#C8D4E3"
             },
             "line": {
              "color": "white"
             }
            },
            "type": "table"
           }
          ]
         },
         "layout": {
          "annotationdefaults": {
           "arrowcolor": "#2a3f5f",
           "arrowhead": 0,
           "arrowwidth": 1
          },
          "autotypenumbers": "strict",
          "coloraxis": {
           "colorbar": {
            "outlinewidth": 0,
            "ticks": ""
           }
          },
          "colorscale": {
           "diverging": [
            [
             0,
             "#8e0152"
            ],
            [
             0.1,
             "#c51b7d"
            ],
            [
             0.2,
             "#de77ae"
            ],
            [
             0.3,
             "#f1b6da"
            ],
            [
             0.4,
             "#fde0ef"
            ],
            [
             0.5,
             "#f7f7f7"
            ],
            [
             0.6,
             "#e6f5d0"
            ],
            [
             0.7,
             "#b8e186"
            ],
            [
             0.8,
             "#7fbc41"
            ],
            [
             0.9,
             "#4d9221"
            ],
            [
             1,
             "#276419"
            ]
           ],
           "sequential": [
            [
             0,
             "#0d0887"
            ],
            [
             0.1111111111111111,
             "#46039f"
            ],
            [
             0.2222222222222222,
             "#7201a8"
            ],
            [
             0.3333333333333333,
             "#9c179e"
            ],
            [
             0.4444444444444444,
             "#bd3786"
            ],
            [
             0.5555555555555556,
             "#d8576b"
            ],
            [
             0.6666666666666666,
             "#ed7953"
            ],
            [
             0.7777777777777778,
             "#fb9f3a"
            ],
            [
             0.8888888888888888,
             "#fdca26"
            ],
            [
             1,
             "#f0f921"
            ]
           ],
           "sequentialminus": [
            [
             0,
             "#0d0887"
            ],
            [
             0.1111111111111111,
             "#46039f"
            ],
            [
             0.2222222222222222,
             "#7201a8"
            ],
            [
             0.3333333333333333,
             "#9c179e"
            ],
            [
             0.4444444444444444,
             "#bd3786"
            ],
            [
             0.5555555555555556,
             "#d8576b"
            ],
            [
             0.6666666666666666,
             "#ed7953"
            ],
            [
             0.7777777777777778,
             "#fb9f3a"
            ],
            [
             0.8888888888888888,
             "#fdca26"
            ],
            [
             1,
             "#f0f921"
            ]
           ]
          },
          "colorway": [
           "#636efa",
           "#EF553B",
           "#00cc96",
           "#ab63fa",
           "#FFA15A",
           "#19d3f3",
           "#FF6692",
           "#B6E880",
           "#FF97FF",
           "#FECB52"
          ],
          "font": {
           "color": "#2a3f5f"
          },
          "geo": {
           "bgcolor": "white",
           "lakecolor": "white",
           "landcolor": "white",
           "showlakes": true,
           "showland": true,
           "subunitcolor": "#C8D4E3"
          },
          "hoverlabel": {
           "align": "left"
          },
          "hovermode": "closest",
          "mapbox": {
           "style": "light"
          },
          "paper_bgcolor": "white",
          "plot_bgcolor": "white",
          "polar": {
           "angularaxis": {
            "gridcolor": "#EBF0F8",
            "linecolor": "#EBF0F8",
            "ticks": ""
           },
           "bgcolor": "white",
           "radialaxis": {
            "gridcolor": "#EBF0F8",
            "linecolor": "#EBF0F8",
            "ticks": ""
           }
          },
          "scene": {
           "xaxis": {
            "backgroundcolor": "white",
            "gridcolor": "#DFE8F3",
            "gridwidth": 2,
            "linecolor": "#EBF0F8",
            "showbackground": true,
            "ticks": "",
            "zerolinecolor": "#EBF0F8"
           },
           "yaxis": {
            "backgroundcolor": "white",
            "gridcolor": "#DFE8F3",
            "gridwidth": 2,
            "linecolor": "#EBF0F8",
            "showbackground": true,
            "ticks": "",
            "zerolinecolor": "#EBF0F8"
           },
           "zaxis": {
            "backgroundcolor": "white",
            "gridcolor": "#DFE8F3",
            "gridwidth": 2,
            "linecolor": "#EBF0F8",
            "showbackground": true,
            "ticks": "",
            "zerolinecolor": "#EBF0F8"
           }
          },
          "shapedefaults": {
           "line": {
            "color": "#2a3f5f"
           }
          },
          "ternary": {
           "aaxis": {
            "gridcolor": "#DFE8F3",
            "linecolor": "#A2B1C6",
            "ticks": ""
           },
           "baxis": {
            "gridcolor": "#DFE8F3",
            "linecolor": "#A2B1C6",
            "ticks": ""
           },
           "bgcolor": "white",
           "caxis": {
            "gridcolor": "#DFE8F3",
            "linecolor": "#A2B1C6",
            "ticks": ""
           }
          },
          "title": {
           "x": 0.05
          },
          "xaxis": {
           "automargin": true,
           "gridcolor": "#EBF0F8",
           "linecolor": "#EBF0F8",
           "ticks": "",
           "title": {
            "standoff": 15
           },
           "zerolinecolor": "#EBF0F8",
           "zerolinewidth": 2
          },
          "yaxis": {
           "automargin": true,
           "gridcolor": "#EBF0F8",
           "linecolor": "#EBF0F8",
           "ticks": "",
           "title": {
            "standoff": 15
           },
           "zerolinecolor": "#EBF0F8",
           "zerolinewidth": 2
          }
         }
        },
        "title": {
         "text": "4) Online vs In-Store Pricing by Drug"
        },
        "violinmode": "group",
        "xaxis": {
         "anchor": "y",
         "domain": [
          0,
          1
         ],
         "title": {
          "text": "Pharmacy Type"
         }
        },
        "yaxis": {
         "anchor": "x",
         "domain": [
          0,
          1
         ],
         "title": {
          "text": "Price (USD)"
         }
        }
       }
      },
      "image/png": "[encoded data removed]",
      "text/html": [
       "<div>                            <div id=\"3a147e8b-7f36-42ef-b6cb-de144dba9ba1\" class=\"plotly-graph-div\" style=\"height:525px; width:100%;\"></div>            <script type=\"text/javascript\">                require([\"plotly\"], function(Plotly) {                    window.PLOTLYENV=window.PLOTLYENV || {};                                    if (document.getElementById(\"3a147e8b-7f36-42ef-b6cb-de144dba9ba1\")) {                    Plotly.newPlot(                        \"3a147e8b-7f36-42ef-b6cb-de144dba9ba1\",                        [{\"alignmentgroup\":\"True\",\"box\":{\"visible\":true},\"hovertemplate\":\"drug=Atorvastatin\\u003cbr\\u003ePharmacy Type=%{x}\\u003cbr\\u003ePrice (USD)=%{y}\\u003cextra\\u003e\\u003c\\u002fextra\\u003e\",\"legendgroup\":\"Atorvastatin\",\"marker\":{\"color\":\"#636efa\"},\"name\":\"Atorvastatin\",\"offsetgroup\":\"Atorvastatin\",\"orientation\":\"v\",\"points\":\"all\",\"scalegroup\":\"True\",\"showlegend\":true,\"x\":[\"In-Store\",\"In-Store\",\"In-Store\",\"In-Store\",\"In-Store\",\"In-Store\",\"In-Store\",\"Online\",\"In-Store\",\"In-Store\",\"Online\",\"In-Store\",\"In-Store\",\"In-Store\",\"In-Store\",\"In-Store\",\"In-Store\",\"Online\",\"In-Store\",\"Online\",\"In-Store\",\"In-Store\",\"In-Store\",\"In-Store\",\"Online\",\"In-Store\",\"In-Store\",\"In-Store\",\"In-Store\",\"In-Store\",\"In-Store\",\"In-Store\",\"In-Store\",\"In-Store\",\"In-Store\",\"In-Store\",\"In-Store\",\"In-Store\",\"In-Store\",\"In-Store\"],\"x0\":\" \",\"xaxis\":\"x\",\"y\":[19.67,11.72,10.34,7.74,11.72,19.67,16.66,7.53,17.93,6.89,7.53,11.72,7.74,6.79,11.89,19.67,11.72,7.53,7.74,7.53,16.66,19.67,7.74,10.54,7.53,11.72,17.93,11.89,11.72,7.53,19.67,10.25,7.74,19.67,16.66,10.54,11.72,7.74,8.99,17.93],\"y0\":\" \",\"yaxis\":\"y\",\"type\":\"violin\"},{\"alignmentgroup\":\"True\",\"box\":{\"visible\":true},\"hovertemplate\":\"drug=Lisinopril\\u003cbr\\u003ePharmacy Type=%{x}\\u003cbr\\u003ePrice (USD)=%{y}\\u003cextra\\u003e\\u003c\\u002fextra\\u003e\",\"legendgroup\":\"Lisinopril\",\"marker\":{\"color\":\"#EF553B\"},\"name\":\"Lisinopril\",\"offsetgroup\":\"Lisinopril\",\"orientation\":\"v\",\"points\":\"all\",\"scalegroup\":\"True\",\"showlegend\":true,\"x\":[\"In-Store\",\"In-Store\",\"In-Store\",\"In-Store\",\"Online\",\"In-Store\",\"In-Store\",\"In-Store\",\"In-Store\",\"Online\",\"In-Store\",\"In-Store\",\"In-Store\",\"In-Store\",\"In-Store\",\"In-Store\",\"In-Store\",\"In-Store\",\"In-Store\",\"In-Store\",\"In-Store\",\"In-Store\",\"In-Store\",\"In-Store\",\"In-Store\",\"In-Store\",\"In-Store\"],\"x0\":\" \",\"xaxis\":\"x\",\"y\":[8.57,4.83,5.85,8.57,2.0,4.83,17.34,8.66,3.25,2.0,7.84,9.0,4.83,8.57,4.83,2.0,8.57,8.47,8.57,8.66,9.0,7.79,7.84,5.92,9.0,4.83,17.34],\"y0\":\" \",\"yaxis\":\"y\",\"type\":\"violin\"},{\"alignmentgroup\":\"True\",\"box\":{\"visible\":true},\"hovertemplate\":\"drug=Metformin\\u003cbr\\u003ePharmacy Type=%{x}\\u003cbr\\u003ePrice (USD)=%{y}\\u003cextra\\u003e\\u003c\\u002fextra\\u003e\",\"legendgroup\":\"Metformin\",\"marker\":{\"color\":\"#00cc96\"},\"name\":\"Metformin\",\"offsetgroup\":\"Metformin\",\"orientation\":\"v\",\"points\":\"all\",\"scalegroup\":\"True\",\"showlegend\":true,\"x\":[\"In-Store\",\"In-Store\",\"In-Store\",\"In-Store\",\"In-Store\",\"In-Store\",\"Online\",\"In-Store\",\"In-Store\",\"In-Store\",\"In-Store\",\"Online\",\"In-Store\",\"In-Store\",\"In-Store\",\"In-Store\",\"In-Store\",\"In-Store\",\"Online\",\"Online\",\"In-Store\",\"Online\",\"In-Store\",\"In-Store\",\"In-Store\",\"In-Store\",\"In-Store\",\"In-Store\",\"In-Store\",\"In-Store\",\"In-Store\",\"In-Store\",\"In-Store\",\"In-Store\",\"In-Store\",\"In-Store\",\"In-Store\",\"In-Store\",\"In-Store\",\"In-Store\",\"In-Store\",\"In-Store\",\"In-Store\"],\"x0\":\" \",\"xaxis\":\"x\",\"y\":[19.64,4.86,4.86,19.64,7.97,20.43,2.0,13.99,2.82,9.0,4.86,2.0,9.82,9.0,6.52,11.36,19.64,4.86,2.0,2.0,19.64,2.0,13.99,14.87,9.0,9.0,9.82,4.86,11.36,20.43,4.86,2.0,19.64,8.18,19.64,13.99,9.0,14.87,9.82,6.89,9.0,4.86,20.43],\"y0\":\" \",\"yaxis\":\"y\",\"type\":\"violin\"},{\"alignmentgroup\":\"True\",\"box\":{\"visible\":true},\"hovertemplate\":\"drug=Amlodipine\\u003cbr\\u003ePharmacy Type=%{x}\\u003cbr\\u003ePrice (USD)=%{y}\\u003cextra\\u003e\\u003c\\u002fextra\\u003e\",\"legendgroup\":\"Amlodipine\",\"marker\":{\"color\":\"#ab63fa\"},\"name\":\"Amlodipine\",\"offsetgroup\":\"Amlodipine\",\"orientation\":\"v\",\"points\":\"all\",\"scalegroup\":\"True\",\"showlegend\":true,\"x\":[\"In-Store\",\"In-Store\",\"In-Store\",\"In-Store\",\"In-Store\",\"In-Store\",\"In-Store\",\"Online\",\"In-Store\",\"In-Store\",\"Online\",\"In-Store\",\"In-Store\",\"In-Store\",\"In-Store\",\"In-Store\",\"In-Store\",\"In-Store\",\"Online\",\"Online\",\"In-Store\",\"In-Store\",\"Online\",\"In-Store\",\"In-Store\",\"In-Store\",\"In-Store\",\"In-Store\",\"In-Store\",\"In-Store\",\"In-Store\",\"In-Store\",\"In-Store\",\"In-Store\",\"In-Store\",\"In-Store\",\"In-Store\",\"In-Store\",\"In-Store\",\"In-Store\",\"In-Store\",\"In-Store\",\"In-Store\"],\"x0\":\" \",\"xaxis\":\"x\",\"y\":[19.22,10.13,10.44,10.13,12.99,19.22,18.86,2.88,3.05,9.0,2.88,7.26,10.13,6.05,9.0,11.02,19.22,10.13,2.88,2.88,12.99,19.22,2.88,7.53,9.0,10.13,7.26,9.0,11.02,18.86,10.13,2.88,8.7,19.22,12.99,19.22,9.0,7.53,7.26,8.07,9.0,10.13,18.86],\"y0\":\" \",\"yaxis\":\"y\",\"type\":\"violin\"},{\"alignmentgroup\":\"True\",\"box\":{\"visible\":true},\"hovertemplate\":\"drug=Omeprazole\\u003cbr\\u003ePharmacy Type=%{x}\\u003cbr\\u003ePrice (USD)=%{y}\\u003cextra\\u003e\\u003c\\u002fextra\\u003e\",\"legendgroup\":\"Omeprazole\",\"marker\":{\"color\":\"#FFA15A\"},\"name\":\"Omeprazole\",\"offsetgroup\":\"Omeprazole\",\"orientation\":\"v\",\"points\":\"all\",\"scalegroup\":\"True\",\"showlegend\":true,\"x\":[\"In-Store\",\"In-Store\",\"In-Store\",\"In-Store\",\"In-Store\",\"In-Store\",\"In-Store\",\"In-Store\",\"In-Store\",\"In-Store\",\"In-Store\",\"In-Store\",\"In-Store\",\"In-Store\",\"In-Store\",\"In-Store\",\"In-Store\",\"In-Store\",\"In-Store\",\"In-Store\",\"In-Store\",\"In-Store\",\"In-Store\",\"In-Store\",\"In-Store\",\"In-Store\",\"In-Store\",\"In-Store\",\"In-Store\",\"In-Store\",\"In-Store\",\"In-Store\",\"In-Store\",\"In-Store\",\"In-Store\",\"In-Store\",\"In-Store\",\"In-Store\",\"In-Store\",\"In-Store\"],\"x0\":\" \",\"xaxis\":\"x\",\"y\":[20.03,18.37,10.75,18.37,23.09,13.66,20.03,7.0,2.0,5.82,7.0,18.37,8.55,2.0,12.09,20.03,7.0,18.37,13.66,7.0,20.03,7.0,8.6,2.0,18.37,2.0,12.09,23.09,18.37,7.0,10.07,20.03,13.66,20.03,2.0,8.6,18.37,8.82,2.0,23.09],\"y0\":\" \",\"yaxis\":\"y\",\"type\":\"violin\"},{\"alignmentgroup\":\"True\",\"box\":{\"visible\":true},\"hovertemplate\":\"drug=Simvastatin\\u003cbr\\u003ePharmacy Type=%{x}\\u003cbr\\u003ePrice (USD)=%{y}\\u003cextra\\u003e\\u003c\\u002fextra\\u003e\",\"legendgroup\":\"Simvastatin\",\"marker\":{\"color\":\"#19d3f3\"},\"name\":\"Simvastatin\",\"offsetgroup\":\"Simvastatin\",\"orientation\":\"v\",\"points\":\"all\",\"scalegroup\":\"True\",\"showlegend\":true,\"x\":[\"In-Store\",\"In-Store\",\"In-Store\",\"In-Store\",\"In-Store\",\"In-Store\",\"In-Store\",\"Online\",\"In-Store\",\"In-Store\",\"Online\",\"In-Store\",\"In-Store\",\"In-Store\",\"In-Store\",\"In-Store\",\"Online\",\"In-Store\",\"Online\",\"In-Store\",\"Online\",\"In-Store\",\"In-Store\",\"In-Store\",\"In-Store\",\"In-Store\",\"In-Store\",\"In-Store\",\"In-Store\",\"In-Store\",\"In-Store\",\"In-Store\",\"In-Store\",\"In-Store\",\"In-Store\",\"In-Store\",\"In-Store\",\"In-Store\",\"In-Store\",\"In-Store\"],\"x0\":\" \",\"xaxis\":\"x\",\"y\":[28.04,33.6,13.7,28.04,33.6,21.99,27.09,3.05,24.0,13.38,3.05,33.6,24.0,19.3,13.7,28.04,3.05,28.04,3.05,33.6,3.05,19.8,21.99,24.0,24.0,19.3,33.6,27.09,3.05,33.6,11.3,28.04,28.04,19.8,24.0,21.99,9.95,24.0,33.6,27.09],\"y0\":\" \",\"yaxis\":\"y\",\"type\":\"violin\"},{\"alignmentgroup\":\"True\",\"box\":{\"visible\":true},\"hovertemplate\":\"drug=Losartan\\u003cbr\\u003ePharmacy Type=%{x}\\u003cbr\\u003ePrice (USD)=%{y}\\u003cextra\\u003e\\u003c\\u002fextra\\u003e\",\"legendgroup\":\"Losartan\",\"marker\":{\"color\":\"#FF6692\"},\"name\":\"Losartan\",\"offsetgroup\":\"Losartan\",\"orientation\":\"v\",\"points\":\"all\",\"scalegroup\":\"True\",\"showlegend\":true,\"x\":[\"In-Store\",\"In-Store\",\"In-Store\",\"In-Store\",\"Online\",\"In-Store\",\"In-Store\",\"In-Store\",\"In-Store\",\"Online\",\"In-Store\",\"In-Store\",\"In-Store\",\"In-Store\",\"In-Store\",\"In-Store\",\"In-Store\",\"Online\",\"Online\",\"In-Store\",\"Online\",\"In-Store\",\"In-Store\",\"In-Store\",\"In-Store\",\"In-Store\",\"In-Store\",\"In-Store\",\"In-Store\",\"In-Store\"],\"x0\":\" \",\"xaxis\":\"x\",\"y\":[19.43,11.21,9.84,11.21,2.0,19.43,5.63,21.99,16.47,2.0,7.1,9.0,11.21,9.0,6.87,11.56,19.43,2.0,2.0,11.21,2.0,19.43,7.3,21.99,7.1,9.0,9.0,11.21,11.56,16.47],\"y0\":\" \",\"yaxis\":\"y\",\"type\":\"violin\"},{\"alignmentgroup\":\"True\",\"box\":{\"visible\":true},\"hovertemplate\":\"drug=Hydrochlorothiazide\\u003cbr\\u003ePharmacy Type=%{x}\\u003cbr\\u003ePrice (USD)=%{y}\\u003cextra\\u003e\\u003c\\u002fextra\\u003e\",\"legendgroup\":\"Hydrochlorothiazide\",\"marker\":{\"color\":\"#B6E880\"},\"name\":\"Hydrochlorothiazide\",\"offsetgroup\":\"Hydrochlorothiazide\",\"orientation\":\"v\",\"points\":\"all\",\"scalegroup\":\"True\",\"showlegend\":true,\"x\":[\"In-Store\",\"In-Store\",\"In-Store\",\"In-Store\",\"In-Store\",\"In-Store\",\"Online\",\"In-Store\",\"In-Store\",\"In-Store\",\"Online\",\"In-Store\",\"In-Store\",\"In-Store\",\"In-Store\",\"In-Store\",\"In-Store\",\"In-Store\",\"Online\",\"Online\",\"In-Store\",\"In-Store\",\"Online\",\"In-Store\",\"In-Store\",\"In-Store\",\"In-Store\",\"In-Store\"],\"x0\":\" \",\"xaxis\":\"x\",\"y\":[19.22,2.0,2.88,7.5,19.22,2.0,2.0,16.95,0.81,4.0,2.0,2.0,9.0,4.0,2.88,19.22,7.5,2.0,2.0,2.0,19.22,6.39,2.0,4.0,2.0,4.0,16.95,9.0],\"y0\":\" \",\"yaxis\":\"y\",\"type\":\"violin\"}],                        {\"template\":{\"data\":{\"barpolar\":[{\"marker\":{\"line\":{\"color\":\"white\",\"width\":0.5},\"pattern\":{\"fillmode\":\"overlay\",\"size\":10,\"solidity\":0.2}},\"type\":\"barpolar\"}],\"bar\":[{\"error_x\":{\"color\":\"#2a3f5f\"},\"error_y\":{\"color\":\"#2a3f5f\"},\"marker\":{\"line\":{\"color\":\"white\",\"width\":0.5},\"pattern\":{\"fillmode\":\"overlay\",\"size\":10,\"solidity\":0.2}},\"type\":\"bar\"}],\"carpet\":[{\"aaxis\":{\"endlinecolor\":\"#2a3f5f\",\"gridcolor\":\"#C8D4E3\",\"linecolor\":\"#C8D4E3\",\"minorgridcolor\":\"#C8D4E3\",\"startlinecolor\":\"#2a3f5f\"},\"baxis\":{\"endlinecolor\":\"#2a3f5f\",\"gridcolor\":\"#C8D4E3\",\"linecolor\":\"#C8D4E3\",\"minorgridcolor\":\"#C8D4E3\",\"startlinecolor\":\"#2a3f5f\"},\"type\":\"carpet\"}],\"choropleth\":[{\"colorbar\":{\"outlinewidth\":0,\"ticks\":\"\"},\"type\":\"choropleth\"}],\"contourcarpet\":[{\"colorbar\":{\"outlinewidth\":0,\"ticks\":\"\"},\"type\":\"contourcarpet\"}],\"contour\":[{\"colorbar\":{\"outlinewidth\":0,\"ticks\":\"\"},\"colorscale\":[[0.0,\"#0d0887\"],[0.1111111111111111,\"#46039f\"],[0.2222222222222222,\"#7201a8\"],[0.3333333333333333,\"#9c179e\"],[0.4444444444444444,\"#bd3786\"],[0.5555555555555556,\"#d8576b\"],[0.6666666666666666,\"#ed7953\"],[0.7777777777777778,\"#fb9f3a\"],[0.8888888888888888,\"#fdca26\"],[1.0,\"#f0f921\"]],\"type\":\"contour\"}],\"heatmapgl\":[{\"colorbar\":{\"outlinewidth\":0,\"ticks\":\"\"},\"colorscale\":[[0.0,\"#0d0887\"],[0.1111111111111111,\"#46039f\"],[0.2222222222222222,\"#7201a8\"],[0.3333333333333333,\"#9c179e\"],[0.4444444444444444,\"#bd3786\"],[0.5555555555555556,\"#d8576b\"],[0.6666666666666666,\"#ed7953\"],[0.7777777777777778,\"#fb9f3a\"],[0.8888888888888888,\"#fdca26\"],[1.0,\"#f0f921\"]],\"type\":\"heatmapgl\"}],\"heatmap\":[{\"colorbar\":{\"outlinewidth\":0,\"ticks\":\"\"},\"colorscale\":[[0.0,\"#0d0887\"],[0.1111111111111111,\"#46039f\"],[0.2222222222222222,\"#7201a8\"],[0.3333333333333333,\"#9c179e\"],[0.4444444444444444,\"#bd3786\"],[0.5555555555555556,\"#d8576b\"],[0.6666666666666666,\"#ed7953\"],[0.7777777777777778,\"#fb9f3a\"],[0.8888888888888888,\"#fdca26\"],[1.0,\"#f0f921\"]],\"type\":\"heatmap\"}],\"histogram2dcontour\":[{\"colorbar\":{\"outlinewidth\":0,\"ticks\":\"\"},\"colorscale\":[[0.0,\"#0d0887\"],[0.1111111111111111,\"#46039f\"],[0.2222222222222222,\"#7201a8\"],[0.3333333333333333,\"#9c179e\"],[0.4444444444444444,\"#bd3786\"],[0.5555555555555556,\"#d8576b\"],[0.6666666666666666,\"#ed7953\"],[0.7777777777777778,\"#fb9f3a\"],[0.8888888888888888,\"#fdca26\"],[1.0,\"#f0f921\"]],\"type\":\"histogram2dcontour\"}],\"histogram2d\":[{\"colorbar\":{\"outlinewidth\":0,\"ticks\":\"\"},\"colorscale\":[[0.0,\"#0d0887\"],[0.1111111111111111,\"#46039f\"],[0.2222222222222222,\"#7201a8\"],[0.3333333333333333,\"#9c179e\"],[0.4444444444444444,\"#bd3786\"],[0.5555555555555556,\"#d8576b\"],[0.6666666666666666,\"#ed7953\"],[0.7777777777777778,\"#fb9f3a\"],[0.8888888888888888,\"#fdca26\"],[1.0,\"#f0f921\"]],\"type\":\"histogram2d\"}],\"histogram\":[{\"marker\":{\"pattern\":{\"fillmode\":\"overlay\",\"size\":10,\"solidity\":0.2}},\"type\":\"histogram\"}],\"mesh3d\":[{\"colorbar\":{\"outlinewidth\":0,\"ticks\":\"\"},\"type\":\"mesh3d\"}],\"parcoords\":[{\"line\":{\"colorbar\":{\"outlinewidth\":0,\"ticks\":\"\"}},\"type\":\"parcoords\"}],\"pie\":[{\"automargin\":true,\"type\":\"pie\"}],\"scatter3d\":[{\"line\":{\"colorbar\":{\"outlinewidth\":0,\"ticks\":\"\"}},\"marker\":{\"colorbar\":{\"outlinewidth\":0,\"ticks\":\"\"}},\"type\":\"scatter3d\"}],\"scattercarpet\":[{\"marker\":{\"colorbar\":{\"outlinewidth\":0,\"ticks\":\"\"}},\"type\":\"scattercarpet\"}],\"scattergeo\":[{\"marker\":{\"colorbar\":{\"outlinewidth\":0,\"ticks\":\"\"}},\"type\":\"scattergeo\"}],\"scattergl\":[{\"marker\":{\"colorbar\":{\"outlinewidth\":0,\"ticks\":\"\"}},\"type\":\"scattergl\"}],\"scattermapbox\":[{\"marker\":{\"colorbar\":{\"outlinewidth\":0,\"ticks\":\"\"}},\"type\":\"scattermapbox\"}],\"scatterpolargl\":[{\"marker\":{\"colorbar\":{\"outlinewidth\":0,\"ticks\":\"\"}},\"type\":\"scatterpolargl\"}],\"scatterpolar\":[{\"marker\":{\"colorbar\":{\"outlinewidth\":0,\"ticks\":\"\"}},\"type\":\"scatterpolar\"}],\"scatter\":[{\"fillpattern\":{\"fillmode\":\"overlay\",\"size\":10,\"solidity\":0.2},\"type\":\"scatter\"}],\"scatterternary\":[{\"marker\":{\"colorbar\":{\"outlinewidth\":0,\"ticks\":\"\"}},\"type\":\"scatterternary\"}],\"surface\":[{\"colorbar\":{\"outlinewidth\":0,\"ticks\":\"\"},\"colorscale\":[[0.0,\"#0d0887\"],[0.1111111111111111,\"#46039f\"],[0.2222222222222222,\"#7201a8\"],[0.3333333333333333,\"#9c179e\"],[0.4444444444444444,\"#bd3786\"],[0.5555555555555556,\"#d8576b\"],[0.6666666666666666,\"#ed7953\"],[0.7777777777777778,\"#fb9f3a\"],[0.8888888888888888,\"#fdca26\"],[1.0,\"#f0f921\"]],\"type\":\"surface\"}],\"table\":[{\"cells\":{\"fill\":{\"color\":\"#EBF0F8\"},\"line\":{\"color\":\"white\"}},\"header\":{\"fill\":{\"color\":\"#C8D4E3\"},\"line\":{\"color\":\"white\"}},\"type\":\"table\"}]},\"layout\":{\"annotationdefaults\":{\"arrowcolor\":\"#2a3f5f\",\"arrowhead\":0,\"arrowwidth\":1},\"autotypenumbers\":\"strict\",\"coloraxis\":{\"colorbar\":{\"outlinewidth\":0,\"ticks\":\"\"}},\"colorscale\":{\"diverging\":[[0,\"#8e0152\"],[0.1,\"#c51b7d\"],[0.2,\"#de77ae\"],[0.3,\"#f1b6da\"],[0.4,\"#fde0ef\"],[0.5,\"#f7f7f7\"],[0.6,\"#e6f5d0\"],[0.7,\"#b8e186\"],[0.8,\"#7fbc41\"],[0.9,\"#4d9221\"],[1,\"#276419\"]],\"sequential\":[[0.0,\"#0d0887\"],[0.1111111111111111,\"#46039f\"],[0.2222222222222222,\"#7201a8\"],[0.3333333333333333,\"#9c179e\"],[0.4444444444444444,\"#bd3786\"],[0.5555555555555556,\"#d8576b\"],[0.6666666666666666,\"#ed7953\"],[0.7777777777777778,\"#fb9f3a\"],[0.8888888888888888,\"#fdca26\"],[1.0,\"#f0f921\"]],\"sequentialminus\":[[0.0,\"#0d0887\"],[0.1111111111111111,\"#46039f\"],[0.2222222222222222,\"#7201a8\"],[0.3333333333333333,\"#9c179e\"],[0.4444444444444444,\"#bd3786\"],[0.5555555555555556,\"#d8576b\"],[0.6666666666666666,\"#ed7953\"],[0.7777777777777778,\"#fb9f3a\"],[0.8888888888888888,\"#fdca26\"],[1.0,\"#f0f921\"]]},\"colorway\":[\"#636efa\",\"#EF553B\",\"#00cc96\",\"#ab63fa\",\"#FFA15A\",\"#19d3f3\",\"#FF6692\",\"#B6E880\",\"#FF97FF\",\"#FECB52\"],\"font\":{\"color\":\"#2a3f5f\"},\"geo\":{\"bgcolor\":\"white\",\"lakecolor\":\"white\",\"landcolor\":\"white\",\"showlakes\":true,\"showland\":true,\"subunitcolor\":\"#C8D4E3\"},\"hoverlabel\":{\"align\":\"left\"},\"hovermode\":\"closest\",\"mapbox\":{\"style\":\"light\"},\"paper_bgcolor\":\"white\",\"plot_bgcolor\":\"white\",\"polar\":{\"angularaxis\":{\"gridcolor\":\"#EBF0F8\",\"linecolor\":\"#EBF0F8\",\"ticks\":\"\"},\"bgcolor\":\"white\",\"radialaxis\":{\"gridcolor\":\"#EBF0F8\",\"linecolor\":\"#EBF0F8\",\"ticks\":\"\"}},\"scene\":{\"xaxis\":{\"backgroundcolor\":\"white\",\"gridcolor\":\"#DFE8F3\",\"gridwidth\":2,\"linecolor\":\"#EBF0F8\",\"showbackground\":true,\"ticks\":\"\",\"zerolinecolor\":\"#EBF0F8\"},\"yaxis\":{\"backgroundcolor\":\"white\",\"gridcolor\":\"#DFE8F3\",\"gridwidth\":2,\"linecolor\":\"#EBF0F8\",\"showbackground\":true,\"ticks\":\"\",\"zerolinecolor\":\"#EBF0F8\"},\"zaxis\":{\"backgroundcolor\":\"white\",\"gridcolor\":\"#DFE8F3\",\"gridwidth\":2,\"linecolor\":\"#EBF0F8\",\"showbackground\":true,\"ticks\":\"\",\"zerolinecolor\":\"#EBF0F8\"}},\"shapedefaults\":{\"line\":{\"color\":\"#2a3f5f\"}},\"ternary\":{\"aaxis\":{\"gridcolor\":\"#DFE8F3\",\"linecolor\":\"#A2B1C6\",\"ticks\":\"\"},\"baxis\":{\"gridcolor\":\"#DFE8F3\",\"linecolor\":\"#A2B1C6\",\"ticks\":\"\"},\"bgcolor\":\"white\",\"caxis\":{\"gridcolor\":\"#DFE8F3\",\"linecolor\":\"#A2B1C6\",\"ticks\":\"\"}},\"title\":{\"x\":0.05},\"xaxis\":{\"automargin\":true,\"gridcolor\":\"#EBF0F8\",\"linecolor\":\"#EBF0F8\",\"ticks\":\"\",\"title\":{\"standoff\":15},\"zerolinecolor\":\"#EBF0F8\",\"zerolinewidth\":2},\"yaxis\":{\"automargin\":true,\"gridcolor\":\"#EBF0F8\",\"linecolor\":\"#EBF0F8\",\"ticks\":\"\",\"title\":{\"standoff\":15},\"zerolinecolor\":\"#EBF0F8\",\"zerolinewidth\":2}}},\"xaxis\":{\"anchor\":\"y\",\"domain\":[0.0,1.0],\"title\":{\"text\":\"Pharmacy Type\"}},\"yaxis\":{\"anchor\":\"x\",\"domain\":[0.0,1.0],\"title\":{\"text\":\"Price (USD)\"}},\"legend\":{\"title\":{\"text\":\"drug\"},\"tracegroupgap\":0},\"title\":{\"text\":\"4) Online vs In-Store Pricing by Drug\"},\"violinmode\":\"group\"},                        {\"responsive\": true}                    ).then(function(){\n",
       "                            \n",
       "var gd = document.getElementById('3a147e8b-7f36-42ef-b6cb-de144dba9ba1');\n",
       "var x = new MutationObserver(function (mutations, observer) {{\n",
       "        var display = window.getComputedStyle(gd).display;\n",
       "        if (!display || display === 'none') {{\n",
       "            console.log([gd, 'removed!']);\n",
       "            Plotly.purge(gd);\n",
       "            observer.disconnect();\n",
       "        }}\n",
       "}});\n",
       "\n",
       "// Listen for the removal of the full notebook cells\n",
       "var notebookContainer = gd.closest('#notebook-container');\n",
       "if (notebookContainer) {{\n",
       "    x.observe(notebookContainer, {childList: true});\n",
       "}}\n",
       "\n",
       "// Listen for the clearing of the current output cell\n",
       "var outputEl = gd.closest('.output');\n",
       "if (outputEl) {{\n",
       "    x.observe(outputEl, {childList: true});\n",
       "}}\n",
       "\n",
       "                        })                };                });            </script>        </div>"
      ]
     },
     "metadata": {},
     "output_type": "display_data"
    },
    {
     "data": {
      "application/vnd.plotly.v1+json": {
       "config": {
        "plotlyServerURL": "https://plot.ly"
       },
       "data": [
        {
         "alignmentgroup": "True",
         "boxpoints": "all",
         "customdata": [
          [
           "New York",
           "CVS Pharmacy",
           false
          ],
          [
           "New York",
           "Walgreens",
           false
          ],
          [
           "New York",
           "ShopRite",
           false
          ],
          [
           "New York",
           "Walmart",
           false
          ],
          [
           "New York",
           "Duane Reade",
           false
          ],
          [
           "New York",
           "Target (CVS)",
           false
          ],
          [
           "New York",
           "Costco",
           false
          ],
          [
           "New York",
           "Acme Markets Pharmacy Pay online",
           true
          ],
          [
           "New York",
           "Capsule Pharmacy",
           false
          ],
          [
           "New York",
           "Wegmans",
           false
          ],
          [
           "New York",
           "ACME Sav-On Pay online",
           true
          ],
          [
           "New York",
           "Walgreens Specialty Pharmacy",
           false
          ],
          [
           "New York",
           "Walmart Neighborhood Market",
           false
          ],
          [
           "New York",
           "King Kullen",
           false
          ],
          [
           "New York",
           "Rite Aid",
           false
          ],
          [
           "Los Angeles",
           "CVS Pharmacy",
           false
          ],
          [
           "Los Angeles",
           "Walgreens",
           false
          ],
          [
           "Los Angeles",
           "Vons Pharmacy Pay online",
           true
          ],
          [
           "Los Angeles",
           "Walmart",
           false
          ],
          [
           "Los Angeles",
           "Albertsons (Sav-on) Pay online",
           true
          ],
          [
           "Los Angeles",
           "Costco",
           false
          ],
          [
           "Los Angeles",
           "Target (CVS)",
           false
          ],
          [
           "Los Angeles",
           "Walmart Neighborhood Market",
           false
          ],
          [
           "Los Angeles",
           "Ralphs",
           false
          ],
          [
           "Los Angeles",
           "Pavilions Pharmacy Pay online",
           true
          ],
          [
           "Los Angeles",
           "Walgreens Specialty Pharmacy",
           false
          ],
          [
           "Los Angeles",
           "Capsule Pharmacy",
           false
          ],
          [
           "Los Angeles",
           "Rite Aid",
           false
          ],
          [
           "Chicago",
           "Walgreens",
           false
          ],
          [
           "Chicago",
           "Jewel-Osco",
           false
          ],
          [
           "Chicago",
           "CVS Pharmacy",
           false
          ],
          [
           "Chicago",
           "Meijer Pharmacy",
           false
          ],
          [
           "Chicago",
           "Walmart",
           false
          ],
          [
           "Chicago",
           "Target (CVS)",
           false
          ],
          [
           "Chicago",
           "Costco",
           false
          ],
          [
           "Chicago",
           "Mariano's",
           false
          ],
          [
           "Chicago",
           "Walgreens Specialty Pharmacy",
           false
          ],
          [
           "Chicago",
           "Walmart Neighborhood Market",
           false
          ],
          [
           "Chicago",
           "Aurora Pharmacy",
           false
          ],
          [
           "Chicago",
           "Capsule Pharmacy",
           false
          ]
         ],
         "fillcolor": "rgba(255,255,255,0)",
         "hoveron": "points",
         "hovertemplate": "drug=Atorvastatin<br>Quantity (as Category)=%{x}<br>Price (USD)=%{y}<br>city=%{customdata[0]}<br>pharmacy=%{customdata[1]}<br>online_pharmacy=%{customdata[2]}<extra></extra>",
         "jitter": 0.4,
         "legendgroup": "Atorvastatin",
         "line": {
          "color": "rgba(255,255,255,0)"
         },
         "marker": {
          "color": "#636efa",
          "opacity": 0.8,
          "size": 8
         },
         "name": "Atorvastatin",
         "offsetgroup": "Atorvastatin",
         "orientation": "v",
         "pointpos": 0,
         "showlegend": true,
         "type": "box",
         "x": [
          "30.0",
          "30.0",
          "30.0",
          "30.0",
          "30.0",
          "30.0",
          "30.0",
          "30.0",
          "30.0",
          "30.0",
          "30.0",
          "30.0",
          "30.0",
          "30.0",
          "30.0",
          "30.0",
          "30.0",
          "30.0",
          "30.0",
          "30.0",
          "30.0",
          "30.0",
          "30.0",
          "30.0",
          "30.0",
          "30.0",
          "30.0",
          "30.0",
          "30.0",
          "30.0",
          "30.0",
          "30.0",
          "30.0",
          "30.0",
          "30.0",
          "30.0",
          "30.0",
          "30.0",
          "30.0",
          "30.0"
         ],
         "x0": " ",
         "xaxis": "x",
         "y": [
          19.67,
          11.72,
          10.34,
          7.74,
          11.72,
          19.67,
          16.66,
          7.53,
          17.93,
          6.89,
          7.53,
          11.72,
          7.74,
          6.79,
          11.89,
          19.67,
          11.72,
          7.53,
          7.74,
          7.53,
          16.66,
          19.67,
          7.74,
          10.54,
          7.53,
          11.72,
          17.93,
          11.89,
          11.72,
          7.53,
          19.67,
          10.25,
          7.74,
          19.67,
          16.66,
          10.54,
          11.72,
          7.74,
          8.99,
          17.93
         ],
         "y0": " ",
         "yaxis": "y"
        },
        {
         "alignmentgroup": "True",
         "boxpoints": "all",
         "customdata": [
          [
           "New York",
           "CVS Pharmacy",
           false
          ],
          [
           "New York",
           "Walgreens",
           false
          ],
          [
           "New York",
           "ShopRite",
           false
          ],
          [
           "New York",
           "Target (CVS)",
           false
          ],
          [
           "New York",
           "Acme Markets Pharmacy Pay online",
           true
          ],
          [
           "New York",
           "Duane Reade",
           false
          ],
          [
           "New York",
           "Capsule Pharmacy",
           false
          ],
          [
           "New York",
           "Costco",
           false
          ],
          [
           "New York",
           "Wegmans",
           false
          ],
          [
           "New York",
           "ACME Sav-On Pay online",
           true
          ],
          [
           "New York",
           "Sams Club",
           false
          ],
          [
           "New York",
           "Walmart",
           false
          ],
          [
           "New York",
           "Walgreens Specialty Pharmacy",
           false
          ],
          [
           "Los Angeles",
           "CVS Pharmacy",
           false
          ],
          [
           "Chicago",
           "Walgreens",
           false
          ],
          [
           "Chicago",
           "Jewel-Osco",
           false
          ],
          [
           "Chicago",
           "CVS Pharmacy",
           false
          ],
          [
           "Chicago",
           "Meijer Pharmacy",
           false
          ],
          [
           "Chicago",
           "Target (CVS)",
           false
          ],
          [
           "Chicago",
           "Costco",
           false
          ],
          [
           "Chicago",
           "Walmart",
           false
          ],
          [
           "Chicago",
           "Mariano's",
           false
          ],
          [
           "Chicago",
           "Sams Club",
           false
          ],
          [
           "Chicago",
           "Aurora Pharmacy",
           false
          ],
          [
           "Chicago",
           "Walmart Neighborhood Market",
           false
          ],
          [
           "Chicago",
           "Walgreens Specialty Pharmacy",
           false
          ],
          [
           "Chicago",
           "Capsule Pharmacy",
           false
          ]
         ],
         "fillcolor": "rgba(255,255,255,0)",
         "hoveron": "points",
         "hovertemplate": "drug=Lisinopril<br>Quantity (as Category)=%{x}<br>Price (USD)=%{y}<br>city=%{customdata[0]}<br>pharmacy=%{customdata[1]}<br>online_pharmacy=%{customdata[2]}<extra></extra>",
         "jitter": 0.4,
         "legendgroup": "Lisinopril",
         "line": {
          "color": "rgba(255,255,255,0)"
         },
         "marker": {
          "color": "#EF553B",
          "opacity": 0.8,
          "size": 8
         },
         "name": "Lisinopril",
         "offsetgroup": "Lisinopril",
         "orientation": "v",
         "pointpos": 0,
         "showlegend": true,
         "type": "box",
         "x": [
          "30.0",
          "30.0",
          "30.0",
          "30.0",
          "30.0",
          "30.0",
          "30.0",
          "30.0",
          "30.0",
          "30.0",
          "30.0",
          "30.0",
          "30.0",
          "30.0",
          "30.0",
          "30.0",
          "30.0",
          "30.0",
          "30.0",
          "30.0",
          "30.0",
          "30.0",
          "30.0",
          "30.0",
          "30.0",
          "30.0",
          "30.0"
         ],
         "x0": " ",
         "xaxis": "x",
         "y": [
          8.57,
          4.83,
          5.85,
          8.57,
          2,
          4.83,
          17.34,
          8.66,
          3.25,
          2,
          7.84,
          9,
          4.83,
          8.57,
          4.83,
          2,
          8.57,
          8.47,
          8.57,
          8.66,
          9,
          7.79,
          7.84,
          5.92,
          9,
          4.83,
          17.34
         ],
         "y0": " ",
         "yaxis": "y"
        },
        {
         "alignmentgroup": "True",
         "boxpoints": "all",
         "customdata": [
          [
           "New York",
           "CVS Pharmacy",
           false
          ],
          [
           "New York",
           "Walgreens",
           false
          ],
          [
           "New York",
           "Duane Reade",
           false
          ],
          [
           "New York",
           "Target (CVS)",
           false
          ],
          [
           "New York",
           "ShopRite",
           false
          ],
          [
           "New York",
           "Capsule Pharmacy",
           false
          ],
          [
           "New York",
           "Acme Markets Pharmacy Pay online",
           true
          ],
          [
           "New York",
           "Costco",
           false
          ],
          [
           "New York",
           "Wegmans",
           false
          ],
          [
           "New York",
           "Walmart",
           false
          ],
          [
           "New York",
           "Walgreens Specialty Pharmacy",
           false
          ],
          [
           "New York",
           "ACME Sav-On Pay online",
           true
          ],
          [
           "New York",
           "Sams Club",
           false
          ],
          [
           "New York",
           "Walmart Neighborhood Market",
           false
          ],
          [
           "New York",
           "King Kullen",
           false
          ],
          [
           "New York",
           "Rite Aid",
           false
          ],
          [
           "Los Angeles",
           "CVS Pharmacy",
           false
          ],
          [
           "Los Angeles",
           "Walgreens",
           false
          ],
          [
           "Los Angeles",
           "Vons Pharmacy Pay online",
           true
          ],
          [
           "Los Angeles",
           "Albertsons (Sav-on) Pay online",
           true
          ],
          [
           "Los Angeles",
           "Target (CVS)",
           false
          ],
          [
           "Los Angeles",
           "Pavilions Pharmacy Pay online",
           true
          ],
          [
           "Los Angeles",
           "Costco",
           false
          ],
          [
           "Los Angeles",
           "Ralphs",
           false
          ],
          [
           "Los Angeles",
           "Walmart",
           false
          ],
          [
           "Los Angeles",
           "Walmart Neighborhood Market",
           false
          ],
          [
           "Los Angeles",
           "Sams Club",
           false
          ],
          [
           "Los Angeles",
           "Walgreens Specialty Pharmacy",
           false
          ],
          [
           "Los Angeles",
           "Rite Aid",
           false
          ],
          [
           "Los Angeles",
           "Capsule Pharmacy",
           false
          ],
          [
           "Chicago",
           "Walgreens",
           false
          ],
          [
           "Chicago",
           "Jewel-Osco",
           false
          ],
          [
           "Chicago",
           "CVS Pharmacy",
           false
          ],
          [
           "Chicago",
           "Meijer Pharmacy",
           false
          ],
          [
           "Chicago",
           "Target (CVS)",
           false
          ],
          [
           "Chicago",
           "Costco",
           false
          ],
          [
           "Chicago",
           "Walmart",
           false
          ],
          [
           "Chicago",
           "Mariano's",
           false
          ],
          [
           "Chicago",
           "Sams Club",
           false
          ],
          [
           "Chicago",
           "Aurora Pharmacy",
           false
          ],
          [
           "Chicago",
           "Walmart Neighborhood Market",
           false
          ],
          [
           "Chicago",
           "Walgreens Specialty Pharmacy",
           false
          ],
          [
           "Chicago",
           "Capsule Pharmacy",
           false
          ]
         ],
         "fillcolor": "rgba(255,255,255,0)",
         "hoveron": "points",
         "hovertemplate": "drug=Metformin<br>Quantity (as Category)=%{x}<br>Price (USD)=%{y}<br>city=%{customdata[0]}<br>pharmacy=%{customdata[1]}<br>online_pharmacy=%{customdata[2]}<extra></extra>",
         "jitter": 0.4,
         "legendgroup": "Metformin",
         "line": {
          "color": "rgba(255,255,255,0)"
         },
         "marker": {
          "color": "#00cc96",
          "opacity": 0.8,
          "size": 8
         },
         "name": "Metformin",
         "offsetgroup": "Metformin",
         "orientation": "v",
         "pointpos": 0,
         "showlegend": true,
         "type": "box",
         "x": [
          "60.0",
          "60.0",
          "60.0",
          "60.0",
          "60.0",
          "60.0",
          "60.0",
          "60.0",
          "60.0",
          "60.0",
          "60.0",
          "60.0",
          "60.0",
          "60.0",
          "60.0",
          "60.0",
          "60.0",
          "60.0",
          "60.0",
          "60.0",
          "60.0",
          "60.0",
          "60.0",
          "60.0",
          "60.0",
          "60.0",
          "60.0",
          "60.0",
          "60.0",
          "60.0",
          "60.0",
          "60.0",
          "60.0",
          "60.0",
          "60.0",
          "60.0",
          "60.0",
          "60.0",
          "60.0",
          "60.0",
          "60.0",
          "60.0",
          "60.0"
         ],
         "x0": " ",
         "xaxis": "x",
         "y": [
          19.64,
          4.86,
          4.86,
          19.64,
          7.97,
          20.43,
          2,
          13.99,
          2.82,
          9,
          4.86,
          2,
          9.82,
          9,
          6.52,
          11.36,
          19.64,
          4.86,
          2,
          2,
          19.64,
          2,
          13.99,
          14.87,
          9,
          9,
          9.82,
          4.86,
          11.36,
          20.43,
          4.86,
          2,
          19.64,
          8.18,
          19.64,
          13.99,
          9,
          14.87,
          9.82,
          6.89,
          9,
          4.86,
          20.43
         ],
         "y0": " ",
         "yaxis": "y"
        },
        {
         "alignmentgroup": "True",
         "boxpoints": "all",
         "customdata": [
          [
           "New York",
           "CVS Pharmacy",
           false
          ],
          [
           "New York",
           "Walgreens",
           false
          ],
          [
           "New York",
           "ShopRite",
           false
          ],
          [
           "New York",
           "Duane Reade",
           false
          ],
          [
           "New York",
           "Costco",
           false
          ],
          [
           "New York",
           "Target (CVS)",
           false
          ],
          [
           "New York",
           "Capsule Pharmacy",
           false
          ],
          [
           "New York",
           "Acme Markets Pharmacy Pay online",
           true
          ],
          [
           "New York",
           "Wegmans",
           false
          ],
          [
           "New York",
           "Walmart",
           false
          ],
          [
           "New York",
           "ACME Sav-On Pay online",
           true
          ],
          [
           "New York",
           "Sams Club",
           false
          ],
          [
           "New York",
           "Walgreens Specialty Pharmacy",
           false
          ],
          [
           "New York",
           "King Kullen",
           false
          ],
          [
           "New York",
           "Walmart Neighborhood Market",
           false
          ],
          [
           "New York",
           "Rite Aid",
           false
          ],
          [
           "Los Angeles",
           "CVS Pharmacy",
           false
          ],
          [
           "Los Angeles",
           "Walgreens",
           false
          ],
          [
           "Los Angeles",
           "Albertsons (Sav-on) Pay online",
           true
          ],
          [
           "Los Angeles",
           "Vons Pharmacy Pay online",
           true
          ],
          [
           "Los Angeles",
           "Costco",
           false
          ],
          [
           "Los Angeles",
           "Target (CVS)",
           false
          ],
          [
           "Los Angeles",
           "Pavilions Pharmacy Pay online",
           true
          ],
          [
           "Los Angeles",
           "Ralphs",
           false
          ],
          [
           "Los Angeles",
           "Walmart",
           false
          ],
          [
           "Los Angeles",
           "Walgreens Specialty Pharmacy",
           false
          ],
          [
           "Los Angeles",
           "Sams Club",
           false
          ],
          [
           "Los Angeles",
           "Walmart Neighborhood Market",
           false
          ],
          [
           "Los Angeles",
           "Rite Aid",
           false
          ],
          [
           "Los Angeles",
           "Capsule Pharmacy",
           false
          ],
          [
           "Chicago",
           "Walgreens",
           false
          ],
          [
           "Chicago",
           "Jewel-Osco",
           false
          ],
          [
           "Chicago",
           "Meijer Pharmacy",
           false
          ],
          [
           "Chicago",
           "CVS Pharmacy",
           false
          ],
          [
           "Chicago",
           "Costco",
           false
          ],
          [
           "Chicago",
           "Target (CVS)",
           false
          ],
          [
           "Chicago",
           "Walmart",
           false
          ],
          [
           "Chicago",
           "Mariano's",
           false
          ],
          [
           "Chicago",
           "Sams Club",
           false
          ],
          [
           "Chicago",
           "Aurora Pharmacy",
           false
          ],
          [
           "Chicago",
           "Walmart Neighborhood Market",
           false
          ],
          [
           "Chicago",
           "Walgreens Specialty Pharmacy",
           false
          ],
          [
           "Chicago",
           "Capsule Pharmacy",
           false
          ]
         ],
         "fillcolor": "rgba(255,255,255,0)",
         "hoveron": "points",
         "hovertemplate": "drug=Amlodipine<br>Quantity (as Category)=%{x}<br>Price (USD)=%{y}<br>city=%{customdata[0]}<br>pharmacy=%{customdata[1]}<br>online_pharmacy=%{customdata[2]}<extra></extra>",
         "jitter": 0.4,
         "legendgroup": "Amlodipine",
         "line": {
          "color": "rgba(255,255,255,0)"
         },
         "marker": {
          "color": "#ab63fa",
          "opacity": 0.8,
          "size": 8
         },
         "name": "Amlodipine",
         "offsetgroup": "Amlodipine",
         "orientation": "v",
         "pointpos": 0,
         "showlegend": true,
         "type": "box",
         "x": [
          "30.0",
          "30.0",
          "30.0",
          "30.0",
          "30.0",
          "30.0",
          "30.0",
          "30.0",
          "30.0",
          "30.0",
          "30.0",
          "30.0",
          "30.0",
          "30.0",
          "30.0",
          "30.0",
          "30.0",
          "30.0",
          "30.0",
          "30.0",
          "30.0",
          "30.0",
          "30.0",
          "30.0",
          "30.0",
          "30.0",
          "30.0",
          "30.0",
          "30.0",
          "30.0",
          "30.0",
          "30.0",
          "30.0",
          "30.0",
          "30.0",
          "30.0",
          "30.0",
          "30.0",
          "30.0",
          "30.0",
          "30.0",
          "30.0",
          "30.0"
         ],
         "x0": " ",
         "xaxis": "x",
         "y": [
          19.22,
          10.13,
          10.44,
          10.13,
          12.99,
          19.22,
          18.86,
          2.88,
          3.05,
          9,
          2.88,
          7.26,
          10.13,
          6.05,
          9,
          11.02,
          19.22,
          10.13,
          2.88,
          2.88,
          12.99,
          19.22,
          2.88,
          7.53,
          9,
          10.13,
          7.26,
          9,
          11.02,
          18.86,
          10.13,
          2.88,
          8.7,
          19.22,
          12.99,
          19.22,
          9,
          7.53,
          7.26,
          8.07,
          9,
          10.13,
          18.86
         ],
         "y0": " ",
         "yaxis": "y"
        },
        {
         "alignmentgroup": "True",
         "boxpoints": "all",
         "customdata": [
          [
           "New York",
           "CVS Pharmacy",
           false
          ],
          [
           "New York",
           "Walgreens",
           false
          ],
          [
           "New York",
           "ShopRite",
           false
          ],
          [
           "New York",
           "Duane Reade",
           false
          ],
          [
           "New York",
           "Capsule Pharmacy",
           false
          ],
          [
           "New York",
           "Costco",
           false
          ],
          [
           "New York",
           "Target (CVS)",
           false
          ],
          [
           "New York",
           "Acme Markets Pharmacy",
           false
          ],
          [
           "New York",
           "Walmart",
           false
          ],
          [
           "New York",
           "Wegmans",
           false
          ],
          [
           "New York",
           "ACME Sav-On",
           false
          ],
          [
           "New York",
           "Walgreens Specialty Pharmacy",
           false
          ],
          [
           "New York",
           "King Kullen",
           false
          ],
          [
           "New York",
           "Walmart Neighborhood Market",
           false
          ],
          [
           "New York",
           "Rite Aid",
           false
          ],
          [
           "Los Angeles",
           "CVS Pharmacy",
           false
          ],
          [
           "Los Angeles",
           "Vons Pharmacy",
           false
          ],
          [
           "Los Angeles",
           "Walgreens",
           false
          ],
          [
           "Los Angeles",
           "Costco",
           false
          ],
          [
           "Los Angeles",
           "Albertsons (Sav-on)",
           false
          ],
          [
           "Los Angeles",
           "Target (CVS)",
           false
          ],
          [
           "Los Angeles",
           "Pavilions Pharmacy",
           false
          ],
          [
           "Los Angeles",
           "Ralphs",
           false
          ],
          [
           "Los Angeles",
           "Walmart",
           false
          ],
          [
           "Los Angeles",
           "Walgreens Specialty Pharmacy",
           false
          ],
          [
           "Los Angeles",
           "Walmart Neighborhood Market",
           false
          ],
          [
           "Los Angeles",
           "Rite Aid",
           false
          ],
          [
           "Los Angeles",
           "Capsule Pharmacy",
           false
          ],
          [
           "Chicago",
           "Walgreens",
           false
          ],
          [
           "Chicago",
           "Jewel-Osco",
           false
          ],
          [
           "Chicago",
           "Meijer Pharmacy",
           false
          ],
          [
           "Chicago",
           "CVS Pharmacy",
           false
          ],
          [
           "Chicago",
           "Costco",
           false
          ],
          [
           "Chicago",
           "Target (CVS)",
           false
          ],
          [
           "Chicago",
           "Walmart",
           false
          ],
          [
           "Chicago",
           "Mariano's",
           false
          ],
          [
           "Chicago",
           "Walgreens Specialty Pharmacy",
           false
          ],
          [
           "Chicago",
           "Aurora Pharmacy",
           false
          ],
          [
           "Chicago",
           "Walmart Neighborhood Market",
           false
          ],
          [
           "Chicago",
           "Capsule Pharmacy",
           false
          ]
         ],
         "fillcolor": "rgba(255,255,255,0)",
         "hoveron": "points",
         "hovertemplate": "drug=Omeprazole<br>Quantity (as Category)=%{x}<br>Price (USD)=%{y}<br>city=%{customdata[0]}<br>pharmacy=%{customdata[1]}<br>online_pharmacy=%{customdata[2]}<extra></extra>",
         "jitter": 0.4,
         "legendgroup": "Omeprazole",
         "line": {
          "color": "rgba(255,255,255,0)"
         },
         "marker": {
          "color": "#FFA15A",
          "opacity": 0.8,
          "size": 8
         },
         "name": "Omeprazole",
         "offsetgroup": "Omeprazole",
         "orientation": "v",
         "pointpos": 0,
         "showlegend": true,
         "type": "box",
         "x": [
          "30.0",
          "30.0",
          "30.0",
          "30.0",
          "30.0",
          "30.0",
          "30.0",
          "30.0",
          "30.0",
          "30.0",
          "30.0",
          "30.0",
          "30.0",
          "30.0",
          "30.0",
          "30.0",
          "30.0",
          "30.0",
          "30.0",
          "30.0",
          "30.0",
          "30.0",
          "30.0",
          "30.0",
          "30.0",
          "30.0",
          "30.0",
          "30.0",
          "30.0",
          "30.0",
          "30.0",
          "30.0",
          "30.0",
          "30.0",
          "30.0",
          "30.0",
          "30.0",
          "30.0",
          "30.0",
          "30.0"
         ],
         "x0": " ",
         "xaxis": "x",
         "y": [
          20.03,
          18.37,
          10.75,
          18.37,
          23.09,
          13.66,
          20.03,
          7,
          2,
          5.82,
          7,
          18.37,
          8.55,
          2,
          12.09,
          20.03,
          7,
          18.37,
          13.66,
          7,
          20.03,
          7,
          8.6,
          2,
          18.37,
          2,
          12.09,
          23.09,
          18.37,
          7,
          10.07,
          20.03,
          13.66,
          20.03,
          2,
          8.6,
          18.37,
          8.82,
          2,
          23.09
         ],
         "y0": " ",
         "yaxis": "y"
        },
        {
         "alignmentgroup": "True",
         "boxpoints": "all",
         "customdata": [
          [
           "New York",
           "CVS Pharmacy",
           false
          ],
          [
           "New York",
           "Walgreens",
           false
          ],
          [
           "New York",
           "ShopRite",
           false
          ],
          [
           "New York",
           "Target (CVS)",
           false
          ],
          [
           "New York",
           "Duane Reade",
           false
          ],
          [
           "New York",
           "Costco",
           false
          ],
          [
           "New York",
           "Capsule Pharmacy",
           false
          ],
          [
           "New York",
           "Acme Markets Pharmacy Pay online",
           true
          ],
          [
           "New York",
           "Walmart",
           false
          ],
          [
           "New York",
           "Wegmans",
           false
          ],
          [
           "New York",
           "ACME Sav-On Pay online",
           true
          ],
          [
           "New York",
           "Walgreens Specialty Pharmacy",
           false
          ],
          [
           "New York",
           "Walmart Neighborhood Market",
           false
          ],
          [
           "New York",
           "Rite Aid",
           false
          ],
          [
           "New York",
           "King Kullen",
           false
          ],
          [
           "Los Angeles",
           "CVS Pharmacy",
           false
          ],
          [
           "Los Angeles",
           "Vons Pharmacy Pay online",
           true
          ],
          [
           "Los Angeles",
           "Target (CVS)",
           false
          ],
          [
           "Los Angeles",
           "Albertsons (Sav-on) Pay online",
           true
          ],
          [
           "Los Angeles",
           "Walgreens",
           false
          ],
          [
           "Los Angeles",
           "Pavilions Pharmacy Pay online",
           true
          ],
          [
           "Los Angeles",
           "Ralphs",
           false
          ],
          [
           "Los Angeles",
           "Costco",
           false
          ],
          [
           "Los Angeles",
           "Walmart",
           false
          ],
          [
           "Los Angeles",
           "Walmart Neighborhood Market",
           false
          ],
          [
           "Los Angeles",
           "Rite Aid",
           false
          ],
          [
           "Los Angeles",
           "Walgreens Specialty Pharmacy",
           false
          ],
          [
           "Los Angeles",
           "Capsule Pharmacy",
           false
          ],
          [
           "Chicago",
           "Jewel-Osco",
           false
          ],
          [
           "Chicago",
           "Walgreens",
           false
          ],
          [
           "Chicago",
           "Meijer Pharmacy",
           false
          ],
          [
           "Chicago",
           "CVS Pharmacy",
           false
          ],
          [
           "Chicago",
           "Target (CVS)",
           false
          ],
          [
           "Chicago",
           "Mariano's",
           false
          ],
          [
           "Chicago",
           "Walmart",
           false
          ],
          [
           "Chicago",
           "Costco",
           false
          ],
          [
           "Chicago",
           "Aurora Pharmacy",
           false
          ],
          [
           "Chicago",
           "Walmart Neighborhood Market",
           false
          ],
          [
           "Chicago",
           "Walgreens Specialty Pharmacy",
           false
          ],
          [
           "Chicago",
           "Capsule Pharmacy",
           false
          ]
         ],
         "fillcolor": "rgba(255,255,255,0)",
         "hoveron": "points",
         "hovertemplate": "drug=Simvastatin<br>Quantity (as Category)=%{x}<br>Price (USD)=%{y}<br>city=%{customdata[0]}<br>pharmacy=%{customdata[1]}<br>online_pharmacy=%{customdata[2]}<extra></extra>",
         "jitter": 0.4,
         "legendgroup": "Simvastatin",
         "line": {
          "color": "rgba(255,255,255,0)"
         },
         "marker": {
          "color": "#19d3f3",
          "opacity": 0.8,
          "size": 8
         },
         "name": "Simvastatin",
         "offsetgroup": "Simvastatin",
         "orientation": "v",
         "pointpos": 0,
         "showlegend": true,
         "type": "box",
         "x": [
          "90.0",
          "90.0",
          "90.0",
          "90.0",
          "90.0",
          "90.0",
          "90.0",
          "90.0",
          "90.0",
          "90.0",
          "90.0",
          "90.0",
          "90.0",
          "90.0",
          "90.0",
          "90.0",
          "90.0",
          "90.0",
          "90.0",
          "90.0",
          "90.0",
          "90.0",
          "90.0",
          "90.0",
          "90.0",
          "90.0",
          "90.0",
          "90.0",
          "90.0",
          "90.0",
          "90.0",
          "90.0",
          "90.0",
          "90.0",
          "90.0",
          "90.0",
          "90.0",
          "90.0",
          "90.0",
          "90.0"
         ],
         "x0": " ",
         "xaxis": "x",
         "y": [
          28.04,
          33.6,
          13.7,
          28.04,
          33.6,
          21.99,
          27.09,
          3.05,
          24,
          13.38,
          3.05,
          33.6,
          24,
          19.3,
          13.7,
          28.04,
          3.05,
          28.04,
          3.05,
          33.6,
          3.05,
          19.8,
          21.99,
          24,
          24,
          19.3,
          33.6,
          27.09,
          3.05,
          33.6,
          11.3,
          28.04,
          28.04,
          19.8,
          24,
          21.99,
          9.95,
          24,
          33.6,
          27.09
         ],
         "y0": " ",
         "yaxis": "y"
        },
        {
         "alignmentgroup": "True",
         "boxpoints": "all",
         "customdata": [
          [
           "New York",
           "CVS Pharmacy",
           false
          ],
          [
           "New York",
           "Walgreens",
           false
          ],
          [
           "New York",
           "ShopRite",
           false
          ],
          [
           "New York",
           "Duane Reade",
           false
          ],
          [
           "New York",
           "Acme Markets Pharmacy Pay online",
           true
          ],
          [
           "New York",
           "Target (CVS)",
           false
          ],
          [
           "New York",
           "Wegmans",
           false
          ],
          [
           "New York",
           "Costco",
           false
          ],
          [
           "New York",
           "Capsule Pharmacy",
           false
          ],
          [
           "New York",
           "ACME Sav-On Pay online",
           true
          ],
          [
           "New York",
           "Sams Club",
           false
          ],
          [
           "New York",
           "Walmart",
           false
          ],
          [
           "New York",
           "Walgreens Specialty Pharmacy",
           false
          ],
          [
           "New York",
           "Walmart Neighborhood Market",
           false
          ],
          [
           "New York",
           "King Kullen",
           false
          ],
          [
           "New York",
           "Rite Aid",
           false
          ],
          [
           "Los Angeles",
           "CVS Pharmacy",
           false
          ],
          [
           "Los Angeles",
           "Vons Pharmacy Pay online",
           true
          ],
          [
           "Los Angeles",
           "Albertsons (Sav-on) Pay online",
           true
          ],
          [
           "Los Angeles",
           "Walgreens",
           false
          ],
          [
           "Los Angeles",
           "Pavilions Pharmacy Pay online",
           true
          ],
          [
           "Los Angeles",
           "Target (CVS)",
           false
          ],
          [
           "Los Angeles",
           "Ralphs",
           false
          ],
          [
           "Los Angeles",
           "Costco",
           false
          ],
          [
           "Los Angeles",
           "Sams Club",
           false
          ],
          [
           "Los Angeles",
           "Walmart",
           false
          ],
          [
           "Los Angeles",
           "Walmart Neighborhood Market",
           false
          ],
          [
           "Los Angeles",
           "Walgreens Specialty Pharmacy",
           false
          ],
          [
           "Los Angeles",
           "Rite Aid",
           false
          ],
          [
           "Los Angeles",
           "Capsule Pharmacy",
           false
          ]
         ],
         "fillcolor": "rgba(255,255,255,0)",
         "hoveron": "points",
         "hovertemplate": "drug=Losartan<br>Quantity (as Category)=%{x}<br>Price (USD)=%{y}<br>city=%{customdata[0]}<br>pharmacy=%{customdata[1]}<br>online_pharmacy=%{customdata[2]}<extra></extra>",
         "jitter": 0.4,
         "legendgroup": "Losartan",
         "line": {
          "color": "rgba(255,255,255,0)"
         },
         "marker": {
          "color": "#FF6692",
          "opacity": 0.8,
          "size": 8
         },
         "name": "Losartan",
         "offsetgroup": "Losartan",
         "orientation": "v",
         "pointpos": 0,
         "showlegend": true,
         "type": "box",
         "x": [
          "30.0",
          "30.0",
          "30.0",
          "30.0",
          "30.0",
          "30.0",
          "30.0",
          "30.0",
          "30.0",
          "30.0",
          "30.0",
          "30.0",
          "30.0",
          "30.0",
          "30.0",
          "30.0",
          "30.0",
          "30.0",
          "30.0",
          "30.0",
          "30.0",
          "30.0",
          "30.0",
          "30.0",
          "30.0",
          "30.0",
          "30.0",
          "30.0",
          "30.0",
          "30.0"
         ],
         "x0": " ",
         "xaxis": "x",
         "y": [
          19.43,
          11.21,
          9.84,
          11.21,
          2,
          19.43,
          5.63,
          21.99,
          16.47,
          2,
          7.1,
          9,
          11.21,
          9,
          6.87,
          11.56,
          19.43,
          2,
          2,
          11.21,
          2,
          19.43,
          7.3,
          21.99,
          7.1,
          9,
          9,
          11.21,
          11.56,
          16.47
         ],
         "y0": " ",
         "yaxis": "y"
        },
        {
         "alignmentgroup": "True",
         "boxpoints": "all",
         "customdata": [
          [
           "New York",
           "CVS Pharmacy",
           false
          ],
          [
           "New York",
           "Walgreens",
           false
          ],
          [
           "New York",
           "ShopRite",
           false
          ],
          [
           "New York",
           "Costco",
           false
          ],
          [
           "New York",
           "Target (CVS)",
           false
          ],
          [
           "New York",
           "Duane Reade",
           false
          ],
          [
           "New York",
           "Acme Markets Pharmacy Pay online",
           true
          ],
          [
           "New York",
           "Capsule Pharmacy",
           false
          ],
          [
           "New York",
           "Wegmans",
           false
          ],
          [
           "New York",
           "Walmart",
           false
          ],
          [
           "New York",
           "ACME Sav-On Pay online",
           true
          ],
          [
           "New York",
           "Walgreens Specialty Pharmacy",
           false
          ],
          [
           "New York",
           "Rite Aid",
           false
          ],
          [
           "New York",
           "Walmart Neighborhood Market",
           false
          ],
          [
           "New York",
           "King Kullen",
           false
          ],
          [
           "Los Angeles",
           "CVS Pharmacy",
           false
          ],
          [
           "Los Angeles",
           "Costco",
           false
          ],
          [
           "Los Angeles",
           "Walgreens",
           false
          ],
          [
           "Los Angeles",
           "Vons Pharmacy Pay online",
           true
          ],
          [
           "Los Angeles",
           "Albertsons (Sav-on) Pay online",
           true
          ],
          [
           "Los Angeles",
           "Target (CVS)",
           false
          ],
          [
           "Los Angeles",
           "Ralphs",
           false
          ],
          [
           "Los Angeles",
           "Pavilions Pharmacy Pay online",
           true
          ],
          [
           "Los Angeles",
           "Walmart Neighborhood Market",
           false
          ],
          [
           "Los Angeles",
           "Walgreens Specialty Pharmacy",
           false
          ],
          [
           "Los Angeles",
           "Walmart",
           false
          ],
          [
           "Los Angeles",
           "Capsule Pharmacy",
           false
          ],
          [
           "Los Angeles",
           "Rite Aid",
           false
          ]
         ],
         "fillcolor": "rgba(255,255,255,0)",
         "hoveron": "points",
         "hovertemplate": "drug=Hydrochlorothiazide<br>Quantity (as Category)=%{x}<br>Price (USD)=%{y}<br>city=%{customdata[0]}<br>pharmacy=%{customdata[1]}<br>online_pharmacy=%{customdata[2]}<extra></extra>",
         "jitter": 0.4,
         "legendgroup": "Hydrochlorothiazide",
         "line": {
          "color": "rgba(255,255,255,0)"
         },
         "marker": {
          "color": "#B6E880",
          "opacity": 0.8,
          "size": 8
         },
         "name": "Hydrochlorothiazide",
         "offsetgroup": "Hydrochlorothiazide",
         "orientation": "v",
         "pointpos": 0,
         "showlegend": true,
         "type": "box",
         "x": [
          "30.0",
          "30.0",
          "30.0",
          "30.0",
          "30.0",
          "30.0",
          "30.0",
          "30.0",
          "30.0",
          "30.0",
          "30.0",
          "30.0",
          "30.0",
          "30.0",
          "30.0",
          "30.0",
          "30.0",
          "30.0",
          "30.0",
          "30.0",
          "30.0",
          "30.0",
          "30.0",
          "30.0",
          "30.0",
          "30.0",
          "30.0",
          "30.0"
         ],
         "x0": " ",
         "xaxis": "x",
         "y": [
          19.22,
          2,
          2.88,
          7.5,
          19.22,
          2,
          2,
          16.95,
          0.81,
          4,
          2,
          2,
          9,
          4,
          2.88,
          19.22,
          7.5,
          2,
          2,
          2,
          19.22,
          6.39,
          2,
          4,
          2,
          4,
          16.95,
          9
         ],
         "y0": " ",
         "yaxis": "y"
        }
       ],
       "layout": {
        "boxmode": "overlay",
        "legend": {
         "title": {
          "text": "drug"
         },
         "tracegroupgap": 0
        },
        "template": {
         "data": {
          "bar": [
           {
            "error_x": {
             "color": "#2a3f5f"
            },
            "error_y": {
             "color": "#2a3f5f"
            },
            "marker": {
             "line": {
              "color": "white",
              "width": 0.5
             },
             "pattern": {
              "fillmode": "overlay",
              "size": 10,
              "solidity": 0.2
             }
            },
            "type": "bar"
           }
          ],
          "barpolar": [
           {
            "marker": {
             "line": {
              "color": "white",
              "width": 0.5
             },
             "pattern": {
              "fillmode": "overlay",
              "size": 10,
              "solidity": 0.2
             }
            },
            "type": "barpolar"
           }
          ],
          "carpet": [
           {
            "aaxis": {
             "endlinecolor": "#2a3f5f",
             "gridcolor": "#C8D4E3",
             "linecolor": "#C8D4E3",
             "minorgridcolor": "#C8D4E3",
             "startlinecolor": "#2a3f5f"
            },
            "baxis": {
             "endlinecolor": "#2a3f5f",
             "gridcolor": "#C8D4E3",
             "linecolor": "#C8D4E3",
             "minorgridcolor": "#C8D4E3",
             "startlinecolor": "#2a3f5f"
            },
            "type": "carpet"
           }
          ],
          "choropleth": [
           {
            "colorbar": {
             "outlinewidth": 0,
             "ticks": ""
            },
            "type": "choropleth"
           }
          ],
          "contour": [
           {
            "colorbar": {
             "outlinewidth": 0,
             "ticks": ""
            },
            "colorscale": [
             [
              0,
              "#0d0887"
             ],
             [
              0.1111111111111111,
              "#46039f"
             ],
             [
              0.2222222222222222,
              "#7201a8"
             ],
             [
              0.3333333333333333,
              "#9c179e"
             ],
             [
              0.4444444444444444,
              "#bd3786"
             ],
             [
              0.5555555555555556,
              "#d8576b"
             ],
             [
              0.6666666666666666,
              "#ed7953"
             ],
             [
              0.7777777777777778,
              "#fb9f3a"
             ],
             [
              0.8888888888888888,
              "#fdca26"
             ],
             [
              1,
              "#f0f921"
             ]
            ],
            "type": "contour"
           }
          ],
          "contourcarpet": [
           {
            "colorbar": {
             "outlinewidth": 0,
             "ticks": ""
            },
            "type": "contourcarpet"
           }
          ],
          "heatmap": [
           {
            "colorbar": {
             "outlinewidth": 0,
             "ticks": ""
            },
            "colorscale": [
             [
              0,
              "#0d0887"
             ],
             [
              0.1111111111111111,
              "#46039f"
             ],
             [
              0.2222222222222222,
              "#7201a8"
             ],
             [
              0.3333333333333333,
              "#9c179e"
             ],
             [
              0.4444444444444444,
              "#bd3786"
             ],
             [
              0.5555555555555556,
              "#d8576b"
             ],
             [
              0.6666666666666666,
              "#ed7953"
             ],
             [
              0.7777777777777778,
              "#fb9f3a"
             ],
             [
              0.8888888888888888,
              "#fdca26"
             ],
             [
              1,
              "#f0f921"
             ]
            ],
            "type": "heatmap"
           }
          ],
          "heatmapgl": [
           {
            "colorbar": {
             "outlinewidth": 0,
             "ticks": ""
            },
            "colorscale": [
             [
              0,
              "#0d0887"
             ],
             [
              0.1111111111111111,
              "#46039f"
             ],
             [
              0.2222222222222222,
              "#7201a8"
             ],
             [
              0.3333333333333333,
              "#9c179e"
             ],
             [
              0.4444444444444444,
              "#bd3786"
             ],
             [
              0.5555555555555556,
              "#d8576b"
             ],
             [
              0.6666666666666666,
              "#ed7953"
             ],
             [
              0.7777777777777778,
              "#fb9f3a"
             ],
             [
              0.8888888888888888,
              "#fdca26"
             ],
             [
              1,
              "#f0f921"
             ]
            ],
            "type": "heatmapgl"
           }
          ],
          "histogram": [
           {
            "marker": {
             "pattern": {
              "fillmode": "overlay",
              "size": 10,
              "solidity": 0.2
             }
            },
            "type": "histogram"
           }
          ],
          "histogram2d": [
           {
            "colorbar": {
             "outlinewidth": 0,
             "ticks": ""
            },
            "colorscale": [
             [
              0,
              "#0d0887"
             ],
             [
              0.1111111111111111,
              "#46039f"
             ],
             [
              0.2222222222222222,
              "#7201a8"
             ],
             [
              0.3333333333333333,
              "#9c179e"
             ],
             [
              0.4444444444444444,
              "#bd3786"
             ],
             [
              0.5555555555555556,
              "#d8576b"
             ],
             [
              0.6666666666666666,
              "#ed7953"
             ],
             [
              0.7777777777777778,
              "#fb9f3a"
             ],
             [
              0.8888888888888888,
              "#fdca26"
             ],
             [
              1,
              "#f0f921"
             ]
            ],
            "type": "histogram2d"
           }
          ],
          "histogram2dcontour": [
           {
            "colorbar": {
             "outlinewidth": 0,
             "ticks": ""
            },
            "colorscale": [
             [
              0,
              "#0d0887"
             ],
             [
              0.1111111111111111,
              "#46039f"
             ],
             [
              0.2222222222222222,
              "#7201a8"
             ],
             [
              0.3333333333333333,
              "#9c179e"
             ],
             [
              0.4444444444444444,
              "#bd3786"
             ],
             [
              0.5555555555555556,
              "#d8576b"
             ],
             [
              0.6666666666666666,
              "#ed7953"
             ],
             [
              0.7777777777777778,
              "#fb9f3a"
             ],
             [
              0.8888888888888888,
              "#fdca26"
             ],
             [
              1,
              "#f0f921"
             ]
            ],
            "type": "histogram2dcontour"
           }
          ],
          "mesh3d": [
           {
            "colorbar": {
             "outlinewidth": 0,
             "ticks": ""
            },
            "type": "mesh3d"
           }
          ],
          "parcoords": [
           {
            "line": {
             "colorbar": {
              "outlinewidth": 0,
              "ticks": ""
             }
            },
            "type": "parcoords"
           }
          ],
          "pie": [
           {
            "automargin": true,
            "type": "pie"
           }
          ],
          "scatter": [
           {
            "fillpattern": {
             "fillmode": "overlay",
             "size": 10,
             "solidity": 0.2
            },
            "type": "scatter"
           }
          ],
          "scatter3d": [
           {
            "line": {
             "colorbar": {
              "outlinewidth": 0,
              "ticks": ""
             }
            },
            "marker": {
             "colorbar": {
              "outlinewidth": 0,
              "ticks": ""
             }
            },
            "type": "scatter3d"
           }
          ],
          "scattercarpet": [
           {
            "marker": {
             "colorbar": {
              "outlinewidth": 0,
              "ticks": ""
             }
            },
            "type": "scattercarpet"
           }
          ],
          "scattergeo": [
           {
            "marker": {
             "colorbar": {
              "outlinewidth": 0,
              "ticks": ""
             }
            },
            "type": "scattergeo"
           }
          ],
          "scattergl": [
           {
            "marker": {
             "colorbar": {
              "outlinewidth": 0,
              "ticks": ""
             }
            },
            "type": "scattergl"
           }
          ],
          "scattermapbox": [
           {
            "marker": {
             "colorbar": {
              "outlinewidth": 0,
              "ticks": ""
             }
            },
            "type": "scattermapbox"
           }
          ],
          "scatterpolar": [
           {
            "marker": {
             "colorbar": {
              "outlinewidth": 0,
              "ticks": ""
             }
            },
            "type": "scatterpolar"
           }
          ],
          "scatterpolargl": [
           {
            "marker": {
             "colorbar": {
              "outlinewidth": 0,
              "ticks": ""
             }
            },
            "type": "scatterpolargl"
           }
          ],
          "scatterternary": [
           {
            "marker": {
             "colorbar": {
              "outlinewidth": 0,
              "ticks": ""
             }
            },
            "type": "scatterternary"
           }
          ],
          "surface": [
           {
            "colorbar": {
             "outlinewidth": 0,
             "ticks": ""
            },
            "colorscale": [
             [
              0,
              "#0d0887"
             ],
             [
              0.1111111111111111,
              "#46039f"
             ],
             [
              0.2222222222222222,
              "#7201a8"
             ],
             [
              0.3333333333333333,
              "#9c179e"
             ],
             [
              0.4444444444444444,
              "#bd3786"
             ],
             [
              0.5555555555555556,
              "#d8576b"
             ],
             [
              0.6666666666666666,
              "#ed7953"
             ],
             [
              0.7777777777777778,
              "#fb9f3a"
             ],
             [
              0.8888888888888888,
              "#fdca26"
             ],
             [
              1,
              "#f0f921"
             ]
            ],
            "type": "surface"
           }
          ],
          "table": [
           {
            "cells": {
             "fill": {
              "color": "#EBF0F8"
             },
             "line": {
              "color": "white"
             }
            },
            "header": {
             "fill": {
              "color": "#C8D4E3"
             },
             "line": {
              "color": "white"
             }
            },
            "type": "table"
           }
          ]
         },
         "layout": {
          "annotationdefaults": {
           "arrowcolor": "#2a3f5f",
           "arrowhead": 0,
           "arrowwidth": 1
          },
          "autotypenumbers": "strict",
          "coloraxis": {
           "colorbar": {
            "outlinewidth": 0,
            "ticks": ""
           }
          },
          "colorscale": {
           "diverging": [
            [
             0,
             "#8e0152"
            ],
            [
             0.1,
             "#c51b7d"
            ],
            [
             0.2,
             "#de77ae"
            ],
            [
             0.3,
             "#f1b6da"
            ],
            [
             0.4,
             "#fde0ef"
            ],
            [
             0.5,
             "#f7f7f7"
            ],
            [
             0.6,
             "#e6f5d0"
            ],
            [
             0.7,
             "#b8e186"
            ],
            [
             0.8,
             "#7fbc41"
            ],
            [
             0.9,
             "#4d9221"
            ],
            [
             1,
             "#276419"
            ]
           ],
           "sequential": [
            [
             0,
             "#0d0887"
            ],
            [
             0.1111111111111111,
             "#46039f"
            ],
            [
             0.2222222222222222,
             "#7201a8"
            ],
            [
             0.3333333333333333,
             "#9c179e"
            ],
            [
             0.4444444444444444,
             "#bd3786"
            ],
            [
             0.5555555555555556,
             "#d8576b"
            ],
            [
             0.6666666666666666,
             "#ed7953"
            ],
            [
             0.7777777777777778,
             "#fb9f3a"
            ],
            [
             0.8888888888888888,
             "#fdca26"
            ],
            [
             1,
             "#f0f921"
            ]
           ],
           "sequentialminus": [
            [
             0,
             "#0d0887"
            ],
            [
             0.1111111111111111,
             "#46039f"
            ],
            [
             0.2222222222222222,
             "#7201a8"
            ],
            [
             0.3333333333333333,
             "#9c179e"
            ],
            [
             0.4444444444444444,
             "#bd3786"
            ],
            [
             0.5555555555555556,
             "#d8576b"
            ],
            [
             0.6666666666666666,
             "#ed7953"
            ],
            [
             0.7777777777777778,
             "#fb9f3a"
            ],
            [
             0.8888888888888888,
             "#fdca26"
            ],
            [
             1,
             "#f0f921"
            ]
           ]
          },
          "colorway": [
           "#636efa",
           "#EF553B",
           "#00cc96",
           "#ab63fa",
           "#FFA15A",
           "#19d3f3",
           "#FF6692",
           "#B6E880",
           "#FF97FF",
           "#FECB52"
          ],
          "font": {
           "color": "#2a3f5f"
          },
          "geo": {
           "bgcolor": "white",
           "lakecolor": "white",
           "landcolor": "white",
           "showlakes": true,
           "showland": true,
           "subunitcolor": "#C8D4E3"
          },
          "hoverlabel": {
           "align": "left"
          },
          "hovermode": "closest",
          "mapbox": {
           "style": "light"
          },
          "paper_bgcolor": "white",
          "plot_bgcolor": "white",
          "polar": {
           "angularaxis": {
            "gridcolor": "#EBF0F8",
            "linecolor": "#EBF0F8",
            "ticks": ""
           },
           "bgcolor": "white",
           "radialaxis": {
            "gridcolor": "#EBF0F8",
            "linecolor": "#EBF0F8",
            "ticks": ""
           }
          },
          "scene": {
           "xaxis": {
            "backgroundcolor": "white",
            "gridcolor": "#DFE8F3",
            "gridwidth": 2,
            "linecolor": "#EBF0F8",
            "showbackground": true,
            "ticks": "",
            "zerolinecolor": "#EBF0F8"
           },
           "yaxis": {
            "backgroundcolor": "white",
            "gridcolor": "#DFE8F3",
            "gridwidth": 2,
            "linecolor": "#EBF0F8",
            "showbackground": true,
            "ticks": "",
            "zerolinecolor": "#EBF0F8"
           },
           "zaxis": {
            "backgroundcolor": "white",
            "gridcolor": "#DFE8F3",
            "gridwidth": 2,
            "linecolor": "#EBF0F8",
            "showbackground": true,
            "ticks": "",
            "zerolinecolor": "#EBF0F8"
           }
          },
          "shapedefaults": {
           "line": {
            "color": "#2a3f5f"
           }
          },
          "ternary": {
           "aaxis": {
            "gridcolor": "#DFE8F3",
            "linecolor": "#A2B1C6",
            "ticks": ""
           },
           "baxis": {
            "gridcolor": "#DFE8F3",
            "linecolor": "#A2B1C6",
            "ticks": ""
           },
           "bgcolor": "white",
           "caxis": {
            "gridcolor": "#DFE8F3",
            "linecolor": "#A2B1C6",
            "ticks": ""
           }
          },
          "title": {
           "x": 0.05
          },
          "xaxis": {
           "automargin": true,
           "gridcolor": "#EBF0F8",
           "linecolor": "#EBF0F8",
           "ticks": "",
           "title": {
            "standoff": 15
           },
           "zerolinecolor": "#EBF0F8",
           "zerolinewidth": 2
          },
          "yaxis": {
           "automargin": true,
           "gridcolor": "#EBF0F8",
           "linecolor": "#EBF0F8",
           "ticks": "",
           "title": {
            "standoff": 15
           },
           "zerolinecolor": "#EBF0F8",
           "zerolinewidth": 2
          }
         }
        },
        "title": {
         "text": "5) Price Variation by Quantity (Categorical) and Drug"
        },
        "xaxis": {
         "anchor": "y",
         "domain": [
          0,
          1
         ],
         "title": {
          "text": "Quantity (as Category)"
         }
        },
        "yaxis": {
         "anchor": "x",
         "domain": [
          0,
          1
         ],
         "title": {
          "text": "Price (USD)"
         }
        }
       }
      },
      "image/png": "[encoded data removed]",
      "text/html": [
       "<div>                            <div id=\"12d17ad5-cc32-4c07-856f-69c67f6970ec\" class=\"plotly-graph-div\" style=\"height:525px; width:100%;\"></div>            <script type=\"text/javascript\">                require([\"plotly\"], function(Plotly) {                    window.PLOTLYENV=window.PLOTLYENV || {};                                    if (document.getElementById(\"12d17ad5-cc32-4c07-856f-69c67f6970ec\")) {                    Plotly.newPlot(                        \"12d17ad5-cc32-4c07-856f-69c67f6970ec\",                        [{\"alignmentgroup\":\"True\",\"boxpoints\":\"all\",\"customdata\":[[\"New York\",\"CVS Pharmacy\",false],[\"New York\",\"Walgreens\",false],[\"New York\",\"ShopRite\",false],[\"New York\",\"Walmart\",false],[\"New York\",\"Duane Reade\",false],[\"New York\",\"Target (CVS)\",false],[\"New York\",\"Costco\",false],[\"New York\",\"Acme Markets Pharmacy Pay online\",true],[\"New York\",\"Capsule Pharmacy\",false],[\"New York\",\"Wegmans\",false],[\"New York\",\"ACME Sav-On Pay online\",true],[\"New York\",\"Walgreens Specialty Pharmacy\",false],[\"New York\",\"Walmart Neighborhood Market\",false],[\"New York\",\"King Kullen\",false],[\"New York\",\"Rite Aid\",false],[\"Los Angeles\",\"CVS Pharmacy\",false],[\"Los Angeles\",\"Walgreens\",false],[\"Los Angeles\",\"Vons Pharmacy Pay online\",true],[\"Los Angeles\",\"Walmart\",false],[\"Los Angeles\",\"Albertsons (Sav-on) Pay online\",true],[\"Los Angeles\",\"Costco\",false],[\"Los Angeles\",\"Target (CVS)\",false],[\"Los Angeles\",\"Walmart Neighborhood Market\",false],[\"Los Angeles\",\"Ralphs\",false],[\"Los Angeles\",\"Pavilions Pharmacy Pay online\",true],[\"Los Angeles\",\"Walgreens Specialty Pharmacy\",false],[\"Los Angeles\",\"Capsule Pharmacy\",false],[\"Los Angeles\",\"Rite Aid\",false],[\"Chicago\",\"Walgreens\",false],[\"Chicago\",\"Jewel-Osco\",false],[\"Chicago\",\"CVS Pharmacy\",false],[\"Chicago\",\"Meijer Pharmacy\",false],[\"Chicago\",\"Walmart\",false],[\"Chicago\",\"Target (CVS)\",false],[\"Chicago\",\"Costco\",false],[\"Chicago\",\"Mariano's\",false],[\"Chicago\",\"Walgreens Specialty Pharmacy\",false],[\"Chicago\",\"Walmart Neighborhood Market\",false],[\"Chicago\",\"Aurora Pharmacy\",false],[\"Chicago\",\"Capsule Pharmacy\",false]],\"fillcolor\":\"rgba(255,255,255,0)\",\"hoveron\":\"points\",\"hovertemplate\":\"drug=Atorvastatin\\u003cbr\\u003eQuantity (as Category)=%{x}\\u003cbr\\u003ePrice (USD)=%{y}\\u003cbr\\u003ecity=%{customdata[0]}\\u003cbr\\u003epharmacy=%{customdata[1]}\\u003cbr\\u003eonline_pharmacy=%{customdata[2]}\\u003cextra\\u003e\\u003c\\u002fextra\\u003e\",\"legendgroup\":\"Atorvastatin\",\"line\":{\"color\":\"rgba(255,255,255,0)\"},\"marker\":{\"color\":\"#636efa\",\"opacity\":0.8,\"size\":8},\"name\":\"Atorvastatin\",\"offsetgroup\":\"Atorvastatin\",\"orientation\":\"v\",\"pointpos\":0,\"showlegend\":true,\"x\":[\"30.0\",\"30.0\",\"30.0\",\"30.0\",\"30.0\",\"30.0\",\"30.0\",\"30.0\",\"30.0\",\"30.0\",\"30.0\",\"30.0\",\"30.0\",\"30.0\",\"30.0\",\"30.0\",\"30.0\",\"30.0\",\"30.0\",\"30.0\",\"30.0\",\"30.0\",\"30.0\",\"30.0\",\"30.0\",\"30.0\",\"30.0\",\"30.0\",\"30.0\",\"30.0\",\"30.0\",\"30.0\",\"30.0\",\"30.0\",\"30.0\",\"30.0\",\"30.0\",\"30.0\",\"30.0\",\"30.0\"],\"x0\":\" \",\"xaxis\":\"x\",\"y\":[19.67,11.72,10.34,7.74,11.72,19.67,16.66,7.53,17.93,6.89,7.53,11.72,7.74,6.79,11.89,19.67,11.72,7.53,7.74,7.53,16.66,19.67,7.74,10.54,7.53,11.72,17.93,11.89,11.72,7.53,19.67,10.25,7.74,19.67,16.66,10.54,11.72,7.74,8.99,17.93],\"y0\":\" \",\"yaxis\":\"y\",\"type\":\"box\",\"jitter\":0.4},{\"alignmentgroup\":\"True\",\"boxpoints\":\"all\",\"customdata\":[[\"New York\",\"CVS Pharmacy\",false],[\"New York\",\"Walgreens\",false],[\"New York\",\"ShopRite\",false],[\"New York\",\"Target (CVS)\",false],[\"New York\",\"Acme Markets Pharmacy Pay online\",true],[\"New York\",\"Duane Reade\",false],[\"New York\",\"Capsule Pharmacy\",false],[\"New York\",\"Costco\",false],[\"New York\",\"Wegmans\",false],[\"New York\",\"ACME Sav-On Pay online\",true],[\"New York\",\"Sams Club\",false],[\"New York\",\"Walmart\",false],[\"New York\",\"Walgreens Specialty Pharmacy\",false],[\"Los Angeles\",\"CVS Pharmacy\",false],[\"Chicago\",\"Walgreens\",false],[\"Chicago\",\"Jewel-Osco\",false],[\"Chicago\",\"CVS Pharmacy\",false],[\"Chicago\",\"Meijer Pharmacy\",false],[\"Chicago\",\"Target (CVS)\",false],[\"Chicago\",\"Costco\",false],[\"Chicago\",\"Walmart\",false],[\"Chicago\",\"Mariano's\",false],[\"Chicago\",\"Sams Club\",false],[\"Chicago\",\"Aurora Pharmacy\",false],[\"Chicago\",\"Walmart Neighborhood Market\",false],[\"Chicago\",\"Walgreens Specialty Pharmacy\",false],[\"Chicago\",\"Capsule Pharmacy\",false]],\"fillcolor\":\"rgba(255,255,255,0)\",\"hoveron\":\"points\",\"hovertemplate\":\"drug=Lisinopril\\u003cbr\\u003eQuantity (as Category)=%{x}\\u003cbr\\u003ePrice (USD)=%{y}\\u003cbr\\u003ecity=%{customdata[0]}\\u003cbr\\u003epharmacy=%{customdata[1]}\\u003cbr\\u003eonline_pharmacy=%{customdata[2]}\\u003cextra\\u003e\\u003c\\u002fextra\\u003e\",\"legendgroup\":\"Lisinopril\",\"line\":{\"color\":\"rgba(255,255,255,0)\"},\"marker\":{\"color\":\"#EF553B\",\"opacity\":0.8,\"size\":8},\"name\":\"Lisinopril\",\"offsetgroup\":\"Lisinopril\",\"orientation\":\"v\",\"pointpos\":0,\"showlegend\":true,\"x\":[\"30.0\",\"30.0\",\"30.0\",\"30.0\",\"30.0\",\"30.0\",\"30.0\",\"30.0\",\"30.0\",\"30.0\",\"30.0\",\"30.0\",\"30.0\",\"30.0\",\"30.0\",\"30.0\",\"30.0\",\"30.0\",\"30.0\",\"30.0\",\"30.0\",\"30.0\",\"30.0\",\"30.0\",\"30.0\",\"30.0\",\"30.0\"],\"x0\":\" \",\"xaxis\":\"x\",\"y\":[8.57,4.83,5.85,8.57,2.0,4.83,17.34,8.66,3.25,2.0,7.84,9.0,4.83,8.57,4.83,2.0,8.57,8.47,8.57,8.66,9.0,7.79,7.84,5.92,9.0,4.83,17.34],\"y0\":\" \",\"yaxis\":\"y\",\"type\":\"box\",\"jitter\":0.4},{\"alignmentgroup\":\"True\",\"boxpoints\":\"all\",\"customdata\":[[\"New York\",\"CVS Pharmacy\",false],[\"New York\",\"Walgreens\",false],[\"New York\",\"Duane Reade\",false],[\"New York\",\"Target (CVS)\",false],[\"New York\",\"ShopRite\",false],[\"New York\",\"Capsule Pharmacy\",false],[\"New York\",\"Acme Markets Pharmacy Pay online\",true],[\"New York\",\"Costco\",false],[\"New York\",\"Wegmans\",false],[\"New York\",\"Walmart\",false],[\"New York\",\"Walgreens Specialty Pharmacy\",false],[\"New York\",\"ACME Sav-On Pay online\",true],[\"New York\",\"Sams Club\",false],[\"New York\",\"Walmart Neighborhood Market\",false],[\"New York\",\"King Kullen\",false],[\"New York\",\"Rite Aid\",false],[\"Los Angeles\",\"CVS Pharmacy\",false],[\"Los Angeles\",\"Walgreens\",false],[\"Los Angeles\",\"Vons Pharmacy Pay online\",true],[\"Los Angeles\",\"Albertsons (Sav-on) Pay online\",true],[\"Los Angeles\",\"Target (CVS)\",false],[\"Los Angeles\",\"Pavilions Pharmacy Pay online\",true],[\"Los Angeles\",\"Costco\",false],[\"Los Angeles\",\"Ralphs\",false],[\"Los Angeles\",\"Walmart\",false],[\"Los Angeles\",\"Walmart Neighborhood Market\",false],[\"Los Angeles\",\"Sams Club\",false],[\"Los Angeles\",\"Walgreens Specialty Pharmacy\",false],[\"Los Angeles\",\"Rite Aid\",false],[\"Los Angeles\",\"Capsule Pharmacy\",false],[\"Chicago\",\"Walgreens\",false],[\"Chicago\",\"Jewel-Osco\",false],[\"Chicago\",\"CVS Pharmacy\",false],[\"Chicago\",\"Meijer Pharmacy\",false],[\"Chicago\",\"Target (CVS)\",false],[\"Chicago\",\"Costco\",false],[\"Chicago\",\"Walmart\",false],[\"Chicago\",\"Mariano's\",false],[\"Chicago\",\"Sams Club\",false],[\"Chicago\",\"Aurora Pharmacy\",false],[\"Chicago\",\"Walmart Neighborhood Market\",false],[\"Chicago\",\"Walgreens Specialty Pharmacy\",false],[\"Chicago\",\"Capsule Pharmacy\",false]],\"fillcolor\":\"rgba(255,255,255,0)\",\"hoveron\":\"points\",\"hovertemplate\":\"drug=Metformin\\u003cbr\\u003eQuantity (as Category)=%{x}\\u003cbr\\u003ePrice (USD)=%{y}\\u003cbr\\u003ecity=%{customdata[0]}\\u003cbr\\u003epharmacy=%{customdata[1]}\\u003cbr\\u003eonline_pharmacy=%{customdata[2]}\\u003cextra\\u003e\\u003c\\u002fextra\\u003e\",\"legendgroup\":\"Metformin\",\"line\":{\"color\":\"rgba(255,255,255,0)\"},\"marker\":{\"color\":\"#00cc96\",\"opacity\":0.8,\"size\":8},\"name\":\"Metformin\",\"offsetgroup\":\"Metformin\",\"orientation\":\"v\",\"pointpos\":0,\"showlegend\":true,\"x\":[\"60.0\",\"60.0\",\"60.0\",\"60.0\",\"60.0\",\"60.0\",\"60.0\",\"60.0\",\"60.0\",\"60.0\",\"60.0\",\"60.0\",\"60.0\",\"60.0\",\"60.0\",\"60.0\",\"60.0\",\"60.0\",\"60.0\",\"60.0\",\"60.0\",\"60.0\",\"60.0\",\"60.0\",\"60.0\",\"60.0\",\"60.0\",\"60.0\",\"60.0\",\"60.0\",\"60.0\",\"60.0\",\"60.0\",\"60.0\",\"60.0\",\"60.0\",\"60.0\",\"60.0\",\"60.0\",\"60.0\",\"60.0\",\"60.0\",\"60.0\"],\"x0\":\" \",\"xaxis\":\"x\",\"y\":[19.64,4.86,4.86,19.64,7.97,20.43,2.0,13.99,2.82,9.0,4.86,2.0,9.82,9.0,6.52,11.36,19.64,4.86,2.0,2.0,19.64,2.0,13.99,14.87,9.0,9.0,9.82,4.86,11.36,20.43,4.86,2.0,19.64,8.18,19.64,13.99,9.0,14.87,9.82,6.89,9.0,4.86,20.43],\"y0\":\" \",\"yaxis\":\"y\",\"type\":\"box\",\"jitter\":0.4},{\"alignmentgroup\":\"True\",\"boxpoints\":\"all\",\"customdata\":[[\"New York\",\"CVS Pharmacy\",false],[\"New York\",\"Walgreens\",false],[\"New York\",\"ShopRite\",false],[\"New York\",\"Duane Reade\",false],[\"New York\",\"Costco\",false],[\"New York\",\"Target (CVS)\",false],[\"New York\",\"Capsule Pharmacy\",false],[\"New York\",\"Acme Markets Pharmacy Pay online\",true],[\"New York\",\"Wegmans\",false],[\"New York\",\"Walmart\",false],[\"New York\",\"ACME Sav-On Pay online\",true],[\"New York\",\"Sams Club\",false],[\"New York\",\"Walgreens Specialty Pharmacy\",false],[\"New York\",\"King Kullen\",false],[\"New York\",\"Walmart Neighborhood Market\",false],[\"New York\",\"Rite Aid\",false],[\"Los Angeles\",\"CVS Pharmacy\",false],[\"Los Angeles\",\"Walgreens\",false],[\"Los Angeles\",\"Albertsons (Sav-on) Pay online\",true],[\"Los Angeles\",\"Vons Pharmacy Pay online\",true],[\"Los Angeles\",\"Costco\",false],[\"Los Angeles\",\"Target (CVS)\",false],[\"Los Angeles\",\"Pavilions Pharmacy Pay online\",true],[\"Los Angeles\",\"Ralphs\",false],[\"Los Angeles\",\"Walmart\",false],[\"Los Angeles\",\"Walgreens Specialty Pharmacy\",false],[\"Los Angeles\",\"Sams Club\",false],[\"Los Angeles\",\"Walmart Neighborhood Market\",false],[\"Los Angeles\",\"Rite Aid\",false],[\"Los Angeles\",\"Capsule Pharmacy\",false],[\"Chicago\",\"Walgreens\",false],[\"Chicago\",\"Jewel-Osco\",false],[\"Chicago\",\"Meijer Pharmacy\",false],[\"Chicago\",\"CVS Pharmacy\",false],[\"Chicago\",\"Costco\",false],[\"Chicago\",\"Target (CVS)\",false],[\"Chicago\",\"Walmart\",false],[\"Chicago\",\"Mariano's\",false],[\"Chicago\",\"Sams Club\",false],[\"Chicago\",\"Aurora Pharmacy\",false],[\"Chicago\",\"Walmart Neighborhood Market\",false],[\"Chicago\",\"Walgreens Specialty Pharmacy\",false],[\"Chicago\",\"Capsule Pharmacy\",false]],\"fillcolor\":\"rgba(255,255,255,0)\",\"hoveron\":\"points\",\"hovertemplate\":\"drug=Amlodipine\\u003cbr\\u003eQuantity (as Category)=%{x}\\u003cbr\\u003ePrice (USD)=%{y}\\u003cbr\\u003ecity=%{customdata[0]}\\u003cbr\\u003epharmacy=%{customdata[1]}\\u003cbr\\u003eonline_pharmacy=%{customdata[2]}\\u003cextra\\u003e\\u003c\\u002fextra\\u003e\",\"legendgroup\":\"Amlodipine\",\"line\":{\"color\":\"rgba(255,255,255,0)\"},\"marker\":{\"color\":\"#ab63fa\",\"opacity\":0.8,\"size\":8},\"name\":\"Amlodipine\",\"offsetgroup\":\"Amlodipine\",\"orientation\":\"v\",\"pointpos\":0,\"showlegend\":true,\"x\":[\"30.0\",\"30.0\",\"30.0\",\"30.0\",\"30.0\",\"30.0\",\"30.0\",\"30.0\",\"30.0\",\"30.0\",\"30.0\",\"30.0\",\"30.0\",\"30.0\",\"30.0\",\"30.0\",\"30.0\",\"30.0\",\"30.0\",\"30.0\",\"30.0\",\"30.0\",\"30.0\",\"30.0\",\"30.0\",\"30.0\",\"30.0\",\"30.0\",\"30.0\",\"30.0\",\"30.0\",\"30.0\",\"30.0\",\"30.0\",\"30.0\",\"30.0\",\"30.0\",\"30.0\",\"30.0\",\"30.0\",\"30.0\",\"30.0\",\"30.0\"],\"x0\":\" \",\"xaxis\":\"x\",\"y\":[19.22,10.13,10.44,10.13,12.99,19.22,18.86,2.88,3.05,9.0,2.88,7.26,10.13,6.05,9.0,11.02,19.22,10.13,2.88,2.88,12.99,19.22,2.88,7.53,9.0,10.13,7.26,9.0,11.02,18.86,10.13,2.88,8.7,19.22,12.99,19.22,9.0,7.53,7.26,8.07,9.0,10.13,18.86],\"y0\":\" \",\"yaxis\":\"y\",\"type\":\"box\",\"jitter\":0.4},{\"alignmentgroup\":\"True\",\"boxpoints\":\"all\",\"customdata\":[[\"New York\",\"CVS Pharmacy\",false],[\"New York\",\"Walgreens\",false],[\"New York\",\"ShopRite\",false],[\"New York\",\"Duane Reade\",false],[\"New York\",\"Capsule Pharmacy\",false],[\"New York\",\"Costco\",false],[\"New York\",\"Target (CVS)\",false],[\"New York\",\"Acme Markets Pharmacy\",false],[\"New York\",\"Walmart\",false],[\"New York\",\"Wegmans\",false],[\"New York\",\"ACME Sav-On\",false],[\"New York\",\"Walgreens Specialty Pharmacy\",false],[\"New York\",\"King Kullen\",false],[\"New York\",\"Walmart Neighborhood Market\",false],[\"New York\",\"Rite Aid\",false],[\"Los Angeles\",\"CVS Pharmacy\",false],[\"Los Angeles\",\"Vons Pharmacy\",false],[\"Los Angeles\",\"Walgreens\",false],[\"Los Angeles\",\"Costco\",false],[\"Los Angeles\",\"Albertsons (Sav-on)\",false],[\"Los Angeles\",\"Target (CVS)\",false],[\"Los Angeles\",\"Pavilions Pharmacy\",false],[\"Los Angeles\",\"Ralphs\",false],[\"Los Angeles\",\"Walmart\",false],[\"Los Angeles\",\"Walgreens Specialty Pharmacy\",false],[\"Los Angeles\",\"Walmart Neighborhood Market\",false],[\"Los Angeles\",\"Rite Aid\",false],[\"Los Angeles\",\"Capsule Pharmacy\",false],[\"Chicago\",\"Walgreens\",false],[\"Chicago\",\"Jewel-Osco\",false],[\"Chicago\",\"Meijer Pharmacy\",false],[\"Chicago\",\"CVS Pharmacy\",false],[\"Chicago\",\"Costco\",false],[\"Chicago\",\"Target (CVS)\",false],[\"Chicago\",\"Walmart\",false],[\"Chicago\",\"Mariano's\",false],[\"Chicago\",\"Walgreens Specialty Pharmacy\",false],[\"Chicago\",\"Aurora Pharmacy\",false],[\"Chicago\",\"Walmart Neighborhood Market\",false],[\"Chicago\",\"Capsule Pharmacy\",false]],\"fillcolor\":\"rgba(255,255,255,0)\",\"hoveron\":\"points\",\"hovertemplate\":\"drug=Omeprazole\\u003cbr\\u003eQuantity (as Category)=%{x}\\u003cbr\\u003ePrice (USD)=%{y}\\u003cbr\\u003ecity=%{customdata[0]}\\u003cbr\\u003epharmacy=%{customdata[1]}\\u003cbr\\u003eonline_pharmacy=%{customdata[2]}\\u003cextra\\u003e\\u003c\\u002fextra\\u003e\",\"legendgroup\":\"Omeprazole\",\"line\":{\"color\":\"rgba(255,255,255,0)\"},\"marker\":{\"color\":\"#FFA15A\",\"opacity\":0.8,\"size\":8},\"name\":\"Omeprazole\",\"offsetgroup\":\"Omeprazole\",\"orientation\":\"v\",\"pointpos\":0,\"showlegend\":true,\"x\":[\"30.0\",\"30.0\",\"30.0\",\"30.0\",\"30.0\",\"30.0\",\"30.0\",\"30.0\",\"30.0\",\"30.0\",\"30.0\",\"30.0\",\"30.0\",\"30.0\",\"30.0\",\"30.0\",\"30.0\",\"30.0\",\"30.0\",\"30.0\",\"30.0\",\"30.0\",\"30.0\",\"30.0\",\"30.0\",\"30.0\",\"30.0\",\"30.0\",\"30.0\",\"30.0\",\"30.0\",\"30.0\",\"30.0\",\"30.0\",\"30.0\",\"30.0\",\"30.0\",\"30.0\",\"30.0\",\"30.0\"],\"x0\":\" \",\"xaxis\":\"x\",\"y\":[20.03,18.37,10.75,18.37,23.09,13.66,20.03,7.0,2.0,5.82,7.0,18.37,8.55,2.0,12.09,20.03,7.0,18.37,13.66,7.0,20.03,7.0,8.6,2.0,18.37,2.0,12.09,23.09,18.37,7.0,10.07,20.03,13.66,20.03,2.0,8.6,18.37,8.82,2.0,23.09],\"y0\":\" \",\"yaxis\":\"y\",\"type\":\"box\",\"jitter\":0.4},{\"alignmentgroup\":\"True\",\"boxpoints\":\"all\",\"customdata\":[[\"New York\",\"CVS Pharmacy\",false],[\"New York\",\"Walgreens\",false],[\"New York\",\"ShopRite\",false],[\"New York\",\"Target (CVS)\",false],[\"New York\",\"Duane Reade\",false],[\"New York\",\"Costco\",false],[\"New York\",\"Capsule Pharmacy\",false],[\"New York\",\"Acme Markets Pharmacy Pay online\",true],[\"New York\",\"Walmart\",false],[\"New York\",\"Wegmans\",false],[\"New York\",\"ACME Sav-On Pay online\",true],[\"New York\",\"Walgreens Specialty Pharmacy\",false],[\"New York\",\"Walmart Neighborhood Market\",false],[\"New York\",\"Rite Aid\",false],[\"New York\",\"King Kullen\",false],[\"Los Angeles\",\"CVS Pharmacy\",false],[\"Los Angeles\",\"Vons Pharmacy Pay online\",true],[\"Los Angeles\",\"Target (CVS)\",false],[\"Los Angeles\",\"Albertsons (Sav-on) Pay online\",true],[\"Los Angeles\",\"Walgreens\",false],[\"Los Angeles\",\"Pavilions Pharmacy Pay online\",true],[\"Los Angeles\",\"Ralphs\",false],[\"Los Angeles\",\"Costco\",false],[\"Los Angeles\",\"Walmart\",false],[\"Los Angeles\",\"Walmart Neighborhood Market\",false],[\"Los Angeles\",\"Rite Aid\",false],[\"Los Angeles\",\"Walgreens Specialty Pharmacy\",false],[\"Los Angeles\",\"Capsule Pharmacy\",false],[\"Chicago\",\"Jewel-Osco\",false],[\"Chicago\",\"Walgreens\",false],[\"Chicago\",\"Meijer Pharmacy\",false],[\"Chicago\",\"CVS Pharmacy\",false],[\"Chicago\",\"Target (CVS)\",false],[\"Chicago\",\"Mariano's\",false],[\"Chicago\",\"Walmart\",false],[\"Chicago\",\"Costco\",false],[\"Chicago\",\"Aurora Pharmacy\",false],[\"Chicago\",\"Walmart Neighborhood Market\",false],[\"Chicago\",\"Walgreens Specialty Pharmacy\",false],[\"Chicago\",\"Capsule Pharmacy\",false]],\"fillcolor\":\"rgba(255,255,255,0)\",\"hoveron\":\"points\",\"hovertemplate\":\"drug=Simvastatin\\u003cbr\\u003eQuantity (as Category)=%{x}\\u003cbr\\u003ePrice (USD)=%{y}\\u003cbr\\u003ecity=%{customdata[0]}\\u003cbr\\u003epharmacy=%{customdata[1]}\\u003cbr\\u003eonline_pharmacy=%{customdata[2]}\\u003cextra\\u003e\\u003c\\u002fextra\\u003e\",\"legendgroup\":\"Simvastatin\",\"line\":{\"color\":\"rgba(255,255,255,0)\"},\"marker\":{\"color\":\"#19d3f3\",\"opacity\":0.8,\"size\":8},\"name\":\"Simvastatin\",\"offsetgroup\":\"Simvastatin\",\"orientation\":\"v\",\"pointpos\":0,\"showlegend\":true,\"x\":[\"90.0\",\"90.0\",\"90.0\",\"90.0\",\"90.0\",\"90.0\",\"90.0\",\"90.0\",\"90.0\",\"90.0\",\"90.0\",\"90.0\",\"90.0\",\"90.0\",\"90.0\",\"90.0\",\"90.0\",\"90.0\",\"90.0\",\"90.0\",\"90.0\",\"90.0\",\"90.0\",\"90.0\",\"90.0\",\"90.0\",\"90.0\",\"90.0\",\"90.0\",\"90.0\",\"90.0\",\"90.0\",\"90.0\",\"90.0\",\"90.0\",\"90.0\",\"90.0\",\"90.0\",\"90.0\",\"90.0\"],\"x0\":\" \",\"xaxis\":\"x\",\"y\":[28.04,33.6,13.7,28.04,33.6,21.99,27.09,3.05,24.0,13.38,3.05,33.6,24.0,19.3,13.7,28.04,3.05,28.04,3.05,33.6,3.05,19.8,21.99,24.0,24.0,19.3,33.6,27.09,3.05,33.6,11.3,28.04,28.04,19.8,24.0,21.99,9.95,24.0,33.6,27.09],\"y0\":\" \",\"yaxis\":\"y\",\"type\":\"box\",\"jitter\":0.4},{\"alignmentgroup\":\"True\",\"boxpoints\":\"all\",\"customdata\":[[\"New York\",\"CVS Pharmacy\",false],[\"New York\",\"Walgreens\",false],[\"New York\",\"ShopRite\",false],[\"New York\",\"Duane Reade\",false],[\"New York\",\"Acme Markets Pharmacy Pay online\",true],[\"New York\",\"Target (CVS)\",false],[\"New York\",\"Wegmans\",false],[\"New York\",\"Costco\",false],[\"New York\",\"Capsule Pharmacy\",false],[\"New York\",\"ACME Sav-On Pay online\",true],[\"New York\",\"Sams Club\",false],[\"New York\",\"Walmart\",false],[\"New York\",\"Walgreens Specialty Pharmacy\",false],[\"New York\",\"Walmart Neighborhood Market\",false],[\"New York\",\"King Kullen\",false],[\"New York\",\"Rite Aid\",false],[\"Los Angeles\",\"CVS Pharmacy\",false],[\"Los Angeles\",\"Vons Pharmacy Pay online\",true],[\"Los Angeles\",\"Albertsons (Sav-on) Pay online\",true],[\"Los Angeles\",\"Walgreens\",false],[\"Los Angeles\",\"Pavilions Pharmacy Pay online\",true],[\"Los Angeles\",\"Target (CVS)\",false],[\"Los Angeles\",\"Ralphs\",false],[\"Los Angeles\",\"Costco\",false],[\"Los Angeles\",\"Sams Club\",false],[\"Los Angeles\",\"Walmart\",false],[\"Los Angeles\",\"Walmart Neighborhood Market\",false],[\"Los Angeles\",\"Walgreens Specialty Pharmacy\",false],[\"Los Angeles\",\"Rite Aid\",false],[\"Los Angeles\",\"Capsule Pharmacy\",false]],\"fillcolor\":\"rgba(255,255,255,0)\",\"hoveron\":\"points\",\"hovertemplate\":\"drug=Losartan\\u003cbr\\u003eQuantity (as Category)=%{x}\\u003cbr\\u003ePrice (USD)=%{y}\\u003cbr\\u003ecity=%{customdata[0]}\\u003cbr\\u003epharmacy=%{customdata[1]}\\u003cbr\\u003eonline_pharmacy=%{customdata[2]}\\u003cextra\\u003e\\u003c\\u002fextra\\u003e\",\"legendgroup\":\"Losartan\",\"line\":{\"color\":\"rgba(255,255,255,0)\"},\"marker\":{\"color\":\"#FF6692\",\"opacity\":0.8,\"size\":8},\"name\":\"Losartan\",\"offsetgroup\":\"Losartan\",\"orientation\":\"v\",\"pointpos\":0,\"showlegend\":true,\"x\":[\"30.0\",\"30.0\",\"30.0\",\"30.0\",\"30.0\",\"30.0\",\"30.0\",\"30.0\",\"30.0\",\"30.0\",\"30.0\",\"30.0\",\"30.0\",\"30.0\",\"30.0\",\"30.0\",\"30.0\",\"30.0\",\"30.0\",\"30.0\",\"30.0\",\"30.0\",\"30.0\",\"30.0\",\"30.0\",\"30.0\",\"30.0\",\"30.0\",\"30.0\",\"30.0\"],\"x0\":\" \",\"xaxis\":\"x\",\"y\":[19.43,11.21,9.84,11.21,2.0,19.43,5.63,21.99,16.47,2.0,7.1,9.0,11.21,9.0,6.87,11.56,19.43,2.0,2.0,11.21,2.0,19.43,7.3,21.99,7.1,9.0,9.0,11.21,11.56,16.47],\"y0\":\" \",\"yaxis\":\"y\",\"type\":\"box\",\"jitter\":0.4},{\"alignmentgroup\":\"True\",\"boxpoints\":\"all\",\"customdata\":[[\"New York\",\"CVS Pharmacy\",false],[\"New York\",\"Walgreens\",false],[\"New York\",\"ShopRite\",false],[\"New York\",\"Costco\",false],[\"New York\",\"Target (CVS)\",false],[\"New York\",\"Duane Reade\",false],[\"New York\",\"Acme Markets Pharmacy Pay online\",true],[\"New York\",\"Capsule Pharmacy\",false],[\"New York\",\"Wegmans\",false],[\"New York\",\"Walmart\",false],[\"New York\",\"ACME Sav-On Pay online\",true],[\"New York\",\"Walgreens Specialty Pharmacy\",false],[\"New York\",\"Rite Aid\",false],[\"New York\",\"Walmart Neighborhood Market\",false],[\"New York\",\"King Kullen\",false],[\"Los Angeles\",\"CVS Pharmacy\",false],[\"Los Angeles\",\"Costco\",false],[\"Los Angeles\",\"Walgreens\",false],[\"Los Angeles\",\"Vons Pharmacy Pay online\",true],[\"Los Angeles\",\"Albertsons (Sav-on) Pay online\",true],[\"Los Angeles\",\"Target (CVS)\",false],[\"Los Angeles\",\"Ralphs\",false],[\"Los Angeles\",\"Pavilions Pharmacy Pay online\",true],[\"Los Angeles\",\"Walmart Neighborhood Market\",false],[\"Los Angeles\",\"Walgreens Specialty Pharmacy\",false],[\"Los Angeles\",\"Walmart\",false],[\"Los Angeles\",\"Capsule Pharmacy\",false],[\"Los Angeles\",\"Rite Aid\",false]],\"fillcolor\":\"rgba(255,255,255,0)\",\"hoveron\":\"points\",\"hovertemplate\":\"drug=Hydrochlorothiazide\\u003cbr\\u003eQuantity (as Category)=%{x}\\u003cbr\\u003ePrice (USD)=%{y}\\u003cbr\\u003ecity=%{customdata[0]}\\u003cbr\\u003epharmacy=%{customdata[1]}\\u003cbr\\u003eonline_pharmacy=%{customdata[2]}\\u003cextra\\u003e\\u003c\\u002fextra\\u003e\",\"legendgroup\":\"Hydrochlorothiazide\",\"line\":{\"color\":\"rgba(255,255,255,0)\"},\"marker\":{\"color\":\"#B6E880\",\"opacity\":0.8,\"size\":8},\"name\":\"Hydrochlorothiazide\",\"offsetgroup\":\"Hydrochlorothiazide\",\"orientation\":\"v\",\"pointpos\":0,\"showlegend\":true,\"x\":[\"30.0\",\"30.0\",\"30.0\",\"30.0\",\"30.0\",\"30.0\",\"30.0\",\"30.0\",\"30.0\",\"30.0\",\"30.0\",\"30.0\",\"30.0\",\"30.0\",\"30.0\",\"30.0\",\"30.0\",\"30.0\",\"30.0\",\"30.0\",\"30.0\",\"30.0\",\"30.0\",\"30.0\",\"30.0\",\"30.0\",\"30.0\",\"30.0\"],\"x0\":\" \",\"xaxis\":\"x\",\"y\":[19.22,2.0,2.88,7.5,19.22,2.0,2.0,16.95,0.81,4.0,2.0,2.0,9.0,4.0,2.88,19.22,7.5,2.0,2.0,2.0,19.22,6.39,2.0,4.0,2.0,4.0,16.95,9.0],\"y0\":\" \",\"yaxis\":\"y\",\"type\":\"box\",\"jitter\":0.4}],                        {\"template\":{\"data\":{\"barpolar\":[{\"marker\":{\"line\":{\"color\":\"white\",\"width\":0.5},\"pattern\":{\"fillmode\":\"overlay\",\"size\":10,\"solidity\":0.2}},\"type\":\"barpolar\"}],\"bar\":[{\"error_x\":{\"color\":\"#2a3f5f\"},\"error_y\":{\"color\":\"#2a3f5f\"},\"marker\":{\"line\":{\"color\":\"white\",\"width\":0.5},\"pattern\":{\"fillmode\":\"overlay\",\"size\":10,\"solidity\":0.2}},\"type\":\"bar\"}],\"carpet\":[{\"aaxis\":{\"endlinecolor\":\"#2a3f5f\",\"gridcolor\":\"#C8D4E3\",\"linecolor\":\"#C8D4E3\",\"minorgridcolor\":\"#C8D4E3\",\"startlinecolor\":\"#2a3f5f\"},\"baxis\":{\"endlinecolor\":\"#2a3f5f\",\"gridcolor\":\"#C8D4E3\",\"linecolor\":\"#C8D4E3\",\"minorgridcolor\":\"#C8D4E3\",\"startlinecolor\":\"#2a3f5f\"},\"type\":\"carpet\"}],\"choropleth\":[{\"colorbar\":{\"outlinewidth\":0,\"ticks\":\"\"},\"type\":\"choropleth\"}],\"contourcarpet\":[{\"colorbar\":{\"outlinewidth\":0,\"ticks\":\"\"},\"type\":\"contourcarpet\"}],\"contour\":[{\"colorbar\":{\"outlinewidth\":0,\"ticks\":\"\"},\"colorscale\":[[0.0,\"#0d0887\"],[0.1111111111111111,\"#46039f\"],[0.2222222222222222,\"#7201a8\"],[0.3333333333333333,\"#9c179e\"],[0.4444444444444444,\"#bd3786\"],[0.5555555555555556,\"#d8576b\"],[0.6666666666666666,\"#ed7953\"],[0.7777777777777778,\"#fb9f3a\"],[0.8888888888888888,\"#fdca26\"],[1.0,\"#f0f921\"]],\"type\":\"contour\"}],\"heatmapgl\":[{\"colorbar\":{\"outlinewidth\":0,\"ticks\":\"\"},\"colorscale\":[[0.0,\"#0d0887\"],[0.1111111111111111,\"#46039f\"],[0.2222222222222222,\"#7201a8\"],[0.3333333333333333,\"#9c179e\"],[0.4444444444444444,\"#bd3786\"],[0.5555555555555556,\"#d8576b\"],[0.6666666666666666,\"#ed7953\"],[0.7777777777777778,\"#fb9f3a\"],[0.8888888888888888,\"#fdca26\"],[1.0,\"#f0f921\"]],\"type\":\"heatmapgl\"}],\"heatmap\":[{\"colorbar\":{\"outlinewidth\":0,\"ticks\":\"\"},\"colorscale\":[[0.0,\"#0d0887\"],[0.1111111111111111,\"#46039f\"],[0.2222222222222222,\"#7201a8\"],[0.3333333333333333,\"#9c179e\"],[0.4444444444444444,\"#bd3786\"],[0.5555555555555556,\"#d8576b\"],[0.6666666666666666,\"#ed7953\"],[0.7777777777777778,\"#fb9f3a\"],[0.8888888888888888,\"#fdca26\"],[1.0,\"#f0f921\"]],\"type\":\"heatmap\"}],\"histogram2dcontour\":[{\"colorbar\":{\"outlinewidth\":0,\"ticks\":\"\"},\"colorscale\":[[0.0,\"#0d0887\"],[0.1111111111111111,\"#46039f\"],[0.2222222222222222,\"#7201a8\"],[0.3333333333333333,\"#9c179e\"],[0.4444444444444444,\"#bd3786\"],[0.5555555555555556,\"#d8576b\"],[0.6666666666666666,\"#ed7953\"],[0.7777777777777778,\"#fb9f3a\"],[0.8888888888888888,\"#fdca26\"],[1.0,\"#f0f921\"]],\"type\":\"histogram2dcontour\"}],\"histogram2d\":[{\"colorbar\":{\"outlinewidth\":0,\"ticks\":\"\"},\"colorscale\":[[0.0,\"#0d0887\"],[0.1111111111111111,\"#46039f\"],[0.2222222222222222,\"#7201a8\"],[0.3333333333333333,\"#9c179e\"],[0.4444444444444444,\"#bd3786\"],[0.5555555555555556,\"#d8576b\"],[0.6666666666666666,\"#ed7953\"],[0.7777777777777778,\"#fb9f3a\"],[0.8888888888888888,\"#fdca26\"],[1.0,\"#f0f921\"]],\"type\":\"histogram2d\"}],\"histogram\":[{\"marker\":{\"pattern\":{\"fillmode\":\"overlay\",\"size\":10,\"solidity\":0.2}},\"type\":\"histogram\"}],\"mesh3d\":[{\"colorbar\":{\"outlinewidth\":0,\"ticks\":\"\"},\"type\":\"mesh3d\"}],\"parcoords\":[{\"line\":{\"colorbar\":{\"outlinewidth\":0,\"ticks\":\"\"}},\"type\":\"parcoords\"}],\"pie\":[{\"automargin\":true,\"type\":\"pie\"}],\"scatter3d\":[{\"line\":{\"colorbar\":{\"outlinewidth\":0,\"ticks\":\"\"}},\"marker\":{\"colorbar\":{\"outlinewidth\":0,\"ticks\":\"\"}},\"type\":\"scatter3d\"}],\"scattercarpet\":[{\"marker\":{\"colorbar\":{\"outlinewidth\":0,\"ticks\":\"\"}},\"type\":\"scattercarpet\"}],\"scattergeo\":[{\"marker\":{\"colorbar\":{\"outlinewidth\":0,\"ticks\":\"\"}},\"type\":\"scattergeo\"}],\"scattergl\":[{\"marker\":{\"colorbar\":{\"outlinewidth\":0,\"ticks\":\"\"}},\"type\":\"scattergl\"}],\"scattermapbox\":[{\"marker\":{\"colorbar\":{\"outlinewidth\":0,\"ticks\":\"\"}},\"type\":\"scattermapbox\"}],\"scatterpolargl\":[{\"marker\":{\"colorbar\":{\"outlinewidth\":0,\"ticks\":\"\"}},\"type\":\"scatterpolargl\"}],\"scatterpolar\":[{\"marker\":{\"colorbar\":{\"outlinewidth\":0,\"ticks\":\"\"}},\"type\":\"scatterpolar\"}],\"scatter\":[{\"fillpattern\":{\"fillmode\":\"overlay\",\"size\":10,\"solidity\":0.2},\"type\":\"scatter\"}],\"scatterternary\":[{\"marker\":{\"colorbar\":{\"outlinewidth\":0,\"ticks\":\"\"}},\"type\":\"scatterternary\"}],\"surface\":[{\"colorbar\":{\"outlinewidth\":0,\"ticks\":\"\"},\"colorscale\":[[0.0,\"#0d0887\"],[0.1111111111111111,\"#46039f\"],[0.2222222222222222,\"#7201a8\"],[0.3333333333333333,\"#9c179e\"],[0.4444444444444444,\"#bd3786\"],[0.5555555555555556,\"#d8576b\"],[0.6666666666666666,\"#ed7953\"],[0.7777777777777778,\"#fb9f3a\"],[0.8888888888888888,\"#fdca26\"],[1.0,\"#f0f921\"]],\"type\":\"surface\"}],\"table\":[{\"cells\":{\"fill\":{\"color\":\"#EBF0F8\"},\"line\":{\"color\":\"white\"}},\"header\":{\"fill\":{\"color\":\"#C8D4E3\"},\"line\":{\"color\":\"white\"}},\"type\":\"table\"}]},\"layout\":{\"annotationdefaults\":{\"arrowcolor\":\"#2a3f5f\",\"arrowhead\":0,\"arrowwidth\":1},\"autotypenumbers\":\"strict\",\"coloraxis\":{\"colorbar\":{\"outlinewidth\":0,\"ticks\":\"\"}},\"colorscale\":{\"diverging\":[[0,\"#8e0152\"],[0.1,\"#c51b7d\"],[0.2,\"#de77ae\"],[0.3,\"#f1b6da\"],[0.4,\"#fde0ef\"],[0.5,\"#f7f7f7\"],[0.6,\"#e6f5d0\"],[0.7,\"#b8e186\"],[0.8,\"#7fbc41\"],[0.9,\"#4d9221\"],[1,\"#276419\"]],\"sequential\":[[0.0,\"#0d0887\"],[0.1111111111111111,\"#46039f\"],[0.2222222222222222,\"#7201a8\"],[0.3333333333333333,\"#9c179e\"],[0.4444444444444444,\"#bd3786\"],[0.5555555555555556,\"#d8576b\"],[0.6666666666666666,\"#ed7953\"],[0.7777777777777778,\"#fb9f3a\"],[0.8888888888888888,\"#fdca26\"],[1.0,\"#f0f921\"]],\"sequentialminus\":[[0.0,\"#0d0887\"],[0.1111111111111111,\"#46039f\"],[0.2222222222222222,\"#7201a8\"],[0.3333333333333333,\"#9c179e\"],[0.4444444444444444,\"#bd3786\"],[0.5555555555555556,\"#d8576b\"],[0.6666666666666666,\"#ed7953\"],[0.7777777777777778,\"#fb9f3a\"],[0.8888888888888888,\"#fdca26\"],[1.0,\"#f0f921\"]]},\"colorway\":[\"#636efa\",\"#EF553B\",\"#00cc96\",\"#ab63fa\",\"#FFA15A\",\"#19d3f3\",\"#FF6692\",\"#B6E880\",\"#FF97FF\",\"#FECB52\"],\"font\":{\"color\":\"#2a3f5f\"},\"geo\":{\"bgcolor\":\"white\",\"lakecolor\":\"white\",\"landcolor\":\"white\",\"showlakes\":true,\"showland\":true,\"subunitcolor\":\"#C8D4E3\"},\"hoverlabel\":{\"align\":\"left\"},\"hovermode\":\"closest\",\"mapbox\":{\"style\":\"light\"},\"paper_bgcolor\":\"white\",\"plot_bgcolor\":\"white\",\"polar\":{\"angularaxis\":{\"gridcolor\":\"#EBF0F8\",\"linecolor\":\"#EBF0F8\",\"ticks\":\"\"},\"bgcolor\":\"white\",\"radialaxis\":{\"gridcolor\":\"#EBF0F8\",\"linecolor\":\"#EBF0F8\",\"ticks\":\"\"}},\"scene\":{\"xaxis\":{\"backgroundcolor\":\"white\",\"gridcolor\":\"#DFE8F3\",\"gridwidth\":2,\"linecolor\":\"#EBF0F8\",\"showbackground\":true,\"ticks\":\"\",\"zerolinecolor\":\"#EBF0F8\"},\"yaxis\":{\"backgroundcolor\":\"white\",\"gridcolor\":\"#DFE8F3\",\"gridwidth\":2,\"linecolor\":\"#EBF0F8\",\"showbackground\":true,\"ticks\":\"\",\"zerolinecolor\":\"#EBF0F8\"},\"zaxis\":{\"backgroundcolor\":\"white\",\"gridcolor\":\"#DFE8F3\",\"gridwidth\":2,\"linecolor\":\"#EBF0F8\",\"showbackground\":true,\"ticks\":\"\",\"zerolinecolor\":\"#EBF0F8\"}},\"shapedefaults\":{\"line\":{\"color\":\"#2a3f5f\"}},\"ternary\":{\"aaxis\":{\"gridcolor\":\"#DFE8F3\",\"linecolor\":\"#A2B1C6\",\"ticks\":\"\"},\"baxis\":{\"gridcolor\":\"#DFE8F3\",\"linecolor\":\"#A2B1C6\",\"ticks\":\"\"},\"bgcolor\":\"white\",\"caxis\":{\"gridcolor\":\"#DFE8F3\",\"linecolor\":\"#A2B1C6\",\"ticks\":\"\"}},\"title\":{\"x\":0.05},\"xaxis\":{\"automargin\":true,\"gridcolor\":\"#EBF0F8\",\"linecolor\":\"#EBF0F8\",\"ticks\":\"\",\"title\":{\"standoff\":15},\"zerolinecolor\":\"#EBF0F8\",\"zerolinewidth\":2},\"yaxis\":{\"automargin\":true,\"gridcolor\":\"#EBF0F8\",\"linecolor\":\"#EBF0F8\",\"ticks\":\"\",\"title\":{\"standoff\":15},\"zerolinecolor\":\"#EBF0F8\",\"zerolinewidth\":2}}},\"xaxis\":{\"anchor\":\"y\",\"domain\":[0.0,1.0],\"title\":{\"text\":\"Quantity (as Category)\"}},\"yaxis\":{\"anchor\":\"x\",\"domain\":[0.0,1.0],\"title\":{\"text\":\"Price (USD)\"}},\"legend\":{\"title\":{\"text\":\"drug\"},\"tracegroupgap\":0},\"title\":{\"text\":\"5) Price Variation by Quantity (Categorical) and Drug\"},\"boxmode\":\"overlay\"},                        {\"responsive\": true}                    ).then(function(){\n",
       "                            \n",
       "var gd = document.getElementById('12d17ad5-cc32-4c07-856f-69c67f6970ec');\n",
       "var x = new MutationObserver(function (mutations, observer) {{\n",
       "        var display = window.getComputedStyle(gd).display;\n",
       "        if (!display || display === 'none') {{\n",
       "            console.log([gd, 'removed!']);\n",
       "            Plotly.purge(gd);\n",
       "            observer.disconnect();\n",
       "        }}\n",
       "}});\n",
       "\n",
       "// Listen for the removal of the full notebook cells\n",
       "var notebookContainer = gd.closest('#notebook-container');\n",
       "if (notebookContainer) {{\n",
       "    x.observe(notebookContainer, {childList: true});\n",
       "}}\n",
       "\n",
       "// Listen for the clearing of the current output cell\n",
       "var outputEl = gd.closest('.output');\n",
       "if (outputEl) {{\n",
       "    x.observe(outputEl, {childList: true});\n",
       "}}\n",
       "\n",
       "                        })                };                });            </script>        </div>"
      ]
     },
     "metadata": {},
     "output_type": "display_data"
    },
    {
     "data": {
      "application/vnd.plotly.v1+json": {
       "config": {
        "plotlyServerURL": "https://plot.ly"
       },
       "data": [
        {
         "customdata": [
          [
           "New York",
           "CVS Pharmacy"
          ],
          [
           "New York",
           "Walgreens"
          ],
          [
           "New York",
           "Walmart"
          ],
          [
           "New York",
           "Duane Reade"
          ],
          [
           "New York",
           "Target (CVS)"
          ],
          [
           "New York",
           "Costco"
          ],
          [
           "New York",
           "Acme Markets Pharmacy Pay online"
          ],
          [
           "New York",
           "Wegmans"
          ],
          [
           "New York",
           "ACME Sav-On Pay online"
          ],
          [
           "New York",
           "Walgreens Specialty Pharmacy"
          ],
          [
           "New York",
           "Walmart Neighborhood Market"
          ],
          [
           "New York",
           "King Kullen"
          ],
          [
           "Los Angeles",
           "CVS Pharmacy"
          ],
          [
           "Los Angeles",
           "Walgreens"
          ],
          [
           "Los Angeles",
           "Vons Pharmacy Pay online"
          ],
          [
           "Los Angeles",
           "Walmart"
          ],
          [
           "Los Angeles",
           "Albertsons (Sav-on) Pay online"
          ],
          [
           "Los Angeles",
           "Costco"
          ],
          [
           "Los Angeles",
           "Target (CVS)"
          ],
          [
           "Los Angeles",
           "Walmart Neighborhood Market"
          ],
          [
           "Los Angeles",
           "Pavilions Pharmacy Pay online"
          ],
          [
           "Los Angeles",
           "Walgreens Specialty Pharmacy"
          ],
          [
           "Chicago",
           "Walgreens"
          ],
          [
           "Chicago",
           "Jewel-Osco"
          ],
          [
           "Chicago",
           "CVS Pharmacy"
          ],
          [
           "Chicago",
           "Walmart"
          ],
          [
           "Chicago",
           "Target (CVS)"
          ],
          [
           "Chicago",
           "Costco"
          ],
          [
           "Chicago",
           "Walgreens Specialty Pharmacy"
          ],
          [
           "Chicago",
           "Walmart Neighborhood Market"
          ]
         ],
         "hovertemplate": "drug=Atorvastatin<br>Standard Coupon Price=%{x}<br>Special Coupon Price=%{y}<br>price=%{marker.size}<br>city=%{customdata[0]}<br>pharmacy=%{customdata[1]}<extra></extra>",
         "legendgroup": "Atorvastatin",
         "marker": {
          "color": "#636efa",
          "size": [
           19.67,
           11.72,
           7.74,
           11.72,
           19.67,
           16.66,
           7.53,
           6.89,
           7.53,
           11.72,
           7.74,
           6.79,
           19.67,
           11.72,
           7.53,
           7.74,
           7.53,
           16.66,
           19.67,
           7.74,
           7.53,
           11.72,
           11.72,
           7.53,
           19.67,
           7.74,
           19.67,
           16.66,
           11.72,
           7.74
          ],
          "sizemode": "area",
          "sizeref": 0.084,
          "symbol": "circle"
         },
         "mode": "markers",
         "name": "Atorvastatin",
         "orientation": "v",
         "showlegend": true,
         "type": "scatter",
         "x": [
          28.77,
          21.72,
          15.24,
          21.72,
          28.77,
          21.66,
          49.99,
          12.39,
          49.99,
          21.72,
          15.24,
          10.34,
          28.77,
          21.72,
          49.99,
          15.24,
          49.99,
          21.66,
          28.77,
          15.24,
          49.99,
          21.72,
          21.72,
          49.99,
          28.77,
          15.24,
          28.77,
          21.66,
          21.72,
          15.24
         ],
         "xaxis": "x",
         "y": [
          19.67,
          11.72,
          7.74,
          11.72,
          19.67,
          16.66,
          7.53,
          6.89,
          7.53,
          11.72,
          7.74,
          6.79,
          19.67,
          11.72,
          7.53,
          7.74,
          7.53,
          16.66,
          19.67,
          7.74,
          7.53,
          11.72,
          11.72,
          7.53,
          19.67,
          7.74,
          19.67,
          16.66,
          11.72,
          7.74
         ],
         "yaxis": "y"
        },
        {
         "customdata": [
          [
           "New York",
           "CVS Pharmacy"
          ],
          [
           "New York",
           "Walgreens"
          ],
          [
           "New York",
           "ShopRite"
          ],
          [
           "New York",
           "Target (CVS)"
          ],
          [
           "New York",
           "Acme Markets Pharmacy Pay online"
          ],
          [
           "New York",
           "Duane Reade"
          ],
          [
           "New York",
           "Costco"
          ],
          [
           "New York",
           "Wegmans"
          ],
          [
           "New York",
           "ACME Sav-On Pay online"
          ],
          [
           "New York",
           "Sams Club"
          ],
          [
           "New York",
           "Walgreens Specialty Pharmacy"
          ],
          [
           "Los Angeles",
           "CVS Pharmacy"
          ],
          [
           "Chicago",
           "Walgreens"
          ],
          [
           "Chicago",
           "Jewel-Osco"
          ],
          [
           "Chicago",
           "CVS Pharmacy"
          ],
          [
           "Chicago",
           "Target (CVS)"
          ],
          [
           "Chicago",
           "Costco"
          ],
          [
           "Chicago",
           "Sams Club"
          ],
          [
           "Chicago",
           "Walgreens Specialty Pharmacy"
          ]
         ],
         "hovertemplate": "drug=Lisinopril<br>Standard Coupon Price=%{x}<br>Special Coupon Price=%{y}<br>price=%{marker.size}<br>city=%{customdata[0]}<br>pharmacy=%{customdata[1]}<extra></extra>",
         "legendgroup": "Lisinopril",
         "marker": {
          "color": "#EF553B",
          "size": [
           8.57,
           4.83,
           5.85,
           8.57,
           2,
           4.83,
           8.66,
           3.25,
           2,
           7.84,
           4.83,
           8.57,
           4.83,
           2,
           8.57,
           8.57,
           8.66,
           7.84,
           4.83
          ],
          "sizemode": "area",
          "sizeref": 0.084,
          "symbol": "circle"
         },
         "mode": "markers",
         "name": "Lisinopril",
         "orientation": "v",
         "showlegend": true,
         "type": "scatter",
         "x": [
          23.57,
          17.33,
          9.84,
          23.57,
          8.16,
          17.33,
          13.66,
          7.75,
          8.16,
          10.34,
          17.33,
          23.57,
          17.33,
          8.16,
          23.57,
          23.57,
          13.66,
          10.34,
          17.33
         ],
         "xaxis": "x",
         "y": [
          8.57,
          4.83,
          5.85,
          8.57,
          2,
          4.83,
          8.66,
          3.25,
          2,
          7.84,
          4.83,
          8.57,
          4.83,
          2,
          8.57,
          8.57,
          8.66,
          7.84,
          4.83
         ],
         "yaxis": "y"
        },
        {
         "customdata": [
          [
           "New York",
           "CVS Pharmacy"
          ],
          [
           "New York",
           "Walgreens"
          ],
          [
           "New York",
           "Duane Reade"
          ],
          [
           "New York",
           "Target (CVS)"
          ],
          [
           "New York",
           "ShopRite"
          ],
          [
           "New York",
           "Acme Markets Pharmacy Pay online"
          ],
          [
           "New York",
           "Costco"
          ],
          [
           "New York",
           "Wegmans"
          ],
          [
           "New York",
           "Walgreens Specialty Pharmacy"
          ],
          [
           "New York",
           "ACME Sav-On Pay online"
          ],
          [
           "New York",
           "King Kullen"
          ],
          [
           "Los Angeles",
           "CVS Pharmacy"
          ],
          [
           "Los Angeles",
           "Walgreens"
          ],
          [
           "Los Angeles",
           "Vons Pharmacy Pay online"
          ],
          [
           "Los Angeles",
           "Albertsons (Sav-on) Pay online"
          ],
          [
           "Los Angeles",
           "Target (CVS)"
          ],
          [
           "Los Angeles",
           "Pavilions Pharmacy Pay online"
          ],
          [
           "Los Angeles",
           "Costco"
          ],
          [
           "Los Angeles",
           "Walgreens Specialty Pharmacy"
          ],
          [
           "Chicago",
           "Walgreens"
          ],
          [
           "Chicago",
           "Jewel-Osco"
          ],
          [
           "Chicago",
           "CVS Pharmacy"
          ],
          [
           "Chicago",
           "Target (CVS)"
          ],
          [
           "Chicago",
           "Costco"
          ],
          [
           "Chicago",
           "Walgreens Specialty Pharmacy"
          ]
         ],
         "hovertemplate": "drug=Metformin<br>Standard Coupon Price=%{x}<br>Special Coupon Price=%{y}<br>price=%{marker.size}<br>city=%{customdata[0]}<br>pharmacy=%{customdata[1]}<extra></extra>",
         "legendgroup": "Metformin",
         "marker": {
          "color": "#00cc96",
          "size": [
           19.64,
           4.86,
           4.86,
           19.64,
           7.97,
           2,
           13.99,
           2.82,
           4.86,
           2,
           6.52,
           19.64,
           4.86,
           2,
           2,
           19.64,
           2,
           13.99,
           4.86,
           4.86,
           2,
           19.64,
           19.64,
           13.99,
           4.86
          ],
          "sizemode": "area",
          "sizeref": 0.084,
          "symbol": "circle"
         },
         "mode": "markers",
         "name": "Metformin",
         "orientation": "v",
         "showlegend": true,
         "type": "scatter",
         "x": [
          28.74,
          19.86,
          19.86,
          28.74,
          10,
          9.74,
          16.99,
          8.32,
          19.86,
          9.74,
          10,
          28.74,
          19.86,
          9.74,
          9.74,
          28.74,
          9.74,
          16.99,
          19.86,
          19.86,
          9.74,
          28.74,
          28.74,
          16.99,
          19.86
         ],
         "xaxis": "x",
         "y": [
          19.64,
          4.86,
          4.86,
          19.64,
          7.97,
          2,
          13.99,
          2.82,
          4.86,
          2,
          6.52,
          19.64,
          4.86,
          2,
          2,
          19.64,
          2,
          13.99,
          4.86,
          4.86,
          2,
          19.64,
          19.64,
          13.99,
          4.86
         ],
         "yaxis": "y"
        },
        {
         "customdata": [
          [
           "New York",
           "CVS Pharmacy"
          ],
          [
           "New York",
           "Walgreens"
          ],
          [
           "New York",
           "Duane Reade"
          ],
          [
           "New York",
           "Costco"
          ],
          [
           "New York",
           "Target (CVS)"
          ],
          [
           "New York",
           "Acme Markets Pharmacy Pay online"
          ],
          [
           "New York",
           "Wegmans"
          ],
          [
           "New York",
           "ACME Sav-On Pay online"
          ],
          [
           "New York",
           "Sams Club"
          ],
          [
           "New York",
           "Walgreens Specialty Pharmacy"
          ],
          [
           "New York",
           "King Kullen"
          ],
          [
           "Los Angeles",
           "CVS Pharmacy"
          ],
          [
           "Los Angeles",
           "Walgreens"
          ],
          [
           "Los Angeles",
           "Albertsons (Sav-on) Pay online"
          ],
          [
           "Los Angeles",
           "Vons Pharmacy Pay online"
          ],
          [
           "Los Angeles",
           "Costco"
          ],
          [
           "Los Angeles",
           "Target (CVS)"
          ],
          [
           "Los Angeles",
           "Pavilions Pharmacy Pay online"
          ],
          [
           "Los Angeles",
           "Walgreens Specialty Pharmacy"
          ],
          [
           "Los Angeles",
           "Sams Club"
          ],
          [
           "Chicago",
           "Walgreens"
          ],
          [
           "Chicago",
           "Jewel-Osco"
          ],
          [
           "Chicago",
           "CVS Pharmacy"
          ],
          [
           "Chicago",
           "Costco"
          ],
          [
           "Chicago",
           "Target (CVS)"
          ],
          [
           "Chicago",
           "Sams Club"
          ],
          [
           "Chicago",
           "Walgreens Specialty Pharmacy"
          ]
         ],
         "hovertemplate": "drug=Amlodipine<br>Standard Coupon Price=%{x}<br>Special Coupon Price=%{y}<br>price=%{marker.size}<br>city=%{customdata[0]}<br>pharmacy=%{customdata[1]}<extra></extra>",
         "legendgroup": "Amlodipine",
         "marker": {
          "color": "#ab63fa",
          "size": [
           19.22,
           10.13,
           10.13,
           12.99,
           19.22,
           2.88,
           3.05,
           2.88,
           7.26,
           10.13,
           6.05,
           19.22,
           10.13,
           2.88,
           2.88,
           12.99,
           19.22,
           2.88,
           10.13,
           7.26,
           10.13,
           2.88,
           19.22,
           12.99,
           19.22,
           7.26,
           10.13
          ],
          "sizemode": "area",
          "sizeref": 0.084,
          "symbol": "circle"
         },
         "mode": "markers",
         "name": "Amlodipine",
         "orientation": "v",
         "showlegend": true,
         "type": "scatter",
         "x": [
          28.32,
          17.63,
          17.63,
          17.99,
          28.32,
          7.88,
          8.05,
          7.88,
          9.76,
          17.63,
          10.44,
          28.32,
          17.63,
          7.88,
          7.88,
          17.99,
          28.32,
          7.88,
          17.63,
          9.76,
          17.63,
          7.88,
          28.32,
          17.99,
          28.32,
          9.76,
          17.63
         ],
         "xaxis": "x",
         "y": [
          19.22,
          10.13,
          10.13,
          12.99,
          19.22,
          2.88,
          3.05,
          2.88,
          7.26,
          10.13,
          6.05,
          19.22,
          10.13,
          2.88,
          2.88,
          12.99,
          19.22,
          2.88,
          10.13,
          7.26,
          10.13,
          2.88,
          19.22,
          12.99,
          19.22,
          7.26,
          10.13
         ],
         "yaxis": "y"
        },
        {
         "customdata": [
          [
           "New York",
           "CVS Pharmacy"
          ],
          [
           "New York",
           "Walgreens"
          ],
          [
           "New York",
           "Duane Reade"
          ],
          [
           "New York",
           "Costco"
          ],
          [
           "New York",
           "Target (CVS)"
          ],
          [
           "New York",
           "Acme Markets Pharmacy"
          ],
          [
           "New York",
           "Walmart"
          ],
          [
           "New York",
           "Wegmans"
          ],
          [
           "New York",
           "ACME Sav-On"
          ],
          [
           "New York",
           "Walgreens Specialty Pharmacy"
          ],
          [
           "New York",
           "King Kullen"
          ],
          [
           "New York",
           "Walmart Neighborhood Market"
          ],
          [
           "Los Angeles",
           "CVS Pharmacy"
          ],
          [
           "Los Angeles",
           "Vons Pharmacy"
          ],
          [
           "Los Angeles",
           "Walgreens"
          ],
          [
           "Los Angeles",
           "Costco"
          ],
          [
           "Los Angeles",
           "Albertsons (Sav-on)"
          ],
          [
           "Los Angeles",
           "Target (CVS)"
          ],
          [
           "Los Angeles",
           "Pavilions Pharmacy"
          ],
          [
           "Los Angeles",
           "Walmart"
          ],
          [
           "Los Angeles",
           "Walgreens Specialty Pharmacy"
          ],
          [
           "Los Angeles",
           "Walmart Neighborhood Market"
          ],
          [
           "Chicago",
           "Walgreens"
          ],
          [
           "Chicago",
           "Jewel-Osco"
          ],
          [
           "Chicago",
           "CVS Pharmacy"
          ],
          [
           "Chicago",
           "Costco"
          ],
          [
           "Chicago",
           "Target (CVS)"
          ],
          [
           "Chicago",
           "Walmart"
          ],
          [
           "Chicago",
           "Walgreens Specialty Pharmacy"
          ],
          [
           "Chicago",
           "Walmart Neighborhood Market"
          ]
         ],
         "hovertemplate": "drug=Omeprazole<br>Standard Coupon Price=%{x}<br>Special Coupon Price=%{y}<br>price=%{marker.size}<br>city=%{customdata[0]}<br>pharmacy=%{customdata[1]}<extra></extra>",
         "legendgroup": "Omeprazole",
         "marker": {
          "color": "#FFA15A",
          "size": [
           20.03,
           18.37,
           18.37,
           13.66,
           20.03,
           7,
           2,
           5.82,
           7,
           18.37,
           8.55,
           2,
           20.03,
           7,
           18.37,
           13.66,
           7,
           20.03,
           7,
           2,
           18.37,
           2,
           18.37,
           7,
           20.03,
           13.66,
           20.03,
           2,
           18.37,
           2
          ],
          "sizemode": "area",
          "sizeref": 0.084,
          "symbol": "circle"
         },
         "mode": "markers",
         "name": "Omeprazole",
         "orientation": "v",
         "showlegend": true,
         "type": "scatter",
         "x": [
          29.13,
          20.87,
          20.87,
          18.66,
          29.13,
          10.37,
          15.17,
          9.32,
          10.37,
          20.87,
          10.75,
          15.17,
          29.13,
          10.37,
          20.87,
          18.66,
          10.37,
          29.13,
          10.37,
          15.17,
          20.87,
          15.17,
          20.87,
          10.37,
          29.13,
          18.66,
          29.13,
          15.17,
          20.87,
          15.17
         ],
         "xaxis": "x",
         "y": [
          20.03,
          18.37,
          18.37,
          13.66,
          20.03,
          7,
          2,
          5.82,
          7,
          18.37,
          8.55,
          2,
          20.03,
          7,
          18.37,
          13.66,
          7,
          20.03,
          7,
          2,
          18.37,
          2,
          18.37,
          7,
          20.03,
          13.66,
          20.03,
          2,
          18.37,
          2
         ],
         "yaxis": "y"
        },
        {
         "customdata": [
          [
           "New York",
           "CVS Pharmacy"
          ],
          [
           "New York",
           "Walgreens"
          ],
          [
           "New York",
           "Target (CVS)"
          ],
          [
           "New York",
           "Duane Reade"
          ],
          [
           "New York",
           "Costco"
          ],
          [
           "New York",
           "Acme Markets Pharmacy Pay online"
          ],
          [
           "New York",
           "Wegmans"
          ],
          [
           "New York",
           "ACME Sav-On Pay online"
          ],
          [
           "New York",
           "Walgreens Specialty Pharmacy"
          ],
          [
           "New York",
           "Rite Aid"
          ],
          [
           "Los Angeles",
           "CVS Pharmacy"
          ],
          [
           "Los Angeles",
           "Vons Pharmacy Pay online"
          ],
          [
           "Los Angeles",
           "Target (CVS)"
          ],
          [
           "Los Angeles",
           "Albertsons (Sav-on) Pay online"
          ],
          [
           "Los Angeles",
           "Walgreens"
          ],
          [
           "Los Angeles",
           "Pavilions Pharmacy Pay online"
          ],
          [
           "Los Angeles",
           "Costco"
          ],
          [
           "Los Angeles",
           "Rite Aid"
          ],
          [
           "Los Angeles",
           "Walgreens Specialty Pharmacy"
          ],
          [
           "Chicago",
           "Jewel-Osco"
          ],
          [
           "Chicago",
           "Walgreens"
          ],
          [
           "Chicago",
           "Meijer Pharmacy"
          ],
          [
           "Chicago",
           "CVS Pharmacy"
          ],
          [
           "Chicago",
           "Target (CVS)"
          ],
          [
           "Chicago",
           "Costco"
          ],
          [
           "Chicago",
           "Walgreens Specialty Pharmacy"
          ]
         ],
         "hovertemplate": "drug=Simvastatin<br>Standard Coupon Price=%{x}<br>Special Coupon Price=%{y}<br>price=%{marker.size}<br>city=%{customdata[0]}<br>pharmacy=%{customdata[1]}<extra></extra>",
         "legendgroup": "Simvastatin",
         "marker": {
          "color": "#19d3f3",
          "size": [
           28.04,
           33.6,
           28.04,
           33.6,
           21.99,
           3.05,
           13.38,
           3.05,
           33.6,
           19.3,
           28.04,
           3.05,
           28.04,
           3.05,
           33.6,
           3.05,
           21.99,
           19.3,
           33.6,
           3.05,
           33.6,
           11.3,
           28.04,
           28.04,
           21.99,
           33.6
          ],
          "sizemode": "area",
          "sizeref": 0.084,
          "symbol": "circle"
         },
         "mode": "markers",
         "name": "Simvastatin",
         "orientation": "v",
         "showlegend": true,
         "type": "scatter",
         "x": [
          33.04,
          36.1,
          33.04,
          36.1,
          24.99,
          13.05,
          18.88,
          13.05,
          36.1,
          23.55,
          33.04,
          13.05,
          33.04,
          13.05,
          36.1,
          13.05,
          24.99,
          23.55,
          36.1,
          13.05,
          36.1,
          14.79,
          33.04,
          33.04,
          24.99,
          36.1
         ],
         "xaxis": "x",
         "y": [
          28.04,
          33.6,
          28.04,
          33.6,
          21.99,
          3.05,
          13.38,
          3.05,
          33.6,
          19.3,
          28.04,
          3.05,
          28.04,
          3.05,
          33.6,
          3.05,
          21.99,
          19.3,
          33.6,
          3.05,
          33.6,
          11.3,
          28.04,
          28.04,
          21.99,
          33.6
         ],
         "yaxis": "y"
        },
        {
         "customdata": [
          [
           "New York",
           "CVS Pharmacy"
          ],
          [
           "New York",
           "Walgreens"
          ],
          [
           "New York",
           "Duane Reade"
          ],
          [
           "New York",
           "Acme Markets Pharmacy Pay online"
          ],
          [
           "New York",
           "Target (CVS)"
          ],
          [
           "New York",
           "Wegmans"
          ],
          [
           "New York",
           "Costco"
          ],
          [
           "New York",
           "ACME Sav-On Pay online"
          ],
          [
           "New York",
           "Sams Club"
          ],
          [
           "New York",
           "Walgreens Specialty Pharmacy"
          ],
          [
           "New York",
           "King Kullen"
          ],
          [
           "New York",
           "Rite Aid"
          ],
          [
           "Los Angeles",
           "CVS Pharmacy"
          ],
          [
           "Los Angeles",
           "Vons Pharmacy Pay online"
          ],
          [
           "Los Angeles",
           "Albertsons (Sav-on) Pay online"
          ],
          [
           "Los Angeles",
           "Walgreens"
          ]
         ],
         "hovertemplate": "drug=Losartan<br>Standard Coupon Price=%{x}<br>Special Coupon Price=%{y}<br>price=%{marker.size}<br>city=%{customdata[0]}<br>pharmacy=%{customdata[1]}<extra></extra>",
         "legendgroup": "Losartan",
         "marker": {
          "color": "#FF6692",
          "size": [
           19.43,
           11.21,
           11.21,
           2,
           19.43,
           5.63,
           21.99,
           2,
           7.1,
           11.21,
           6.87,
           11.56,
           19.43,
           2,
           2,
           11.21
          ],
          "sizemode": "area",
          "sizeref": 0.084,
          "symbol": "circle"
         },
         "mode": "markers",
         "name": "Losartan",
         "orientation": "v",
         "showlegend": true,
         "type": "scatter",
         "x": [
          28.53,
          23.71,
          23.71,
          10.05,
          28.53,
          11.13,
          22.99,
          10.05,
          9.6,
          23.71,
          9.84,
          15.81,
          28.53,
          10.05,
          10.05,
          23.71
         ],
         "xaxis": "x",
         "y": [
          19.43,
          11.21,
          11.21,
          2,
          19.43,
          5.63,
          21.99,
          2,
          7.1,
          11.21,
          6.87,
          11.56,
          19.43,
          2,
          2,
          11.21
         ],
         "yaxis": "y"
        },
        {
         "customdata": [
          [
           "New York",
           "CVS Pharmacy"
          ],
          [
           "New York",
           "Walgreens"
          ],
          [
           "New York",
           "ShopRite"
          ],
          [
           "New York",
           "Costco"
          ],
          [
           "New York",
           "Target (CVS)"
          ],
          [
           "New York",
           "Duane Reade"
          ],
          [
           "New York",
           "Acme Markets Pharmacy Pay online"
          ],
          [
           "New York",
           "Wegmans"
          ],
          [
           "New York",
           "ACME Sav-On Pay online"
          ],
          [
           "New York",
           "Walgreens Specialty Pharmacy"
          ],
          [
           "New York",
           "King Kullen"
          ],
          [
           "Los Angeles",
           "CVS Pharmacy"
          ],
          [
           "Los Angeles",
           "Costco"
          ],
          [
           "Los Angeles",
           "Walgreens"
          ],
          [
           "Los Angeles",
           "Vons Pharmacy Pay online"
          ],
          [
           "Los Angeles",
           "Albertsons (Sav-on) Pay online"
          ],
          [
           "Los Angeles",
           "Target (CVS)"
          ],
          [
           "Los Angeles",
           "Pavilions Pharmacy Pay online"
          ],
          [
           "Los Angeles",
           "Walgreens Specialty Pharmacy"
          ]
         ],
         "hovertemplate": "drug=Hydrochlorothiazide<br>Standard Coupon Price=%{x}<br>Special Coupon Price=%{y}<br>price=%{marker.size}<br>city=%{customdata[0]}<br>pharmacy=%{customdata[1]}<extra></extra>",
         "legendgroup": "Hydrochlorothiazide",
         "marker": {
          "color": "#B6E880",
          "size": [
           19.22,
           2,
           2.88,
           7.5,
           19.22,
           2,
           2,
           0.81,
           2,
           2,
           2.88,
           19.22,
           7.5,
           2,
           2,
           2,
           19.22,
           2,
           2
          ],
          "sizemode": "area",
          "sizeref": 0.084,
          "symbol": "circle"
         },
         "mode": "markers",
         "name": "Hydrochlorothiazide",
         "orientation": "v",
         "showlegend": true,
         "type": "scatter",
         "x": [
          28.12,
          4.48,
          8.05,
          10,
          28.12,
          4.48,
          8.72,
          5.31,
          8.72,
          4.48,
          8.05,
          28.12,
          10,
          4.48,
          8.72,
          8.72,
          28.12,
          8.72,
          4.48
         ],
         "xaxis": "x",
         "y": [
          19.22,
          2,
          2.88,
          7.5,
          19.22,
          2,
          2,
          0.81,
          2,
          2,
          2.88,
          19.22,
          7.5,
          2,
          2,
          2,
          19.22,
          2,
          2
         ],
         "yaxis": "y"
        }
       ],
       "layout": {
        "legend": {
         "itemsizing": "constant",
         "title": {
          "text": "drug"
         },
         "tracegroupgap": 0
        },
        "shapes": [
         {
          "line": {
           "color": "gray",
           "dash": "dot"
          },
          "type": "line",
          "x0": 0,
          "x1": 49.99,
          "y0": 0,
          "y1": 49.99
         }
        ],
        "template": {
         "data": {
          "bar": [
           {
            "error_x": {
             "color": "#2a3f5f"
            },
            "error_y": {
             "color": "#2a3f5f"
            },
            "marker": {
             "line": {
              "color": "white",
              "width": 0.5
             },
             "pattern": {
              "fillmode": "overlay",
              "size": 10,
              "solidity": 0.2
             }
            },
            "type": "bar"
           }
          ],
          "barpolar": [
           {
            "marker": {
             "line": {
              "color": "white",
              "width": 0.5
             },
             "pattern": {
              "fillmode": "overlay",
              "size": 10,
              "solidity": 0.2
             }
            },
            "type": "barpolar"
           }
          ],
          "carpet": [
           {
            "aaxis": {
             "endlinecolor": "#2a3f5f",
             "gridcolor": "#C8D4E3",
             "linecolor": "#C8D4E3",
             "minorgridcolor": "#C8D4E3",
             "startlinecolor": "#2a3f5f"
            },
            "baxis": {
             "endlinecolor": "#2a3f5f",
             "gridcolor": "#C8D4E3",
             "linecolor": "#C8D4E3",
             "minorgridcolor": "#C8D4E3",
             "startlinecolor": "#2a3f5f"
            },
            "type": "carpet"
           }
          ],
          "choropleth": [
           {
            "colorbar": {
             "outlinewidth": 0,
             "ticks": ""
            },
            "type": "choropleth"
           }
          ],
          "contour": [
           {
            "colorbar": {
             "outlinewidth": 0,
             "ticks": ""
            },
            "colorscale": [
             [
              0,
              "#0d0887"
             ],
             [
              0.1111111111111111,
              "#46039f"
             ],
             [
              0.2222222222222222,
              "#7201a8"
             ],
             [
              0.3333333333333333,
              "#9c179e"
             ],
             [
              0.4444444444444444,
              "#bd3786"
             ],
             [
              0.5555555555555556,
              "#d8576b"
             ],
             [
              0.6666666666666666,
              "#ed7953"
             ],
             [
              0.7777777777777778,
              "#fb9f3a"
             ],
             [
              0.8888888888888888,
              "#fdca26"
             ],
             [
              1,
              "#f0f921"
             ]
            ],
            "type": "contour"
           }
          ],
          "contourcarpet": [
           {
            "colorbar": {
             "outlinewidth": 0,
             "ticks": ""
            },
            "type": "contourcarpet"
           }
          ],
          "heatmap": [
           {
            "colorbar": {
             "outlinewidth": 0,
             "ticks": ""
            },
            "colorscale": [
             [
              0,
              "#0d0887"
             ],
             [
              0.1111111111111111,
              "#46039f"
             ],
             [
              0.2222222222222222,
              "#7201a8"
             ],
             [
              0.3333333333333333,
              "#9c179e"
             ],
             [
              0.4444444444444444,
              "#bd3786"
             ],
             [
              0.5555555555555556,
              "#d8576b"
             ],
             [
              0.6666666666666666,
              "#ed7953"
             ],
             [
              0.7777777777777778,
              "#fb9f3a"
             ],
             [
              0.8888888888888888,
              "#fdca26"
             ],
             [
              1,
              "#f0f921"
             ]
            ],
            "type": "heatmap"
           }
          ],
          "heatmapgl": [
           {
            "colorbar": {
             "outlinewidth": 0,
             "ticks": ""
            },
            "colorscale": [
             [
              0,
              "#0d0887"
             ],
             [
              0.1111111111111111,
              "#46039f"
             ],
             [
              0.2222222222222222,
              "#7201a8"
             ],
             [
              0.3333333333333333,
              "#9c179e"
             ],
             [
              0.4444444444444444,
              "#bd3786"
             ],
             [
              0.5555555555555556,
              "#d8576b"
             ],
             [
              0.6666666666666666,
              "#ed7953"
             ],
             [
              0.7777777777777778,
              "#fb9f3a"
             ],
             [
              0.8888888888888888,
              "#fdca26"
             ],
             [
              1,
              "#f0f921"
             ]
            ],
            "type": "heatmapgl"
           }
          ],
          "histogram": [
           {
            "marker": {
             "pattern": {
              "fillmode": "overlay",
              "size": 10,
              "solidity": 0.2
             }
            },
            "type": "histogram"
           }
          ],
          "histogram2d": [
           {
            "colorbar": {
             "outlinewidth": 0,
             "ticks": ""
            },
            "colorscale": [
             [
              0,
              "#0d0887"
             ],
             [
              0.1111111111111111,
              "#46039f"
             ],
             [
              0.2222222222222222,
              "#7201a8"
             ],
             [
              0.3333333333333333,
              "#9c179e"
             ],
             [
              0.4444444444444444,
              "#bd3786"
             ],
             [
              0.5555555555555556,
              "#d8576b"
             ],
             [
              0.6666666666666666,
              "#ed7953"
             ],
             [
              0.7777777777777778,
              "#fb9f3a"
             ],
             [
              0.8888888888888888,
              "#fdca26"
             ],
             [
              1,
              "#f0f921"
             ]
            ],
            "type": "histogram2d"
           }
          ],
          "histogram2dcontour": [
           {
            "colorbar": {
             "outlinewidth": 0,
             "ticks": ""
            },
            "colorscale": [
             [
              0,
              "#0d0887"
             ],
             [
              0.1111111111111111,
              "#46039f"
             ],
             [
              0.2222222222222222,
              "#7201a8"
             ],
             [
              0.3333333333333333,
              "#9c179e"
             ],
             [
              0.4444444444444444,
              "#bd3786"
             ],
             [
              0.5555555555555556,
              "#d8576b"
             ],
             [
              0.6666666666666666,
              "#ed7953"
             ],
             [
              0.7777777777777778,
              "#fb9f3a"
             ],
             [
              0.8888888888888888,
              "#fdca26"
             ],
             [
              1,
              "#f0f921"
             ]
            ],
            "type": "histogram2dcontour"
           }
          ],
          "mesh3d": [
           {
            "colorbar": {
             "outlinewidth": 0,
             "ticks": ""
            },
            "type": "mesh3d"
           }
          ],
          "parcoords": [
           {
            "line": {
             "colorbar": {
              "outlinewidth": 0,
              "ticks": ""
             }
            },
            "type": "parcoords"
           }
          ],
          "pie": [
           {
            "automargin": true,
            "type": "pie"
           }
          ],
          "scatter": [
           {
            "fillpattern": {
             "fillmode": "overlay",
             "size": 10,
             "solidity": 0.2
            },
            "type": "scatter"
           }
          ],
          "scatter3d": [
           {
            "line": {
             "colorbar": {
              "outlinewidth": 0,
              "ticks": ""
             }
            },
            "marker": {
             "colorbar": {
              "outlinewidth": 0,
              "ticks": ""
             }
            },
            "type": "scatter3d"
           }
          ],
          "scattercarpet": [
           {
            "marker": {
             "colorbar": {
              "outlinewidth": 0,
              "ticks": ""
             }
            },
            "type": "scattercarpet"
           }
          ],
          "scattergeo": [
           {
            "marker": {
             "colorbar": {
              "outlinewidth": 0,
              "ticks": ""
             }
            },
            "type": "scattergeo"
           }
          ],
          "scattergl": [
           {
            "marker": {
             "colorbar": {
              "outlinewidth": 0,
              "ticks": ""
             }
            },
            "type": "scattergl"
           }
          ],
          "scattermapbox": [
           {
            "marker": {
             "colorbar": {
              "outlinewidth": 0,
              "ticks": ""
             }
            },
            "type": "scattermapbox"
           }
          ],
          "scatterpolar": [
           {
            "marker": {
             "colorbar": {
              "outlinewidth": 0,
              "ticks": ""
             }
            },
            "type": "scatterpolar"
           }
          ],
          "scatterpolargl": [
           {
            "marker": {
             "colorbar": {
              "outlinewidth": 0,
              "ticks": ""
             }
            },
            "type": "scatterpolargl"
           }
          ],
          "scatterternary": [
           {
            "marker": {
             "colorbar": {
              "outlinewidth": 0,
              "ticks": ""
             }
            },
            "type": "scatterternary"
           }
          ],
          "surface": [
           {
            "colorbar": {
             "outlinewidth": 0,
             "ticks": ""
            },
            "colorscale": [
             [
              0,
              "#0d0887"
             ],
             [
              0.1111111111111111,
              "#46039f"
             ],
             [
              0.2222222222222222,
              "#7201a8"
             ],
             [
              0.3333333333333333,
              "#9c179e"
             ],
             [
              0.4444444444444444,
              "#bd3786"
             ],
             [
              0.5555555555555556,
              "#d8576b"
             ],
             [
              0.6666666666666666,
              "#ed7953"
             ],
             [
              0.7777777777777778,
              "#fb9f3a"
             ],
             [
              0.8888888888888888,
              "#fdca26"
             ],
             [
              1,
              "#f0f921"
             ]
            ],
            "type": "surface"
           }
          ],
          "table": [
           {
            "cells": {
             "fill": {
              "color": "#EBF0F8"
             },
             "line": {
              "color": "white"
             }
            },
            "header": {
             "fill": {
              "color": "#C8D4E3"
             },
             "line": {
              "color": "white"
             }
            },
            "type": "table"
           }
          ]
         },
         "layout": {
          "annotationdefaults": {
           "arrowcolor": "#2a3f5f",
           "arrowhead": 0,
           "arrowwidth": 1
          },
          "autotypenumbers": "strict",
          "coloraxis": {
           "colorbar": {
            "outlinewidth": 0,
            "ticks": ""
           }
          },
          "colorscale": {
           "diverging": [
            [
             0,
             "#8e0152"
            ],
            [
             0.1,
             "#c51b7d"
            ],
            [
             0.2,
             "#de77ae"
            ],
            [
             0.3,
             "#f1b6da"
            ],
            [
             0.4,
             "#fde0ef"
            ],
            [
             0.5,
             "#f7f7f7"
            ],
            [
             0.6,
             "#e6f5d0"
            ],
            [
             0.7,
             "#b8e186"
            ],
            [
             0.8,
             "#7fbc41"
            ],
            [
             0.9,
             "#4d9221"
            ],
            [
             1,
             "#276419"
            ]
           ],
           "sequential": [
            [
             0,
             "#0d0887"
            ],
            [
             0.1111111111111111,
             "#46039f"
            ],
            [
             0.2222222222222222,
             "#7201a8"
            ],
            [
             0.3333333333333333,
             "#9c179e"
            ],
            [
             0.4444444444444444,
             "#bd3786"
            ],
            [
             0.5555555555555556,
             "#d8576b"
            ],
            [
             0.6666666666666666,
             "#ed7953"
            ],
            [
             0.7777777777777778,
             "#fb9f3a"
            ],
            [
             0.8888888888888888,
             "#fdca26"
            ],
            [
             1,
             "#f0f921"
            ]
           ],
           "sequentialminus": [
            [
             0,
             "#0d0887"
            ],
            [
             0.1111111111111111,
             "#46039f"
            ],
            [
             0.2222222222222222,
             "#7201a8"
            ],
            [
             0.3333333333333333,
             "#9c179e"
            ],
            [
             0.4444444444444444,
             "#bd3786"
            ],
            [
             0.5555555555555556,
             "#d8576b"
            ],
            [
             0.6666666666666666,
             "#ed7953"
            ],
            [
             0.7777777777777778,
             "#fb9f3a"
            ],
            [
             0.8888888888888888,
             "#fdca26"
            ],
            [
             1,
             "#f0f921"
            ]
           ]
          },
          "colorway": [
           "#636efa",
           "#EF553B",
           "#00cc96",
           "#ab63fa",
           "#FFA15A",
           "#19d3f3",
           "#FF6692",
           "#B6E880",
           "#FF97FF",
           "#FECB52"
          ],
          "font": {
           "color": "#2a3f5f"
          },
          "geo": {
           "bgcolor": "white",
           "lakecolor": "white",
           "landcolor": "white",
           "showlakes": true,
           "showland": true,
           "subunitcolor": "#C8D4E3"
          },
          "hoverlabel": {
           "align": "left"
          },
          "hovermode": "closest",
          "mapbox": {
           "style": "light"
          },
          "paper_bgcolor": "white",
          "plot_bgcolor": "white",
          "polar": {
           "angularaxis": {
            "gridcolor": "#EBF0F8",
            "linecolor": "#EBF0F8",
            "ticks": ""
           },
           "bgcolor": "white",
           "radialaxis": {
            "gridcolor": "#EBF0F8",
            "linecolor": "#EBF0F8",
            "ticks": ""
           }
          },
          "scene": {
           "xaxis": {
            "backgroundcolor": "white",
            "gridcolor": "#DFE8F3",
            "gridwidth": 2,
            "linecolor": "#EBF0F8",
            "showbackground": true,
            "ticks": "",
            "zerolinecolor": "#EBF0F8"
           },
           "yaxis": {
            "backgroundcolor": "white",
            "gridcolor": "#DFE8F3",
            "gridwidth": 2,
            "linecolor": "#EBF0F8",
            "showbackground": true,
            "ticks": "",
            "zerolinecolor": "#EBF0F8"
           },
           "zaxis": {
            "backgroundcolor": "white",
            "gridcolor": "#DFE8F3",
            "gridwidth": 2,
            "linecolor": "#EBF0F8",
            "showbackground": true,
            "ticks": "",
            "zerolinecolor": "#EBF0F8"
           }
          },
          "shapedefaults": {
           "line": {
            "color": "#2a3f5f"
           }
          },
          "ternary": {
           "aaxis": {
            "gridcolor": "#DFE8F3",
            "linecolor": "#A2B1C6",
            "ticks": ""
           },
           "baxis": {
            "gridcolor": "#DFE8F3",
            "linecolor": "#A2B1C6",
            "ticks": ""
           },
           "bgcolor": "white",
           "caxis": {
            "gridcolor": "#DFE8F3",
            "linecolor": "#A2B1C6",
            "ticks": ""
           }
          },
          "title": {
           "x": 0.05
          },
          "xaxis": {
           "automargin": true,
           "gridcolor": "#EBF0F8",
           "linecolor": "#EBF0F8",
           "ticks": "",
           "title": {
            "standoff": 15
           },
           "zerolinecolor": "#EBF0F8",
           "zerolinewidth": 2
          },
          "yaxis": {
           "automargin": true,
           "gridcolor": "#EBF0F8",
           "linecolor": "#EBF0F8",
           "ticks": "",
           "title": {
            "standoff": 15
           },
           "zerolinecolor": "#EBF0F8",
           "zerolinewidth": 2
          }
         }
        },
        "title": {
         "text": "6) Standard vs Special Coupon Prices"
        },
        "xaxis": {
         "anchor": "y",
         "domain": [
          0,
          1
         ],
         "title": {
          "text": "Standard Coupon Price"
         }
        },
        "yaxis": {
         "anchor": "x",
         "domain": [
          0,
          1
         ],
         "title": {
          "text": "Special Coupon Price"
         }
        }
       }
      },
      "image/png": "[encoded data removed]",
      "text/html": [
       "<div>                            <div id=\"e8e9991b-573d-430d-a48a-56a3c6094574\" class=\"plotly-graph-div\" style=\"height:525px; width:100%;\"></div>            <script type=\"text/javascript\">                require([\"plotly\"], function(Plotly) {                    window.PLOTLYENV=window.PLOTLYENV || {};                                    if (document.getElementById(\"e8e9991b-573d-430d-a48a-56a3c6094574\")) {                    Plotly.newPlot(                        \"e8e9991b-573d-430d-a48a-56a3c6094574\",                        [{\"customdata\":[[\"New York\",\"CVS Pharmacy\"],[\"New York\",\"Walgreens\"],[\"New York\",\"Walmart\"],[\"New York\",\"Duane Reade\"],[\"New York\",\"Target (CVS)\"],[\"New York\",\"Costco\"],[\"New York\",\"Acme Markets Pharmacy Pay online\"],[\"New York\",\"Wegmans\"],[\"New York\",\"ACME Sav-On Pay online\"],[\"New York\",\"Walgreens Specialty Pharmacy\"],[\"New York\",\"Walmart Neighborhood Market\"],[\"New York\",\"King Kullen\"],[\"Los Angeles\",\"CVS Pharmacy\"],[\"Los Angeles\",\"Walgreens\"],[\"Los Angeles\",\"Vons Pharmacy Pay online\"],[\"Los Angeles\",\"Walmart\"],[\"Los Angeles\",\"Albertsons (Sav-on) Pay online\"],[\"Los Angeles\",\"Costco\"],[\"Los Angeles\",\"Target (CVS)\"],[\"Los Angeles\",\"Walmart Neighborhood Market\"],[\"Los Angeles\",\"Pavilions Pharmacy Pay online\"],[\"Los Angeles\",\"Walgreens Specialty Pharmacy\"],[\"Chicago\",\"Walgreens\"],[\"Chicago\",\"Jewel-Osco\"],[\"Chicago\",\"CVS Pharmacy\"],[\"Chicago\",\"Walmart\"],[\"Chicago\",\"Target (CVS)\"],[\"Chicago\",\"Costco\"],[\"Chicago\",\"Walgreens Specialty Pharmacy\"],[\"Chicago\",\"Walmart Neighborhood Market\"]],\"hovertemplate\":\"drug=Atorvastatin\\u003cbr\\u003eStandard Coupon Price=%{x}\\u003cbr\\u003eSpecial Coupon Price=%{y}\\u003cbr\\u003eprice=%{marker.size}\\u003cbr\\u003ecity=%{customdata[0]}\\u003cbr\\u003epharmacy=%{customdata[1]}\\u003cextra\\u003e\\u003c\\u002fextra\\u003e\",\"legendgroup\":\"Atorvastatin\",\"marker\":{\"color\":\"#636efa\",\"size\":[19.67,11.72,7.74,11.72,19.67,16.66,7.53,6.89,7.53,11.72,7.74,6.79,19.67,11.72,7.53,7.74,7.53,16.66,19.67,7.74,7.53,11.72,11.72,7.53,19.67,7.74,19.67,16.66,11.72,7.74],\"sizemode\":\"area\",\"sizeref\":0.084,\"symbol\":\"circle\"},\"mode\":\"markers\",\"name\":\"Atorvastatin\",\"orientation\":\"v\",\"showlegend\":true,\"x\":[28.77,21.72,15.24,21.72,28.77,21.66,49.99,12.39,49.99,21.72,15.24,10.34,28.77,21.72,49.99,15.24,49.99,21.66,28.77,15.24,49.99,21.72,21.72,49.99,28.77,15.24,28.77,21.66,21.72,15.24],\"xaxis\":\"x\",\"y\":[19.67,11.72,7.74,11.72,19.67,16.66,7.53,6.89,7.53,11.72,7.74,6.79,19.67,11.72,7.53,7.74,7.53,16.66,19.67,7.74,7.53,11.72,11.72,7.53,19.67,7.74,19.67,16.66,11.72,7.74],\"yaxis\":\"y\",\"type\":\"scatter\"},{\"customdata\":[[\"New York\",\"CVS Pharmacy\"],[\"New York\",\"Walgreens\"],[\"New York\",\"ShopRite\"],[\"New York\",\"Target (CVS)\"],[\"New York\",\"Acme Markets Pharmacy Pay online\"],[\"New York\",\"Duane Reade\"],[\"New York\",\"Costco\"],[\"New York\",\"Wegmans\"],[\"New York\",\"ACME Sav-On Pay online\"],[\"New York\",\"Sams Club\"],[\"New York\",\"Walgreens Specialty Pharmacy\"],[\"Los Angeles\",\"CVS Pharmacy\"],[\"Chicago\",\"Walgreens\"],[\"Chicago\",\"Jewel-Osco\"],[\"Chicago\",\"CVS Pharmacy\"],[\"Chicago\",\"Target (CVS)\"],[\"Chicago\",\"Costco\"],[\"Chicago\",\"Sams Club\"],[\"Chicago\",\"Walgreens Specialty Pharmacy\"]],\"hovertemplate\":\"drug=Lisinopril\\u003cbr\\u003eStandard Coupon Price=%{x}\\u003cbr\\u003eSpecial Coupon Price=%{y}\\u003cbr\\u003eprice=%{marker.size}\\u003cbr\\u003ecity=%{customdata[0]}\\u003cbr\\u003epharmacy=%{customdata[1]}\\u003cextra\\u003e\\u003c\\u002fextra\\u003e\",\"legendgroup\":\"Lisinopril\",\"marker\":{\"color\":\"#EF553B\",\"size\":[8.57,4.83,5.85,8.57,2.0,4.83,8.66,3.25,2.0,7.84,4.83,8.57,4.83,2.0,8.57,8.57,8.66,7.84,4.83],\"sizemode\":\"area\",\"sizeref\":0.084,\"symbol\":\"circle\"},\"mode\":\"markers\",\"name\":\"Lisinopril\",\"orientation\":\"v\",\"showlegend\":true,\"x\":[23.57,17.33,9.84,23.57,8.16,17.33,13.66,7.75,8.16,10.34,17.33,23.57,17.33,8.16,23.57,23.57,13.66,10.34,17.33],\"xaxis\":\"x\",\"y\":[8.57,4.83,5.85,8.57,2.0,4.83,8.66,3.25,2.0,7.84,4.83,8.57,4.83,2.0,8.57,8.57,8.66,7.84,4.83],\"yaxis\":\"y\",\"type\":\"scatter\"},{\"customdata\":[[\"New York\",\"CVS Pharmacy\"],[\"New York\",\"Walgreens\"],[\"New York\",\"Duane Reade\"],[\"New York\",\"Target (CVS)\"],[\"New York\",\"ShopRite\"],[\"New York\",\"Acme Markets Pharmacy Pay online\"],[\"New York\",\"Costco\"],[\"New York\",\"Wegmans\"],[\"New York\",\"Walgreens Specialty Pharmacy\"],[\"New York\",\"ACME Sav-On Pay online\"],[\"New York\",\"King Kullen\"],[\"Los Angeles\",\"CVS Pharmacy\"],[\"Los Angeles\",\"Walgreens\"],[\"Los Angeles\",\"Vons Pharmacy Pay online\"],[\"Los Angeles\",\"Albertsons (Sav-on) Pay online\"],[\"Los Angeles\",\"Target (CVS)\"],[\"Los Angeles\",\"Pavilions Pharmacy Pay online\"],[\"Los Angeles\",\"Costco\"],[\"Los Angeles\",\"Walgreens Specialty Pharmacy\"],[\"Chicago\",\"Walgreens\"],[\"Chicago\",\"Jewel-Osco\"],[\"Chicago\",\"CVS Pharmacy\"],[\"Chicago\",\"Target (CVS)\"],[\"Chicago\",\"Costco\"],[\"Chicago\",\"Walgreens Specialty Pharmacy\"]],\"hovertemplate\":\"drug=Metformin\\u003cbr\\u003eStandard Coupon Price=%{x}\\u003cbr\\u003eSpecial Coupon Price=%{y}\\u003cbr\\u003eprice=%{marker.size}\\u003cbr\\u003ecity=%{customdata[0]}\\u003cbr\\u003epharmacy=%{customdata[1]}\\u003cextra\\u003e\\u003c\\u002fextra\\u003e\",\"legendgroup\":\"Metformin\",\"marker\":{\"color\":\"#00cc96\",\"size\":[19.64,4.86,4.86,19.64,7.97,2.0,13.99,2.82,4.86,2.0,6.52,19.64,4.86,2.0,2.0,19.64,2.0,13.99,4.86,4.86,2.0,19.64,19.64,13.99,4.86],\"sizemode\":\"area\",\"sizeref\":0.084,\"symbol\":\"circle\"},\"mode\":\"markers\",\"name\":\"Metformin\",\"orientation\":\"v\",\"showlegend\":true,\"x\":[28.74,19.86,19.86,28.74,10.0,9.74,16.99,8.32,19.86,9.74,10.0,28.74,19.86,9.74,9.74,28.74,9.74,16.99,19.86,19.86,9.74,28.74,28.74,16.99,19.86],\"xaxis\":\"x\",\"y\":[19.64,4.86,4.86,19.64,7.97,2.0,13.99,2.82,4.86,2.0,6.52,19.64,4.86,2.0,2.0,19.64,2.0,13.99,4.86,4.86,2.0,19.64,19.64,13.99,4.86],\"yaxis\":\"y\",\"type\":\"scatter\"},{\"customdata\":[[\"New York\",\"CVS Pharmacy\"],[\"New York\",\"Walgreens\"],[\"New York\",\"Duane Reade\"],[\"New York\",\"Costco\"],[\"New York\",\"Target (CVS)\"],[\"New York\",\"Acme Markets Pharmacy Pay online\"],[\"New York\",\"Wegmans\"],[\"New York\",\"ACME Sav-On Pay online\"],[\"New York\",\"Sams Club\"],[\"New York\",\"Walgreens Specialty Pharmacy\"],[\"New York\",\"King Kullen\"],[\"Los Angeles\",\"CVS Pharmacy\"],[\"Los Angeles\",\"Walgreens\"],[\"Los Angeles\",\"Albertsons (Sav-on) Pay online\"],[\"Los Angeles\",\"Vons Pharmacy Pay online\"],[\"Los Angeles\",\"Costco\"],[\"Los Angeles\",\"Target (CVS)\"],[\"Los Angeles\",\"Pavilions Pharmacy Pay online\"],[\"Los Angeles\",\"Walgreens Specialty Pharmacy\"],[\"Los Angeles\",\"Sams Club\"],[\"Chicago\",\"Walgreens\"],[\"Chicago\",\"Jewel-Osco\"],[\"Chicago\",\"CVS Pharmacy\"],[\"Chicago\",\"Costco\"],[\"Chicago\",\"Target (CVS)\"],[\"Chicago\",\"Sams Club\"],[\"Chicago\",\"Walgreens Specialty Pharmacy\"]],\"hovertemplate\":\"drug=Amlodipine\\u003cbr\\u003eStandard Coupon Price=%{x}\\u003cbr\\u003eSpecial Coupon Price=%{y}\\u003cbr\\u003eprice=%{marker.size}\\u003cbr\\u003ecity=%{customdata[0]}\\u003cbr\\u003epharmacy=%{customdata[1]}\\u003cextra\\u003e\\u003c\\u002fextra\\u003e\",\"legendgroup\":\"Amlodipine\",\"marker\":{\"color\":\"#ab63fa\",\"size\":[19.22,10.13,10.13,12.99,19.22,2.88,3.05,2.88,7.26,10.13,6.05,19.22,10.13,2.88,2.88,12.99,19.22,2.88,10.13,7.26,10.13,2.88,19.22,12.99,19.22,7.26,10.13],\"sizemode\":\"area\",\"sizeref\":0.084,\"symbol\":\"circle\"},\"mode\":\"markers\",\"name\":\"Amlodipine\",\"orientation\":\"v\",\"showlegend\":true,\"x\":[28.32,17.63,17.63,17.99,28.32,7.88,8.05,7.88,9.76,17.63,10.44,28.32,17.63,7.88,7.88,17.99,28.32,7.88,17.63,9.76,17.63,7.88,28.32,17.99,28.32,9.76,17.63],\"xaxis\":\"x\",\"y\":[19.22,10.13,10.13,12.99,19.22,2.88,3.05,2.88,7.26,10.13,6.05,19.22,10.13,2.88,2.88,12.99,19.22,2.88,10.13,7.26,10.13,2.88,19.22,12.99,19.22,7.26,10.13],\"yaxis\":\"y\",\"type\":\"scatter\"},{\"customdata\":[[\"New York\",\"CVS Pharmacy\"],[\"New York\",\"Walgreens\"],[\"New York\",\"Duane Reade\"],[\"New York\",\"Costco\"],[\"New York\",\"Target (CVS)\"],[\"New York\",\"Acme Markets Pharmacy\"],[\"New York\",\"Walmart\"],[\"New York\",\"Wegmans\"],[\"New York\",\"ACME Sav-On\"],[\"New York\",\"Walgreens Specialty Pharmacy\"],[\"New York\",\"King Kullen\"],[\"New York\",\"Walmart Neighborhood Market\"],[\"Los Angeles\",\"CVS Pharmacy\"],[\"Los Angeles\",\"Vons Pharmacy\"],[\"Los Angeles\",\"Walgreens\"],[\"Los Angeles\",\"Costco\"],[\"Los Angeles\",\"Albertsons (Sav-on)\"],[\"Los Angeles\",\"Target (CVS)\"],[\"Los Angeles\",\"Pavilions Pharmacy\"],[\"Los Angeles\",\"Walmart\"],[\"Los Angeles\",\"Walgreens Specialty Pharmacy\"],[\"Los Angeles\",\"Walmart Neighborhood Market\"],[\"Chicago\",\"Walgreens\"],[\"Chicago\",\"Jewel-Osco\"],[\"Chicago\",\"CVS Pharmacy\"],[\"Chicago\",\"Costco\"],[\"Chicago\",\"Target (CVS)\"],[\"Chicago\",\"Walmart\"],[\"Chicago\",\"Walgreens Specialty Pharmacy\"],[\"Chicago\",\"Walmart Neighborhood Market\"]],\"hovertemplate\":\"drug=Omeprazole\\u003cbr\\u003eStandard Coupon Price=%{x}\\u003cbr\\u003eSpecial Coupon Price=%{y}\\u003cbr\\u003eprice=%{marker.size}\\u003cbr\\u003ecity=%{customdata[0]}\\u003cbr\\u003epharmacy=%{customdata[1]}\\u003cextra\\u003e\\u003c\\u002fextra\\u003e\",\"legendgroup\":\"Omeprazole\",\"marker\":{\"color\":\"#FFA15A\",\"size\":[20.03,18.37,18.37,13.66,20.03,7.0,2.0,5.82,7.0,18.37,8.55,2.0,20.03,7.0,18.37,13.66,7.0,20.03,7.0,2.0,18.37,2.0,18.37,7.0,20.03,13.66,20.03,2.0,18.37,2.0],\"sizemode\":\"area\",\"sizeref\":0.084,\"symbol\":\"circle\"},\"mode\":\"markers\",\"name\":\"Omeprazole\",\"orientation\":\"v\",\"showlegend\":true,\"x\":[29.13,20.87,20.87,18.66,29.13,10.37,15.17,9.32,10.37,20.87,10.75,15.17,29.13,10.37,20.87,18.66,10.37,29.13,10.37,15.17,20.87,15.17,20.87,10.37,29.13,18.66,29.13,15.17,20.87,15.17],\"xaxis\":\"x\",\"y\":[20.03,18.37,18.37,13.66,20.03,7.0,2.0,5.82,7.0,18.37,8.55,2.0,20.03,7.0,18.37,13.66,7.0,20.03,7.0,2.0,18.37,2.0,18.37,7.0,20.03,13.66,20.03,2.0,18.37,2.0],\"yaxis\":\"y\",\"type\":\"scatter\"},{\"customdata\":[[\"New York\",\"CVS Pharmacy\"],[\"New York\",\"Walgreens\"],[\"New York\",\"Target (CVS)\"],[\"New York\",\"Duane Reade\"],[\"New York\",\"Costco\"],[\"New York\",\"Acme Markets Pharmacy Pay online\"],[\"New York\",\"Wegmans\"],[\"New York\",\"ACME Sav-On Pay online\"],[\"New York\",\"Walgreens Specialty Pharmacy\"],[\"New York\",\"Rite Aid\"],[\"Los Angeles\",\"CVS Pharmacy\"],[\"Los Angeles\",\"Vons Pharmacy Pay online\"],[\"Los Angeles\",\"Target (CVS)\"],[\"Los Angeles\",\"Albertsons (Sav-on) Pay online\"],[\"Los Angeles\",\"Walgreens\"],[\"Los Angeles\",\"Pavilions Pharmacy Pay online\"],[\"Los Angeles\",\"Costco\"],[\"Los Angeles\",\"Rite Aid\"],[\"Los Angeles\",\"Walgreens Specialty Pharmacy\"],[\"Chicago\",\"Jewel-Osco\"],[\"Chicago\",\"Walgreens\"],[\"Chicago\",\"Meijer Pharmacy\"],[\"Chicago\",\"CVS Pharmacy\"],[\"Chicago\",\"Target (CVS)\"],[\"Chicago\",\"Costco\"],[\"Chicago\",\"Walgreens Specialty Pharmacy\"]],\"hovertemplate\":\"drug=Simvastatin\\u003cbr\\u003eStandard Coupon Price=%{x}\\u003cbr\\u003eSpecial Coupon Price=%{y}\\u003cbr\\u003eprice=%{marker.size}\\u003cbr\\u003ecity=%{customdata[0]}\\u003cbr\\u003epharmacy=%{customdata[1]}\\u003cextra\\u003e\\u003c\\u002fextra\\u003e\",\"legendgroup\":\"Simvastatin\",\"marker\":{\"color\":\"#19d3f3\",\"size\":[28.04,33.6,28.04,33.6,21.99,3.05,13.38,3.05,33.6,19.3,28.04,3.05,28.04,3.05,33.6,3.05,21.99,19.3,33.6,3.05,33.6,11.3,28.04,28.04,21.99,33.6],\"sizemode\":\"area\",\"sizeref\":0.084,\"symbol\":\"circle\"},\"mode\":\"markers\",\"name\":\"Simvastatin\",\"orientation\":\"v\",\"showlegend\":true,\"x\":[33.04,36.1,33.04,36.1,24.99,13.05,18.88,13.05,36.1,23.55,33.04,13.05,33.04,13.05,36.1,13.05,24.99,23.55,36.1,13.05,36.1,14.79,33.04,33.04,24.99,36.1],\"xaxis\":\"x\",\"y\":[28.04,33.6,28.04,33.6,21.99,3.05,13.38,3.05,33.6,19.3,28.04,3.05,28.04,3.05,33.6,3.05,21.99,19.3,33.6,3.05,33.6,11.3,28.04,28.04,21.99,33.6],\"yaxis\":\"y\",\"type\":\"scatter\"},{\"customdata\":[[\"New York\",\"CVS Pharmacy\"],[\"New York\",\"Walgreens\"],[\"New York\",\"Duane Reade\"],[\"New York\",\"Acme Markets Pharmacy Pay online\"],[\"New York\",\"Target (CVS)\"],[\"New York\",\"Wegmans\"],[\"New York\",\"Costco\"],[\"New York\",\"ACME Sav-On Pay online\"],[\"New York\",\"Sams Club\"],[\"New York\",\"Walgreens Specialty Pharmacy\"],[\"New York\",\"King Kullen\"],[\"New York\",\"Rite Aid\"],[\"Los Angeles\",\"CVS Pharmacy\"],[\"Los Angeles\",\"Vons Pharmacy Pay online\"],[\"Los Angeles\",\"Albertsons (Sav-on) Pay online\"],[\"Los Angeles\",\"Walgreens\"]],\"hovertemplate\":\"drug=Losartan\\u003cbr\\u003eStandard Coupon Price=%{x}\\u003cbr\\u003eSpecial Coupon Price=%{y}\\u003cbr\\u003eprice=%{marker.size}\\u003cbr\\u003ecity=%{customdata[0]}\\u003cbr\\u003epharmacy=%{customdata[1]}\\u003cextra\\u003e\\u003c\\u002fextra\\u003e\",\"legendgroup\":\"Losartan\",\"marker\":{\"color\":\"#FF6692\",\"size\":[19.43,11.21,11.21,2.0,19.43,5.63,21.99,2.0,7.1,11.21,6.87,11.56,19.43,2.0,2.0,11.21],\"sizemode\":\"area\",\"sizeref\":0.084,\"symbol\":\"circle\"},\"mode\":\"markers\",\"name\":\"Losartan\",\"orientation\":\"v\",\"showlegend\":true,\"x\":[28.53,23.71,23.71,10.05,28.53,11.13,22.99,10.05,9.6,23.71,9.84,15.81,28.53,10.05,10.05,23.71],\"xaxis\":\"x\",\"y\":[19.43,11.21,11.21,2.0,19.43,5.63,21.99,2.0,7.1,11.21,6.87,11.56,19.43,2.0,2.0,11.21],\"yaxis\":\"y\",\"type\":\"scatter\"},{\"customdata\":[[\"New York\",\"CVS Pharmacy\"],[\"New York\",\"Walgreens\"],[\"New York\",\"ShopRite\"],[\"New York\",\"Costco\"],[\"New York\",\"Target (CVS)\"],[\"New York\",\"Duane Reade\"],[\"New York\",\"Acme Markets Pharmacy Pay online\"],[\"New York\",\"Wegmans\"],[\"New York\",\"ACME Sav-On Pay online\"],[\"New York\",\"Walgreens Specialty Pharmacy\"],[\"New York\",\"King Kullen\"],[\"Los Angeles\",\"CVS Pharmacy\"],[\"Los Angeles\",\"Costco\"],[\"Los Angeles\",\"Walgreens\"],[\"Los Angeles\",\"Vons Pharmacy Pay online\"],[\"Los Angeles\",\"Albertsons (Sav-on) Pay online\"],[\"Los Angeles\",\"Target (CVS)\"],[\"Los Angeles\",\"Pavilions Pharmacy Pay online\"],[\"Los Angeles\",\"Walgreens Specialty Pharmacy\"]],\"hovertemplate\":\"drug=Hydrochlorothiazide\\u003cbr\\u003eStandard Coupon Price=%{x}\\u003cbr\\u003eSpecial Coupon Price=%{y}\\u003cbr\\u003eprice=%{marker.size}\\u003cbr\\u003ecity=%{customdata[0]}\\u003cbr\\u003epharmacy=%{customdata[1]}\\u003cextra\\u003e\\u003c\\u002fextra\\u003e\",\"legendgroup\":\"Hydrochlorothiazide\",\"marker\":{\"color\":\"#B6E880\",\"size\":[19.22,2.0,2.88,7.5,19.22,2.0,2.0,0.81,2.0,2.0,2.88,19.22,7.5,2.0,2.0,2.0,19.22,2.0,2.0],\"sizemode\":\"area\",\"sizeref\":0.084,\"symbol\":\"circle\"},\"mode\":\"markers\",\"name\":\"Hydrochlorothiazide\",\"orientation\":\"v\",\"showlegend\":true,\"x\":[28.12,4.48,8.05,10.0,28.12,4.48,8.72,5.31,8.72,4.48,8.05,28.12,10.0,4.48,8.72,8.72,28.12,8.72,4.48],\"xaxis\":\"x\",\"y\":[19.22,2.0,2.88,7.5,19.22,2.0,2.0,0.81,2.0,2.0,2.88,19.22,7.5,2.0,2.0,2.0,19.22,2.0,2.0],\"yaxis\":\"y\",\"type\":\"scatter\"}],                        {\"template\":{\"data\":{\"barpolar\":[{\"marker\":{\"line\":{\"color\":\"white\",\"width\":0.5},\"pattern\":{\"fillmode\":\"overlay\",\"size\":10,\"solidity\":0.2}},\"type\":\"barpolar\"}],\"bar\":[{\"error_x\":{\"color\":\"#2a3f5f\"},\"error_y\":{\"color\":\"#2a3f5f\"},\"marker\":{\"line\":{\"color\":\"white\",\"width\":0.5},\"pattern\":{\"fillmode\":\"overlay\",\"size\":10,\"solidity\":0.2}},\"type\":\"bar\"}],\"carpet\":[{\"aaxis\":{\"endlinecolor\":\"#2a3f5f\",\"gridcolor\":\"#C8D4E3\",\"linecolor\":\"#C8D4E3\",\"minorgridcolor\":\"#C8D4E3\",\"startlinecolor\":\"#2a3f5f\"},\"baxis\":{\"endlinecolor\":\"#2a3f5f\",\"gridcolor\":\"#C8D4E3\",\"linecolor\":\"#C8D4E3\",\"minorgridcolor\":\"#C8D4E3\",\"startlinecolor\":\"#2a3f5f\"},\"type\":\"carpet\"}],\"choropleth\":[{\"colorbar\":{\"outlinewidth\":0,\"ticks\":\"\"},\"type\":\"choropleth\"}],\"contourcarpet\":[{\"colorbar\":{\"outlinewidth\":0,\"ticks\":\"\"},\"type\":\"contourcarpet\"}],\"contour\":[{\"colorbar\":{\"outlinewidth\":0,\"ticks\":\"\"},\"colorscale\":[[0.0,\"#0d0887\"],[0.1111111111111111,\"#46039f\"],[0.2222222222222222,\"#7201a8\"],[0.3333333333333333,\"#9c179e\"],[0.4444444444444444,\"#bd3786\"],[0.5555555555555556,\"#d8576b\"],[0.6666666666666666,\"#ed7953\"],[0.7777777777777778,\"#fb9f3a\"],[0.8888888888888888,\"#fdca26\"],[1.0,\"#f0f921\"]],\"type\":\"contour\"}],\"heatmapgl\":[{\"colorbar\":{\"outlinewidth\":0,\"ticks\":\"\"},\"colorscale\":[[0.0,\"#0d0887\"],[0.1111111111111111,\"#46039f\"],[0.2222222222222222,\"#7201a8\"],[0.3333333333333333,\"#9c179e\"],[0.4444444444444444,\"#bd3786\"],[0.5555555555555556,\"#d8576b\"],[0.6666666666666666,\"#ed7953\"],[0.7777777777777778,\"#fb9f3a\"],[0.8888888888888888,\"#fdca26\"],[1.0,\"#f0f921\"]],\"type\":\"heatmapgl\"}],\"heatmap\":[{\"colorbar\":{\"outlinewidth\":0,\"ticks\":\"\"},\"colorscale\":[[0.0,\"#0d0887\"],[0.1111111111111111,\"#46039f\"],[0.2222222222222222,\"#7201a8\"],[0.3333333333333333,\"#9c179e\"],[0.4444444444444444,\"#bd3786\"],[0.5555555555555556,\"#d8576b\"],[0.6666666666666666,\"#ed7953\"],[0.7777777777777778,\"#fb9f3a\"],[0.8888888888888888,\"#fdca26\"],[1.0,\"#f0f921\"]],\"type\":\"heatmap\"}],\"histogram2dcontour\":[{\"colorbar\":{\"outlinewidth\":0,\"ticks\":\"\"},\"colorscale\":[[0.0,\"#0d0887\"],[0.1111111111111111,\"#46039f\"],[0.2222222222222222,\"#7201a8\"],[0.3333333333333333,\"#9c179e\"],[0.4444444444444444,\"#bd3786\"],[0.5555555555555556,\"#d8576b\"],[0.6666666666666666,\"#ed7953\"],[0.7777777777777778,\"#fb9f3a\"],[0.8888888888888888,\"#fdca26\"],[1.0,\"#f0f921\"]],\"type\":\"histogram2dcontour\"}],\"histogram2d\":[{\"colorbar\":{\"outlinewidth\":0,\"ticks\":\"\"},\"colorscale\":[[0.0,\"#0d0887\"],[0.1111111111111111,\"#46039f\"],[0.2222222222222222,\"#7201a8\"],[0.3333333333333333,\"#9c179e\"],[0.4444444444444444,\"#bd3786\"],[0.5555555555555556,\"#d8576b\"],[0.6666666666666666,\"#ed7953\"],[0.7777777777777778,\"#fb9f3a\"],[0.8888888888888888,\"#fdca26\"],[1.0,\"#f0f921\"]],\"type\":\"histogram2d\"}],\"histogram\":[{\"marker\":{\"pattern\":{\"fillmode\":\"overlay\",\"size\":10,\"solidity\":0.2}},\"type\":\"histogram\"}],\"mesh3d\":[{\"colorbar\":{\"outlinewidth\":0,\"ticks\":\"\"},\"type\":\"mesh3d\"}],\"parcoords\":[{\"line\":{\"colorbar\":{\"outlinewidth\":0,\"ticks\":\"\"}},\"type\":\"parcoords\"}],\"pie\":[{\"automargin\":true,\"type\":\"pie\"}],\"scatter3d\":[{\"line\":{\"colorbar\":{\"outlinewidth\":0,\"ticks\":\"\"}},\"marker\":{\"colorbar\":{\"outlinewidth\":0,\"ticks\":\"\"}},\"type\":\"scatter3d\"}],\"scattercarpet\":[{\"marker\":{\"colorbar\":{\"outlinewidth\":0,\"ticks\":\"\"}},\"type\":\"scattercarpet\"}],\"scattergeo\":[{\"marker\":{\"colorbar\":{\"outlinewidth\":0,\"ticks\":\"\"}},\"type\":\"scattergeo\"}],\"scattergl\":[{\"marker\":{\"colorbar\":{\"outlinewidth\":0,\"ticks\":\"\"}},\"type\":\"scattergl\"}],\"scattermapbox\":[{\"marker\":{\"colorbar\":{\"outlinewidth\":0,\"ticks\":\"\"}},\"type\":\"scattermapbox\"}],\"scatterpolargl\":[{\"marker\":{\"colorbar\":{\"outlinewidth\":0,\"ticks\":\"\"}},\"type\":\"scatterpolargl\"}],\"scatterpolar\":[{\"marker\":{\"colorbar\":{\"outlinewidth\":0,\"ticks\":\"\"}},\"type\":\"scatterpolar\"}],\"scatter\":[{\"fillpattern\":{\"fillmode\":\"overlay\",\"size\":10,\"solidity\":0.2},\"type\":\"scatter\"}],\"scatterternary\":[{\"marker\":{\"colorbar\":{\"outlinewidth\":0,\"ticks\":\"\"}},\"type\":\"scatterternary\"}],\"surface\":[{\"colorbar\":{\"outlinewidth\":0,\"ticks\":\"\"},\"colorscale\":[[0.0,\"#0d0887\"],[0.1111111111111111,\"#46039f\"],[0.2222222222222222,\"#7201a8\"],[0.3333333333333333,\"#9c179e\"],[0.4444444444444444,\"#bd3786\"],[0.5555555555555556,\"#d8576b\"],[0.6666666666666666,\"#ed7953\"],[0.7777777777777778,\"#fb9f3a\"],[0.8888888888888888,\"#fdca26\"],[1.0,\"#f0f921\"]],\"type\":\"surface\"}],\"table\":[{\"cells\":{\"fill\":{\"color\":\"#EBF0F8\"},\"line\":{\"color\":\"white\"}},\"header\":{\"fill\":{\"color\":\"#C8D4E3\"},\"line\":{\"color\":\"white\"}},\"type\":\"table\"}]},\"layout\":{\"annotationdefaults\":{\"arrowcolor\":\"#2a3f5f\",\"arrowhead\":0,\"arrowwidth\":1},\"autotypenumbers\":\"strict\",\"coloraxis\":{\"colorbar\":{\"outlinewidth\":0,\"ticks\":\"\"}},\"colorscale\":{\"diverging\":[[0,\"#8e0152\"],[0.1,\"#c51b7d\"],[0.2,\"#de77ae\"],[0.3,\"#f1b6da\"],[0.4,\"#fde0ef\"],[0.5,\"#f7f7f7\"],[0.6,\"#e6f5d0\"],[0.7,\"#b8e186\"],[0.8,\"#7fbc41\"],[0.9,\"#4d9221\"],[1,\"#276419\"]],\"sequential\":[[0.0,\"#0d0887\"],[0.1111111111111111,\"#46039f\"],[0.2222222222222222,\"#7201a8\"],[0.3333333333333333,\"#9c179e\"],[0.4444444444444444,\"#bd3786\"],[0.5555555555555556,\"#d8576b\"],[0.6666666666666666,\"#ed7953\"],[0.7777777777777778,\"#fb9f3a\"],[0.8888888888888888,\"#fdca26\"],[1.0,\"#f0f921\"]],\"sequentialminus\":[[0.0,\"#0d0887\"],[0.1111111111111111,\"#46039f\"],[0.2222222222222222,\"#7201a8\"],[0.3333333333333333,\"#9c179e\"],[0.4444444444444444,\"#bd3786\"],[0.5555555555555556,\"#d8576b\"],[0.6666666666666666,\"#ed7953\"],[0.7777777777777778,\"#fb9f3a\"],[0.8888888888888888,\"#fdca26\"],[1.0,\"#f0f921\"]]},\"colorway\":[\"#636efa\",\"#EF553B\",\"#00cc96\",\"#ab63fa\",\"#FFA15A\",\"#19d3f3\",\"#FF6692\",\"#B6E880\",\"#FF97FF\",\"#FECB52\"],\"font\":{\"color\":\"#2a3f5f\"},\"geo\":{\"bgcolor\":\"white\",\"lakecolor\":\"white\",\"landcolor\":\"white\",\"showlakes\":true,\"showland\":true,\"subunitcolor\":\"#C8D4E3\"},\"hoverlabel\":{\"align\":\"left\"},\"hovermode\":\"closest\",\"mapbox\":{\"style\":\"light\"},\"paper_bgcolor\":\"white\",\"plot_bgcolor\":\"white\",\"polar\":{\"angularaxis\":{\"gridcolor\":\"#EBF0F8\",\"linecolor\":\"#EBF0F8\",\"ticks\":\"\"},\"bgcolor\":\"white\",\"radialaxis\":{\"gridcolor\":\"#EBF0F8\",\"linecolor\":\"#EBF0F8\",\"ticks\":\"\"}},\"scene\":{\"xaxis\":{\"backgroundcolor\":\"white\",\"gridcolor\":\"#DFE8F3\",\"gridwidth\":2,\"linecolor\":\"#EBF0F8\",\"showbackground\":true,\"ticks\":\"\",\"zerolinecolor\":\"#EBF0F8\"},\"yaxis\":{\"backgroundcolor\":\"white\",\"gridcolor\":\"#DFE8F3\",\"gridwidth\":2,\"linecolor\":\"#EBF0F8\",\"showbackground\":true,\"ticks\":\"\",\"zerolinecolor\":\"#EBF0F8\"},\"zaxis\":{\"backgroundcolor\":\"white\",\"gridcolor\":\"#DFE8F3\",\"gridwidth\":2,\"linecolor\":\"#EBF0F8\",\"showbackground\":true,\"ticks\":\"\",\"zerolinecolor\":\"#EBF0F8\"}},\"shapedefaults\":{\"line\":{\"color\":\"#2a3f5f\"}},\"ternary\":{\"aaxis\":{\"gridcolor\":\"#DFE8F3\",\"linecolor\":\"#A2B1C6\",\"ticks\":\"\"},\"baxis\":{\"gridcolor\":\"#DFE8F3\",\"linecolor\":\"#A2B1C6\",\"ticks\":\"\"},\"bgcolor\":\"white\",\"caxis\":{\"gridcolor\":\"#DFE8F3\",\"linecolor\":\"#A2B1C6\",\"ticks\":\"\"}},\"title\":{\"x\":0.05},\"xaxis\":{\"automargin\":true,\"gridcolor\":\"#EBF0F8\",\"linecolor\":\"#EBF0F8\",\"ticks\":\"\",\"title\":{\"standoff\":15},\"zerolinecolor\":\"#EBF0F8\",\"zerolinewidth\":2},\"yaxis\":{\"automargin\":true,\"gridcolor\":\"#EBF0F8\",\"linecolor\":\"#EBF0F8\",\"ticks\":\"\",\"title\":{\"standoff\":15},\"zerolinecolor\":\"#EBF0F8\",\"zerolinewidth\":2}}},\"xaxis\":{\"anchor\":\"y\",\"domain\":[0.0,1.0],\"title\":{\"text\":\"Standard Coupon Price\"}},\"yaxis\":{\"anchor\":\"x\",\"domain\":[0.0,1.0],\"title\":{\"text\":\"Special Coupon Price\"}},\"legend\":{\"title\":{\"text\":\"drug\"},\"tracegroupgap\":0,\"itemsizing\":\"constant\"},\"title\":{\"text\":\"6) Standard vs Special Coupon Prices\"},\"shapes\":[{\"line\":{\"color\":\"gray\",\"dash\":\"dot\"},\"type\":\"line\",\"x0\":0,\"x1\":49.99,\"y0\":0,\"y1\":49.99}]},                        {\"responsive\": true}                    ).then(function(){\n",
       "                            \n",
       "var gd = document.getElementById('e8e9991b-573d-430d-a48a-56a3c6094574');\n",
       "var x = new MutationObserver(function (mutations, observer) {{\n",
       "        var display = window.getComputedStyle(gd).display;\n",
       "        if (!display || display === 'none') {{\n",
       "            console.log([gd, 'removed!']);\n",
       "            Plotly.purge(gd);\n",
       "            observer.disconnect();\n",
       "        }}\n",
       "}});\n",
       "\n",
       "// Listen for the removal of the full notebook cells\n",
       "var notebookContainer = gd.closest('#notebook-container');\n",
       "if (notebookContainer) {{\n",
       "    x.observe(notebookContainer, {childList: true});\n",
       "}}\n",
       "\n",
       "// Listen for the clearing of the current output cell\n",
       "var outputEl = gd.closest('.output');\n",
       "if (outputEl) {{\n",
       "    x.observe(outputEl, {childList: true});\n",
       "}}\n",
       "\n",
       "                        })                };                });            </script>        </div>"
      ]
     },
     "metadata": {},
     "output_type": "display_data"
    },
    {
     "data": {
      "application/vnd.plotly.v1+json": {
       "config": {
        "plotlyServerURL": "https://plot.ly"
       },
       "data": [
        {
         "alignmentgroup": "True",
         "boxpoints": "outliers",
         "hovertemplate": "city=New York<br>Drug=%{x}<br>Price (USD)=%{y}<extra></extra>",
         "legendgroup": "New York",
         "marker": {
          "color": "#636efa"
         },
         "name": "New York",
         "notched": false,
         "offsetgroup": "New York",
         "orientation": "v",
         "showlegend": true,
         "type": "box",
         "x": [
          "Atorvastatin",
          "Atorvastatin",
          "Atorvastatin",
          "Atorvastatin",
          "Atorvastatin",
          "Atorvastatin",
          "Atorvastatin",
          "Atorvastatin",
          "Atorvastatin",
          "Atorvastatin",
          "Atorvastatin",
          "Atorvastatin",
          "Atorvastatin",
          "Atorvastatin",
          "Atorvastatin",
          "Lisinopril",
          "Lisinopril",
          "Lisinopril",
          "Lisinopril",
          "Lisinopril",
          "Lisinopril",
          "Lisinopril",
          "Lisinopril",
          "Lisinopril",
          "Lisinopril",
          "Lisinopril",
          "Lisinopril",
          "Lisinopril",
          "Metformin",
          "Metformin",
          "Metformin",
          "Metformin",
          "Metformin",
          "Metformin",
          "Metformin",
          "Metformin",
          "Metformin",
          "Metformin",
          "Metformin",
          "Metformin",
          "Metformin",
          "Metformin",
          "Metformin",
          "Metformin",
          "Amlodipine",
          "Amlodipine",
          "Amlodipine",
          "Amlodipine",
          "Amlodipine",
          "Amlodipine",
          "Amlodipine",
          "Amlodipine",
          "Amlodipine",
          "Amlodipine",
          "Amlodipine",
          "Amlodipine",
          "Amlodipine",
          "Amlodipine",
          "Amlodipine",
          "Amlodipine",
          "Omeprazole",
          "Omeprazole",
          "Omeprazole",
          "Omeprazole",
          "Omeprazole",
          "Omeprazole",
          "Omeprazole",
          "Omeprazole",
          "Omeprazole",
          "Omeprazole",
          "Omeprazole",
          "Omeprazole",
          "Omeprazole",
          "Omeprazole",
          "Omeprazole",
          "Simvastatin",
          "Simvastatin",
          "Simvastatin",
          "Simvastatin",
          "Simvastatin",
          "Simvastatin",
          "Simvastatin",
          "Simvastatin",
          "Simvastatin",
          "Simvastatin",
          "Simvastatin",
          "Simvastatin",
          "Simvastatin",
          "Simvastatin",
          "Simvastatin",
          "Losartan",
          "Losartan",
          "Losartan",
          "Losartan",
          "Losartan",
          "Losartan",
          "Losartan",
          "Losartan",
          "Losartan",
          "Losartan",
          "Losartan",
          "Losartan",
          "Losartan",
          "Losartan",
          "Losartan",
          "Losartan",
          "Hydrochlorothiazide",
          "Hydrochlorothiazide",
          "Hydrochlorothiazide",
          "Hydrochlorothiazide",
          "Hydrochlorothiazide",
          "Hydrochlorothiazide",
          "Hydrochlorothiazide",
          "Hydrochlorothiazide",
          "Hydrochlorothiazide",
          "Hydrochlorothiazide",
          "Hydrochlorothiazide",
          "Hydrochlorothiazide",
          "Hydrochlorothiazide",
          "Hydrochlorothiazide",
          "Hydrochlorothiazide"
         ],
         "x0": " ",
         "xaxis": "x",
         "y": [
          19.67,
          11.72,
          10.34,
          7.74,
          11.72,
          19.67,
          16.66,
          7.53,
          17.93,
          6.89,
          7.53,
          11.72,
          7.74,
          6.79,
          11.89,
          8.57,
          4.83,
          5.85,
          8.57,
          2,
          4.83,
          17.34,
          8.66,
          3.25,
          2,
          7.84,
          9,
          4.83,
          19.64,
          4.86,
          4.86,
          19.64,
          7.97,
          20.43,
          2,
          13.99,
          2.82,
          9,
          4.86,
          2,
          9.82,
          9,
          6.52,
          11.36,
          19.22,
          10.13,
          10.44,
          10.13,
          12.99,
          19.22,
          18.86,
          2.88,
          3.05,
          9,
          2.88,
          7.26,
          10.13,
          6.05,
          9,
          11.02,
          20.03,
          18.37,
          10.75,
          18.37,
          23.09,
          13.66,
          20.03,
          7,
          2,
          5.82,
          7,
          18.37,
          8.55,
          2,
          12.09,
          28.04,
          33.6,
          13.7,
          28.04,
          33.6,
          21.99,
          27.09,
          3.05,
          24,
          13.38,
          3.05,
          33.6,
          24,
          19.3,
          13.7,
          19.43,
          11.21,
          9.84,
          11.21,
          2,
          19.43,
          5.63,
          21.99,
          16.47,
          2,
          7.1,
          9,
          11.21,
          9,
          6.87,
          11.56,
          19.22,
          2,
          2.88,
          7.5,
          19.22,
          2,
          2,
          16.95,
          0.81,
          4,
          2,
          2,
          9,
          4,
          2.88
         ],
         "y0": " ",
         "yaxis": "y"
        },
        {
         "alignmentgroup": "True",
         "boxpoints": "outliers",
         "hovertemplate": "city=Los Angeles<br>Drug=%{x}<br>Price (USD)=%{y}<extra></extra>",
         "legendgroup": "Los Angeles",
         "marker": {
          "color": "#EF553B"
         },
         "name": "Los Angeles",
         "notched": false,
         "offsetgroup": "Los Angeles",
         "orientation": "v",
         "showlegend": true,
         "type": "box",
         "x": [
          "Atorvastatin",
          "Atorvastatin",
          "Atorvastatin",
          "Atorvastatin",
          "Atorvastatin",
          "Atorvastatin",
          "Atorvastatin",
          "Atorvastatin",
          "Atorvastatin",
          "Atorvastatin",
          "Atorvastatin",
          "Atorvastatin",
          "Atorvastatin",
          "Lisinopril",
          "Metformin",
          "Metformin",
          "Metformin",
          "Metformin",
          "Metformin",
          "Metformin",
          "Metformin",
          "Metformin",
          "Metformin",
          "Metformin",
          "Metformin",
          "Metformin",
          "Metformin",
          "Metformin",
          "Amlodipine",
          "Amlodipine",
          "Amlodipine",
          "Amlodipine",
          "Amlodipine",
          "Amlodipine",
          "Amlodipine",
          "Amlodipine",
          "Amlodipine",
          "Amlodipine",
          "Amlodipine",
          "Amlodipine",
          "Amlodipine",
          "Amlodipine",
          "Omeprazole",
          "Omeprazole",
          "Omeprazole",
          "Omeprazole",
          "Omeprazole",
          "Omeprazole",
          "Omeprazole",
          "Omeprazole",
          "Omeprazole",
          "Omeprazole",
          "Omeprazole",
          "Omeprazole",
          "Omeprazole",
          "Simvastatin",
          "Simvastatin",
          "Simvastatin",
          "Simvastatin",
          "Simvastatin",
          "Simvastatin",
          "Simvastatin",
          "Simvastatin",
          "Simvastatin",
          "Simvastatin",
          "Simvastatin",
          "Simvastatin",
          "Simvastatin",
          "Losartan",
          "Losartan",
          "Losartan",
          "Losartan",
          "Losartan",
          "Losartan",
          "Losartan",
          "Losartan",
          "Losartan",
          "Losartan",
          "Losartan",
          "Losartan",
          "Losartan",
          "Losartan",
          "Hydrochlorothiazide",
          "Hydrochlorothiazide",
          "Hydrochlorothiazide",
          "Hydrochlorothiazide",
          "Hydrochlorothiazide",
          "Hydrochlorothiazide",
          "Hydrochlorothiazide",
          "Hydrochlorothiazide",
          "Hydrochlorothiazide",
          "Hydrochlorothiazide",
          "Hydrochlorothiazide",
          "Hydrochlorothiazide",
          "Hydrochlorothiazide"
         ],
         "x0": " ",
         "xaxis": "x",
         "y": [
          19.67,
          11.72,
          7.53,
          7.74,
          7.53,
          16.66,
          19.67,
          7.74,
          10.54,
          7.53,
          11.72,
          17.93,
          11.89,
          8.57,
          19.64,
          4.86,
          2,
          2,
          19.64,
          2,
          13.99,
          14.87,
          9,
          9,
          9.82,
          4.86,
          11.36,
          20.43,
          19.22,
          10.13,
          2.88,
          2.88,
          12.99,
          19.22,
          2.88,
          7.53,
          9,
          10.13,
          7.26,
          9,
          11.02,
          18.86,
          20.03,
          7,
          18.37,
          13.66,
          7,
          20.03,
          7,
          8.6,
          2,
          18.37,
          2,
          12.09,
          23.09,
          28.04,
          3.05,
          28.04,
          3.05,
          33.6,
          3.05,
          19.8,
          21.99,
          24,
          24,
          19.3,
          33.6,
          27.09,
          19.43,
          2,
          2,
          11.21,
          2,
          19.43,
          7.3,
          21.99,
          7.1,
          9,
          9,
          11.21,
          11.56,
          16.47,
          19.22,
          7.5,
          2,
          2,
          2,
          19.22,
          6.39,
          2,
          4,
          2,
          4,
          16.95,
          9
         ],
         "y0": " ",
         "yaxis": "y"
        },
        {
         "alignmentgroup": "True",
         "boxpoints": "outliers",
         "hovertemplate": "city=Chicago<br>Drug=%{x}<br>Price (USD)=%{y}<extra></extra>",
         "legendgroup": "Chicago",
         "marker": {
          "color": "#00cc96"
         },
         "name": "Chicago",
         "notched": false,
         "offsetgroup": "Chicago",
         "orientation": "v",
         "showlegend": true,
         "type": "box",
         "x": [
          "Atorvastatin",
          "Atorvastatin",
          "Atorvastatin",
          "Atorvastatin",
          "Atorvastatin",
          "Atorvastatin",
          "Atorvastatin",
          "Atorvastatin",
          "Atorvastatin",
          "Atorvastatin",
          "Atorvastatin",
          "Atorvastatin",
          "Lisinopril",
          "Lisinopril",
          "Lisinopril",
          "Lisinopril",
          "Lisinopril",
          "Lisinopril",
          "Lisinopril",
          "Lisinopril",
          "Lisinopril",
          "Lisinopril",
          "Lisinopril",
          "Lisinopril",
          "Lisinopril",
          "Metformin",
          "Metformin",
          "Metformin",
          "Metformin",
          "Metformin",
          "Metformin",
          "Metformin",
          "Metformin",
          "Metformin",
          "Metformin",
          "Metformin",
          "Metformin",
          "Metformin",
          "Amlodipine",
          "Amlodipine",
          "Amlodipine",
          "Amlodipine",
          "Amlodipine",
          "Amlodipine",
          "Amlodipine",
          "Amlodipine",
          "Amlodipine",
          "Amlodipine",
          "Amlodipine",
          "Amlodipine",
          "Amlodipine",
          "Omeprazole",
          "Omeprazole",
          "Omeprazole",
          "Omeprazole",
          "Omeprazole",
          "Omeprazole",
          "Omeprazole",
          "Omeprazole",
          "Omeprazole",
          "Omeprazole",
          "Omeprazole",
          "Omeprazole",
          "Simvastatin",
          "Simvastatin",
          "Simvastatin",
          "Simvastatin",
          "Simvastatin",
          "Simvastatin",
          "Simvastatin",
          "Simvastatin",
          "Simvastatin",
          "Simvastatin",
          "Simvastatin",
          "Simvastatin"
         ],
         "x0": " ",
         "xaxis": "x",
         "y": [
          11.72,
          7.53,
          19.67,
          10.25,
          7.74,
          19.67,
          16.66,
          10.54,
          11.72,
          7.74,
          8.99,
          17.93,
          4.83,
          2,
          8.57,
          8.47,
          8.57,
          8.66,
          9,
          7.79,
          7.84,
          5.92,
          9,
          4.83,
          17.34,
          4.86,
          2,
          19.64,
          8.18,
          19.64,
          13.99,
          9,
          14.87,
          9.82,
          6.89,
          9,
          4.86,
          20.43,
          10.13,
          2.88,
          8.7,
          19.22,
          12.99,
          19.22,
          9,
          7.53,
          7.26,
          8.07,
          9,
          10.13,
          18.86,
          18.37,
          7,
          10.07,
          20.03,
          13.66,
          20.03,
          2,
          8.6,
          18.37,
          8.82,
          2,
          23.09,
          3.05,
          33.6,
          11.3,
          28.04,
          28.04,
          19.8,
          24,
          21.99,
          9.95,
          24,
          33.6,
          27.09
         ],
         "y0": " ",
         "yaxis": "y"
        }
       ],
       "layout": {
        "boxmode": "group",
        "legend": {
         "title": {
          "text": "city"
         },
         "tracegroupgap": 0
        },
        "template": {
         "data": {
          "bar": [
           {
            "error_x": {
             "color": "#2a3f5f"
            },
            "error_y": {
             "color": "#2a3f5f"
            },
            "marker": {
             "line": {
              "color": "white",
              "width": 0.5
             },
             "pattern": {
              "fillmode": "overlay",
              "size": 10,
              "solidity": 0.2
             }
            },
            "type": "bar"
           }
          ],
          "barpolar": [
           {
            "marker": {
             "line": {
              "color": "white",
              "width": 0.5
             },
             "pattern": {
              "fillmode": "overlay",
              "size": 10,
              "solidity": 0.2
             }
            },
            "type": "barpolar"
           }
          ],
          "carpet": [
           {
            "aaxis": {
             "endlinecolor": "#2a3f5f",
             "gridcolor": "#C8D4E3",
             "linecolor": "#C8D4E3",
             "minorgridcolor": "#C8D4E3",
             "startlinecolor": "#2a3f5f"
            },
            "baxis": {
             "endlinecolor": "#2a3f5f",
             "gridcolor": "#C8D4E3",
             "linecolor": "#C8D4E3",
             "minorgridcolor": "#C8D4E3",
             "startlinecolor": "#2a3f5f"
            },
            "type": "carpet"
           }
          ],
          "choropleth": [
           {
            "colorbar": {
             "outlinewidth": 0,
             "ticks": ""
            },
            "type": "choropleth"
           }
          ],
          "contour": [
           {
            "colorbar": {
             "outlinewidth": 0,
             "ticks": ""
            },
            "colorscale": [
             [
              0,
              "#0d0887"
             ],
             [
              0.1111111111111111,
              "#46039f"
             ],
             [
              0.2222222222222222,
              "#7201a8"
             ],
             [
              0.3333333333333333,
              "#9c179e"
             ],
             [
              0.4444444444444444,
              "#bd3786"
             ],
             [
              0.5555555555555556,
              "#d8576b"
             ],
             [
              0.6666666666666666,
              "#ed7953"
             ],
             [
              0.7777777777777778,
              "#fb9f3a"
             ],
             [
              0.8888888888888888,
              "#fdca26"
             ],
             [
              1,
              "#f0f921"
             ]
            ],
            "type": "contour"
           }
          ],
          "contourcarpet": [
           {
            "colorbar": {
             "outlinewidth": 0,
             "ticks": ""
            },
            "type": "contourcarpet"
           }
          ],
          "heatmap": [
           {
            "colorbar": {
             "outlinewidth": 0,
             "ticks": ""
            },
            "colorscale": [
             [
              0,
              "#0d0887"
             ],
             [
              0.1111111111111111,
              "#46039f"
             ],
             [
              0.2222222222222222,
              "#7201a8"
             ],
             [
              0.3333333333333333,
              "#9c179e"
             ],
             [
              0.4444444444444444,
              "#bd3786"
             ],
             [
              0.5555555555555556,
              "#d8576b"
             ],
             [
              0.6666666666666666,
              "#ed7953"
             ],
             [
              0.7777777777777778,
              "#fb9f3a"
             ],
             [
              0.8888888888888888,
              "#fdca26"
             ],
             [
              1,
              "#f0f921"
             ]
            ],
            "type": "heatmap"
           }
          ],
          "heatmapgl": [
           {
            "colorbar": {
             "outlinewidth": 0,
             "ticks": ""
            },
            "colorscale": [
             [
              0,
              "#0d0887"
             ],
             [
              0.1111111111111111,
              "#46039f"
             ],
             [
              0.2222222222222222,
              "#7201a8"
             ],
             [
              0.3333333333333333,
              "#9c179e"
             ],
             [
              0.4444444444444444,
              "#bd3786"
             ],
             [
              0.5555555555555556,
              "#d8576b"
             ],
             [
              0.6666666666666666,
              "#ed7953"
             ],
             [
              0.7777777777777778,
              "#fb9f3a"
             ],
             [
              0.8888888888888888,
              "#fdca26"
             ],
             [
              1,
              "#f0f921"
             ]
            ],
            "type": "heatmapgl"
           }
          ],
          "histogram": [
           {
            "marker": {
             "pattern": {
              "fillmode": "overlay",
              "size": 10,
              "solidity": 0.2
             }
            },
            "type": "histogram"
           }
          ],
          "histogram2d": [
           {
            "colorbar": {
             "outlinewidth": 0,
             "ticks": ""
            },
            "colorscale": [
             [
              0,
              "#0d0887"
             ],
             [
              0.1111111111111111,
              "#46039f"
             ],
             [
              0.2222222222222222,
              "#7201a8"
             ],
             [
              0.3333333333333333,
              "#9c179e"
             ],
             [
              0.4444444444444444,
              "#bd3786"
             ],
             [
              0.5555555555555556,
              "#d8576b"
             ],
             [
              0.6666666666666666,
              "#ed7953"
             ],
             [
              0.7777777777777778,
              "#fb9f3a"
             ],
             [
              0.8888888888888888,
              "#fdca26"
             ],
             [
              1,
              "#f0f921"
             ]
            ],
            "type": "histogram2d"
           }
          ],
          "histogram2dcontour": [
           {
            "colorbar": {
             "outlinewidth": 0,
             "ticks": ""
            },
            "colorscale": [
             [
              0,
              "#0d0887"
             ],
             [
              0.1111111111111111,
              "#46039f"
             ],
             [
              0.2222222222222222,
              "#7201a8"
             ],
             [
              0.3333333333333333,
              "#9c179e"
             ],
             [
              0.4444444444444444,
              "#bd3786"
             ],
             [
              0.5555555555555556,
              "#d8576b"
             ],
             [
              0.6666666666666666,
              "#ed7953"
             ],
             [
              0.7777777777777778,
              "#fb9f3a"
             ],
             [
              0.8888888888888888,
              "#fdca26"
             ],
             [
              1,
              "#f0f921"
             ]
            ],
            "type": "histogram2dcontour"
           }
          ],
          "mesh3d": [
           {
            "colorbar": {
             "outlinewidth": 0,
             "ticks": ""
            },
            "type": "mesh3d"
           }
          ],
          "parcoords": [
           {
            "line": {
             "colorbar": {
              "outlinewidth": 0,
              "ticks": ""
             }
            },
            "type": "parcoords"
           }
          ],
          "pie": [
           {
            "automargin": true,
            "type": "pie"
           }
          ],
          "scatter": [
           {
            "fillpattern": {
             "fillmode": "overlay",
             "size": 10,
             "solidity": 0.2
            },
            "type": "scatter"
           }
          ],
          "scatter3d": [
           {
            "line": {
             "colorbar": {
              "outlinewidth": 0,
              "ticks": ""
             }
            },
            "marker": {
             "colorbar": {
              "outlinewidth": 0,
              "ticks": ""
             }
            },
            "type": "scatter3d"
           }
          ],
          "scattercarpet": [
           {
            "marker": {
             "colorbar": {
              "outlinewidth": 0,
              "ticks": ""
             }
            },
            "type": "scattercarpet"
           }
          ],
          "scattergeo": [
           {
            "marker": {
             "colorbar": {
              "outlinewidth": 0,
              "ticks": ""
             }
            },
            "type": "scattergeo"
           }
          ],
          "scattergl": [
           {
            "marker": {
             "colorbar": {
              "outlinewidth": 0,
              "ticks": ""
             }
            },
            "type": "scattergl"
           }
          ],
          "scattermapbox": [
           {
            "marker": {
             "colorbar": {
              "outlinewidth": 0,
              "ticks": ""
             }
            },
            "type": "scattermapbox"
           }
          ],
          "scatterpolar": [
           {
            "marker": {
             "colorbar": {
              "outlinewidth": 0,
              "ticks": ""
             }
            },
            "type": "scatterpolar"
           }
          ],
          "scatterpolargl": [
           {
            "marker": {
             "colorbar": {
              "outlinewidth": 0,
              "ticks": ""
             }
            },
            "type": "scatterpolargl"
           }
          ],
          "scatterternary": [
           {
            "marker": {
             "colorbar": {
              "outlinewidth": 0,
              "ticks": ""
             }
            },
            "type": "scatterternary"
           }
          ],
          "surface": [
           {
            "colorbar": {
             "outlinewidth": 0,
             "ticks": ""
            },
            "colorscale": [
             [
              0,
              "#0d0887"
             ],
             [
              0.1111111111111111,
              "#46039f"
             ],
             [
              0.2222222222222222,
              "#7201a8"
             ],
             [
              0.3333333333333333,
              "#9c179e"
             ],
             [
              0.4444444444444444,
              "#bd3786"
             ],
             [
              0.5555555555555556,
              "#d8576b"
             ],
             [
              0.6666666666666666,
              "#ed7953"
             ],
             [
              0.7777777777777778,
              "#fb9f3a"
             ],
             [
              0.8888888888888888,
              "#fdca26"
             ],
             [
              1,
              "#f0f921"
             ]
            ],
            "type": "surface"
           }
          ],
          "table": [
           {
            "cells": {
             "fill": {
              "color": "#EBF0F8"
             },
             "line": {
              "color": "white"
             }
            },
            "header": {
             "fill": {
              "color": "#C8D4E3"
             },
             "line": {
              "color": "white"
             }
            },
            "type": "table"
           }
          ]
         },
         "layout": {
          "annotationdefaults": {
           "arrowcolor": "#2a3f5f",
           "arrowhead": 0,
           "arrowwidth": 1
          },
          "autotypenumbers": "strict",
          "coloraxis": {
           "colorbar": {
            "outlinewidth": 0,
            "ticks": ""
           }
          },
          "colorscale": {
           "diverging": [
            [
             0,
             "#8e0152"
            ],
            [
             0.1,
             "#c51b7d"
            ],
            [
             0.2,
             "#de77ae"
            ],
            [
             0.3,
             "#f1b6da"
            ],
            [
             0.4,
             "#fde0ef"
            ],
            [
             0.5,
             "#f7f7f7"
            ],
            [
             0.6,
             "#e6f5d0"
            ],
            [
             0.7,
             "#b8e186"
            ],
            [
             0.8,
             "#7fbc41"
            ],
            [
             0.9,
             "#4d9221"
            ],
            [
             1,
             "#276419"
            ]
           ],
           "sequential": [
            [
             0,
             "#0d0887"
            ],
            [
             0.1111111111111111,
             "#46039f"
            ],
            [
             0.2222222222222222,
             "#7201a8"
            ],
            [
             0.3333333333333333,
             "#9c179e"
            ],
            [
             0.4444444444444444,
             "#bd3786"
            ],
            [
             0.5555555555555556,
             "#d8576b"
            ],
            [
             0.6666666666666666,
             "#ed7953"
            ],
            [
             0.7777777777777778,
             "#fb9f3a"
            ],
            [
             0.8888888888888888,
             "#fdca26"
            ],
            [
             1,
             "#f0f921"
            ]
           ],
           "sequentialminus": [
            [
             0,
             "#0d0887"
            ],
            [
             0.1111111111111111,
             "#46039f"
            ],
            [
             0.2222222222222222,
             "#7201a8"
            ],
            [
             0.3333333333333333,
             "#9c179e"
            ],
            [
             0.4444444444444444,
             "#bd3786"
            ],
            [
             0.5555555555555556,
             "#d8576b"
            ],
            [
             0.6666666666666666,
             "#ed7953"
            ],
            [
             0.7777777777777778,
             "#fb9f3a"
            ],
            [
             0.8888888888888888,
             "#fdca26"
            ],
            [
             1,
             "#f0f921"
            ]
           ]
          },
          "colorway": [
           "#636efa",
           "#EF553B",
           "#00cc96",
           "#ab63fa",
           "#FFA15A",
           "#19d3f3",
           "#FF6692",
           "#B6E880",
           "#FF97FF",
           "#FECB52"
          ],
          "font": {
           "color": "#2a3f5f"
          },
          "geo": {
           "bgcolor": "white",
           "lakecolor": "white",
           "landcolor": "white",
           "showlakes": true,
           "showland": true,
           "subunitcolor": "#C8D4E3"
          },
          "hoverlabel": {
           "align": "left"
          },
          "hovermode": "closest",
          "mapbox": {
           "style": "light"
          },
          "paper_bgcolor": "white",
          "plot_bgcolor": "white",
          "polar": {
           "angularaxis": {
            "gridcolor": "#EBF0F8",
            "linecolor": "#EBF0F8",
            "ticks": ""
           },
           "bgcolor": "white",
           "radialaxis": {
            "gridcolor": "#EBF0F8",
            "linecolor": "#EBF0F8",
            "ticks": ""
           }
          },
          "scene": {
           "xaxis": {
            "backgroundcolor": "white",
            "gridcolor": "#DFE8F3",
            "gridwidth": 2,
            "linecolor": "#EBF0F8",
            "showbackground": true,
            "ticks": "",
            "zerolinecolor": "#EBF0F8"
           },
           "yaxis": {
            "backgroundcolor": "white",
            "gridcolor": "#DFE8F3",
            "gridwidth": 2,
            "linecolor": "#EBF0F8",
            "showbackground": true,
            "ticks": "",
            "zerolinecolor": "#EBF0F8"
           },
           "zaxis": {
            "backgroundcolor": "white",
            "gridcolor": "#DFE8F3",
            "gridwidth": 2,
            "linecolor": "#EBF0F8",
            "showbackground": true,
            "ticks": "",
            "zerolinecolor": "#EBF0F8"
           }
          },
          "shapedefaults": {
           "line": {
            "color": "#2a3f5f"
           }
          },
          "ternary": {
           "aaxis": {
            "gridcolor": "#DFE8F3",
            "linecolor": "#A2B1C6",
            "ticks": ""
           },
           "baxis": {
            "gridcolor": "#DFE8F3",
            "linecolor": "#A2B1C6",
            "ticks": ""
           },
           "bgcolor": "white",
           "caxis": {
            "gridcolor": "#DFE8F3",
            "linecolor": "#A2B1C6",
            "ticks": ""
           }
          },
          "title": {
           "x": 0.05
          },
          "xaxis": {
           "automargin": true,
           "gridcolor": "#EBF0F8",
           "linecolor": "#EBF0F8",
           "ticks": "",
           "title": {
            "standoff": 15
           },
           "zerolinecolor": "#EBF0F8",
           "zerolinewidth": 2
          },
          "yaxis": {
           "automargin": true,
           "gridcolor": "#EBF0F8",
           "linecolor": "#EBF0F8",
           "ticks": "",
           "title": {
            "standoff": 15
           },
           "zerolinecolor": "#EBF0F8",
           "zerolinewidth": 2
          }
         }
        },
        "title": {
         "text": "7) Price Outliers by Drug and City"
        },
        "xaxis": {
         "anchor": "y",
         "domain": [
          0,
          1
         ],
         "title": {
          "text": "Drug"
         }
        },
        "yaxis": {
         "anchor": "x",
         "domain": [
          0,
          1
         ],
         "title": {
          "text": "Price (USD)"
         }
        }
       }
      },
      "image/png": "[encoded data removed]",
      "text/html": [
       "<div>                            <div id=\"3fe29de0-9021-403e-8cf9-f8fa0934f0d2\" class=\"plotly-graph-div\" style=\"height:525px; width:100%;\"></div>            <script type=\"text/javascript\">                require([\"plotly\"], function(Plotly) {                    window.PLOTLYENV=window.PLOTLYENV || {};                                    if (document.getElementById(\"3fe29de0-9021-403e-8cf9-f8fa0934f0d2\")) {                    Plotly.newPlot(                        \"3fe29de0-9021-403e-8cf9-f8fa0934f0d2\",                        [{\"alignmentgroup\":\"True\",\"boxpoints\":\"outliers\",\"hovertemplate\":\"city=New York\\u003cbr\\u003eDrug=%{x}\\u003cbr\\u003ePrice (USD)=%{y}\\u003cextra\\u003e\\u003c\\u002fextra\\u003e\",\"legendgroup\":\"New York\",\"marker\":{\"color\":\"#636efa\"},\"name\":\"New York\",\"notched\":false,\"offsetgroup\":\"New York\",\"orientation\":\"v\",\"showlegend\":true,\"x\":[\"Atorvastatin\",\"Atorvastatin\",\"Atorvastatin\",\"Atorvastatin\",\"Atorvastatin\",\"Atorvastatin\",\"Atorvastatin\",\"Atorvastatin\",\"Atorvastatin\",\"Atorvastatin\",\"Atorvastatin\",\"Atorvastatin\",\"Atorvastatin\",\"Atorvastatin\",\"Atorvastatin\",\"Lisinopril\",\"Lisinopril\",\"Lisinopril\",\"Lisinopril\",\"Lisinopril\",\"Lisinopril\",\"Lisinopril\",\"Lisinopril\",\"Lisinopril\",\"Lisinopril\",\"Lisinopril\",\"Lisinopril\",\"Lisinopril\",\"Metformin\",\"Metformin\",\"Metformin\",\"Metformin\",\"Metformin\",\"Metformin\",\"Metformin\",\"Metformin\",\"Metformin\",\"Metformin\",\"Metformin\",\"Metformin\",\"Metformin\",\"Metformin\",\"Metformin\",\"Metformin\",\"Amlodipine\",\"Amlodipine\",\"Amlodipine\",\"Amlodipine\",\"Amlodipine\",\"Amlodipine\",\"Amlodipine\",\"Amlodipine\",\"Amlodipine\",\"Amlodipine\",\"Amlodipine\",\"Amlodipine\",\"Amlodipine\",\"Amlodipine\",\"Amlodipine\",\"Amlodipine\",\"Omeprazole\",\"Omeprazole\",\"Omeprazole\",\"Omeprazole\",\"Omeprazole\",\"Omeprazole\",\"Omeprazole\",\"Omeprazole\",\"Omeprazole\",\"Omeprazole\",\"Omeprazole\",\"Omeprazole\",\"Omeprazole\",\"Omeprazole\",\"Omeprazole\",\"Simvastatin\",\"Simvastatin\",\"Simvastatin\",\"Simvastatin\",\"Simvastatin\",\"Simvastatin\",\"Simvastatin\",\"Simvastatin\",\"Simvastatin\",\"Simvastatin\",\"Simvastatin\",\"Simvastatin\",\"Simvastatin\",\"Simvastatin\",\"Simvastatin\",\"Losartan\",\"Losartan\",\"Losartan\",\"Losartan\",\"Losartan\",\"Losartan\",\"Losartan\",\"Losartan\",\"Losartan\",\"Losartan\",\"Losartan\",\"Losartan\",\"Losartan\",\"Losartan\",\"Losartan\",\"Losartan\",\"Hydrochlorothiazide\",\"Hydrochlorothiazide\",\"Hydrochlorothiazide\",\"Hydrochlorothiazide\",\"Hydrochlorothiazide\",\"Hydrochlorothiazide\",\"Hydrochlorothiazide\",\"Hydrochlorothiazide\",\"Hydrochlorothiazide\",\"Hydrochlorothiazide\",\"Hydrochlorothiazide\",\"Hydrochlorothiazide\",\"Hydrochlorothiazide\",\"Hydrochlorothiazide\",\"Hydrochlorothiazide\"],\"x0\":\" \",\"xaxis\":\"x\",\"y\":[19.67,11.72,10.34,7.74,11.72,19.67,16.66,7.53,17.93,6.89,7.53,11.72,7.74,6.79,11.89,8.57,4.83,5.85,8.57,2.0,4.83,17.34,8.66,3.25,2.0,7.84,9.0,4.83,19.64,4.86,4.86,19.64,7.97,20.43,2.0,13.99,2.82,9.0,4.86,2.0,9.82,9.0,6.52,11.36,19.22,10.13,10.44,10.13,12.99,19.22,18.86,2.88,3.05,9.0,2.88,7.26,10.13,6.05,9.0,11.02,20.03,18.37,10.75,18.37,23.09,13.66,20.03,7.0,2.0,5.82,7.0,18.37,8.55,2.0,12.09,28.04,33.6,13.7,28.04,33.6,21.99,27.09,3.05,24.0,13.38,3.05,33.6,24.0,19.3,13.7,19.43,11.21,9.84,11.21,2.0,19.43,5.63,21.99,16.47,2.0,7.1,9.0,11.21,9.0,6.87,11.56,19.22,2.0,2.88,7.5,19.22,2.0,2.0,16.95,0.81,4.0,2.0,2.0,9.0,4.0,2.88],\"y0\":\" \",\"yaxis\":\"y\",\"type\":\"box\"},{\"alignmentgroup\":\"True\",\"boxpoints\":\"outliers\",\"hovertemplate\":\"city=Los Angeles\\u003cbr\\u003eDrug=%{x}\\u003cbr\\u003ePrice (USD)=%{y}\\u003cextra\\u003e\\u003c\\u002fextra\\u003e\",\"legendgroup\":\"Los Angeles\",\"marker\":{\"color\":\"#EF553B\"},\"name\":\"Los Angeles\",\"notched\":false,\"offsetgroup\":\"Los Angeles\",\"orientation\":\"v\",\"showlegend\":true,\"x\":[\"Atorvastatin\",\"Atorvastatin\",\"Atorvastatin\",\"Atorvastatin\",\"Atorvastatin\",\"Atorvastatin\",\"Atorvastatin\",\"Atorvastatin\",\"Atorvastatin\",\"Atorvastatin\",\"Atorvastatin\",\"Atorvastatin\",\"Atorvastatin\",\"Lisinopril\",\"Metformin\",\"Metformin\",\"Metformin\",\"Metformin\",\"Metformin\",\"Metformin\",\"Metformin\",\"Metformin\",\"Metformin\",\"Metformin\",\"Metformin\",\"Metformin\",\"Metformin\",\"Metformin\",\"Amlodipine\",\"Amlodipine\",\"Amlodipine\",\"Amlodipine\",\"Amlodipine\",\"Amlodipine\",\"Amlodipine\",\"Amlodipine\",\"Amlodipine\",\"Amlodipine\",\"Amlodipine\",\"Amlodipine\",\"Amlodipine\",\"Amlodipine\",\"Omeprazole\",\"Omeprazole\",\"Omeprazole\",\"Omeprazole\",\"Omeprazole\",\"Omeprazole\",\"Omeprazole\",\"Omeprazole\",\"Omeprazole\",\"Omeprazole\",\"Omeprazole\",\"Omeprazole\",\"Omeprazole\",\"Simvastatin\",\"Simvastatin\",\"Simvastatin\",\"Simvastatin\",\"Simvastatin\",\"Simvastatin\",\"Simvastatin\",\"Simvastatin\",\"Simvastatin\",\"Simvastatin\",\"Simvastatin\",\"Simvastatin\",\"Simvastatin\",\"Losartan\",\"Losartan\",\"Losartan\",\"Losartan\",\"Losartan\",\"Losartan\",\"Losartan\",\"Losartan\",\"Losartan\",\"Losartan\",\"Losartan\",\"Losartan\",\"Losartan\",\"Losartan\",\"Hydrochlorothiazide\",\"Hydrochlorothiazide\",\"Hydrochlorothiazide\",\"Hydrochlorothiazide\",\"Hydrochlorothiazide\",\"Hydrochlorothiazide\",\"Hydrochlorothiazide\",\"Hydrochlorothiazide\",\"Hydrochlorothiazide\",\"Hydrochlorothiazide\",\"Hydrochlorothiazide\",\"Hydrochlorothiazide\",\"Hydrochlorothiazide\"],\"x0\":\" \",\"xaxis\":\"x\",\"y\":[19.67,11.72,7.53,7.74,7.53,16.66,19.67,7.74,10.54,7.53,11.72,17.93,11.89,8.57,19.64,4.86,2.0,2.0,19.64,2.0,13.99,14.87,9.0,9.0,9.82,4.86,11.36,20.43,19.22,10.13,2.88,2.88,12.99,19.22,2.88,7.53,9.0,10.13,7.26,9.0,11.02,18.86,20.03,7.0,18.37,13.66,7.0,20.03,7.0,8.6,2.0,18.37,2.0,12.09,23.09,28.04,3.05,28.04,3.05,33.6,3.05,19.8,21.99,24.0,24.0,19.3,33.6,27.09,19.43,2.0,2.0,11.21,2.0,19.43,7.3,21.99,7.1,9.0,9.0,11.21,11.56,16.47,19.22,7.5,2.0,2.0,2.0,19.22,6.39,2.0,4.0,2.0,4.0,16.95,9.0],\"y0\":\" \",\"yaxis\":\"y\",\"type\":\"box\"},{\"alignmentgroup\":\"True\",\"boxpoints\":\"outliers\",\"hovertemplate\":\"city=Chicago\\u003cbr\\u003eDrug=%{x}\\u003cbr\\u003ePrice (USD)=%{y}\\u003cextra\\u003e\\u003c\\u002fextra\\u003e\",\"legendgroup\":\"Chicago\",\"marker\":{\"color\":\"#00cc96\"},\"name\":\"Chicago\",\"notched\":false,\"offsetgroup\":\"Chicago\",\"orientation\":\"v\",\"showlegend\":true,\"x\":[\"Atorvastatin\",\"Atorvastatin\",\"Atorvastatin\",\"Atorvastatin\",\"Atorvastatin\",\"Atorvastatin\",\"Atorvastatin\",\"Atorvastatin\",\"Atorvastatin\",\"Atorvastatin\",\"Atorvastatin\",\"Atorvastatin\",\"Lisinopril\",\"Lisinopril\",\"Lisinopril\",\"Lisinopril\",\"Lisinopril\",\"Lisinopril\",\"Lisinopril\",\"Lisinopril\",\"Lisinopril\",\"Lisinopril\",\"Lisinopril\",\"Lisinopril\",\"Lisinopril\",\"Metformin\",\"Metformin\",\"Metformin\",\"Metformin\",\"Metformin\",\"Metformin\",\"Metformin\",\"Metformin\",\"Metformin\",\"Metformin\",\"Metformin\",\"Metformin\",\"Metformin\",\"Amlodipine\",\"Amlodipine\",\"Amlodipine\",\"Amlodipine\",\"Amlodipine\",\"Amlodipine\",\"Amlodipine\",\"Amlodipine\",\"Amlodipine\",\"Amlodipine\",\"Amlodipine\",\"Amlodipine\",\"Amlodipine\",\"Omeprazole\",\"Omeprazole\",\"Omeprazole\",\"Omeprazole\",\"Omeprazole\",\"Omeprazole\",\"Omeprazole\",\"Omeprazole\",\"Omeprazole\",\"Omeprazole\",\"Omeprazole\",\"Omeprazole\",\"Simvastatin\",\"Simvastatin\",\"Simvastatin\",\"Simvastatin\",\"Simvastatin\",\"Simvastatin\",\"Simvastatin\",\"Simvastatin\",\"Simvastatin\",\"Simvastatin\",\"Simvastatin\",\"Simvastatin\"],\"x0\":\" \",\"xaxis\":\"x\",\"y\":[11.72,7.53,19.67,10.25,7.74,19.67,16.66,10.54,11.72,7.74,8.99,17.93,4.83,2.0,8.57,8.47,8.57,8.66,9.0,7.79,7.84,5.92,9.0,4.83,17.34,4.86,2.0,19.64,8.18,19.64,13.99,9.0,14.87,9.82,6.89,9.0,4.86,20.43,10.13,2.88,8.7,19.22,12.99,19.22,9.0,7.53,7.26,8.07,9.0,10.13,18.86,18.37,7.0,10.07,20.03,13.66,20.03,2.0,8.6,18.37,8.82,2.0,23.09,3.05,33.6,11.3,28.04,28.04,19.8,24.0,21.99,9.95,24.0,33.6,27.09],\"y0\":\" \",\"yaxis\":\"y\",\"type\":\"box\"}],                        {\"template\":{\"data\":{\"barpolar\":[{\"marker\":{\"line\":{\"color\":\"white\",\"width\":0.5},\"pattern\":{\"fillmode\":\"overlay\",\"size\":10,\"solidity\":0.2}},\"type\":\"barpolar\"}],\"bar\":[{\"error_x\":{\"color\":\"#2a3f5f\"},\"error_y\":{\"color\":\"#2a3f5f\"},\"marker\":{\"line\":{\"color\":\"white\",\"width\":0.5},\"pattern\":{\"fillmode\":\"overlay\",\"size\":10,\"solidity\":0.2}},\"type\":\"bar\"}],\"carpet\":[{\"aaxis\":{\"endlinecolor\":\"#2a3f5f\",\"gridcolor\":\"#C8D4E3\",\"linecolor\":\"#C8D4E3\",\"minorgridcolor\":\"#C8D4E3\",\"startlinecolor\":\"#2a3f5f\"},\"baxis\":{\"endlinecolor\":\"#2a3f5f\",\"gridcolor\":\"#C8D4E3\",\"linecolor\":\"#C8D4E3\",\"minorgridcolor\":\"#C8D4E3\",\"startlinecolor\":\"#2a3f5f\"},\"type\":\"carpet\"}],\"choropleth\":[{\"colorbar\":{\"outlinewidth\":0,\"ticks\":\"\"},\"type\":\"choropleth\"}],\"contourcarpet\":[{\"colorbar\":{\"outlinewidth\":0,\"ticks\":\"\"},\"type\":\"contourcarpet\"}],\"contour\":[{\"colorbar\":{\"outlinewidth\":0,\"ticks\":\"\"},\"colorscale\":[[0.0,\"#0d0887\"],[0.1111111111111111,\"#46039f\"],[0.2222222222222222,\"#7201a8\"],[0.3333333333333333,\"#9c179e\"],[0.4444444444444444,\"#bd3786\"],[0.5555555555555556,\"#d8576b\"],[0.6666666666666666,\"#ed7953\"],[0.7777777777777778,\"#fb9f3a\"],[0.8888888888888888,\"#fdca26\"],[1.0,\"#f0f921\"]],\"type\":\"contour\"}],\"heatmapgl\":[{\"colorbar\":{\"outlinewidth\":0,\"ticks\":\"\"},\"colorscale\":[[0.0,\"#0d0887\"],[0.1111111111111111,\"#46039f\"],[0.2222222222222222,\"#7201a8\"],[0.3333333333333333,\"#9c179e\"],[0.4444444444444444,\"#bd3786\"],[0.5555555555555556,\"#d8576b\"],[0.6666666666666666,\"#ed7953\"],[0.7777777777777778,\"#fb9f3a\"],[0.8888888888888888,\"#fdca26\"],[1.0,\"#f0f921\"]],\"type\":\"heatmapgl\"}],\"heatmap\":[{\"colorbar\":{\"outlinewidth\":0,\"ticks\":\"\"},\"colorscale\":[[0.0,\"#0d0887\"],[0.1111111111111111,\"#46039f\"],[0.2222222222222222,\"#7201a8\"],[0.3333333333333333,\"#9c179e\"],[0.4444444444444444,\"#bd3786\"],[0.5555555555555556,\"#d8576b\"],[0.6666666666666666,\"#ed7953\"],[0.7777777777777778,\"#fb9f3a\"],[0.8888888888888888,\"#fdca26\"],[1.0,\"#f0f921\"]],\"type\":\"heatmap\"}],\"histogram2dcontour\":[{\"colorbar\":{\"outlinewidth\":0,\"ticks\":\"\"},\"colorscale\":[[0.0,\"#0d0887\"],[0.1111111111111111,\"#46039f\"],[0.2222222222222222,\"#7201a8\"],[0.3333333333333333,\"#9c179e\"],[0.4444444444444444,\"#bd3786\"],[0.5555555555555556,\"#d8576b\"],[0.6666666666666666,\"#ed7953\"],[0.7777777777777778,\"#fb9f3a\"],[0.8888888888888888,\"#fdca26\"],[1.0,\"#f0f921\"]],\"type\":\"histogram2dcontour\"}],\"histogram2d\":[{\"colorbar\":{\"outlinewidth\":0,\"ticks\":\"\"},\"colorscale\":[[0.0,\"#0d0887\"],[0.1111111111111111,\"#46039f\"],[0.2222222222222222,\"#7201a8\"],[0.3333333333333333,\"#9c179e\"],[0.4444444444444444,\"#bd3786\"],[0.5555555555555556,\"#d8576b\"],[0.6666666666666666,\"#ed7953\"],[0.7777777777777778,\"#fb9f3a\"],[0.8888888888888888,\"#fdca26\"],[1.0,\"#f0f921\"]],\"type\":\"histogram2d\"}],\"histogram\":[{\"marker\":{\"pattern\":{\"fillmode\":\"overlay\",\"size\":10,\"solidity\":0.2}},\"type\":\"histogram\"}],\"mesh3d\":[{\"colorbar\":{\"outlinewidth\":0,\"ticks\":\"\"},\"type\":\"mesh3d\"}],\"parcoords\":[{\"line\":{\"colorbar\":{\"outlinewidth\":0,\"ticks\":\"\"}},\"type\":\"parcoords\"}],\"pie\":[{\"automargin\":true,\"type\":\"pie\"}],\"scatter3d\":[{\"line\":{\"colorbar\":{\"outlinewidth\":0,\"ticks\":\"\"}},\"marker\":{\"colorbar\":{\"outlinewidth\":0,\"ticks\":\"\"}},\"type\":\"scatter3d\"}],\"scattercarpet\":[{\"marker\":{\"colorbar\":{\"outlinewidth\":0,\"ticks\":\"\"}},\"type\":\"scattercarpet\"}],\"scattergeo\":[{\"marker\":{\"colorbar\":{\"outlinewidth\":0,\"ticks\":\"\"}},\"type\":\"scattergeo\"}],\"scattergl\":[{\"marker\":{\"colorbar\":{\"outlinewidth\":0,\"ticks\":\"\"}},\"type\":\"scattergl\"}],\"scattermapbox\":[{\"marker\":{\"colorbar\":{\"outlinewidth\":0,\"ticks\":\"\"}},\"type\":\"scattermapbox\"}],\"scatterpolargl\":[{\"marker\":{\"colorbar\":{\"outlinewidth\":0,\"ticks\":\"\"}},\"type\":\"scatterpolargl\"}],\"scatterpolar\":[{\"marker\":{\"colorbar\":{\"outlinewidth\":0,\"ticks\":\"\"}},\"type\":\"scatterpolar\"}],\"scatter\":[{\"fillpattern\":{\"fillmode\":\"overlay\",\"size\":10,\"solidity\":0.2},\"type\":\"scatter\"}],\"scatterternary\":[{\"marker\":{\"colorbar\":{\"outlinewidth\":0,\"ticks\":\"\"}},\"type\":\"scatterternary\"}],\"surface\":[{\"colorbar\":{\"outlinewidth\":0,\"ticks\":\"\"},\"colorscale\":[[0.0,\"#0d0887\"],[0.1111111111111111,\"#46039f\"],[0.2222222222222222,\"#7201a8\"],[0.3333333333333333,\"#9c179e\"],[0.4444444444444444,\"#bd3786\"],[0.5555555555555556,\"#d8576b\"],[0.6666666666666666,\"#ed7953\"],[0.7777777777777778,\"#fb9f3a\"],[0.8888888888888888,\"#fdca26\"],[1.0,\"#f0f921\"]],\"type\":\"surface\"}],\"table\":[{\"cells\":{\"fill\":{\"color\":\"#EBF0F8\"},\"line\":{\"color\":\"white\"}},\"header\":{\"fill\":{\"color\":\"#C8D4E3\"},\"line\":{\"color\":\"white\"}},\"type\":\"table\"}]},\"layout\":{\"annotationdefaults\":{\"arrowcolor\":\"#2a3f5f\",\"arrowhead\":0,\"arrowwidth\":1},\"autotypenumbers\":\"strict\",\"coloraxis\":{\"colorbar\":{\"outlinewidth\":0,\"ticks\":\"\"}},\"colorscale\":{\"diverging\":[[0,\"#8e0152\"],[0.1,\"#c51b7d\"],[0.2,\"#de77ae\"],[0.3,\"#f1b6da\"],[0.4,\"#fde0ef\"],[0.5,\"#f7f7f7\"],[0.6,\"#e6f5d0\"],[0.7,\"#b8e186\"],[0.8,\"#7fbc41\"],[0.9,\"#4d9221\"],[1,\"#276419\"]],\"sequential\":[[0.0,\"#0d0887\"],[0.1111111111111111,\"#46039f\"],[0.2222222222222222,\"#7201a8\"],[0.3333333333333333,\"#9c179e\"],[0.4444444444444444,\"#bd3786\"],[0.5555555555555556,\"#d8576b\"],[0.6666666666666666,\"#ed7953\"],[0.7777777777777778,\"#fb9f3a\"],[0.8888888888888888,\"#fdca26\"],[1.0,\"#f0f921\"]],\"sequentialminus\":[[0.0,\"#0d0887\"],[0.1111111111111111,\"#46039f\"],[0.2222222222222222,\"#7201a8\"],[0.3333333333333333,\"#9c179e\"],[0.4444444444444444,\"#bd3786\"],[0.5555555555555556,\"#d8576b\"],[0.6666666666666666,\"#ed7953\"],[0.7777777777777778,\"#fb9f3a\"],[0.8888888888888888,\"#fdca26\"],[1.0,\"#f0f921\"]]},\"colorway\":[\"#636efa\",\"#EF553B\",\"#00cc96\",\"#ab63fa\",\"#FFA15A\",\"#19d3f3\",\"#FF6692\",\"#B6E880\",\"#FF97FF\",\"#FECB52\"],\"font\":{\"color\":\"#2a3f5f\"},\"geo\":{\"bgcolor\":\"white\",\"lakecolor\":\"white\",\"landcolor\":\"white\",\"showlakes\":true,\"showland\":true,\"subunitcolor\":\"#C8D4E3\"},\"hoverlabel\":{\"align\":\"left\"},\"hovermode\":\"closest\",\"mapbox\":{\"style\":\"light\"},\"paper_bgcolor\":\"white\",\"plot_bgcolor\":\"white\",\"polar\":{\"angularaxis\":{\"gridcolor\":\"#EBF0F8\",\"linecolor\":\"#EBF0F8\",\"ticks\":\"\"},\"bgcolor\":\"white\",\"radialaxis\":{\"gridcolor\":\"#EBF0F8\",\"linecolor\":\"#EBF0F8\",\"ticks\":\"\"}},\"scene\":{\"xaxis\":{\"backgroundcolor\":\"white\",\"gridcolor\":\"#DFE8F3\",\"gridwidth\":2,\"linecolor\":\"#EBF0F8\",\"showbackground\":true,\"ticks\":\"\",\"zerolinecolor\":\"#EBF0F8\"},\"yaxis\":{\"backgroundcolor\":\"white\",\"gridcolor\":\"#DFE8F3\",\"gridwidth\":2,\"linecolor\":\"#EBF0F8\",\"showbackground\":true,\"ticks\":\"\",\"zerolinecolor\":\"#EBF0F8\"},\"zaxis\":{\"backgroundcolor\":\"white\",\"gridcolor\":\"#DFE8F3\",\"gridwidth\":2,\"linecolor\":\"#EBF0F8\",\"showbackground\":true,\"ticks\":\"\",\"zerolinecolor\":\"#EBF0F8\"}},\"shapedefaults\":{\"line\":{\"color\":\"#2a3f5f\"}},\"ternary\":{\"aaxis\":{\"gridcolor\":\"#DFE8F3\",\"linecolor\":\"#A2B1C6\",\"ticks\":\"\"},\"baxis\":{\"gridcolor\":\"#DFE8F3\",\"linecolor\":\"#A2B1C6\",\"ticks\":\"\"},\"bgcolor\":\"white\",\"caxis\":{\"gridcolor\":\"#DFE8F3\",\"linecolor\":\"#A2B1C6\",\"ticks\":\"\"}},\"title\":{\"x\":0.05},\"xaxis\":{\"automargin\":true,\"gridcolor\":\"#EBF0F8\",\"linecolor\":\"#EBF0F8\",\"ticks\":\"\",\"title\":{\"standoff\":15},\"zerolinecolor\":\"#EBF0F8\",\"zerolinewidth\":2},\"yaxis\":{\"automargin\":true,\"gridcolor\":\"#EBF0F8\",\"linecolor\":\"#EBF0F8\",\"ticks\":\"\",\"title\":{\"standoff\":15},\"zerolinecolor\":\"#EBF0F8\",\"zerolinewidth\":2}}},\"xaxis\":{\"anchor\":\"y\",\"domain\":[0.0,1.0],\"title\":{\"text\":\"Drug\"}},\"yaxis\":{\"anchor\":\"x\",\"domain\":[0.0,1.0],\"title\":{\"text\":\"Price (USD)\"}},\"legend\":{\"title\":{\"text\":\"city\"},\"tracegroupgap\":0},\"title\":{\"text\":\"7) Price Outliers by Drug and City\"},\"boxmode\":\"group\"},                        {\"responsive\": true}                    ).then(function(){\n",
       "                            \n",
       "var gd = document.getElementById('3fe29de0-9021-403e-8cf9-f8fa0934f0d2');\n",
       "var x = new MutationObserver(function (mutations, observer) {{\n",
       "        var display = window.getComputedStyle(gd).display;\n",
       "        if (!display || display === 'none') {{\n",
       "            console.log([gd, 'removed!']);\n",
       "            Plotly.purge(gd);\n",
       "            observer.disconnect();\n",
       "        }}\n",
       "}});\n",
       "\n",
       "// Listen for the removal of the full notebook cells\n",
       "var notebookContainer = gd.closest('#notebook-container');\n",
       "if (notebookContainer) {{\n",
       "    x.observe(notebookContainer, {childList: true});\n",
       "}}\n",
       "\n",
       "// Listen for the clearing of the current output cell\n",
       "var outputEl = gd.closest('.output');\n",
       "if (outputEl) {{\n",
       "    x.observe(outputEl, {childList: true});\n",
       "}}\n",
       "\n",
       "                        })                };                });            </script>        </div>"
      ]
     },
     "metadata": {},
     "output_type": "display_data"
    }
   ],
   "source": [
    "import plotly.express as px\n",
    "import pandas as pd\n",
    "\n",
    "def generate_enhanced_goodrx_eda(df):\n",
    "    \"\"\"\n",
    "    Generates improved interactive Plotly visualizations for GoodRx drug pricing data.\n",
    "    (Adjusted: removed former #6 'Cheapest pharmacies' chart; numbering updated.)\n",
    "    \"\"\"\n",
    "\n",
    "    # 0) Prep & helper columns\n",
    "    # Clean quantity column (convert \"30 tablets\" -> 30)\n",
    "    df['quantity_clean'] = df['quantity'].astype(str).str.extract(r'(\\d+)').astype(float)\n",
    "\n",
    "    # Grouped/prepared data\n",
    "    avg_prices = df.groupby(['city', 'drug'])['price'].mean().reset_index()\n",
    "    offer_counts = df['special_offer'].value_counts(dropna=False).reset_index()\n",
    "    offer_counts.columns = ['special_offer', 'count']\n",
    "    coupon_df = df.dropna(subset=['standard_coupon_price', 'special_coupon_price'])\n",
    "\n",
    "    # 1) Box Plot: Price distribution across cities and drugs\n",
    "    fig1 = px.box(\n",
    "        df, x='drug', y='price', color='city', points='suspectedoutliers',\n",
    "        title='1) Price Distribution by Drug across Cities',\n",
    "        labels={'price': 'Price (USD)', 'drug': 'Drug'}\n",
    "    )\n",
    "    fig1.update_layout(boxmode='group', template='plotly_white')\n",
    "    fig1.show()\n",
    "\n",
    "    # 2) Bar Chart: Average prices by city and drug\n",
    "    fig2 = px.bar(\n",
    "        avg_prices, x='drug', y='price', color='city', barmode='group',\n",
    "        title='2) Average Drug Prices in Each City',\n",
    "        labels={'price': 'Avg Price (USD)', 'drug': 'Drug'}\n",
    "    )\n",
    "    fig2.update_layout(template='plotly_white')\n",
    "    fig2.show()\n",
    "\n",
    "    # 3) Donut Chart: Special offer status\n",
    "    fig3 = px.pie(\n",
    "        offer_counts, names='special_offer', values='count',\n",
    "        hole=0.4, title='3) Special Offer Distribution',\n",
    "        color_discrete_sequence=px.colors.sequential.Viridis\n",
    "    )\n",
    "    fig3.update_layout(template='plotly_white')\n",
    "    fig3.update_traces(textposition='inside', textinfo='percent+label')\n",
    "    fig3.show()\n",
    "\n",
    "    # 4) Violin Plot: Online vs In-store pricing by drug\n",
    "    # Map boolean values to descriptive labels\n",
    "    df['pharmacy_type'] = df['online_pharmacy'].map({True: 'Online', False: 'In-Store'})\n",
    "    fig4 = px.violin(\n",
    "        df,\n",
    "        x='pharmacy_type',\n",
    "        y='price',\n",
    "        color='drug',\n",
    "        box=True,\n",
    "        points='all',\n",
    "        title='4) Online vs In-Store Pricing by Drug',\n",
    "        labels={'pharmacy_type': 'Pharmacy Type', 'price': 'Price (USD)'}\n",
    "    )\n",
    "    fig4.update_layout(template='plotly_white')\n",
    "    fig4.show()\n",
    "\n",
    "    # 5) Strip Plot: Price by Quantity Category and Drug\n",
    "    df['quantity_cat'] = df['quantity_clean'].astype(str)  # Convert to string category\n",
    "    fig5 = px.strip(\n",
    "        df,\n",
    "        x='quantity_cat',\n",
    "        y='price',\n",
    "        color='drug',\n",
    "        hover_data=['city', 'pharmacy', 'online_pharmacy'],\n",
    "        title='5) Price Variation by Quantity (Categorical) and Drug',\n",
    "        labels={'quantity_cat': 'Quantity (as Category)', 'price': 'Price (USD)'},\n",
    "        stripmode='overlay'\n",
    "    )\n",
    "    fig5.update_traces(jitter=0.4, marker=dict(size=8, opacity=0.8))\n",
    "    fig5.update_layout(template='plotly_white')\n",
    "    fig5.show()\n",
    "\n",
    "    # 6) Coupon Comparison (previously #7)\n",
    "    if not coupon_df.empty:\n",
    "        fig6 = px.scatter(\n",
    "            coupon_df,\n",
    "            x='standard_coupon_price', y='special_coupon_price',\n",
    "            color='drug', size='price',\n",
    "            hover_data=['city', 'pharmacy'],\n",
    "            title='6) Standard vs Special Coupon Prices',\n",
    "            labels={\n",
    "                'standard_coupon_price': 'Standard Coupon Price',\n",
    "                'special_coupon_price': 'Special Coupon Price'\n",
    "            }\n",
    "        )\n",
    "        max_price = max(\n",
    "            coupon_df['standard_coupon_price'].max(),\n",
    "            coupon_df['special_coupon_price'].max()\n",
    "        )\n",
    "        fig6.add_shape(\n",
    "            type=\"line\", x0=0, y0=0, x1=max_price, y1=max_price,\n",
    "            line=dict(dash=\"dot\", color=\"gray\")\n",
    "        )\n",
    "        fig6.update_layout(template='plotly_white')\n",
    "        fig6.show()\n",
    "\n",
    "    # 7) Outlier Box Plot (previously #8)\n",
    "    fig7 = px.box(\n",
    "        df, x='drug', y='price', color='city', points='outliers',\n",
    "        title='7) Price Outliers by Drug and City',\n",
    "        labels={'price': 'Price (USD)', 'drug': 'Drug'}\n",
    "    )\n",
    "    fig7.update_layout(template='plotly_white')\n",
    "    fig7.show()\n",
    "\n",
    "\n",
    "# 🧪 Load your data and call the function\n",
    "generate_enhanced_goodrx_eda(df)\n"
   ]
  },
  {
   "cell_type": "code",
   "execution_count": null,
   "id": "0a6e5b24-3a0c-46e0-92a8-b4c881c73fd3",
   "metadata": {},
   "outputs": [],
   "source": []
  },
  {
   "cell_type": "code",
   "execution_count": null,
   "id": "7c513983-eba6-4e32-82a5-15667a0d23d0",
   "metadata": {},
   "outputs": [],
   "source": []
  }
 ],
 "metadata": {
  "kernelspec": {
   "display_name": "Python [conda env:base] *",
   "language": "python",
   "name": "conda-base-py"
  },
  "language_info": {
   "codemirror_mode": {
    "name": "ipython",
    "version": 3
   },
   "file_extension": ".py",
   "mimetype": "text/x-python",
   "name": "python",
   "nbconvert_exporter": "python",
   "pygments_lexer": "ipython3",
   "version": "3.11.13"
  }
 },
 "nbformat": 4,
 "nbformat_minor": 5
}
